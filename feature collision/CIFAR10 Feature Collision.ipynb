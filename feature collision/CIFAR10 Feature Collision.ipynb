{
 "cells": [
  {
   "cell_type": "markdown",
   "id": "cf3c91e1-0730-4207-8cd9-23e5376ef0b3",
   "metadata": {},
   "source": [
    "# Import Libraries"
   ]
  },
  {
   "cell_type": "code",
   "execution_count": 1,
   "id": "7c5e493c-f595-407b-b6e5-b0ec33af1118",
   "metadata": {},
   "outputs": [],
   "source": [
    "import numpy as np\n",
    "import matplotlib.pyplot as plt\n",
    "\n",
    "import tensorflow as tf\n",
    "tf.compat.v1.disable_eager_execution()\n",
    "\n",
    "from tensorflow.keras.layers import Conv2D, MaxPooling2D, Flatten, Dense\n",
    "from tensorflow.keras.models import Sequential\n",
    "from tensorflow.keras.losses import CategoricalCrossentropy\n",
    "from tensorflow.keras.optimizers import Adam\n",
    "\n",
    "from art.utils import load_cifar10\n",
    "from art.estimators.classification import KerasClassifier\n",
    "from art.attacks.poisoning import PoisoningAttackBackdoor, FeatureCollisionAttack\n",
    "from art.attacks.poisoning.perturbations import add_pattern_bd\n",
    "from art.defences.trainer import AdversarialTrainerMadryPGD\n",
    "\n",
    "import warnings\n",
    "warnings.filterwarnings('ignore')"
   ]
  },
  {
   "cell_type": "markdown",
   "id": "5ad8a10e-25a9-4a20-921c-3620b35a777f",
   "metadata": {},
   "source": [
    "# Load Data"
   ]
  },
  {
   "cell_type": "code",
   "execution_count": 149,
   "id": "08e2ed0f-a48c-426a-a8aa-f41b19578f6a",
   "metadata": {},
   "outputs": [],
   "source": [
    "(x_train, y_train), (x_test, y_test), min_, max_ = load_cifar10()"
   ]
  },
  {
   "cell_type": "markdown",
   "id": "28d6de70-b589-452a-898d-d91546639b36",
   "metadata": {},
   "source": [
    "# Model"
   ]
  },
  {
   "cell_type": "code",
   "execution_count": 150,
   "id": "2ac51b01-ccf6-4302-8052-02ccc05a721b",
   "metadata": {},
   "outputs": [],
   "source": [
    "def create_model():\n",
    "    model = Sequential([\n",
    "        Conv2D(32, (3, 3), activation=\"relu\", padding=\"same\", input_shape=(32, 32, 3)),\n",
    "        Conv2D(32, (3, 3), activation=\"relu\", padding=\"same\"),\n",
    "        MaxPooling2D(pool_size=(2, 2)),\n",
    "        \n",
    "        Conv2D(64, (3, 3), activation=\"relu\", padding=\"same\"),\n",
    "        Conv2D(64, (3, 3), activation=\"relu\", padding=\"same\"),\n",
    "        MaxPooling2D(pool_size=(2, 2)),\n",
    "        \n",
    "        Flatten(),\n",
    "        \n",
    "        Dense(512, activation=\"relu\"),\n",
    "        Dense(10, activation=\"softmax\")\n",
    "    ])\n",
    "    model.compile(optimizer=\"adam\", loss=\"categorical_crossentropy\", metrics=['accuracy'])\n",
    "    return model"
   ]
  },
  {
   "cell_type": "code",
   "execution_count": 151,
   "id": "b16f69fb-2d11-45cb-9f78-a8a47cf65098",
   "metadata": {},
   "outputs": [],
   "source": [
    "model = create_model()"
   ]
  },
  {
   "cell_type": "code",
   "execution_count": 152,
   "id": "60711f61-1455-4650-9afe-af3d441238fb",
   "metadata": {},
   "outputs": [],
   "source": [
    "classifier = KerasClassifier(\n",
    "    model=model,\n",
    "    clip_values=(min_, max_),\n",
    "    use_logits=False,\n",
    "    preprocessing=(0.5, 1)\n",
    ")"
   ]
  },
  {
   "cell_type": "code",
   "execution_count": 153,
   "id": "7ac84b80-814b-4409-a74b-9d0c4806a5e6",
   "metadata": {},
   "outputs": [],
   "source": [
    "classifier.fit(x_train, y_train, nb_epochs=10)"
   ]
  },
  {
   "cell_type": "markdown",
   "id": "bdd42b0c-3216-47b6-93a7-604fb0c4b9a1",
   "metadata": {},
   "source": [
    "# Attack"
   ]
  },
  {
   "cell_type": "code",
   "execution_count": 154,
   "id": "6233a13b-b544-4f9a-8169-86b23a9837d9",
   "metadata": {},
   "outputs": [],
   "source": [
    "base_class = \"frog\"\n",
    "target_class = \"bird\""
   ]
  },
  {
   "cell_type": "code",
   "execution_count": 155,
   "id": "1efe6474-ec73-4871-9173-30681b96f0c8",
   "metadata": {},
   "outputs": [
    {
     "data": {
      "text/plain": [
       "array([0., 0., 0., 0., 0., 0., 1., 0., 0., 0.], dtype=float32)"
      ]
     },
     "execution_count": 155,
     "metadata": {},
     "output_type": "execute_result"
    }
   ],
   "source": [
    "y_target = np.zeros(10, dtype=np.float32)\n",
    "y_target[6] = 1.0\n",
    "y_target"
   ]
  },
  {
   "cell_type": "code",
   "execution_count": 156,
   "id": "96e549a2-735d-48dc-81e3-088229fc7704",
   "metadata": {},
   "outputs": [],
   "source": [
    "target_idx = np.all(y_test == y_target, axis=1)"
   ]
  },
  {
   "cell_type": "code",
   "execution_count": 157,
   "id": "847476b7-76f5-476e-86bf-74b5d7fd695e",
   "metadata": {},
   "outputs": [],
   "source": [
    "base_instances = np.copy(x_test[target_idx])\n",
    "base_labels = np.copy(y_test[target_idx])"
   ]
  },
  {
   "cell_type": "code",
   "execution_count": 158,
   "id": "fa16b7f7-8c7e-4ac1-a5a5-07756526c7d2",
   "metadata": {},
   "outputs": [
    {
     "name": "stdout",
     "output_type": "stream",
     "text": [
      "Accuracy: 0.383\n"
     ]
    }
   ],
   "source": [
    "y_pred = np.argmax(model.predict(base_instances), axis=1)\n",
    "print(\"Accuracy:\", np.sum(y_pred == np.argmax(base_labels, axis=1)) / len(base_labels))"
   ]
  },
  {
   "cell_type": "code",
   "execution_count": 159,
   "id": "f33ff3d6-4774-4041-864e-18f7a84cf108",
   "metadata": {},
   "outputs": [],
   "source": [
    "feature_layer = classifier.layer_names[-2]"
   ]
  },
  {
   "cell_type": "code",
   "execution_count": 160,
   "id": "6c7103d6-5339-4ffe-b799-f612de000a92",
   "metadata": {},
   "outputs": [],
   "source": [
    "target_instance = np.expand_dims(x_test[np.argmax(y_test, axis=1) == 3][3], axis=0)"
   ]
  },
  {
   "cell_type": "code",
   "execution_count": 161,
   "id": "870e7c9c-31c5-442c-9d33-1a761c83dc0f",
   "metadata": {},
   "outputs": [],
   "source": [
    "attack = FeatureCollisionAttack(\n",
    "    classifier, \n",
    "    target_instance, \n",
    "    feature_layer,\n",
    "    max_iter=10, \n",
    "    similarity_coeff=256, \n",
    "    watermark=0.3\n",
    ")"
   ]
  },
  {
   "cell_type": "code",
   "execution_count": 162,
   "id": "46371183-647a-4909-ad0a-ddbe7bb560ba",
   "metadata": {
    "scrolled": true
   },
   "outputs": [
    {
     "data": {
      "application/vnd.jupyter.widget-view+json": {
       "model_id": "635c7d8af8504ab0a02cb3207f1377e1",
       "version_major": 2,
       "version_minor": 0
      },
      "text/plain": [
       "Feature collision:   0%|          | 0/10 [00:00<?, ?it/s]"
      ]
     },
     "metadata": {},
     "output_type": "display_data"
    },
    {
     "data": {
      "application/vnd.jupyter.widget-view+json": {
       "model_id": "71ecf62139e1439c8a056497a60dd6bc",
       "version_major": 2,
       "version_minor": 0
      },
      "text/plain": [
       "Feature collision:   0%|          | 0/10 [00:00<?, ?it/s]"
      ]
     },
     "metadata": {},
     "output_type": "display_data"
    },
    {
     "data": {
      "application/vnd.jupyter.widget-view+json": {
       "model_id": "93fb31b775be467e977ab6a09f0ee822",
       "version_major": 2,
       "version_minor": 0
      },
      "text/plain": [
       "Feature collision:   0%|          | 0/10 [00:00<?, ?it/s]"
      ]
     },
     "metadata": {},
     "output_type": "display_data"
    },
    {
     "data": {
      "application/vnd.jupyter.widget-view+json": {
       "model_id": "078fc90a0b934608b27d8abf7ab9f0dd",
       "version_major": 2,
       "version_minor": 0
      },
      "text/plain": [
       "Feature collision:   0%|          | 0/10 [00:00<?, ?it/s]"
      ]
     },
     "metadata": {},
     "output_type": "display_data"
    },
    {
     "data": {
      "application/vnd.jupyter.widget-view+json": {
       "model_id": "848a364b03c541fda6190b02aed56cd8",
       "version_major": 2,
       "version_minor": 0
      },
      "text/plain": [
       "Feature collision:   0%|          | 0/10 [00:00<?, ?it/s]"
      ]
     },
     "metadata": {},
     "output_type": "display_data"
    },
    {
     "data": {
      "application/vnd.jupyter.widget-view+json": {
       "model_id": "d35e6a86ccfa410480fb90808c3d227c",
       "version_major": 2,
       "version_minor": 0
      },
      "text/plain": [
       "Feature collision:   0%|          | 0/10 [00:00<?, ?it/s]"
      ]
     },
     "metadata": {},
     "output_type": "display_data"
    },
    {
     "data": {
      "application/vnd.jupyter.widget-view+json": {
       "model_id": "9df0bdd2749f484e86393a54eecf88f2",
       "version_major": 2,
       "version_minor": 0
      },
      "text/plain": [
       "Feature collision:   0%|          | 0/10 [00:00<?, ?it/s]"
      ]
     },
     "metadata": {},
     "output_type": "display_data"
    },
    {
     "data": {
      "application/vnd.jupyter.widget-view+json": {
       "model_id": "8c7c77efe0794bc78118e82eaabe4446",
       "version_major": 2,
       "version_minor": 0
      },
      "text/plain": [
       "Feature collision:   0%|          | 0/10 [00:00<?, ?it/s]"
      ]
     },
     "metadata": {},
     "output_type": "display_data"
    },
    {
     "data": {
      "application/vnd.jupyter.widget-view+json": {
       "model_id": "9449ebbeb2d5472780cc935f3a31d923",
       "version_major": 2,
       "version_minor": 0
      },
      "text/plain": [
       "Feature collision:   0%|          | 0/10 [00:00<?, ?it/s]"
      ]
     },
     "metadata": {},
     "output_type": "display_data"
    },
    {
     "data": {
      "application/vnd.jupyter.widget-view+json": {
       "model_id": "dc06c754978c4440ab0cf37c97ede13a",
       "version_major": 2,
       "version_minor": 0
      },
      "text/plain": [
       "Feature collision:   0%|          | 0/10 [00:00<?, ?it/s]"
      ]
     },
     "metadata": {},
     "output_type": "display_data"
    },
    {
     "data": {
      "application/vnd.jupyter.widget-view+json": {
       "model_id": "a23c42d4186448c586de1291f4002ecb",
       "version_major": 2,
       "version_minor": 0
      },
      "text/plain": [
       "Feature collision:   0%|          | 0/10 [00:00<?, ?it/s]"
      ]
     },
     "metadata": {},
     "output_type": "display_data"
    },
    {
     "data": {
      "application/vnd.jupyter.widget-view+json": {
       "model_id": "e718e2f1e4d7465e86876d6870c322a0",
       "version_major": 2,
       "version_minor": 0
      },
      "text/plain": [
       "Feature collision:   0%|          | 0/10 [00:00<?, ?it/s]"
      ]
     },
     "metadata": {},
     "output_type": "display_data"
    },
    {
     "data": {
      "application/vnd.jupyter.widget-view+json": {
       "model_id": "27b4bd3aa061457399eaa85019ba32c0",
       "version_major": 2,
       "version_minor": 0
      },
      "text/plain": [
       "Feature collision:   0%|          | 0/10 [00:00<?, ?it/s]"
      ]
     },
     "metadata": {},
     "output_type": "display_data"
    },
    {
     "data": {
      "application/vnd.jupyter.widget-view+json": {
       "model_id": "2d6c405919ef4eee9710ae766d7e3d9d",
       "version_major": 2,
       "version_minor": 0
      },
      "text/plain": [
       "Feature collision:   0%|          | 0/10 [00:00<?, ?it/s]"
      ]
     },
     "metadata": {},
     "output_type": "display_data"
    },
    {
     "data": {
      "application/vnd.jupyter.widget-view+json": {
       "model_id": "616164b1a96445a49f0b1a8c53967350",
       "version_major": 2,
       "version_minor": 0
      },
      "text/plain": [
       "Feature collision:   0%|          | 0/10 [00:00<?, ?it/s]"
      ]
     },
     "metadata": {},
     "output_type": "display_data"
    },
    {
     "data": {
      "application/vnd.jupyter.widget-view+json": {
       "model_id": "9ad259a75f9d4aa599e67615f81c2d2b",
       "version_major": 2,
       "version_minor": 0
      },
      "text/plain": [
       "Feature collision:   0%|          | 0/10 [00:00<?, ?it/s]"
      ]
     },
     "metadata": {},
     "output_type": "display_data"
    },
    {
     "data": {
      "application/vnd.jupyter.widget-view+json": {
       "model_id": "5225220117e14b9ba2dd4845eff88633",
       "version_major": 2,
       "version_minor": 0
      },
      "text/plain": [
       "Feature collision:   0%|          | 0/10 [00:00<?, ?it/s]"
      ]
     },
     "metadata": {},
     "output_type": "display_data"
    },
    {
     "data": {
      "application/vnd.jupyter.widget-view+json": {
       "model_id": "f603aebc35f04960a8f9a6bf274b0d2f",
       "version_major": 2,
       "version_minor": 0
      },
      "text/plain": [
       "Feature collision:   0%|          | 0/10 [00:00<?, ?it/s]"
      ]
     },
     "metadata": {},
     "output_type": "display_data"
    },
    {
     "data": {
      "application/vnd.jupyter.widget-view+json": {
       "model_id": "827fdf0315ca4b379fa88ac9ba41d9bd",
       "version_major": 2,
       "version_minor": 0
      },
      "text/plain": [
       "Feature collision:   0%|          | 0/10 [00:00<?, ?it/s]"
      ]
     },
     "metadata": {},
     "output_type": "display_data"
    },
    {
     "data": {
      "application/vnd.jupyter.widget-view+json": {
       "model_id": "941127cbaad542f6b124935e500f38ba",
       "version_major": 2,
       "version_minor": 0
      },
      "text/plain": [
       "Feature collision:   0%|          | 0/10 [00:00<?, ?it/s]"
      ]
     },
     "metadata": {},
     "output_type": "display_data"
    },
    {
     "data": {
      "application/vnd.jupyter.widget-view+json": {
       "model_id": "46bd855f2a344a41940d1e8d5b161cb2",
       "version_major": 2,
       "version_minor": 0
      },
      "text/plain": [
       "Feature collision:   0%|          | 0/10 [00:00<?, ?it/s]"
      ]
     },
     "metadata": {},
     "output_type": "display_data"
    },
    {
     "data": {
      "application/vnd.jupyter.widget-view+json": {
       "model_id": "55376a550d5b4193a647b108bc373544",
       "version_major": 2,
       "version_minor": 0
      },
      "text/plain": [
       "Feature collision:   0%|          | 0/10 [00:00<?, ?it/s]"
      ]
     },
     "metadata": {},
     "output_type": "display_data"
    },
    {
     "data": {
      "application/vnd.jupyter.widget-view+json": {
       "model_id": "07459016935e412a837d604b9408d454",
       "version_major": 2,
       "version_minor": 0
      },
      "text/plain": [
       "Feature collision:   0%|          | 0/10 [00:00<?, ?it/s]"
      ]
     },
     "metadata": {},
     "output_type": "display_data"
    },
    {
     "data": {
      "application/vnd.jupyter.widget-view+json": {
       "model_id": "1f89b57918d54cefbb60b332a911bd45",
       "version_major": 2,
       "version_minor": 0
      },
      "text/plain": [
       "Feature collision:   0%|          | 0/10 [00:00<?, ?it/s]"
      ]
     },
     "metadata": {},
     "output_type": "display_data"
    },
    {
     "data": {
      "application/vnd.jupyter.widget-view+json": {
       "model_id": "9df7ceb04c834567b749bec8661be3fa",
       "version_major": 2,
       "version_minor": 0
      },
      "text/plain": [
       "Feature collision:   0%|          | 0/10 [00:00<?, ?it/s]"
      ]
     },
     "metadata": {},
     "output_type": "display_data"
    },
    {
     "data": {
      "application/vnd.jupyter.widget-view+json": {
       "model_id": "f083223c106847a890c3752bdc67fc96",
       "version_major": 2,
       "version_minor": 0
      },
      "text/plain": [
       "Feature collision:   0%|          | 0/10 [00:00<?, ?it/s]"
      ]
     },
     "metadata": {},
     "output_type": "display_data"
    },
    {
     "data": {
      "application/vnd.jupyter.widget-view+json": {
       "model_id": "935a6a0a43d04a1e871fc3a96f521e35",
       "version_major": 2,
       "version_minor": 0
      },
      "text/plain": [
       "Feature collision:   0%|          | 0/10 [00:00<?, ?it/s]"
      ]
     },
     "metadata": {},
     "output_type": "display_data"
    },
    {
     "data": {
      "application/vnd.jupyter.widget-view+json": {
       "model_id": "c0465bd950824638b2b41bb2d352c1fe",
       "version_major": 2,
       "version_minor": 0
      },
      "text/plain": [
       "Feature collision:   0%|          | 0/10 [00:00<?, ?it/s]"
      ]
     },
     "metadata": {},
     "output_type": "display_data"
    },
    {
     "data": {
      "application/vnd.jupyter.widget-view+json": {
       "model_id": "12e49fa893eb448687a494ca374e63ec",
       "version_major": 2,
       "version_minor": 0
      },
      "text/plain": [
       "Feature collision:   0%|          | 0/10 [00:00<?, ?it/s]"
      ]
     },
     "metadata": {},
     "output_type": "display_data"
    },
    {
     "data": {
      "application/vnd.jupyter.widget-view+json": {
       "model_id": "dec075bc9ad24499b9092629258f4e30",
       "version_major": 2,
       "version_minor": 0
      },
      "text/plain": [
       "Feature collision:   0%|          | 0/10 [00:00<?, ?it/s]"
      ]
     },
     "metadata": {},
     "output_type": "display_data"
    },
    {
     "data": {
      "application/vnd.jupyter.widget-view+json": {
       "model_id": "721ddf092924403a94fa507c747a2ecd",
       "version_major": 2,
       "version_minor": 0
      },
      "text/plain": [
       "Feature collision:   0%|          | 0/10 [00:00<?, ?it/s]"
      ]
     },
     "metadata": {},
     "output_type": "display_data"
    },
    {
     "data": {
      "application/vnd.jupyter.widget-view+json": {
       "model_id": "3ffcfbbec4cc4ba88f7937839ac585d1",
       "version_major": 2,
       "version_minor": 0
      },
      "text/plain": [
       "Feature collision:   0%|          | 0/10 [00:00<?, ?it/s]"
      ]
     },
     "metadata": {},
     "output_type": "display_data"
    },
    {
     "data": {
      "application/vnd.jupyter.widget-view+json": {
       "model_id": "c9c52ea1d7f24f7bbe76d6fa1f7985d6",
       "version_major": 2,
       "version_minor": 0
      },
      "text/plain": [
       "Feature collision:   0%|          | 0/10 [00:00<?, ?it/s]"
      ]
     },
     "metadata": {},
     "output_type": "display_data"
    },
    {
     "data": {
      "application/vnd.jupyter.widget-view+json": {
       "model_id": "6d2f522c1adf46d8be5d31a735c900b4",
       "version_major": 2,
       "version_minor": 0
      },
      "text/plain": [
       "Feature collision:   0%|          | 0/10 [00:00<?, ?it/s]"
      ]
     },
     "metadata": {},
     "output_type": "display_data"
    },
    {
     "data": {
      "application/vnd.jupyter.widget-view+json": {
       "model_id": "d781ba26c64a435c9749ee943117ba49",
       "version_major": 2,
       "version_minor": 0
      },
      "text/plain": [
       "Feature collision:   0%|          | 0/10 [00:00<?, ?it/s]"
      ]
     },
     "metadata": {},
     "output_type": "display_data"
    },
    {
     "data": {
      "application/vnd.jupyter.widget-view+json": {
       "model_id": "1e679009f4104a03b4af516fb66084a5",
       "version_major": 2,
       "version_minor": 0
      },
      "text/plain": [
       "Feature collision:   0%|          | 0/10 [00:00<?, ?it/s]"
      ]
     },
     "metadata": {},
     "output_type": "display_data"
    },
    {
     "data": {
      "application/vnd.jupyter.widget-view+json": {
       "model_id": "f6f20caed26a4753a1a370b7518ae1ec",
       "version_major": 2,
       "version_minor": 0
      },
      "text/plain": [
       "Feature collision:   0%|          | 0/10 [00:00<?, ?it/s]"
      ]
     },
     "metadata": {},
     "output_type": "display_data"
    },
    {
     "data": {
      "application/vnd.jupyter.widget-view+json": {
       "model_id": "42979fe7c56045e28b3c9a5cc0cb27a7",
       "version_major": 2,
       "version_minor": 0
      },
      "text/plain": [
       "Feature collision:   0%|          | 0/10 [00:00<?, ?it/s]"
      ]
     },
     "metadata": {},
     "output_type": "display_data"
    },
    {
     "data": {
      "application/vnd.jupyter.widget-view+json": {
       "model_id": "871cb205e20c47f0877290bf88a31f12",
       "version_major": 2,
       "version_minor": 0
      },
      "text/plain": [
       "Feature collision:   0%|          | 0/10 [00:00<?, ?it/s]"
      ]
     },
     "metadata": {},
     "output_type": "display_data"
    },
    {
     "data": {
      "application/vnd.jupyter.widget-view+json": {
       "model_id": "dddf3fc5d9744a849a3428935eadcd8f",
       "version_major": 2,
       "version_minor": 0
      },
      "text/plain": [
       "Feature collision:   0%|          | 0/10 [00:00<?, ?it/s]"
      ]
     },
     "metadata": {},
     "output_type": "display_data"
    },
    {
     "data": {
      "application/vnd.jupyter.widget-view+json": {
       "model_id": "3004167f62584dbdb327f9dc0b98fe17",
       "version_major": 2,
       "version_minor": 0
      },
      "text/plain": [
       "Feature collision:   0%|          | 0/10 [00:00<?, ?it/s]"
      ]
     },
     "metadata": {},
     "output_type": "display_data"
    },
    {
     "data": {
      "application/vnd.jupyter.widget-view+json": {
       "model_id": "daecd52313aa474f9d7c1f2d7e90c455",
       "version_major": 2,
       "version_minor": 0
      },
      "text/plain": [
       "Feature collision:   0%|          | 0/10 [00:00<?, ?it/s]"
      ]
     },
     "metadata": {},
     "output_type": "display_data"
    },
    {
     "data": {
      "application/vnd.jupyter.widget-view+json": {
       "model_id": "d0fb20674261487bb9d9f51fb45f2398",
       "version_major": 2,
       "version_minor": 0
      },
      "text/plain": [
       "Feature collision:   0%|          | 0/10 [00:00<?, ?it/s]"
      ]
     },
     "metadata": {},
     "output_type": "display_data"
    },
    {
     "data": {
      "application/vnd.jupyter.widget-view+json": {
       "model_id": "42ec7c68b37c49bd97648f53a21bed67",
       "version_major": 2,
       "version_minor": 0
      },
      "text/plain": [
       "Feature collision:   0%|          | 0/10 [00:00<?, ?it/s]"
      ]
     },
     "metadata": {},
     "output_type": "display_data"
    },
    {
     "data": {
      "application/vnd.jupyter.widget-view+json": {
       "model_id": "8379396bb3ea484bafe06cef6433c11e",
       "version_major": 2,
       "version_minor": 0
      },
      "text/plain": [
       "Feature collision:   0%|          | 0/10 [00:00<?, ?it/s]"
      ]
     },
     "metadata": {},
     "output_type": "display_data"
    },
    {
     "data": {
      "application/vnd.jupyter.widget-view+json": {
       "model_id": "bb89e891f27a4e57b1aa3509cc4aab42",
       "version_major": 2,
       "version_minor": 0
      },
      "text/plain": [
       "Feature collision:   0%|          | 0/10 [00:00<?, ?it/s]"
      ]
     },
     "metadata": {},
     "output_type": "display_data"
    },
    {
     "data": {
      "application/vnd.jupyter.widget-view+json": {
       "model_id": "b0c6b3686ee745789e573f118fb6723b",
       "version_major": 2,
       "version_minor": 0
      },
      "text/plain": [
       "Feature collision:   0%|          | 0/10 [00:00<?, ?it/s]"
      ]
     },
     "metadata": {},
     "output_type": "display_data"
    },
    {
     "data": {
      "application/vnd.jupyter.widget-view+json": {
       "model_id": "30fde1dce4d74c8bae55f7bddd209c26",
       "version_major": 2,
       "version_minor": 0
      },
      "text/plain": [
       "Feature collision:   0%|          | 0/10 [00:00<?, ?it/s]"
      ]
     },
     "metadata": {},
     "output_type": "display_data"
    },
    {
     "data": {
      "application/vnd.jupyter.widget-view+json": {
       "model_id": "4c594cb7521c49c6b456b1ecd09291ad",
       "version_major": 2,
       "version_minor": 0
      },
      "text/plain": [
       "Feature collision:   0%|          | 0/10 [00:00<?, ?it/s]"
      ]
     },
     "metadata": {},
     "output_type": "display_data"
    },
    {
     "data": {
      "application/vnd.jupyter.widget-view+json": {
       "model_id": "8233504058e24ee591a70433ca32d1d1",
       "version_major": 2,
       "version_minor": 0
      },
      "text/plain": [
       "Feature collision:   0%|          | 0/10 [00:00<?, ?it/s]"
      ]
     },
     "metadata": {},
     "output_type": "display_data"
    },
    {
     "data": {
      "application/vnd.jupyter.widget-view+json": {
       "model_id": "8136e235b9584e08a6297aea1da0e7c8",
       "version_major": 2,
       "version_minor": 0
      },
      "text/plain": [
       "Feature collision:   0%|          | 0/10 [00:00<?, ?it/s]"
      ]
     },
     "metadata": {},
     "output_type": "display_data"
    },
    {
     "data": {
      "application/vnd.jupyter.widget-view+json": {
       "model_id": "f9269eebd7604ab89e263cf879c68c84",
       "version_major": 2,
       "version_minor": 0
      },
      "text/plain": [
       "Feature collision:   0%|          | 0/10 [00:00<?, ?it/s]"
      ]
     },
     "metadata": {},
     "output_type": "display_data"
    },
    {
     "data": {
      "application/vnd.jupyter.widget-view+json": {
       "model_id": "4729054d251a4ff3855e2e5685f6ed99",
       "version_major": 2,
       "version_minor": 0
      },
      "text/plain": [
       "Feature collision:   0%|          | 0/10 [00:00<?, ?it/s]"
      ]
     },
     "metadata": {},
     "output_type": "display_data"
    },
    {
     "data": {
      "application/vnd.jupyter.widget-view+json": {
       "model_id": "f00a93d4b58b4807a9b095091c8df55f",
       "version_major": 2,
       "version_minor": 0
      },
      "text/plain": [
       "Feature collision:   0%|          | 0/10 [00:00<?, ?it/s]"
      ]
     },
     "metadata": {},
     "output_type": "display_data"
    },
    {
     "data": {
      "application/vnd.jupyter.widget-view+json": {
       "model_id": "c4e46abba9944311a7956dba4e64cdd2",
       "version_major": 2,
       "version_minor": 0
      },
      "text/plain": [
       "Feature collision:   0%|          | 0/10 [00:00<?, ?it/s]"
      ]
     },
     "metadata": {},
     "output_type": "display_data"
    },
    {
     "data": {
      "application/vnd.jupyter.widget-view+json": {
       "model_id": "a730919f5d274170b41c1de2f2017b20",
       "version_major": 2,
       "version_minor": 0
      },
      "text/plain": [
       "Feature collision:   0%|          | 0/10 [00:00<?, ?it/s]"
      ]
     },
     "metadata": {},
     "output_type": "display_data"
    },
    {
     "data": {
      "application/vnd.jupyter.widget-view+json": {
       "model_id": "58d4aeb5505848efb74b9ce3daae2d9c",
       "version_major": 2,
       "version_minor": 0
      },
      "text/plain": [
       "Feature collision:   0%|          | 0/10 [00:00<?, ?it/s]"
      ]
     },
     "metadata": {},
     "output_type": "display_data"
    },
    {
     "data": {
      "application/vnd.jupyter.widget-view+json": {
       "model_id": "a4fd567be8444682ad0cbf968b6070e9",
       "version_major": 2,
       "version_minor": 0
      },
      "text/plain": [
       "Feature collision:   0%|          | 0/10 [00:00<?, ?it/s]"
      ]
     },
     "metadata": {},
     "output_type": "display_data"
    },
    {
     "data": {
      "application/vnd.jupyter.widget-view+json": {
       "model_id": "77349610d2bd4c6295de5e01d564e686",
       "version_major": 2,
       "version_minor": 0
      },
      "text/plain": [
       "Feature collision:   0%|          | 0/10 [00:00<?, ?it/s]"
      ]
     },
     "metadata": {},
     "output_type": "display_data"
    },
    {
     "data": {
      "application/vnd.jupyter.widget-view+json": {
       "model_id": "5c60c36ab2574f84a04c3584d8559c5a",
       "version_major": 2,
       "version_minor": 0
      },
      "text/plain": [
       "Feature collision:   0%|          | 0/10 [00:00<?, ?it/s]"
      ]
     },
     "metadata": {},
     "output_type": "display_data"
    },
    {
     "data": {
      "application/vnd.jupyter.widget-view+json": {
       "model_id": "c88e5ecbe4594cb5bd3c844a3a205c23",
       "version_major": 2,
       "version_minor": 0
      },
      "text/plain": [
       "Feature collision:   0%|          | 0/10 [00:00<?, ?it/s]"
      ]
     },
     "metadata": {},
     "output_type": "display_data"
    },
    {
     "data": {
      "application/vnd.jupyter.widget-view+json": {
       "model_id": "f7bd9b8f0e0b44688b5c372c30911d57",
       "version_major": 2,
       "version_minor": 0
      },
      "text/plain": [
       "Feature collision:   0%|          | 0/10 [00:00<?, ?it/s]"
      ]
     },
     "metadata": {},
     "output_type": "display_data"
    },
    {
     "data": {
      "application/vnd.jupyter.widget-view+json": {
       "model_id": "67f20c6752d0475da94e48adb7c0b7da",
       "version_major": 2,
       "version_minor": 0
      },
      "text/plain": [
       "Feature collision:   0%|          | 0/10 [00:00<?, ?it/s]"
      ]
     },
     "metadata": {},
     "output_type": "display_data"
    },
    {
     "data": {
      "application/vnd.jupyter.widget-view+json": {
       "model_id": "4ae028410e8b418a9b3d31500aab13f3",
       "version_major": 2,
       "version_minor": 0
      },
      "text/plain": [
       "Feature collision:   0%|          | 0/10 [00:00<?, ?it/s]"
      ]
     },
     "metadata": {},
     "output_type": "display_data"
    },
    {
     "data": {
      "application/vnd.jupyter.widget-view+json": {
       "model_id": "92a1e9c4a6f24aa5929ffe28265d859a",
       "version_major": 2,
       "version_minor": 0
      },
      "text/plain": [
       "Feature collision:   0%|          | 0/10 [00:00<?, ?it/s]"
      ]
     },
     "metadata": {},
     "output_type": "display_data"
    },
    {
     "data": {
      "application/vnd.jupyter.widget-view+json": {
       "model_id": "b89eda187b0d4c7789769e8c8a744bcc",
       "version_major": 2,
       "version_minor": 0
      },
      "text/plain": [
       "Feature collision:   0%|          | 0/10 [00:00<?, ?it/s]"
      ]
     },
     "metadata": {},
     "output_type": "display_data"
    },
    {
     "data": {
      "application/vnd.jupyter.widget-view+json": {
       "model_id": "6e3e160aaf4c49f1a95f3dd35e469a7c",
       "version_major": 2,
       "version_minor": 0
      },
      "text/plain": [
       "Feature collision:   0%|          | 0/10 [00:00<?, ?it/s]"
      ]
     },
     "metadata": {},
     "output_type": "display_data"
    },
    {
     "data": {
      "application/vnd.jupyter.widget-view+json": {
       "model_id": "db64528fcbea4984b8def1318760a5c0",
       "version_major": 2,
       "version_minor": 0
      },
      "text/plain": [
       "Feature collision:   0%|          | 0/10 [00:00<?, ?it/s]"
      ]
     },
     "metadata": {},
     "output_type": "display_data"
    },
    {
     "data": {
      "application/vnd.jupyter.widget-view+json": {
       "model_id": "b970beb5bd74495fb25e96da521f33b1",
       "version_major": 2,
       "version_minor": 0
      },
      "text/plain": [
       "Feature collision:   0%|          | 0/10 [00:00<?, ?it/s]"
      ]
     },
     "metadata": {},
     "output_type": "display_data"
    },
    {
     "data": {
      "application/vnd.jupyter.widget-view+json": {
       "model_id": "a919c8dbd9874e6ba0aadae2e742bfd4",
       "version_major": 2,
       "version_minor": 0
      },
      "text/plain": [
       "Feature collision:   0%|          | 0/10 [00:00<?, ?it/s]"
      ]
     },
     "metadata": {},
     "output_type": "display_data"
    },
    {
     "data": {
      "application/vnd.jupyter.widget-view+json": {
       "model_id": "c1e9e576f3c74678aaa903b61685c3da",
       "version_major": 2,
       "version_minor": 0
      },
      "text/plain": [
       "Feature collision:   0%|          | 0/10 [00:00<?, ?it/s]"
      ]
     },
     "metadata": {},
     "output_type": "display_data"
    },
    {
     "data": {
      "application/vnd.jupyter.widget-view+json": {
       "model_id": "049d809356a14187be902ede6b973f0b",
       "version_major": 2,
       "version_minor": 0
      },
      "text/plain": [
       "Feature collision:   0%|          | 0/10 [00:00<?, ?it/s]"
      ]
     },
     "metadata": {},
     "output_type": "display_data"
    },
    {
     "data": {
      "application/vnd.jupyter.widget-view+json": {
       "model_id": "ba2300b0c528455f8911a4167cd45552",
       "version_major": 2,
       "version_minor": 0
      },
      "text/plain": [
       "Feature collision:   0%|          | 0/10 [00:00<?, ?it/s]"
      ]
     },
     "metadata": {},
     "output_type": "display_data"
    },
    {
     "data": {
      "application/vnd.jupyter.widget-view+json": {
       "model_id": "bc670eae3e7b4ed5a931f8fa0c12fdab",
       "version_major": 2,
       "version_minor": 0
      },
      "text/plain": [
       "Feature collision:   0%|          | 0/10 [00:00<?, ?it/s]"
      ]
     },
     "metadata": {},
     "output_type": "display_data"
    },
    {
     "data": {
      "application/vnd.jupyter.widget-view+json": {
       "model_id": "0617fbf8c8794e01b212b3f07f3c8251",
       "version_major": 2,
       "version_minor": 0
      },
      "text/plain": [
       "Feature collision:   0%|          | 0/10 [00:00<?, ?it/s]"
      ]
     },
     "metadata": {},
     "output_type": "display_data"
    },
    {
     "data": {
      "application/vnd.jupyter.widget-view+json": {
       "model_id": "a4d4d953daa44868b082cd5fdb47aafe",
       "version_major": 2,
       "version_minor": 0
      },
      "text/plain": [
       "Feature collision:   0%|          | 0/10 [00:00<?, ?it/s]"
      ]
     },
     "metadata": {},
     "output_type": "display_data"
    },
    {
     "data": {
      "application/vnd.jupyter.widget-view+json": {
       "model_id": "db2937ae979c4640bdc204f04599f021",
       "version_major": 2,
       "version_minor": 0
      },
      "text/plain": [
       "Feature collision:   0%|          | 0/10 [00:00<?, ?it/s]"
      ]
     },
     "metadata": {},
     "output_type": "display_data"
    },
    {
     "data": {
      "application/vnd.jupyter.widget-view+json": {
       "model_id": "df72a6afe4784f8fad184c3d5395f5b1",
       "version_major": 2,
       "version_minor": 0
      },
      "text/plain": [
       "Feature collision:   0%|          | 0/10 [00:00<?, ?it/s]"
      ]
     },
     "metadata": {},
     "output_type": "display_data"
    },
    {
     "data": {
      "application/vnd.jupyter.widget-view+json": {
       "model_id": "af8b0a31452a48febdf9c4ff92f41557",
       "version_major": 2,
       "version_minor": 0
      },
      "text/plain": [
       "Feature collision:   0%|          | 0/10 [00:00<?, ?it/s]"
      ]
     },
     "metadata": {},
     "output_type": "display_data"
    },
    {
     "data": {
      "application/vnd.jupyter.widget-view+json": {
       "model_id": "20fc0adf57ae4851bcb0dafc604a3c4a",
       "version_major": 2,
       "version_minor": 0
      },
      "text/plain": [
       "Feature collision:   0%|          | 0/10 [00:00<?, ?it/s]"
      ]
     },
     "metadata": {},
     "output_type": "display_data"
    },
    {
     "data": {
      "application/vnd.jupyter.widget-view+json": {
       "model_id": "17b0444bd86944c2af856a9c5930f86e",
       "version_major": 2,
       "version_minor": 0
      },
      "text/plain": [
       "Feature collision:   0%|          | 0/10 [00:00<?, ?it/s]"
      ]
     },
     "metadata": {},
     "output_type": "display_data"
    },
    {
     "data": {
      "application/vnd.jupyter.widget-view+json": {
       "model_id": "964255936e274b14bba9c6532bffad5b",
       "version_major": 2,
       "version_minor": 0
      },
      "text/plain": [
       "Feature collision:   0%|          | 0/10 [00:00<?, ?it/s]"
      ]
     },
     "metadata": {},
     "output_type": "display_data"
    },
    {
     "data": {
      "application/vnd.jupyter.widget-view+json": {
       "model_id": "b0a8c448638348a5b621bf6e9ef181e0",
       "version_major": 2,
       "version_minor": 0
      },
      "text/plain": [
       "Feature collision:   0%|          | 0/10 [00:00<?, ?it/s]"
      ]
     },
     "metadata": {},
     "output_type": "display_data"
    },
    {
     "data": {
      "application/vnd.jupyter.widget-view+json": {
       "model_id": "eeb11e2d7a8b44779882328e0fc12703",
       "version_major": 2,
       "version_minor": 0
      },
      "text/plain": [
       "Feature collision:   0%|          | 0/10 [00:00<?, ?it/s]"
      ]
     },
     "metadata": {},
     "output_type": "display_data"
    },
    {
     "data": {
      "application/vnd.jupyter.widget-view+json": {
       "model_id": "b1d2d1f3ab9a414caf02ac2463b531ae",
       "version_major": 2,
       "version_minor": 0
      },
      "text/plain": [
       "Feature collision:   0%|          | 0/10 [00:00<?, ?it/s]"
      ]
     },
     "metadata": {},
     "output_type": "display_data"
    },
    {
     "data": {
      "application/vnd.jupyter.widget-view+json": {
       "model_id": "1c4f8490f11a4c09972e6a511d4e89c2",
       "version_major": 2,
       "version_minor": 0
      },
      "text/plain": [
       "Feature collision:   0%|          | 0/10 [00:00<?, ?it/s]"
      ]
     },
     "metadata": {},
     "output_type": "display_data"
    },
    {
     "data": {
      "application/vnd.jupyter.widget-view+json": {
       "model_id": "8da603af3f2c42f0aef752cde9930062",
       "version_major": 2,
       "version_minor": 0
      },
      "text/plain": [
       "Feature collision:   0%|          | 0/10 [00:00<?, ?it/s]"
      ]
     },
     "metadata": {},
     "output_type": "display_data"
    },
    {
     "data": {
      "application/vnd.jupyter.widget-view+json": {
       "model_id": "61a34de991204e268922eddfe155a71e",
       "version_major": 2,
       "version_minor": 0
      },
      "text/plain": [
       "Feature collision:   0%|          | 0/10 [00:00<?, ?it/s]"
      ]
     },
     "metadata": {},
     "output_type": "display_data"
    },
    {
     "data": {
      "application/vnd.jupyter.widget-view+json": {
       "model_id": "aefc2e5244cd467bbaaa974eb8c91ba6",
       "version_major": 2,
       "version_minor": 0
      },
      "text/plain": [
       "Feature collision:   0%|          | 0/10 [00:00<?, ?it/s]"
      ]
     },
     "metadata": {},
     "output_type": "display_data"
    },
    {
     "data": {
      "application/vnd.jupyter.widget-view+json": {
       "model_id": "8f35cf4ca48d4f87924a72bb27deec21",
       "version_major": 2,
       "version_minor": 0
      },
      "text/plain": [
       "Feature collision:   0%|          | 0/10 [00:00<?, ?it/s]"
      ]
     },
     "metadata": {},
     "output_type": "display_data"
    },
    {
     "data": {
      "application/vnd.jupyter.widget-view+json": {
       "model_id": "7771f9dcfe1d42fda7c3139eab241987",
       "version_major": 2,
       "version_minor": 0
      },
      "text/plain": [
       "Feature collision:   0%|          | 0/10 [00:00<?, ?it/s]"
      ]
     },
     "metadata": {},
     "output_type": "display_data"
    },
    {
     "data": {
      "application/vnd.jupyter.widget-view+json": {
       "model_id": "d8ce34e080bd4c80978dde512d52c5a5",
       "version_major": 2,
       "version_minor": 0
      },
      "text/plain": [
       "Feature collision:   0%|          | 0/10 [00:00<?, ?it/s]"
      ]
     },
     "metadata": {},
     "output_type": "display_data"
    },
    {
     "data": {
      "application/vnd.jupyter.widget-view+json": {
       "model_id": "92a63a9dc3df49b58fb51ac9d80ccd93",
       "version_major": 2,
       "version_minor": 0
      },
      "text/plain": [
       "Feature collision:   0%|          | 0/10 [00:00<?, ?it/s]"
      ]
     },
     "metadata": {},
     "output_type": "display_data"
    },
    {
     "data": {
      "application/vnd.jupyter.widget-view+json": {
       "model_id": "6b50cdf1fe754799bcddc6a6f1c495b3",
       "version_major": 2,
       "version_minor": 0
      },
      "text/plain": [
       "Feature collision:   0%|          | 0/10 [00:00<?, ?it/s]"
      ]
     },
     "metadata": {},
     "output_type": "display_data"
    },
    {
     "data": {
      "application/vnd.jupyter.widget-view+json": {
       "model_id": "023b811ac9dd41e887d4485ff09bca50",
       "version_major": 2,
       "version_minor": 0
      },
      "text/plain": [
       "Feature collision:   0%|          | 0/10 [00:00<?, ?it/s]"
      ]
     },
     "metadata": {},
     "output_type": "display_data"
    },
    {
     "data": {
      "application/vnd.jupyter.widget-view+json": {
       "model_id": "8ea6dc3a2ddd42cba8182e5ad4504acf",
       "version_major": 2,
       "version_minor": 0
      },
      "text/plain": [
       "Feature collision:   0%|          | 0/10 [00:00<?, ?it/s]"
      ]
     },
     "metadata": {},
     "output_type": "display_data"
    },
    {
     "data": {
      "application/vnd.jupyter.widget-view+json": {
       "model_id": "ddccea61138b4cf08dd12ef6420596a6",
       "version_major": 2,
       "version_minor": 0
      },
      "text/plain": [
       "Feature collision:   0%|          | 0/10 [00:00<?, ?it/s]"
      ]
     },
     "metadata": {},
     "output_type": "display_data"
    },
    {
     "data": {
      "application/vnd.jupyter.widget-view+json": {
       "model_id": "618074f79de74c44a4f56627ef51155c",
       "version_major": 2,
       "version_minor": 0
      },
      "text/plain": [
       "Feature collision:   0%|          | 0/10 [00:00<?, ?it/s]"
      ]
     },
     "metadata": {},
     "output_type": "display_data"
    },
    {
     "data": {
      "application/vnd.jupyter.widget-view+json": {
       "model_id": "81c6cbdd04d948059553a991f6ad3d93",
       "version_major": 2,
       "version_minor": 0
      },
      "text/plain": [
       "Feature collision:   0%|          | 0/10 [00:00<?, ?it/s]"
      ]
     },
     "metadata": {},
     "output_type": "display_data"
    },
    {
     "data": {
      "application/vnd.jupyter.widget-view+json": {
       "model_id": "63cc4a2f15674a9882d2cbdc77a02b0b",
       "version_major": 2,
       "version_minor": 0
      },
      "text/plain": [
       "Feature collision:   0%|          | 0/10 [00:00<?, ?it/s]"
      ]
     },
     "metadata": {},
     "output_type": "display_data"
    },
    {
     "data": {
      "application/vnd.jupyter.widget-view+json": {
       "model_id": "68ccf09a90f344bd82c4cfb206d244b2",
       "version_major": 2,
       "version_minor": 0
      },
      "text/plain": [
       "Feature collision:   0%|          | 0/10 [00:00<?, ?it/s]"
      ]
     },
     "metadata": {},
     "output_type": "display_data"
    },
    {
     "data": {
      "application/vnd.jupyter.widget-view+json": {
       "model_id": "35e0c0b982f4472281137d64d7b7cfd0",
       "version_major": 2,
       "version_minor": 0
      },
      "text/plain": [
       "Feature collision:   0%|          | 0/10 [00:00<?, ?it/s]"
      ]
     },
     "metadata": {},
     "output_type": "display_data"
    },
    {
     "data": {
      "application/vnd.jupyter.widget-view+json": {
       "model_id": "2a2d88fc964c4bdb9f9d6bb1f28b3318",
       "version_major": 2,
       "version_minor": 0
      },
      "text/plain": [
       "Feature collision:   0%|          | 0/10 [00:00<?, ?it/s]"
      ]
     },
     "metadata": {},
     "output_type": "display_data"
    },
    {
     "data": {
      "application/vnd.jupyter.widget-view+json": {
       "model_id": "6c4b69c606c7460eae6082c037a15727",
       "version_major": 2,
       "version_minor": 0
      },
      "text/plain": [
       "Feature collision:   0%|          | 0/10 [00:00<?, ?it/s]"
      ]
     },
     "metadata": {},
     "output_type": "display_data"
    },
    {
     "data": {
      "application/vnd.jupyter.widget-view+json": {
       "model_id": "becc130b08464271b8f1a1259b29210b",
       "version_major": 2,
       "version_minor": 0
      },
      "text/plain": [
       "Feature collision:   0%|          | 0/10 [00:00<?, ?it/s]"
      ]
     },
     "metadata": {},
     "output_type": "display_data"
    },
    {
     "data": {
      "application/vnd.jupyter.widget-view+json": {
       "model_id": "1f78663bf6184457a1ff3eff2433f37d",
       "version_major": 2,
       "version_minor": 0
      },
      "text/plain": [
       "Feature collision:   0%|          | 0/10 [00:00<?, ?it/s]"
      ]
     },
     "metadata": {},
     "output_type": "display_data"
    },
    {
     "data": {
      "application/vnd.jupyter.widget-view+json": {
       "model_id": "107912cfc47246bdaade12ff6f7642db",
       "version_major": 2,
       "version_minor": 0
      },
      "text/plain": [
       "Feature collision:   0%|          | 0/10 [00:00<?, ?it/s]"
      ]
     },
     "metadata": {},
     "output_type": "display_data"
    },
    {
     "data": {
      "application/vnd.jupyter.widget-view+json": {
       "model_id": "a9b880ceb57c46de98c22f3b80b177f2",
       "version_major": 2,
       "version_minor": 0
      },
      "text/plain": [
       "Feature collision:   0%|          | 0/10 [00:00<?, ?it/s]"
      ]
     },
     "metadata": {},
     "output_type": "display_data"
    },
    {
     "data": {
      "application/vnd.jupyter.widget-view+json": {
       "model_id": "ffb5a07fc3be46008b823990e248a738",
       "version_major": 2,
       "version_minor": 0
      },
      "text/plain": [
       "Feature collision:   0%|          | 0/10 [00:00<?, ?it/s]"
      ]
     },
     "metadata": {},
     "output_type": "display_data"
    },
    {
     "data": {
      "application/vnd.jupyter.widget-view+json": {
       "model_id": "db677a80a3984ee48e625c31931e33c9",
       "version_major": 2,
       "version_minor": 0
      },
      "text/plain": [
       "Feature collision:   0%|          | 0/10 [00:00<?, ?it/s]"
      ]
     },
     "metadata": {},
     "output_type": "display_data"
    },
    {
     "data": {
      "application/vnd.jupyter.widget-view+json": {
       "model_id": "474a54cd88844953b7fd62085ed2d3b5",
       "version_major": 2,
       "version_minor": 0
      },
      "text/plain": [
       "Feature collision:   0%|          | 0/10 [00:00<?, ?it/s]"
      ]
     },
     "metadata": {},
     "output_type": "display_data"
    },
    {
     "data": {
      "application/vnd.jupyter.widget-view+json": {
       "model_id": "b0c0ac0b86514f1386f26e861e32c70f",
       "version_major": 2,
       "version_minor": 0
      },
      "text/plain": [
       "Feature collision:   0%|          | 0/10 [00:00<?, ?it/s]"
      ]
     },
     "metadata": {},
     "output_type": "display_data"
    },
    {
     "data": {
      "application/vnd.jupyter.widget-view+json": {
       "model_id": "9abb35e0344f477e8d9d28cb3b250ddd",
       "version_major": 2,
       "version_minor": 0
      },
      "text/plain": [
       "Feature collision:   0%|          | 0/10 [00:00<?, ?it/s]"
      ]
     },
     "metadata": {},
     "output_type": "display_data"
    },
    {
     "data": {
      "application/vnd.jupyter.widget-view+json": {
       "model_id": "013f73b35db847049111bd701282db3f",
       "version_major": 2,
       "version_minor": 0
      },
      "text/plain": [
       "Feature collision:   0%|          | 0/10 [00:00<?, ?it/s]"
      ]
     },
     "metadata": {},
     "output_type": "display_data"
    },
    {
     "data": {
      "application/vnd.jupyter.widget-view+json": {
       "model_id": "5e06b70d1f744d88a12b1b022e33b310",
       "version_major": 2,
       "version_minor": 0
      },
      "text/plain": [
       "Feature collision:   0%|          | 0/10 [00:00<?, ?it/s]"
      ]
     },
     "metadata": {},
     "output_type": "display_data"
    },
    {
     "data": {
      "application/vnd.jupyter.widget-view+json": {
       "model_id": "5249eeaae1c745c78ea123470f3c61d1",
       "version_major": 2,
       "version_minor": 0
      },
      "text/plain": [
       "Feature collision:   0%|          | 0/10 [00:00<?, ?it/s]"
      ]
     },
     "metadata": {},
     "output_type": "display_data"
    },
    {
     "data": {
      "application/vnd.jupyter.widget-view+json": {
       "model_id": "33726fad70494263b52c81e1d61908b1",
       "version_major": 2,
       "version_minor": 0
      },
      "text/plain": [
       "Feature collision:   0%|          | 0/10 [00:00<?, ?it/s]"
      ]
     },
     "metadata": {},
     "output_type": "display_data"
    },
    {
     "data": {
      "application/vnd.jupyter.widget-view+json": {
       "model_id": "60dac1868add419aae922dca097c3b28",
       "version_major": 2,
       "version_minor": 0
      },
      "text/plain": [
       "Feature collision:   0%|          | 0/10 [00:00<?, ?it/s]"
      ]
     },
     "metadata": {},
     "output_type": "display_data"
    },
    {
     "data": {
      "application/vnd.jupyter.widget-view+json": {
       "model_id": "47f5228842904a1fa5cec6f0fc55e5f6",
       "version_major": 2,
       "version_minor": 0
      },
      "text/plain": [
       "Feature collision:   0%|          | 0/10 [00:00<?, ?it/s]"
      ]
     },
     "metadata": {},
     "output_type": "display_data"
    },
    {
     "data": {
      "application/vnd.jupyter.widget-view+json": {
       "model_id": "6b654b2faa5246a686f5f7e15028046e",
       "version_major": 2,
       "version_minor": 0
      },
      "text/plain": [
       "Feature collision:   0%|          | 0/10 [00:00<?, ?it/s]"
      ]
     },
     "metadata": {},
     "output_type": "display_data"
    },
    {
     "data": {
      "application/vnd.jupyter.widget-view+json": {
       "model_id": "938fdf91e9fc4f88af7d5bf7461d71f1",
       "version_major": 2,
       "version_minor": 0
      },
      "text/plain": [
       "Feature collision:   0%|          | 0/10 [00:00<?, ?it/s]"
      ]
     },
     "metadata": {},
     "output_type": "display_data"
    },
    {
     "data": {
      "application/vnd.jupyter.widget-view+json": {
       "model_id": "c5c64509dc5947ada2200d86c47e3723",
       "version_major": 2,
       "version_minor": 0
      },
      "text/plain": [
       "Feature collision:   0%|          | 0/10 [00:00<?, ?it/s]"
      ]
     },
     "metadata": {},
     "output_type": "display_data"
    },
    {
     "data": {
      "application/vnd.jupyter.widget-view+json": {
       "model_id": "21960ba9dff042ddb91642c5e4dee49e",
       "version_major": 2,
       "version_minor": 0
      },
      "text/plain": [
       "Feature collision:   0%|          | 0/10 [00:00<?, ?it/s]"
      ]
     },
     "metadata": {},
     "output_type": "display_data"
    },
    {
     "data": {
      "application/vnd.jupyter.widget-view+json": {
       "model_id": "e7870ad002c44ec0bb6988e78eb04a65",
       "version_major": 2,
       "version_minor": 0
      },
      "text/plain": [
       "Feature collision:   0%|          | 0/10 [00:00<?, ?it/s]"
      ]
     },
     "metadata": {},
     "output_type": "display_data"
    },
    {
     "data": {
      "application/vnd.jupyter.widget-view+json": {
       "model_id": "977122b32fae41f1abe2932201334841",
       "version_major": 2,
       "version_minor": 0
      },
      "text/plain": [
       "Feature collision:   0%|          | 0/10 [00:00<?, ?it/s]"
      ]
     },
     "metadata": {},
     "output_type": "display_data"
    },
    {
     "data": {
      "application/vnd.jupyter.widget-view+json": {
       "model_id": "abd915ff71a0402ba651b7525c08e23a",
       "version_major": 2,
       "version_minor": 0
      },
      "text/plain": [
       "Feature collision:   0%|          | 0/10 [00:00<?, ?it/s]"
      ]
     },
     "metadata": {},
     "output_type": "display_data"
    },
    {
     "data": {
      "application/vnd.jupyter.widget-view+json": {
       "model_id": "7f1f95fa939045ceb14858617ebcfc5a",
       "version_major": 2,
       "version_minor": 0
      },
      "text/plain": [
       "Feature collision:   0%|          | 0/10 [00:00<?, ?it/s]"
      ]
     },
     "metadata": {},
     "output_type": "display_data"
    },
    {
     "data": {
      "application/vnd.jupyter.widget-view+json": {
       "model_id": "632324bfba7445a091b4d7d1e33f1b09",
       "version_major": 2,
       "version_minor": 0
      },
      "text/plain": [
       "Feature collision:   0%|          | 0/10 [00:00<?, ?it/s]"
      ]
     },
     "metadata": {},
     "output_type": "display_data"
    },
    {
     "data": {
      "application/vnd.jupyter.widget-view+json": {
       "model_id": "2eaf8680241f449c9cbe06116bc436df",
       "version_major": 2,
       "version_minor": 0
      },
      "text/plain": [
       "Feature collision:   0%|          | 0/10 [00:00<?, ?it/s]"
      ]
     },
     "metadata": {},
     "output_type": "display_data"
    },
    {
     "data": {
      "application/vnd.jupyter.widget-view+json": {
       "model_id": "19f599a9889f48fdbb2ce237f54be7a0",
       "version_major": 2,
       "version_minor": 0
      },
      "text/plain": [
       "Feature collision:   0%|          | 0/10 [00:00<?, ?it/s]"
      ]
     },
     "metadata": {},
     "output_type": "display_data"
    },
    {
     "data": {
      "application/vnd.jupyter.widget-view+json": {
       "model_id": "e952124ded71494ba22da38a8d181aa3",
       "version_major": 2,
       "version_minor": 0
      },
      "text/plain": [
       "Feature collision:   0%|          | 0/10 [00:00<?, ?it/s]"
      ]
     },
     "metadata": {},
     "output_type": "display_data"
    },
    {
     "data": {
      "application/vnd.jupyter.widget-view+json": {
       "model_id": "e4d8aef2b9cb44ffa4035c873a51d4b5",
       "version_major": 2,
       "version_minor": 0
      },
      "text/plain": [
       "Feature collision:   0%|          | 0/10 [00:00<?, ?it/s]"
      ]
     },
     "metadata": {},
     "output_type": "display_data"
    },
    {
     "data": {
      "application/vnd.jupyter.widget-view+json": {
       "model_id": "b7b565d9eab243d491e8e8c1d26a210d",
       "version_major": 2,
       "version_minor": 0
      },
      "text/plain": [
       "Feature collision:   0%|          | 0/10 [00:00<?, ?it/s]"
      ]
     },
     "metadata": {},
     "output_type": "display_data"
    },
    {
     "data": {
      "application/vnd.jupyter.widget-view+json": {
       "model_id": "f3ad2cdd432d46748bbad8818cac90ce",
       "version_major": 2,
       "version_minor": 0
      },
      "text/plain": [
       "Feature collision:   0%|          | 0/10 [00:00<?, ?it/s]"
      ]
     },
     "metadata": {},
     "output_type": "display_data"
    },
    {
     "data": {
      "application/vnd.jupyter.widget-view+json": {
       "model_id": "4bda973eeb664f779495ab9f89db10be",
       "version_major": 2,
       "version_minor": 0
      },
      "text/plain": [
       "Feature collision:   0%|          | 0/10 [00:00<?, ?it/s]"
      ]
     },
     "metadata": {},
     "output_type": "display_data"
    },
    {
     "data": {
      "application/vnd.jupyter.widget-view+json": {
       "model_id": "7b52d7f697554861a0de8f2ca0b5e2a0",
       "version_major": 2,
       "version_minor": 0
      },
      "text/plain": [
       "Feature collision:   0%|          | 0/10 [00:00<?, ?it/s]"
      ]
     },
     "metadata": {},
     "output_type": "display_data"
    },
    {
     "data": {
      "application/vnd.jupyter.widget-view+json": {
       "model_id": "ecb2fb2b53e04ba2bccee397abc54b32",
       "version_major": 2,
       "version_minor": 0
      },
      "text/plain": [
       "Feature collision:   0%|          | 0/10 [00:00<?, ?it/s]"
      ]
     },
     "metadata": {},
     "output_type": "display_data"
    },
    {
     "data": {
      "application/vnd.jupyter.widget-view+json": {
       "model_id": "2db142fac1b946768f4739ac21640c77",
       "version_major": 2,
       "version_minor": 0
      },
      "text/plain": [
       "Feature collision:   0%|          | 0/10 [00:00<?, ?it/s]"
      ]
     },
     "metadata": {},
     "output_type": "display_data"
    },
    {
     "data": {
      "application/vnd.jupyter.widget-view+json": {
       "model_id": "ede61625b9b54719b439b71b032ff6fe",
       "version_major": 2,
       "version_minor": 0
      },
      "text/plain": [
       "Feature collision:   0%|          | 0/10 [00:00<?, ?it/s]"
      ]
     },
     "metadata": {},
     "output_type": "display_data"
    },
    {
     "data": {
      "application/vnd.jupyter.widget-view+json": {
       "model_id": "08d13ff8461546bcb9d791520ebddaa8",
       "version_major": 2,
       "version_minor": 0
      },
      "text/plain": [
       "Feature collision:   0%|          | 0/10 [00:00<?, ?it/s]"
      ]
     },
     "metadata": {},
     "output_type": "display_data"
    },
    {
     "data": {
      "application/vnd.jupyter.widget-view+json": {
       "model_id": "fd5413abb5dd4e2f9c16ada7a3cb73be",
       "version_major": 2,
       "version_minor": 0
      },
      "text/plain": [
       "Feature collision:   0%|          | 0/10 [00:00<?, ?it/s]"
      ]
     },
     "metadata": {},
     "output_type": "display_data"
    },
    {
     "data": {
      "application/vnd.jupyter.widget-view+json": {
       "model_id": "2a685d8b6f7f48c2a55a0b7555c52851",
       "version_major": 2,
       "version_minor": 0
      },
      "text/plain": [
       "Feature collision:   0%|          | 0/10 [00:00<?, ?it/s]"
      ]
     },
     "metadata": {},
     "output_type": "display_data"
    },
    {
     "data": {
      "application/vnd.jupyter.widget-view+json": {
       "model_id": "33fcd394dead46e4bed888765b4c939a",
       "version_major": 2,
       "version_minor": 0
      },
      "text/plain": [
       "Feature collision:   0%|          | 0/10 [00:00<?, ?it/s]"
      ]
     },
     "metadata": {},
     "output_type": "display_data"
    },
    {
     "data": {
      "application/vnd.jupyter.widget-view+json": {
       "model_id": "b8476fb1dba3499f85cbd15a7f070338",
       "version_major": 2,
       "version_minor": 0
      },
      "text/plain": [
       "Feature collision:   0%|          | 0/10 [00:00<?, ?it/s]"
      ]
     },
     "metadata": {},
     "output_type": "display_data"
    },
    {
     "data": {
      "application/vnd.jupyter.widget-view+json": {
       "model_id": "1423f84c4ab640d7acdb358761ec9e45",
       "version_major": 2,
       "version_minor": 0
      },
      "text/plain": [
       "Feature collision:   0%|          | 0/10 [00:00<?, ?it/s]"
      ]
     },
     "metadata": {},
     "output_type": "display_data"
    },
    {
     "data": {
      "application/vnd.jupyter.widget-view+json": {
       "model_id": "80423d26ac6a4c6b917270fede2d3bdf",
       "version_major": 2,
       "version_minor": 0
      },
      "text/plain": [
       "Feature collision:   0%|          | 0/10 [00:00<?, ?it/s]"
      ]
     },
     "metadata": {},
     "output_type": "display_data"
    },
    {
     "data": {
      "application/vnd.jupyter.widget-view+json": {
       "model_id": "ef368cf9b42e4e3087f83e1c0b0afbaf",
       "version_major": 2,
       "version_minor": 0
      },
      "text/plain": [
       "Feature collision:   0%|          | 0/10 [00:00<?, ?it/s]"
      ]
     },
     "metadata": {},
     "output_type": "display_data"
    },
    {
     "data": {
      "application/vnd.jupyter.widget-view+json": {
       "model_id": "f0c9e6fa37f543749605860be4216d76",
       "version_major": 2,
       "version_minor": 0
      },
      "text/plain": [
       "Feature collision:   0%|          | 0/10 [00:00<?, ?it/s]"
      ]
     },
     "metadata": {},
     "output_type": "display_data"
    },
    {
     "data": {
      "application/vnd.jupyter.widget-view+json": {
       "model_id": "470b2a5ca27a4d27b063fc6ded4a5547",
       "version_major": 2,
       "version_minor": 0
      },
      "text/plain": [
       "Feature collision:   0%|          | 0/10 [00:00<?, ?it/s]"
      ]
     },
     "metadata": {},
     "output_type": "display_data"
    },
    {
     "data": {
      "application/vnd.jupyter.widget-view+json": {
       "model_id": "8f8c1a704d044ed5a0a014949b83dec8",
       "version_major": 2,
       "version_minor": 0
      },
      "text/plain": [
       "Feature collision:   0%|          | 0/10 [00:00<?, ?it/s]"
      ]
     },
     "metadata": {},
     "output_type": "display_data"
    },
    {
     "data": {
      "application/vnd.jupyter.widget-view+json": {
       "model_id": "c9b327b592094409a9f0e6b76f0f35a0",
       "version_major": 2,
       "version_minor": 0
      },
      "text/plain": [
       "Feature collision:   0%|          | 0/10 [00:00<?, ?it/s]"
      ]
     },
     "metadata": {},
     "output_type": "display_data"
    },
    {
     "data": {
      "application/vnd.jupyter.widget-view+json": {
       "model_id": "256f30edc0da40319aafcb648b4840da",
       "version_major": 2,
       "version_minor": 0
      },
      "text/plain": [
       "Feature collision:   0%|          | 0/10 [00:00<?, ?it/s]"
      ]
     },
     "metadata": {},
     "output_type": "display_data"
    },
    {
     "data": {
      "application/vnd.jupyter.widget-view+json": {
       "model_id": "7ac670607cbd4ec78d8c33ba415f7119",
       "version_major": 2,
       "version_minor": 0
      },
      "text/plain": [
       "Feature collision:   0%|          | 0/10 [00:00<?, ?it/s]"
      ]
     },
     "metadata": {},
     "output_type": "display_data"
    },
    {
     "data": {
      "application/vnd.jupyter.widget-view+json": {
       "model_id": "0b7cbda14b6848b591fe0b80431dc153",
       "version_major": 2,
       "version_minor": 0
      },
      "text/plain": [
       "Feature collision:   0%|          | 0/10 [00:00<?, ?it/s]"
      ]
     },
     "metadata": {},
     "output_type": "display_data"
    },
    {
     "data": {
      "application/vnd.jupyter.widget-view+json": {
       "model_id": "2ecbd8f2786f4e9d99bcd260a29e7acf",
       "version_major": 2,
       "version_minor": 0
      },
      "text/plain": [
       "Feature collision:   0%|          | 0/10 [00:00<?, ?it/s]"
      ]
     },
     "metadata": {},
     "output_type": "display_data"
    },
    {
     "data": {
      "application/vnd.jupyter.widget-view+json": {
       "model_id": "276742cfd3af40f5b468e4dac1a91563",
       "version_major": 2,
       "version_minor": 0
      },
      "text/plain": [
       "Feature collision:   0%|          | 0/10 [00:00<?, ?it/s]"
      ]
     },
     "metadata": {},
     "output_type": "display_data"
    },
    {
     "data": {
      "application/vnd.jupyter.widget-view+json": {
       "model_id": "3c9dc3c9a26a4a2cb07541dbdcbd8e8c",
       "version_major": 2,
       "version_minor": 0
      },
      "text/plain": [
       "Feature collision:   0%|          | 0/10 [00:00<?, ?it/s]"
      ]
     },
     "metadata": {},
     "output_type": "display_data"
    },
    {
     "data": {
      "application/vnd.jupyter.widget-view+json": {
       "model_id": "cbe001967e614f5c9fbf5108c42334dd",
       "version_major": 2,
       "version_minor": 0
      },
      "text/plain": [
       "Feature collision:   0%|          | 0/10 [00:00<?, ?it/s]"
      ]
     },
     "metadata": {},
     "output_type": "display_data"
    },
    {
     "data": {
      "application/vnd.jupyter.widget-view+json": {
       "model_id": "5ba44e6cacf046a49e0e824059cf0a5b",
       "version_major": 2,
       "version_minor": 0
      },
      "text/plain": [
       "Feature collision:   0%|          | 0/10 [00:00<?, ?it/s]"
      ]
     },
     "metadata": {},
     "output_type": "display_data"
    },
    {
     "data": {
      "application/vnd.jupyter.widget-view+json": {
       "model_id": "39067aef64974c12be58f4544eabe71c",
       "version_major": 2,
       "version_minor": 0
      },
      "text/plain": [
       "Feature collision:   0%|          | 0/10 [00:00<?, ?it/s]"
      ]
     },
     "metadata": {},
     "output_type": "display_data"
    },
    {
     "data": {
      "application/vnd.jupyter.widget-view+json": {
       "model_id": "e22112c542d94b6a9c68e1372c273da0",
       "version_major": 2,
       "version_minor": 0
      },
      "text/plain": [
       "Feature collision:   0%|          | 0/10 [00:00<?, ?it/s]"
      ]
     },
     "metadata": {},
     "output_type": "display_data"
    },
    {
     "data": {
      "application/vnd.jupyter.widget-view+json": {
       "model_id": "fed52450643f4dc0a271ca8458fcbfc6",
       "version_major": 2,
       "version_minor": 0
      },
      "text/plain": [
       "Feature collision:   0%|          | 0/10 [00:00<?, ?it/s]"
      ]
     },
     "metadata": {},
     "output_type": "display_data"
    },
    {
     "data": {
      "application/vnd.jupyter.widget-view+json": {
       "model_id": "43c664afc8a54114aa16f6ae49429811",
       "version_major": 2,
       "version_minor": 0
      },
      "text/plain": [
       "Feature collision:   0%|          | 0/10 [00:00<?, ?it/s]"
      ]
     },
     "metadata": {},
     "output_type": "display_data"
    },
    {
     "data": {
      "application/vnd.jupyter.widget-view+json": {
       "model_id": "f07741a81a2f44ca8d96dd3e69171dd4",
       "version_major": 2,
       "version_minor": 0
      },
      "text/plain": [
       "Feature collision:   0%|          | 0/10 [00:00<?, ?it/s]"
      ]
     },
     "metadata": {},
     "output_type": "display_data"
    },
    {
     "data": {
      "application/vnd.jupyter.widget-view+json": {
       "model_id": "86a2b24acdce4b9ab472bf55fa9f8743",
       "version_major": 2,
       "version_minor": 0
      },
      "text/plain": [
       "Feature collision:   0%|          | 0/10 [00:00<?, ?it/s]"
      ]
     },
     "metadata": {},
     "output_type": "display_data"
    },
    {
     "data": {
      "application/vnd.jupyter.widget-view+json": {
       "model_id": "22633e1edd794f37b69e9163a6aba81b",
       "version_major": 2,
       "version_minor": 0
      },
      "text/plain": [
       "Feature collision:   0%|          | 0/10 [00:00<?, ?it/s]"
      ]
     },
     "metadata": {},
     "output_type": "display_data"
    },
    {
     "data": {
      "application/vnd.jupyter.widget-view+json": {
       "model_id": "ae8c2b20ac5246778483278771e92ae2",
       "version_major": 2,
       "version_minor": 0
      },
      "text/plain": [
       "Feature collision:   0%|          | 0/10 [00:00<?, ?it/s]"
      ]
     },
     "metadata": {},
     "output_type": "display_data"
    },
    {
     "data": {
      "application/vnd.jupyter.widget-view+json": {
       "model_id": "58a093e18a2b4cc1b8e18f9afe6b8cf8",
       "version_major": 2,
       "version_minor": 0
      },
      "text/plain": [
       "Feature collision:   0%|          | 0/10 [00:00<?, ?it/s]"
      ]
     },
     "metadata": {},
     "output_type": "display_data"
    },
    {
     "data": {
      "application/vnd.jupyter.widget-view+json": {
       "model_id": "060c3a299eba4e2c8b1ce8997317bb01",
       "version_major": 2,
       "version_minor": 0
      },
      "text/plain": [
       "Feature collision:   0%|          | 0/10 [00:00<?, ?it/s]"
      ]
     },
     "metadata": {},
     "output_type": "display_data"
    },
    {
     "data": {
      "application/vnd.jupyter.widget-view+json": {
       "model_id": "8fa6abce320346d48123222fa53ad7c1",
       "version_major": 2,
       "version_minor": 0
      },
      "text/plain": [
       "Feature collision:   0%|          | 0/10 [00:00<?, ?it/s]"
      ]
     },
     "metadata": {},
     "output_type": "display_data"
    },
    {
     "data": {
      "application/vnd.jupyter.widget-view+json": {
       "model_id": "b8672908d5124e4e94661c0699f15113",
       "version_major": 2,
       "version_minor": 0
      },
      "text/plain": [
       "Feature collision:   0%|          | 0/10 [00:00<?, ?it/s]"
      ]
     },
     "metadata": {},
     "output_type": "display_data"
    },
    {
     "data": {
      "application/vnd.jupyter.widget-view+json": {
       "model_id": "0042a44d1c374c2eb90c75a296693ab1",
       "version_major": 2,
       "version_minor": 0
      },
      "text/plain": [
       "Feature collision:   0%|          | 0/10 [00:00<?, ?it/s]"
      ]
     },
     "metadata": {},
     "output_type": "display_data"
    },
    {
     "data": {
      "application/vnd.jupyter.widget-view+json": {
       "model_id": "2719bca3c26e477ba6ce13f3e96e416c",
       "version_major": 2,
       "version_minor": 0
      },
      "text/plain": [
       "Feature collision:   0%|          | 0/10 [00:00<?, ?it/s]"
      ]
     },
     "metadata": {},
     "output_type": "display_data"
    },
    {
     "data": {
      "application/vnd.jupyter.widget-view+json": {
       "model_id": "c0eece7e288548e1a7d73e6e57bab456",
       "version_major": 2,
       "version_minor": 0
      },
      "text/plain": [
       "Feature collision:   0%|          | 0/10 [00:00<?, ?it/s]"
      ]
     },
     "metadata": {},
     "output_type": "display_data"
    },
    {
     "data": {
      "application/vnd.jupyter.widget-view+json": {
       "model_id": "072cb232d9e34df4af88ab674c56186a",
       "version_major": 2,
       "version_minor": 0
      },
      "text/plain": [
       "Feature collision:   0%|          | 0/10 [00:00<?, ?it/s]"
      ]
     },
     "metadata": {},
     "output_type": "display_data"
    },
    {
     "data": {
      "application/vnd.jupyter.widget-view+json": {
       "model_id": "d9033dfe1abc4279b37cce57e446366d",
       "version_major": 2,
       "version_minor": 0
      },
      "text/plain": [
       "Feature collision:   0%|          | 0/10 [00:00<?, ?it/s]"
      ]
     },
     "metadata": {},
     "output_type": "display_data"
    },
    {
     "data": {
      "application/vnd.jupyter.widget-view+json": {
       "model_id": "a9242fbdec6f4131b0ccdfd4cb25d7af",
       "version_major": 2,
       "version_minor": 0
      },
      "text/plain": [
       "Feature collision:   0%|          | 0/10 [00:00<?, ?it/s]"
      ]
     },
     "metadata": {},
     "output_type": "display_data"
    },
    {
     "data": {
      "application/vnd.jupyter.widget-view+json": {
       "model_id": "d1da840bc15a4dfea8317161c26b8dd3",
       "version_major": 2,
       "version_minor": 0
      },
      "text/plain": [
       "Feature collision:   0%|          | 0/10 [00:00<?, ?it/s]"
      ]
     },
     "metadata": {},
     "output_type": "display_data"
    },
    {
     "data": {
      "application/vnd.jupyter.widget-view+json": {
       "model_id": "4aac959facda4d4fbe95622f6d556def",
       "version_major": 2,
       "version_minor": 0
      },
      "text/plain": [
       "Feature collision:   0%|          | 0/10 [00:00<?, ?it/s]"
      ]
     },
     "metadata": {},
     "output_type": "display_data"
    },
    {
     "data": {
      "application/vnd.jupyter.widget-view+json": {
       "model_id": "3cdfe228170f45e399349d050949f0f0",
       "version_major": 2,
       "version_minor": 0
      },
      "text/plain": [
       "Feature collision:   0%|          | 0/10 [00:00<?, ?it/s]"
      ]
     },
     "metadata": {},
     "output_type": "display_data"
    },
    {
     "data": {
      "application/vnd.jupyter.widget-view+json": {
       "model_id": "ce2603276fb04487ad5d55dbe0d34304",
       "version_major": 2,
       "version_minor": 0
      },
      "text/plain": [
       "Feature collision:   0%|          | 0/10 [00:00<?, ?it/s]"
      ]
     },
     "metadata": {},
     "output_type": "display_data"
    },
    {
     "data": {
      "application/vnd.jupyter.widget-view+json": {
       "model_id": "d0c1796aa0b247ce80150c7aaa3df85b",
       "version_major": 2,
       "version_minor": 0
      },
      "text/plain": [
       "Feature collision:   0%|          | 0/10 [00:00<?, ?it/s]"
      ]
     },
     "metadata": {},
     "output_type": "display_data"
    },
    {
     "data": {
      "application/vnd.jupyter.widget-view+json": {
       "model_id": "f636d05335774d4383bd573f651b045c",
       "version_major": 2,
       "version_minor": 0
      },
      "text/plain": [
       "Feature collision:   0%|          | 0/10 [00:00<?, ?it/s]"
      ]
     },
     "metadata": {},
     "output_type": "display_data"
    },
    {
     "data": {
      "application/vnd.jupyter.widget-view+json": {
       "model_id": "d0834817a26946a0a96c6ddacb18875f",
       "version_major": 2,
       "version_minor": 0
      },
      "text/plain": [
       "Feature collision:   0%|          | 0/10 [00:00<?, ?it/s]"
      ]
     },
     "metadata": {},
     "output_type": "display_data"
    },
    {
     "data": {
      "application/vnd.jupyter.widget-view+json": {
       "model_id": "b7d74b0a264a44beb2665f6d1bb03ad7",
       "version_major": 2,
       "version_minor": 0
      },
      "text/plain": [
       "Feature collision:   0%|          | 0/10 [00:00<?, ?it/s]"
      ]
     },
     "metadata": {},
     "output_type": "display_data"
    },
    {
     "data": {
      "application/vnd.jupyter.widget-view+json": {
       "model_id": "6dfad62abb674f6da8b633704a41fa66",
       "version_major": 2,
       "version_minor": 0
      },
      "text/plain": [
       "Feature collision:   0%|          | 0/10 [00:00<?, ?it/s]"
      ]
     },
     "metadata": {},
     "output_type": "display_data"
    },
    {
     "data": {
      "application/vnd.jupyter.widget-view+json": {
       "model_id": "cbeefcf0013342ff9b6b59892fa43280",
       "version_major": 2,
       "version_minor": 0
      },
      "text/plain": [
       "Feature collision:   0%|          | 0/10 [00:00<?, ?it/s]"
      ]
     },
     "metadata": {},
     "output_type": "display_data"
    },
    {
     "data": {
      "application/vnd.jupyter.widget-view+json": {
       "model_id": "1076baf97c5d458c9f1708f71642ccee",
       "version_major": 2,
       "version_minor": 0
      },
      "text/plain": [
       "Feature collision:   0%|          | 0/10 [00:00<?, ?it/s]"
      ]
     },
     "metadata": {},
     "output_type": "display_data"
    },
    {
     "data": {
      "application/vnd.jupyter.widget-view+json": {
       "model_id": "1d35d281bc3e442ab67e4bbafd53cc0d",
       "version_major": 2,
       "version_minor": 0
      },
      "text/plain": [
       "Feature collision:   0%|          | 0/10 [00:00<?, ?it/s]"
      ]
     },
     "metadata": {},
     "output_type": "display_data"
    },
    {
     "data": {
      "application/vnd.jupyter.widget-view+json": {
       "model_id": "ade599d6c1894d85ac9b7d7ad6dfc81f",
       "version_major": 2,
       "version_minor": 0
      },
      "text/plain": [
       "Feature collision:   0%|          | 0/10 [00:00<?, ?it/s]"
      ]
     },
     "metadata": {},
     "output_type": "display_data"
    },
    {
     "data": {
      "application/vnd.jupyter.widget-view+json": {
       "model_id": "7c4cb3189b944f9faedf61f3e8dcb2de",
       "version_major": 2,
       "version_minor": 0
      },
      "text/plain": [
       "Feature collision:   0%|          | 0/10 [00:00<?, ?it/s]"
      ]
     },
     "metadata": {},
     "output_type": "display_data"
    },
    {
     "data": {
      "application/vnd.jupyter.widget-view+json": {
       "model_id": "10d99496e8594855bca9746f54efe4a5",
       "version_major": 2,
       "version_minor": 0
      },
      "text/plain": [
       "Feature collision:   0%|          | 0/10 [00:00<?, ?it/s]"
      ]
     },
     "metadata": {},
     "output_type": "display_data"
    },
    {
     "data": {
      "application/vnd.jupyter.widget-view+json": {
       "model_id": "3af92c23b37b4a9eb7cb8762fa3f1542",
       "version_major": 2,
       "version_minor": 0
      },
      "text/plain": [
       "Feature collision:   0%|          | 0/10 [00:00<?, ?it/s]"
      ]
     },
     "metadata": {},
     "output_type": "display_data"
    },
    {
     "data": {
      "application/vnd.jupyter.widget-view+json": {
       "model_id": "8d4d5ba61a1e4d98b9bbf31e749eca15",
       "version_major": 2,
       "version_minor": 0
      },
      "text/plain": [
       "Feature collision:   0%|          | 0/10 [00:00<?, ?it/s]"
      ]
     },
     "metadata": {},
     "output_type": "display_data"
    },
    {
     "data": {
      "application/vnd.jupyter.widget-view+json": {
       "model_id": "a80e6521ee474a66ac7603eb4156ce8b",
       "version_major": 2,
       "version_minor": 0
      },
      "text/plain": [
       "Feature collision:   0%|          | 0/10 [00:00<?, ?it/s]"
      ]
     },
     "metadata": {},
     "output_type": "display_data"
    },
    {
     "data": {
      "application/vnd.jupyter.widget-view+json": {
       "model_id": "31d06ff8d12f4c9f90fd1c3cb93b9827",
       "version_major": 2,
       "version_minor": 0
      },
      "text/plain": [
       "Feature collision:   0%|          | 0/10 [00:00<?, ?it/s]"
      ]
     },
     "metadata": {},
     "output_type": "display_data"
    },
    {
     "data": {
      "application/vnd.jupyter.widget-view+json": {
       "model_id": "2aa0a780f56b426abe8c5eb1ea8d8060",
       "version_major": 2,
       "version_minor": 0
      },
      "text/plain": [
       "Feature collision:   0%|          | 0/10 [00:00<?, ?it/s]"
      ]
     },
     "metadata": {},
     "output_type": "display_data"
    },
    {
     "data": {
      "application/vnd.jupyter.widget-view+json": {
       "model_id": "f34d5cf4820841a6bd4fc9e41c660a9b",
       "version_major": 2,
       "version_minor": 0
      },
      "text/plain": [
       "Feature collision:   0%|          | 0/10 [00:00<?, ?it/s]"
      ]
     },
     "metadata": {},
     "output_type": "display_data"
    },
    {
     "data": {
      "application/vnd.jupyter.widget-view+json": {
       "model_id": "22769d45dfe64a61805bcf69fe867f10",
       "version_major": 2,
       "version_minor": 0
      },
      "text/plain": [
       "Feature collision:   0%|          | 0/10 [00:00<?, ?it/s]"
      ]
     },
     "metadata": {},
     "output_type": "display_data"
    },
    {
     "data": {
      "application/vnd.jupyter.widget-view+json": {
       "model_id": "285c9a193059449497d86932e9f52f4c",
       "version_major": 2,
       "version_minor": 0
      },
      "text/plain": [
       "Feature collision:   0%|          | 0/10 [00:00<?, ?it/s]"
      ]
     },
     "metadata": {},
     "output_type": "display_data"
    },
    {
     "data": {
      "application/vnd.jupyter.widget-view+json": {
       "model_id": "2b143ff0d26c498e9701d4119931c5a9",
       "version_major": 2,
       "version_minor": 0
      },
      "text/plain": [
       "Feature collision:   0%|          | 0/10 [00:00<?, ?it/s]"
      ]
     },
     "metadata": {},
     "output_type": "display_data"
    },
    {
     "data": {
      "application/vnd.jupyter.widget-view+json": {
       "model_id": "f37a4da862cd4610a9e693383c96f75e",
       "version_major": 2,
       "version_minor": 0
      },
      "text/plain": [
       "Feature collision:   0%|          | 0/10 [00:00<?, ?it/s]"
      ]
     },
     "metadata": {},
     "output_type": "display_data"
    },
    {
     "data": {
      "application/vnd.jupyter.widget-view+json": {
       "model_id": "47911d71dc0e4ee5a4d778e2679244ae",
       "version_major": 2,
       "version_minor": 0
      },
      "text/plain": [
       "Feature collision:   0%|          | 0/10 [00:00<?, ?it/s]"
      ]
     },
     "metadata": {},
     "output_type": "display_data"
    },
    {
     "data": {
      "application/vnd.jupyter.widget-view+json": {
       "model_id": "ff9feaba626b4f2d8d1b50c976b6ff87",
       "version_major": 2,
       "version_minor": 0
      },
      "text/plain": [
       "Feature collision:   0%|          | 0/10 [00:00<?, ?it/s]"
      ]
     },
     "metadata": {},
     "output_type": "display_data"
    },
    {
     "data": {
      "application/vnd.jupyter.widget-view+json": {
       "model_id": "48b13be96e864f28b16559450f88d155",
       "version_major": 2,
       "version_minor": 0
      },
      "text/plain": [
       "Feature collision:   0%|          | 0/10 [00:00<?, ?it/s]"
      ]
     },
     "metadata": {},
     "output_type": "display_data"
    },
    {
     "data": {
      "application/vnd.jupyter.widget-view+json": {
       "model_id": "04f22362e15a4386baaa0760472f185e",
       "version_major": 2,
       "version_minor": 0
      },
      "text/plain": [
       "Feature collision:   0%|          | 0/10 [00:00<?, ?it/s]"
      ]
     },
     "metadata": {},
     "output_type": "display_data"
    },
    {
     "data": {
      "application/vnd.jupyter.widget-view+json": {
       "model_id": "024ef123bf5748efa368dfbc31b514ff",
       "version_major": 2,
       "version_minor": 0
      },
      "text/plain": [
       "Feature collision:   0%|          | 0/10 [00:00<?, ?it/s]"
      ]
     },
     "metadata": {},
     "output_type": "display_data"
    },
    {
     "data": {
      "application/vnd.jupyter.widget-view+json": {
       "model_id": "cb34f0b9998d4a769732185713d9fa6c",
       "version_major": 2,
       "version_minor": 0
      },
      "text/plain": [
       "Feature collision:   0%|          | 0/10 [00:00<?, ?it/s]"
      ]
     },
     "metadata": {},
     "output_type": "display_data"
    },
    {
     "data": {
      "application/vnd.jupyter.widget-view+json": {
       "model_id": "9b7a6cf2a8dd46008798b1ff08295d4c",
       "version_major": 2,
       "version_minor": 0
      },
      "text/plain": [
       "Feature collision:   0%|          | 0/10 [00:00<?, ?it/s]"
      ]
     },
     "metadata": {},
     "output_type": "display_data"
    },
    {
     "data": {
      "application/vnd.jupyter.widget-view+json": {
       "model_id": "34dd496b35c147a8a2d665c76e2a253d",
       "version_major": 2,
       "version_minor": 0
      },
      "text/plain": [
       "Feature collision:   0%|          | 0/10 [00:00<?, ?it/s]"
      ]
     },
     "metadata": {},
     "output_type": "display_data"
    },
    {
     "data": {
      "application/vnd.jupyter.widget-view+json": {
       "model_id": "8df3e58697a448b39f94b2d2b1c176bb",
       "version_major": 2,
       "version_minor": 0
      },
      "text/plain": [
       "Feature collision:   0%|          | 0/10 [00:00<?, ?it/s]"
      ]
     },
     "metadata": {},
     "output_type": "display_data"
    },
    {
     "data": {
      "application/vnd.jupyter.widget-view+json": {
       "model_id": "166a482008ab40e6aec47c569646c15f",
       "version_major": 2,
       "version_minor": 0
      },
      "text/plain": [
       "Feature collision:   0%|          | 0/10 [00:00<?, ?it/s]"
      ]
     },
     "metadata": {},
     "output_type": "display_data"
    },
    {
     "data": {
      "application/vnd.jupyter.widget-view+json": {
       "model_id": "d056d084c3ac4605a08117018b6c05b6",
       "version_major": 2,
       "version_minor": 0
      },
      "text/plain": [
       "Feature collision:   0%|          | 0/10 [00:00<?, ?it/s]"
      ]
     },
     "metadata": {},
     "output_type": "display_data"
    },
    {
     "data": {
      "application/vnd.jupyter.widget-view+json": {
       "model_id": "313ed0242d144ba7a6547e6a854c3c47",
       "version_major": 2,
       "version_minor": 0
      },
      "text/plain": [
       "Feature collision:   0%|          | 0/10 [00:00<?, ?it/s]"
      ]
     },
     "metadata": {},
     "output_type": "display_data"
    },
    {
     "data": {
      "application/vnd.jupyter.widget-view+json": {
       "model_id": "1373b295a4ba43cb8b7fb57f608d6dc0",
       "version_major": 2,
       "version_minor": 0
      },
      "text/plain": [
       "Feature collision:   0%|          | 0/10 [00:00<?, ?it/s]"
      ]
     },
     "metadata": {},
     "output_type": "display_data"
    },
    {
     "data": {
      "application/vnd.jupyter.widget-view+json": {
       "model_id": "49de55684e404c4aa998ad8cf0d3be92",
       "version_major": 2,
       "version_minor": 0
      },
      "text/plain": [
       "Feature collision:   0%|          | 0/10 [00:00<?, ?it/s]"
      ]
     },
     "metadata": {},
     "output_type": "display_data"
    },
    {
     "data": {
      "application/vnd.jupyter.widget-view+json": {
       "model_id": "3a862b461d8c49e4950cf33c77d10726",
       "version_major": 2,
       "version_minor": 0
      },
      "text/plain": [
       "Feature collision:   0%|          | 0/10 [00:00<?, ?it/s]"
      ]
     },
     "metadata": {},
     "output_type": "display_data"
    },
    {
     "data": {
      "application/vnd.jupyter.widget-view+json": {
       "model_id": "23243fce50df4bcb9115344a76e2d289",
       "version_major": 2,
       "version_minor": 0
      },
      "text/plain": [
       "Feature collision:   0%|          | 0/10 [00:00<?, ?it/s]"
      ]
     },
     "metadata": {},
     "output_type": "display_data"
    },
    {
     "data": {
      "application/vnd.jupyter.widget-view+json": {
       "model_id": "1260c2ba50744792af0460534cb62659",
       "version_major": 2,
       "version_minor": 0
      },
      "text/plain": [
       "Feature collision:   0%|          | 0/10 [00:00<?, ?it/s]"
      ]
     },
     "metadata": {},
     "output_type": "display_data"
    },
    {
     "data": {
      "application/vnd.jupyter.widget-view+json": {
       "model_id": "0dc3aebbe5c14442815743fe65309fa8",
       "version_major": 2,
       "version_minor": 0
      },
      "text/plain": [
       "Feature collision:   0%|          | 0/10 [00:00<?, ?it/s]"
      ]
     },
     "metadata": {},
     "output_type": "display_data"
    },
    {
     "data": {
      "application/vnd.jupyter.widget-view+json": {
       "model_id": "bf8bf6a5173b4a0990bbd57060b2a85d",
       "version_major": 2,
       "version_minor": 0
      },
      "text/plain": [
       "Feature collision:   0%|          | 0/10 [00:00<?, ?it/s]"
      ]
     },
     "metadata": {},
     "output_type": "display_data"
    },
    {
     "data": {
      "application/vnd.jupyter.widget-view+json": {
       "model_id": "cd441c83e6df40358dc360fcbbbf10a4",
       "version_major": 2,
       "version_minor": 0
      },
      "text/plain": [
       "Feature collision:   0%|          | 0/10 [00:00<?, ?it/s]"
      ]
     },
     "metadata": {},
     "output_type": "display_data"
    },
    {
     "data": {
      "application/vnd.jupyter.widget-view+json": {
       "model_id": "59cc818dc87b4852875aa75875d53891",
       "version_major": 2,
       "version_minor": 0
      },
      "text/plain": [
       "Feature collision:   0%|          | 0/10 [00:00<?, ?it/s]"
      ]
     },
     "metadata": {},
     "output_type": "display_data"
    },
    {
     "data": {
      "application/vnd.jupyter.widget-view+json": {
       "model_id": "81f00d9b72f64535a326466a5412724e",
       "version_major": 2,
       "version_minor": 0
      },
      "text/plain": [
       "Feature collision:   0%|          | 0/10 [00:00<?, ?it/s]"
      ]
     },
     "metadata": {},
     "output_type": "display_data"
    },
    {
     "data": {
      "application/vnd.jupyter.widget-view+json": {
       "model_id": "1c585fedbf0948e38e01771601c05a66",
       "version_major": 2,
       "version_minor": 0
      },
      "text/plain": [
       "Feature collision:   0%|          | 0/10 [00:00<?, ?it/s]"
      ]
     },
     "metadata": {},
     "output_type": "display_data"
    },
    {
     "data": {
      "application/vnd.jupyter.widget-view+json": {
       "model_id": "c8645eef5c254b53a7682a07619c49d7",
       "version_major": 2,
       "version_minor": 0
      },
      "text/plain": [
       "Feature collision:   0%|          | 0/10 [00:00<?, ?it/s]"
      ]
     },
     "metadata": {},
     "output_type": "display_data"
    },
    {
     "data": {
      "application/vnd.jupyter.widget-view+json": {
       "model_id": "524a939868e04125bd28872dee9c3310",
       "version_major": 2,
       "version_minor": 0
      },
      "text/plain": [
       "Feature collision:   0%|          | 0/10 [00:00<?, ?it/s]"
      ]
     },
     "metadata": {},
     "output_type": "display_data"
    },
    {
     "data": {
      "application/vnd.jupyter.widget-view+json": {
       "model_id": "161bdd09cc164b8cb138342a6851462e",
       "version_major": 2,
       "version_minor": 0
      },
      "text/plain": [
       "Feature collision:   0%|          | 0/10 [00:00<?, ?it/s]"
      ]
     },
     "metadata": {},
     "output_type": "display_data"
    },
    {
     "data": {
      "application/vnd.jupyter.widget-view+json": {
       "model_id": "f140132d5c104c6a95978821d4942db3",
       "version_major": 2,
       "version_minor": 0
      },
      "text/plain": [
       "Feature collision:   0%|          | 0/10 [00:00<?, ?it/s]"
      ]
     },
     "metadata": {},
     "output_type": "display_data"
    },
    {
     "data": {
      "application/vnd.jupyter.widget-view+json": {
       "model_id": "23bd5b9eb39f42a78429189c83181811",
       "version_major": 2,
       "version_minor": 0
      },
      "text/plain": [
       "Feature collision:   0%|          | 0/10 [00:00<?, ?it/s]"
      ]
     },
     "metadata": {},
     "output_type": "display_data"
    },
    {
     "data": {
      "application/vnd.jupyter.widget-view+json": {
       "model_id": "99f95b72ebba413aaf5397d332abd195",
       "version_major": 2,
       "version_minor": 0
      },
      "text/plain": [
       "Feature collision:   0%|          | 0/10 [00:00<?, ?it/s]"
      ]
     },
     "metadata": {},
     "output_type": "display_data"
    },
    {
     "data": {
      "application/vnd.jupyter.widget-view+json": {
       "model_id": "beb912726dec4d1eb1d47caa4e662223",
       "version_major": 2,
       "version_minor": 0
      },
      "text/plain": [
       "Feature collision:   0%|          | 0/10 [00:00<?, ?it/s]"
      ]
     },
     "metadata": {},
     "output_type": "display_data"
    },
    {
     "data": {
      "application/vnd.jupyter.widget-view+json": {
       "model_id": "d6d33dfe2769454aa08dfcffb50b028a",
       "version_major": 2,
       "version_minor": 0
      },
      "text/plain": [
       "Feature collision:   0%|          | 0/10 [00:00<?, ?it/s]"
      ]
     },
     "metadata": {},
     "output_type": "display_data"
    },
    {
     "data": {
      "application/vnd.jupyter.widget-view+json": {
       "model_id": "b8f9eff291e34f5dbbc0b0cc4cebc784",
       "version_major": 2,
       "version_minor": 0
      },
      "text/plain": [
       "Feature collision:   0%|          | 0/10 [00:00<?, ?it/s]"
      ]
     },
     "metadata": {},
     "output_type": "display_data"
    },
    {
     "data": {
      "application/vnd.jupyter.widget-view+json": {
       "model_id": "0bc4a51cb7f14427b33abb6f2f4609bc",
       "version_major": 2,
       "version_minor": 0
      },
      "text/plain": [
       "Feature collision:   0%|          | 0/10 [00:00<?, ?it/s]"
      ]
     },
     "metadata": {},
     "output_type": "display_data"
    },
    {
     "data": {
      "application/vnd.jupyter.widget-view+json": {
       "model_id": "01ec24526a534ba4bc42e42044129b6e",
       "version_major": 2,
       "version_minor": 0
      },
      "text/plain": [
       "Feature collision:   0%|          | 0/10 [00:00<?, ?it/s]"
      ]
     },
     "metadata": {},
     "output_type": "display_data"
    },
    {
     "data": {
      "application/vnd.jupyter.widget-view+json": {
       "model_id": "d2eb3dbdcad645199175cae55a5868c7",
       "version_major": 2,
       "version_minor": 0
      },
      "text/plain": [
       "Feature collision:   0%|          | 0/10 [00:00<?, ?it/s]"
      ]
     },
     "metadata": {},
     "output_type": "display_data"
    },
    {
     "data": {
      "application/vnd.jupyter.widget-view+json": {
       "model_id": "f4890dc6b3ff4c0f93c0d6340d2e87dd",
       "version_major": 2,
       "version_minor": 0
      },
      "text/plain": [
       "Feature collision:   0%|          | 0/10 [00:00<?, ?it/s]"
      ]
     },
     "metadata": {},
     "output_type": "display_data"
    },
    {
     "data": {
      "application/vnd.jupyter.widget-view+json": {
       "model_id": "f04ddeb75a6743859ca26903cf0e767d",
       "version_major": 2,
       "version_minor": 0
      },
      "text/plain": [
       "Feature collision:   0%|          | 0/10 [00:00<?, ?it/s]"
      ]
     },
     "metadata": {},
     "output_type": "display_data"
    },
    {
     "data": {
      "application/vnd.jupyter.widget-view+json": {
       "model_id": "554c5c86caab494697136bb3cbe933b9",
       "version_major": 2,
       "version_minor": 0
      },
      "text/plain": [
       "Feature collision:   0%|          | 0/10 [00:00<?, ?it/s]"
      ]
     },
     "metadata": {},
     "output_type": "display_data"
    },
    {
     "data": {
      "application/vnd.jupyter.widget-view+json": {
       "model_id": "0541c5cb5d514485b16bb1a10a84ce41",
       "version_major": 2,
       "version_minor": 0
      },
      "text/plain": [
       "Feature collision:   0%|          | 0/10 [00:00<?, ?it/s]"
      ]
     },
     "metadata": {},
     "output_type": "display_data"
    },
    {
     "data": {
      "application/vnd.jupyter.widget-view+json": {
       "model_id": "81b3b7b07fe34a109a69d2461989eb25",
       "version_major": 2,
       "version_minor": 0
      },
      "text/plain": [
       "Feature collision:   0%|          | 0/10 [00:00<?, ?it/s]"
      ]
     },
     "metadata": {},
     "output_type": "display_data"
    },
    {
     "data": {
      "application/vnd.jupyter.widget-view+json": {
       "model_id": "cdaed34215db4bd7a817e8d60d5a3bc3",
       "version_major": 2,
       "version_minor": 0
      },
      "text/plain": [
       "Feature collision:   0%|          | 0/10 [00:00<?, ?it/s]"
      ]
     },
     "metadata": {},
     "output_type": "display_data"
    },
    {
     "data": {
      "application/vnd.jupyter.widget-view+json": {
       "model_id": "185d3e9861964bd38232cd117437bb51",
       "version_major": 2,
       "version_minor": 0
      },
      "text/plain": [
       "Feature collision:   0%|          | 0/10 [00:00<?, ?it/s]"
      ]
     },
     "metadata": {},
     "output_type": "display_data"
    },
    {
     "data": {
      "application/vnd.jupyter.widget-view+json": {
       "model_id": "600072cb45fb456fb87bd4e834b5c384",
       "version_major": 2,
       "version_minor": 0
      },
      "text/plain": [
       "Feature collision:   0%|          | 0/10 [00:00<?, ?it/s]"
      ]
     },
     "metadata": {},
     "output_type": "display_data"
    },
    {
     "data": {
      "application/vnd.jupyter.widget-view+json": {
       "model_id": "7d9368407ff94d4baf6ad0072c0eaf03",
       "version_major": 2,
       "version_minor": 0
      },
      "text/plain": [
       "Feature collision:   0%|          | 0/10 [00:00<?, ?it/s]"
      ]
     },
     "metadata": {},
     "output_type": "display_data"
    },
    {
     "data": {
      "application/vnd.jupyter.widget-view+json": {
       "model_id": "9d74191968cf496c8e048a5d16af2412",
       "version_major": 2,
       "version_minor": 0
      },
      "text/plain": [
       "Feature collision:   0%|          | 0/10 [00:00<?, ?it/s]"
      ]
     },
     "metadata": {},
     "output_type": "display_data"
    },
    {
     "data": {
      "application/vnd.jupyter.widget-view+json": {
       "model_id": "6d5d801b76984d36972b74cec1664809",
       "version_major": 2,
       "version_minor": 0
      },
      "text/plain": [
       "Feature collision:   0%|          | 0/10 [00:00<?, ?it/s]"
      ]
     },
     "metadata": {},
     "output_type": "display_data"
    },
    {
     "data": {
      "application/vnd.jupyter.widget-view+json": {
       "model_id": "52917823f7874e05889a1be1978d1ae6",
       "version_major": 2,
       "version_minor": 0
      },
      "text/plain": [
       "Feature collision:   0%|          | 0/10 [00:00<?, ?it/s]"
      ]
     },
     "metadata": {},
     "output_type": "display_data"
    },
    {
     "data": {
      "application/vnd.jupyter.widget-view+json": {
       "model_id": "99121265d89443989e62f91ca04e5cf3",
       "version_major": 2,
       "version_minor": 0
      },
      "text/plain": [
       "Feature collision:   0%|          | 0/10 [00:00<?, ?it/s]"
      ]
     },
     "metadata": {},
     "output_type": "display_data"
    },
    {
     "data": {
      "application/vnd.jupyter.widget-view+json": {
       "model_id": "6b6735e4996c4ce6aec936c0d6dd93fa",
       "version_major": 2,
       "version_minor": 0
      },
      "text/plain": [
       "Feature collision:   0%|          | 0/10 [00:00<?, ?it/s]"
      ]
     },
     "metadata": {},
     "output_type": "display_data"
    },
    {
     "data": {
      "application/vnd.jupyter.widget-view+json": {
       "model_id": "1a7b6f13b9754717926a0127e8d0a484",
       "version_major": 2,
       "version_minor": 0
      },
      "text/plain": [
       "Feature collision:   0%|          | 0/10 [00:00<?, ?it/s]"
      ]
     },
     "metadata": {},
     "output_type": "display_data"
    },
    {
     "data": {
      "application/vnd.jupyter.widget-view+json": {
       "model_id": "22207a85ae4d4505b0c822dfe5d245ab",
       "version_major": 2,
       "version_minor": 0
      },
      "text/plain": [
       "Feature collision:   0%|          | 0/10 [00:00<?, ?it/s]"
      ]
     },
     "metadata": {},
     "output_type": "display_data"
    },
    {
     "data": {
      "application/vnd.jupyter.widget-view+json": {
       "model_id": "5fe8d0482cf34ab29b734107747f37c0",
       "version_major": 2,
       "version_minor": 0
      },
      "text/plain": [
       "Feature collision:   0%|          | 0/10 [00:00<?, ?it/s]"
      ]
     },
     "metadata": {},
     "output_type": "display_data"
    },
    {
     "data": {
      "application/vnd.jupyter.widget-view+json": {
       "model_id": "6980634b18274de6acdede86f482d926",
       "version_major": 2,
       "version_minor": 0
      },
      "text/plain": [
       "Feature collision:   0%|          | 0/10 [00:00<?, ?it/s]"
      ]
     },
     "metadata": {},
     "output_type": "display_data"
    },
    {
     "data": {
      "application/vnd.jupyter.widget-view+json": {
       "model_id": "8d096d099eda4c689e749923b7d55248",
       "version_major": 2,
       "version_minor": 0
      },
      "text/plain": [
       "Feature collision:   0%|          | 0/10 [00:00<?, ?it/s]"
      ]
     },
     "metadata": {},
     "output_type": "display_data"
    },
    {
     "data": {
      "application/vnd.jupyter.widget-view+json": {
       "model_id": "0148b2bbdf0c40a89b028c888b230aea",
       "version_major": 2,
       "version_minor": 0
      },
      "text/plain": [
       "Feature collision:   0%|          | 0/10 [00:00<?, ?it/s]"
      ]
     },
     "metadata": {},
     "output_type": "display_data"
    },
    {
     "data": {
      "application/vnd.jupyter.widget-view+json": {
       "model_id": "1afff1aa81d64f899fb8d9f1db4e3aec",
       "version_major": 2,
       "version_minor": 0
      },
      "text/plain": [
       "Feature collision:   0%|          | 0/10 [00:00<?, ?it/s]"
      ]
     },
     "metadata": {},
     "output_type": "display_data"
    },
    {
     "data": {
      "application/vnd.jupyter.widget-view+json": {
       "model_id": "2137ae489e56430a91674858fa644f74",
       "version_major": 2,
       "version_minor": 0
      },
      "text/plain": [
       "Feature collision:   0%|          | 0/10 [00:00<?, ?it/s]"
      ]
     },
     "metadata": {},
     "output_type": "display_data"
    },
    {
     "data": {
      "application/vnd.jupyter.widget-view+json": {
       "model_id": "d1788800ac184a318d57fb1ed9bd16f2",
       "version_major": 2,
       "version_minor": 0
      },
      "text/plain": [
       "Feature collision:   0%|          | 0/10 [00:00<?, ?it/s]"
      ]
     },
     "metadata": {},
     "output_type": "display_data"
    },
    {
     "data": {
      "application/vnd.jupyter.widget-view+json": {
       "model_id": "5a497368d3054c5eb4b8743aa37eb613",
       "version_major": 2,
       "version_minor": 0
      },
      "text/plain": [
       "Feature collision:   0%|          | 0/10 [00:00<?, ?it/s]"
      ]
     },
     "metadata": {},
     "output_type": "display_data"
    },
    {
     "data": {
      "application/vnd.jupyter.widget-view+json": {
       "model_id": "564ed5b8932640b9ad0ca956144e7ff9",
       "version_major": 2,
       "version_minor": 0
      },
      "text/plain": [
       "Feature collision:   0%|          | 0/10 [00:00<?, ?it/s]"
      ]
     },
     "metadata": {},
     "output_type": "display_data"
    },
    {
     "data": {
      "application/vnd.jupyter.widget-view+json": {
       "model_id": "3ab0e43aeb9e45eaa045b1daeadbbf9f",
       "version_major": 2,
       "version_minor": 0
      },
      "text/plain": [
       "Feature collision:   0%|          | 0/10 [00:00<?, ?it/s]"
      ]
     },
     "metadata": {},
     "output_type": "display_data"
    },
    {
     "data": {
      "application/vnd.jupyter.widget-view+json": {
       "model_id": "7eadfd1b9b58433c85364b24790ab91c",
       "version_major": 2,
       "version_minor": 0
      },
      "text/plain": [
       "Feature collision:   0%|          | 0/10 [00:00<?, ?it/s]"
      ]
     },
     "metadata": {},
     "output_type": "display_data"
    },
    {
     "data": {
      "application/vnd.jupyter.widget-view+json": {
       "model_id": "f9d94923a8bf4258a1b23909b43ee143",
       "version_major": 2,
       "version_minor": 0
      },
      "text/plain": [
       "Feature collision:   0%|          | 0/10 [00:00<?, ?it/s]"
      ]
     },
     "metadata": {},
     "output_type": "display_data"
    },
    {
     "data": {
      "application/vnd.jupyter.widget-view+json": {
       "model_id": "ba6a09b6f64b48fab0e1e4ef43aa7fb8",
       "version_major": 2,
       "version_minor": 0
      },
      "text/plain": [
       "Feature collision:   0%|          | 0/10 [00:00<?, ?it/s]"
      ]
     },
     "metadata": {},
     "output_type": "display_data"
    },
    {
     "data": {
      "application/vnd.jupyter.widget-view+json": {
       "model_id": "a59e374c98034971ae4fd85b2e534610",
       "version_major": 2,
       "version_minor": 0
      },
      "text/plain": [
       "Feature collision:   0%|          | 0/10 [00:00<?, ?it/s]"
      ]
     },
     "metadata": {},
     "output_type": "display_data"
    },
    {
     "data": {
      "application/vnd.jupyter.widget-view+json": {
       "model_id": "9e6bebb94cc84fc689f23e44d2677f0b",
       "version_major": 2,
       "version_minor": 0
      },
      "text/plain": [
       "Feature collision:   0%|          | 0/10 [00:00<?, ?it/s]"
      ]
     },
     "metadata": {},
     "output_type": "display_data"
    },
    {
     "data": {
      "application/vnd.jupyter.widget-view+json": {
       "model_id": "6cb3aa637afe4345bc3c4a7a1a572759",
       "version_major": 2,
       "version_minor": 0
      },
      "text/plain": [
       "Feature collision:   0%|          | 0/10 [00:00<?, ?it/s]"
      ]
     },
     "metadata": {},
     "output_type": "display_data"
    },
    {
     "data": {
      "application/vnd.jupyter.widget-view+json": {
       "model_id": "56734ed0807c4961b3a56919d2f7d6fa",
       "version_major": 2,
       "version_minor": 0
      },
      "text/plain": [
       "Feature collision:   0%|          | 0/10 [00:00<?, ?it/s]"
      ]
     },
     "metadata": {},
     "output_type": "display_data"
    },
    {
     "data": {
      "application/vnd.jupyter.widget-view+json": {
       "model_id": "75564bc69af146ab928a53b655a68d62",
       "version_major": 2,
       "version_minor": 0
      },
      "text/plain": [
       "Feature collision:   0%|          | 0/10 [00:00<?, ?it/s]"
      ]
     },
     "metadata": {},
     "output_type": "display_data"
    },
    {
     "data": {
      "application/vnd.jupyter.widget-view+json": {
       "model_id": "975c2d933b584d1183bbdca93da9af85",
       "version_major": 2,
       "version_minor": 0
      },
      "text/plain": [
       "Feature collision:   0%|          | 0/10 [00:00<?, ?it/s]"
      ]
     },
     "metadata": {},
     "output_type": "display_data"
    },
    {
     "data": {
      "application/vnd.jupyter.widget-view+json": {
       "model_id": "faf1618c0cae4c90b7c475c48948af82",
       "version_major": 2,
       "version_minor": 0
      },
      "text/plain": [
       "Feature collision:   0%|          | 0/10 [00:00<?, ?it/s]"
      ]
     },
     "metadata": {},
     "output_type": "display_data"
    },
    {
     "data": {
      "application/vnd.jupyter.widget-view+json": {
       "model_id": "11ab865aae6e49a08eec62882bd0f778",
       "version_major": 2,
       "version_minor": 0
      },
      "text/plain": [
       "Feature collision:   0%|          | 0/10 [00:00<?, ?it/s]"
      ]
     },
     "metadata": {},
     "output_type": "display_data"
    },
    {
     "data": {
      "application/vnd.jupyter.widget-view+json": {
       "model_id": "dd7b0af5cfd141c2bf4f5ba3abce4fb0",
       "version_major": 2,
       "version_minor": 0
      },
      "text/plain": [
       "Feature collision:   0%|          | 0/10 [00:00<?, ?it/s]"
      ]
     },
     "metadata": {},
     "output_type": "display_data"
    },
    {
     "data": {
      "application/vnd.jupyter.widget-view+json": {
       "model_id": "0758fdd4de914de99fec1fb19b4a80e2",
       "version_major": 2,
       "version_minor": 0
      },
      "text/plain": [
       "Feature collision:   0%|          | 0/10 [00:00<?, ?it/s]"
      ]
     },
     "metadata": {},
     "output_type": "display_data"
    },
    {
     "data": {
      "application/vnd.jupyter.widget-view+json": {
       "model_id": "6e6a9cbf507a475dbcd65a84a6f437f6",
       "version_major": 2,
       "version_minor": 0
      },
      "text/plain": [
       "Feature collision:   0%|          | 0/10 [00:00<?, ?it/s]"
      ]
     },
     "metadata": {},
     "output_type": "display_data"
    },
    {
     "data": {
      "application/vnd.jupyter.widget-view+json": {
       "model_id": "cef24077da3f4f18b37e1ad641523200",
       "version_major": 2,
       "version_minor": 0
      },
      "text/plain": [
       "Feature collision:   0%|          | 0/10 [00:00<?, ?it/s]"
      ]
     },
     "metadata": {},
     "output_type": "display_data"
    },
    {
     "data": {
      "application/vnd.jupyter.widget-view+json": {
       "model_id": "7669189fa4f84eda8bda628fcdf8871e",
       "version_major": 2,
       "version_minor": 0
      },
      "text/plain": [
       "Feature collision:   0%|          | 0/10 [00:00<?, ?it/s]"
      ]
     },
     "metadata": {},
     "output_type": "display_data"
    },
    {
     "data": {
      "application/vnd.jupyter.widget-view+json": {
       "model_id": "42831d1e65c94cbb80f47809fa942e4a",
       "version_major": 2,
       "version_minor": 0
      },
      "text/plain": [
       "Feature collision:   0%|          | 0/10 [00:00<?, ?it/s]"
      ]
     },
     "metadata": {},
     "output_type": "display_data"
    },
    {
     "data": {
      "application/vnd.jupyter.widget-view+json": {
       "model_id": "5923e8abca1c4bbc8ad1f3ba001e95c5",
       "version_major": 2,
       "version_minor": 0
      },
      "text/plain": [
       "Feature collision:   0%|          | 0/10 [00:00<?, ?it/s]"
      ]
     },
     "metadata": {},
     "output_type": "display_data"
    },
    {
     "data": {
      "application/vnd.jupyter.widget-view+json": {
       "model_id": "8542a68298874ea9b53ee20d9c41e48d",
       "version_major": 2,
       "version_minor": 0
      },
      "text/plain": [
       "Feature collision:   0%|          | 0/10 [00:00<?, ?it/s]"
      ]
     },
     "metadata": {},
     "output_type": "display_data"
    },
    {
     "data": {
      "application/vnd.jupyter.widget-view+json": {
       "model_id": "aa9a89bba3424dac9d50560c26e1ea07",
       "version_major": 2,
       "version_minor": 0
      },
      "text/plain": [
       "Feature collision:   0%|          | 0/10 [00:00<?, ?it/s]"
      ]
     },
     "metadata": {},
     "output_type": "display_data"
    },
    {
     "data": {
      "application/vnd.jupyter.widget-view+json": {
       "model_id": "f141ffb53e79451098e56ea9f6d5e710",
       "version_major": 2,
       "version_minor": 0
      },
      "text/plain": [
       "Feature collision:   0%|          | 0/10 [00:00<?, ?it/s]"
      ]
     },
     "metadata": {},
     "output_type": "display_data"
    },
    {
     "data": {
      "application/vnd.jupyter.widget-view+json": {
       "model_id": "3c467afc9f4448bcae0ef3c4d89e0c3b",
       "version_major": 2,
       "version_minor": 0
      },
      "text/plain": [
       "Feature collision:   0%|          | 0/10 [00:00<?, ?it/s]"
      ]
     },
     "metadata": {},
     "output_type": "display_data"
    },
    {
     "data": {
      "application/vnd.jupyter.widget-view+json": {
       "model_id": "dc4041393c6b480c9afe25e555d641de",
       "version_major": 2,
       "version_minor": 0
      },
      "text/plain": [
       "Feature collision:   0%|          | 0/10 [00:00<?, ?it/s]"
      ]
     },
     "metadata": {},
     "output_type": "display_data"
    },
    {
     "data": {
      "application/vnd.jupyter.widget-view+json": {
       "model_id": "e9a86c164a474dac935171385e78a6ad",
       "version_major": 2,
       "version_minor": 0
      },
      "text/plain": [
       "Feature collision:   0%|          | 0/10 [00:00<?, ?it/s]"
      ]
     },
     "metadata": {},
     "output_type": "display_data"
    },
    {
     "data": {
      "application/vnd.jupyter.widget-view+json": {
       "model_id": "4e7fb83990d94da4aa8a9a1c69f0166e",
       "version_major": 2,
       "version_minor": 0
      },
      "text/plain": [
       "Feature collision:   0%|          | 0/10 [00:00<?, ?it/s]"
      ]
     },
     "metadata": {},
     "output_type": "display_data"
    },
    {
     "data": {
      "application/vnd.jupyter.widget-view+json": {
       "model_id": "e5d8c27c27cf4b208dd132d27dc57190",
       "version_major": 2,
       "version_minor": 0
      },
      "text/plain": [
       "Feature collision:   0%|          | 0/10 [00:00<?, ?it/s]"
      ]
     },
     "metadata": {},
     "output_type": "display_data"
    },
    {
     "data": {
      "application/vnd.jupyter.widget-view+json": {
       "model_id": "2b2d63da426d47f3a7e3edf86e8a0587",
       "version_major": 2,
       "version_minor": 0
      },
      "text/plain": [
       "Feature collision:   0%|          | 0/10 [00:00<?, ?it/s]"
      ]
     },
     "metadata": {},
     "output_type": "display_data"
    },
    {
     "data": {
      "application/vnd.jupyter.widget-view+json": {
       "model_id": "71233a90027c4d0a8cd507f0dc2778fa",
       "version_major": 2,
       "version_minor": 0
      },
      "text/plain": [
       "Feature collision:   0%|          | 0/10 [00:00<?, ?it/s]"
      ]
     },
     "metadata": {},
     "output_type": "display_data"
    },
    {
     "data": {
      "application/vnd.jupyter.widget-view+json": {
       "model_id": "046ae4d08ef44f48aacdce2c5fbdaaf6",
       "version_major": 2,
       "version_minor": 0
      },
      "text/plain": [
       "Feature collision:   0%|          | 0/10 [00:00<?, ?it/s]"
      ]
     },
     "metadata": {},
     "output_type": "display_data"
    },
    {
     "data": {
      "application/vnd.jupyter.widget-view+json": {
       "model_id": "8fe8bfde0eea445c87fef9104d379667",
       "version_major": 2,
       "version_minor": 0
      },
      "text/plain": [
       "Feature collision:   0%|          | 0/10 [00:00<?, ?it/s]"
      ]
     },
     "metadata": {},
     "output_type": "display_data"
    },
    {
     "data": {
      "application/vnd.jupyter.widget-view+json": {
       "model_id": "98c026f3989c4021860fbdd99c355793",
       "version_major": 2,
       "version_minor": 0
      },
      "text/plain": [
       "Feature collision:   0%|          | 0/10 [00:00<?, ?it/s]"
      ]
     },
     "metadata": {},
     "output_type": "display_data"
    },
    {
     "data": {
      "application/vnd.jupyter.widget-view+json": {
       "model_id": "ee8b9c29ce97441f92fec5e003715b9c",
       "version_major": 2,
       "version_minor": 0
      },
      "text/plain": [
       "Feature collision:   0%|          | 0/10 [00:00<?, ?it/s]"
      ]
     },
     "metadata": {},
     "output_type": "display_data"
    },
    {
     "data": {
      "application/vnd.jupyter.widget-view+json": {
       "model_id": "0c3d72aebe5f4192997dac1d60759938",
       "version_major": 2,
       "version_minor": 0
      },
      "text/plain": [
       "Feature collision:   0%|          | 0/10 [00:00<?, ?it/s]"
      ]
     },
     "metadata": {},
     "output_type": "display_data"
    },
    {
     "data": {
      "application/vnd.jupyter.widget-view+json": {
       "model_id": "44d7b1d56dca4799b5bc8fd543b55ba9",
       "version_major": 2,
       "version_minor": 0
      },
      "text/plain": [
       "Feature collision:   0%|          | 0/10 [00:00<?, ?it/s]"
      ]
     },
     "metadata": {},
     "output_type": "display_data"
    },
    {
     "data": {
      "application/vnd.jupyter.widget-view+json": {
       "model_id": "0ad03bcc31d84d2aa14da2fcfcfcf345",
       "version_major": 2,
       "version_minor": 0
      },
      "text/plain": [
       "Feature collision:   0%|          | 0/10 [00:00<?, ?it/s]"
      ]
     },
     "metadata": {},
     "output_type": "display_data"
    },
    {
     "data": {
      "application/vnd.jupyter.widget-view+json": {
       "model_id": "9a3bccaa5e3c45389f2728ecb4da328d",
       "version_major": 2,
       "version_minor": 0
      },
      "text/plain": [
       "Feature collision:   0%|          | 0/10 [00:00<?, ?it/s]"
      ]
     },
     "metadata": {},
     "output_type": "display_data"
    },
    {
     "data": {
      "application/vnd.jupyter.widget-view+json": {
       "model_id": "753aa6066f4e45a4809bc39a61f1657b",
       "version_major": 2,
       "version_minor": 0
      },
      "text/plain": [
       "Feature collision:   0%|          | 0/10 [00:00<?, ?it/s]"
      ]
     },
     "metadata": {},
     "output_type": "display_data"
    },
    {
     "data": {
      "application/vnd.jupyter.widget-view+json": {
       "model_id": "085bcd4800c949b2b6f1e070bb28a3f5",
       "version_major": 2,
       "version_minor": 0
      },
      "text/plain": [
       "Feature collision:   0%|          | 0/10 [00:00<?, ?it/s]"
      ]
     },
     "metadata": {},
     "output_type": "display_data"
    },
    {
     "data": {
      "application/vnd.jupyter.widget-view+json": {
       "model_id": "a6678ec677f742c596cb2f6c81b57941",
       "version_major": 2,
       "version_minor": 0
      },
      "text/plain": [
       "Feature collision:   0%|          | 0/10 [00:00<?, ?it/s]"
      ]
     },
     "metadata": {},
     "output_type": "display_data"
    },
    {
     "data": {
      "application/vnd.jupyter.widget-view+json": {
       "model_id": "7d9624adc4f8485a99ae9dba91d4c802",
       "version_major": 2,
       "version_minor": 0
      },
      "text/plain": [
       "Feature collision:   0%|          | 0/10 [00:00<?, ?it/s]"
      ]
     },
     "metadata": {},
     "output_type": "display_data"
    },
    {
     "data": {
      "application/vnd.jupyter.widget-view+json": {
       "model_id": "f591d0c57d934b1b9710212e8095756f",
       "version_major": 2,
       "version_minor": 0
      },
      "text/plain": [
       "Feature collision:   0%|          | 0/10 [00:00<?, ?it/s]"
      ]
     },
     "metadata": {},
     "output_type": "display_data"
    },
    {
     "data": {
      "application/vnd.jupyter.widget-view+json": {
       "model_id": "89567e521dc44185a80a2a2eb0094567",
       "version_major": 2,
       "version_minor": 0
      },
      "text/plain": [
       "Feature collision:   0%|          | 0/10 [00:00<?, ?it/s]"
      ]
     },
     "metadata": {},
     "output_type": "display_data"
    },
    {
     "data": {
      "application/vnd.jupyter.widget-view+json": {
       "model_id": "3abe8363a52a44b6a91fc0b189fd8c4e",
       "version_major": 2,
       "version_minor": 0
      },
      "text/plain": [
       "Feature collision:   0%|          | 0/10 [00:00<?, ?it/s]"
      ]
     },
     "metadata": {},
     "output_type": "display_data"
    },
    {
     "data": {
      "application/vnd.jupyter.widget-view+json": {
       "model_id": "70357ccbb44f4808ac7807bc00a6d17d",
       "version_major": 2,
       "version_minor": 0
      },
      "text/plain": [
       "Feature collision:   0%|          | 0/10 [00:00<?, ?it/s]"
      ]
     },
     "metadata": {},
     "output_type": "display_data"
    },
    {
     "data": {
      "application/vnd.jupyter.widget-view+json": {
       "model_id": "9e276f32e707494a89a051b327a39b60",
       "version_major": 2,
       "version_minor": 0
      },
      "text/plain": [
       "Feature collision:   0%|          | 0/10 [00:00<?, ?it/s]"
      ]
     },
     "metadata": {},
     "output_type": "display_data"
    },
    {
     "data": {
      "application/vnd.jupyter.widget-view+json": {
       "model_id": "247b8235ff2f471fa276744726382b92",
       "version_major": 2,
       "version_minor": 0
      },
      "text/plain": [
       "Feature collision:   0%|          | 0/10 [00:00<?, ?it/s]"
      ]
     },
     "metadata": {},
     "output_type": "display_data"
    },
    {
     "data": {
      "application/vnd.jupyter.widget-view+json": {
       "model_id": "ea113a28199642a294edc1a5e5dedcb4",
       "version_major": 2,
       "version_minor": 0
      },
      "text/plain": [
       "Feature collision:   0%|          | 0/10 [00:00<?, ?it/s]"
      ]
     },
     "metadata": {},
     "output_type": "display_data"
    },
    {
     "data": {
      "application/vnd.jupyter.widget-view+json": {
       "model_id": "357d7c9895664143aeb3d6978b2eeba4",
       "version_major": 2,
       "version_minor": 0
      },
      "text/plain": [
       "Feature collision:   0%|          | 0/10 [00:00<?, ?it/s]"
      ]
     },
     "metadata": {},
     "output_type": "display_data"
    },
    {
     "data": {
      "application/vnd.jupyter.widget-view+json": {
       "model_id": "735c021537bc47e3a74d627c889dc592",
       "version_major": 2,
       "version_minor": 0
      },
      "text/plain": [
       "Feature collision:   0%|          | 0/10 [00:00<?, ?it/s]"
      ]
     },
     "metadata": {},
     "output_type": "display_data"
    },
    {
     "data": {
      "application/vnd.jupyter.widget-view+json": {
       "model_id": "f1df008c9e9141699080c873c8667207",
       "version_major": 2,
       "version_minor": 0
      },
      "text/plain": [
       "Feature collision:   0%|          | 0/10 [00:00<?, ?it/s]"
      ]
     },
     "metadata": {},
     "output_type": "display_data"
    },
    {
     "data": {
      "application/vnd.jupyter.widget-view+json": {
       "model_id": "2fce0fc9cbf4413a91d596db44a6242c",
       "version_major": 2,
       "version_minor": 0
      },
      "text/plain": [
       "Feature collision:   0%|          | 0/10 [00:00<?, ?it/s]"
      ]
     },
     "metadata": {},
     "output_type": "display_data"
    },
    {
     "data": {
      "application/vnd.jupyter.widget-view+json": {
       "model_id": "7bfc42c7d1ff4ca5ad96015ffd734221",
       "version_major": 2,
       "version_minor": 0
      },
      "text/plain": [
       "Feature collision:   0%|          | 0/10 [00:00<?, ?it/s]"
      ]
     },
     "metadata": {},
     "output_type": "display_data"
    },
    {
     "data": {
      "application/vnd.jupyter.widget-view+json": {
       "model_id": "c9d0f76243d3489a90f10744efe0addf",
       "version_major": 2,
       "version_minor": 0
      },
      "text/plain": [
       "Feature collision:   0%|          | 0/10 [00:00<?, ?it/s]"
      ]
     },
     "metadata": {},
     "output_type": "display_data"
    },
    {
     "data": {
      "application/vnd.jupyter.widget-view+json": {
       "model_id": "f52d2e6b4f2d414bad55df2e3d7defd8",
       "version_major": 2,
       "version_minor": 0
      },
      "text/plain": [
       "Feature collision:   0%|          | 0/10 [00:00<?, ?it/s]"
      ]
     },
     "metadata": {},
     "output_type": "display_data"
    },
    {
     "data": {
      "application/vnd.jupyter.widget-view+json": {
       "model_id": "73a6b89f62794e0096466a3d2703dbdb",
       "version_major": 2,
       "version_minor": 0
      },
      "text/plain": [
       "Feature collision:   0%|          | 0/10 [00:00<?, ?it/s]"
      ]
     },
     "metadata": {},
     "output_type": "display_data"
    },
    {
     "data": {
      "application/vnd.jupyter.widget-view+json": {
       "model_id": "d617af07b2614dc4874def51743b2c5d",
       "version_major": 2,
       "version_minor": 0
      },
      "text/plain": [
       "Feature collision:   0%|          | 0/10 [00:00<?, ?it/s]"
      ]
     },
     "metadata": {},
     "output_type": "display_data"
    },
    {
     "data": {
      "application/vnd.jupyter.widget-view+json": {
       "model_id": "43005cd8bd3e4b8bbaca415a081a8cdd",
       "version_major": 2,
       "version_minor": 0
      },
      "text/plain": [
       "Feature collision:   0%|          | 0/10 [00:00<?, ?it/s]"
      ]
     },
     "metadata": {},
     "output_type": "display_data"
    },
    {
     "data": {
      "application/vnd.jupyter.widget-view+json": {
       "model_id": "16c9d8239a95475fa764735061730a53",
       "version_major": 2,
       "version_minor": 0
      },
      "text/plain": [
       "Feature collision:   0%|          | 0/10 [00:00<?, ?it/s]"
      ]
     },
     "metadata": {},
     "output_type": "display_data"
    },
    {
     "data": {
      "application/vnd.jupyter.widget-view+json": {
       "model_id": "c535f840d5764b04a332c84f7df0c3e8",
       "version_major": 2,
       "version_minor": 0
      },
      "text/plain": [
       "Feature collision:   0%|          | 0/10 [00:00<?, ?it/s]"
      ]
     },
     "metadata": {},
     "output_type": "display_data"
    },
    {
     "data": {
      "application/vnd.jupyter.widget-view+json": {
       "model_id": "072bdf46bd154f5da74a00c06fe3f799",
       "version_major": 2,
       "version_minor": 0
      },
      "text/plain": [
       "Feature collision:   0%|          | 0/10 [00:00<?, ?it/s]"
      ]
     },
     "metadata": {},
     "output_type": "display_data"
    },
    {
     "data": {
      "application/vnd.jupyter.widget-view+json": {
       "model_id": "daecb1cbb7c5410091c32a0212b9ad4a",
       "version_major": 2,
       "version_minor": 0
      },
      "text/plain": [
       "Feature collision:   0%|          | 0/10 [00:00<?, ?it/s]"
      ]
     },
     "metadata": {},
     "output_type": "display_data"
    },
    {
     "data": {
      "application/vnd.jupyter.widget-view+json": {
       "model_id": "d6a5d124d7dd4718a19b479787dd93f7",
       "version_major": 2,
       "version_minor": 0
      },
      "text/plain": [
       "Feature collision:   0%|          | 0/10 [00:00<?, ?it/s]"
      ]
     },
     "metadata": {},
     "output_type": "display_data"
    },
    {
     "data": {
      "application/vnd.jupyter.widget-view+json": {
       "model_id": "69b0c84d5f56482287aab9f54c1b2c34",
       "version_major": 2,
       "version_minor": 0
      },
      "text/plain": [
       "Feature collision:   0%|          | 0/10 [00:00<?, ?it/s]"
      ]
     },
     "metadata": {},
     "output_type": "display_data"
    },
    {
     "data": {
      "application/vnd.jupyter.widget-view+json": {
       "model_id": "3b2845474fc341b6b30acce7cfa2e758",
       "version_major": 2,
       "version_minor": 0
      },
      "text/plain": [
       "Feature collision:   0%|          | 0/10 [00:00<?, ?it/s]"
      ]
     },
     "metadata": {},
     "output_type": "display_data"
    },
    {
     "data": {
      "application/vnd.jupyter.widget-view+json": {
       "model_id": "7f28c72be6d04e2581fa2a02c4749fb4",
       "version_major": 2,
       "version_minor": 0
      },
      "text/plain": [
       "Feature collision:   0%|          | 0/10 [00:00<?, ?it/s]"
      ]
     },
     "metadata": {},
     "output_type": "display_data"
    },
    {
     "data": {
      "application/vnd.jupyter.widget-view+json": {
       "model_id": "6f5a910397bf45bab0f43f6a8ba838a4",
       "version_major": 2,
       "version_minor": 0
      },
      "text/plain": [
       "Feature collision:   0%|          | 0/10 [00:00<?, ?it/s]"
      ]
     },
     "metadata": {},
     "output_type": "display_data"
    },
    {
     "data": {
      "application/vnd.jupyter.widget-view+json": {
       "model_id": "6b1816be8e5a41c0a29d972597ba5232",
       "version_major": 2,
       "version_minor": 0
      },
      "text/plain": [
       "Feature collision:   0%|          | 0/10 [00:00<?, ?it/s]"
      ]
     },
     "metadata": {},
     "output_type": "display_data"
    },
    {
     "data": {
      "application/vnd.jupyter.widget-view+json": {
       "model_id": "772a222fcece437fa6b78d64891c658f",
       "version_major": 2,
       "version_minor": 0
      },
      "text/plain": [
       "Feature collision:   0%|          | 0/10 [00:00<?, ?it/s]"
      ]
     },
     "metadata": {},
     "output_type": "display_data"
    },
    {
     "data": {
      "application/vnd.jupyter.widget-view+json": {
       "model_id": "2e57e5466e804d9182693dc32320a1e3",
       "version_major": 2,
       "version_minor": 0
      },
      "text/plain": [
       "Feature collision:   0%|          | 0/10 [00:00<?, ?it/s]"
      ]
     },
     "metadata": {},
     "output_type": "display_data"
    },
    {
     "data": {
      "application/vnd.jupyter.widget-view+json": {
       "model_id": "e3143a16769b485e9c9b97830b9b351b",
       "version_major": 2,
       "version_minor": 0
      },
      "text/plain": [
       "Feature collision:   0%|          | 0/10 [00:00<?, ?it/s]"
      ]
     },
     "metadata": {},
     "output_type": "display_data"
    },
    {
     "data": {
      "application/vnd.jupyter.widget-view+json": {
       "model_id": "c9ca3d3673d44c5186cd1815f08bfc81",
       "version_major": 2,
       "version_minor": 0
      },
      "text/plain": [
       "Feature collision:   0%|          | 0/10 [00:00<?, ?it/s]"
      ]
     },
     "metadata": {},
     "output_type": "display_data"
    },
    {
     "data": {
      "application/vnd.jupyter.widget-view+json": {
       "model_id": "d612c2f0916f430985507f7b86969a04",
       "version_major": 2,
       "version_minor": 0
      },
      "text/plain": [
       "Feature collision:   0%|          | 0/10 [00:00<?, ?it/s]"
      ]
     },
     "metadata": {},
     "output_type": "display_data"
    },
    {
     "data": {
      "application/vnd.jupyter.widget-view+json": {
       "model_id": "ba351e551c704417ad1b98aede04fab6",
       "version_major": 2,
       "version_minor": 0
      },
      "text/plain": [
       "Feature collision:   0%|          | 0/10 [00:00<?, ?it/s]"
      ]
     },
     "metadata": {},
     "output_type": "display_data"
    },
    {
     "data": {
      "application/vnd.jupyter.widget-view+json": {
       "model_id": "2f6eeb2cdf7544aaacf06cef16c18e56",
       "version_major": 2,
       "version_minor": 0
      },
      "text/plain": [
       "Feature collision:   0%|          | 0/10 [00:00<?, ?it/s]"
      ]
     },
     "metadata": {},
     "output_type": "display_data"
    },
    {
     "data": {
      "application/vnd.jupyter.widget-view+json": {
       "model_id": "16e52340a50a4145b7c3f1f663dacf07",
       "version_major": 2,
       "version_minor": 0
      },
      "text/plain": [
       "Feature collision:   0%|          | 0/10 [00:00<?, ?it/s]"
      ]
     },
     "metadata": {},
     "output_type": "display_data"
    },
    {
     "data": {
      "application/vnd.jupyter.widget-view+json": {
       "model_id": "fdfbdcd5e1dd454996423c4f6113bfc4",
       "version_major": 2,
       "version_minor": 0
      },
      "text/plain": [
       "Feature collision:   0%|          | 0/10 [00:00<?, ?it/s]"
      ]
     },
     "metadata": {},
     "output_type": "display_data"
    },
    {
     "data": {
      "application/vnd.jupyter.widget-view+json": {
       "model_id": "877e3c76df1745dd8eab35592c76f4ac",
       "version_major": 2,
       "version_minor": 0
      },
      "text/plain": [
       "Feature collision:   0%|          | 0/10 [00:00<?, ?it/s]"
      ]
     },
     "metadata": {},
     "output_type": "display_data"
    },
    {
     "data": {
      "application/vnd.jupyter.widget-view+json": {
       "model_id": "eb49b99cc10b4b1887098acfe8e98a86",
       "version_major": 2,
       "version_minor": 0
      },
      "text/plain": [
       "Feature collision:   0%|          | 0/10 [00:00<?, ?it/s]"
      ]
     },
     "metadata": {},
     "output_type": "display_data"
    },
    {
     "data": {
      "application/vnd.jupyter.widget-view+json": {
       "model_id": "abb1c3ffe5a64d1aa6bb41345c37e310",
       "version_major": 2,
       "version_minor": 0
      },
      "text/plain": [
       "Feature collision:   0%|          | 0/10 [00:00<?, ?it/s]"
      ]
     },
     "metadata": {},
     "output_type": "display_data"
    },
    {
     "data": {
      "application/vnd.jupyter.widget-view+json": {
       "model_id": "6960c833d4da4ef2a28c9f2edfdc904d",
       "version_major": 2,
       "version_minor": 0
      },
      "text/plain": [
       "Feature collision:   0%|          | 0/10 [00:00<?, ?it/s]"
      ]
     },
     "metadata": {},
     "output_type": "display_data"
    },
    {
     "data": {
      "application/vnd.jupyter.widget-view+json": {
       "model_id": "0bc3c479c6a54c9eb06b753d8b51e3d0",
       "version_major": 2,
       "version_minor": 0
      },
      "text/plain": [
       "Feature collision:   0%|          | 0/10 [00:00<?, ?it/s]"
      ]
     },
     "metadata": {},
     "output_type": "display_data"
    },
    {
     "data": {
      "application/vnd.jupyter.widget-view+json": {
       "model_id": "4928c52d1dc54e1e82704e620cabf133",
       "version_major": 2,
       "version_minor": 0
      },
      "text/plain": [
       "Feature collision:   0%|          | 0/10 [00:00<?, ?it/s]"
      ]
     },
     "metadata": {},
     "output_type": "display_data"
    },
    {
     "data": {
      "application/vnd.jupyter.widget-view+json": {
       "model_id": "74038ac69a744d14a1ff4bc5ce764afc",
       "version_major": 2,
       "version_minor": 0
      },
      "text/plain": [
       "Feature collision:   0%|          | 0/10 [00:00<?, ?it/s]"
      ]
     },
     "metadata": {},
     "output_type": "display_data"
    },
    {
     "data": {
      "application/vnd.jupyter.widget-view+json": {
       "model_id": "838dcf13e9ae4e47aeee5830771b26c1",
       "version_major": 2,
       "version_minor": 0
      },
      "text/plain": [
       "Feature collision:   0%|          | 0/10 [00:00<?, ?it/s]"
      ]
     },
     "metadata": {},
     "output_type": "display_data"
    },
    {
     "data": {
      "application/vnd.jupyter.widget-view+json": {
       "model_id": "88ef63173a65461291efd2e106e4e801",
       "version_major": 2,
       "version_minor": 0
      },
      "text/plain": [
       "Feature collision:   0%|          | 0/10 [00:00<?, ?it/s]"
      ]
     },
     "metadata": {},
     "output_type": "display_data"
    },
    {
     "data": {
      "application/vnd.jupyter.widget-view+json": {
       "model_id": "995ab1a0a18046a581a20617a6a6de94",
       "version_major": 2,
       "version_minor": 0
      },
      "text/plain": [
       "Feature collision:   0%|          | 0/10 [00:00<?, ?it/s]"
      ]
     },
     "metadata": {},
     "output_type": "display_data"
    },
    {
     "data": {
      "application/vnd.jupyter.widget-view+json": {
       "model_id": "4990382e9ec24f119e57862cdee126f3",
       "version_major": 2,
       "version_minor": 0
      },
      "text/plain": [
       "Feature collision:   0%|          | 0/10 [00:00<?, ?it/s]"
      ]
     },
     "metadata": {},
     "output_type": "display_data"
    },
    {
     "data": {
      "application/vnd.jupyter.widget-view+json": {
       "model_id": "5e556118d295498ab351760515cf1847",
       "version_major": 2,
       "version_minor": 0
      },
      "text/plain": [
       "Feature collision:   0%|          | 0/10 [00:00<?, ?it/s]"
      ]
     },
     "metadata": {},
     "output_type": "display_data"
    },
    {
     "data": {
      "application/vnd.jupyter.widget-view+json": {
       "model_id": "fd94af6502a042129a4b47d8ecc15155",
       "version_major": 2,
       "version_minor": 0
      },
      "text/plain": [
       "Feature collision:   0%|          | 0/10 [00:00<?, ?it/s]"
      ]
     },
     "metadata": {},
     "output_type": "display_data"
    },
    {
     "data": {
      "application/vnd.jupyter.widget-view+json": {
       "model_id": "6b70d36b1bb84ef193cff105036dc1ae",
       "version_major": 2,
       "version_minor": 0
      },
      "text/plain": [
       "Feature collision:   0%|          | 0/10 [00:00<?, ?it/s]"
      ]
     },
     "metadata": {},
     "output_type": "display_data"
    },
    {
     "data": {
      "application/vnd.jupyter.widget-view+json": {
       "model_id": "6c72a7194fdd4c4ea8cfb1a5ab58674e",
       "version_major": 2,
       "version_minor": 0
      },
      "text/plain": [
       "Feature collision:   0%|          | 0/10 [00:00<?, ?it/s]"
      ]
     },
     "metadata": {},
     "output_type": "display_data"
    },
    {
     "data": {
      "application/vnd.jupyter.widget-view+json": {
       "model_id": "d78aee09efe44c9380c6cb6c8db792bf",
       "version_major": 2,
       "version_minor": 0
      },
      "text/plain": [
       "Feature collision:   0%|          | 0/10 [00:00<?, ?it/s]"
      ]
     },
     "metadata": {},
     "output_type": "display_data"
    },
    {
     "data": {
      "application/vnd.jupyter.widget-view+json": {
       "model_id": "77d56252d4de4b89a6581f66718367ac",
       "version_major": 2,
       "version_minor": 0
      },
      "text/plain": [
       "Feature collision:   0%|          | 0/10 [00:00<?, ?it/s]"
      ]
     },
     "metadata": {},
     "output_type": "display_data"
    },
    {
     "data": {
      "application/vnd.jupyter.widget-view+json": {
       "model_id": "b5d570170699482c849403e82f5b12af",
       "version_major": 2,
       "version_minor": 0
      },
      "text/plain": [
       "Feature collision:   0%|          | 0/10 [00:00<?, ?it/s]"
      ]
     },
     "metadata": {},
     "output_type": "display_data"
    },
    {
     "data": {
      "application/vnd.jupyter.widget-view+json": {
       "model_id": "1f04afb72ab4461fb3fbda5037ff850c",
       "version_major": 2,
       "version_minor": 0
      },
      "text/plain": [
       "Feature collision:   0%|          | 0/10 [00:00<?, ?it/s]"
      ]
     },
     "metadata": {},
     "output_type": "display_data"
    },
    {
     "data": {
      "application/vnd.jupyter.widget-view+json": {
       "model_id": "8111b676dca349348fbe941eeb956d4f",
       "version_major": 2,
       "version_minor": 0
      },
      "text/plain": [
       "Feature collision:   0%|          | 0/10 [00:00<?, ?it/s]"
      ]
     },
     "metadata": {},
     "output_type": "display_data"
    },
    {
     "data": {
      "application/vnd.jupyter.widget-view+json": {
       "model_id": "fbb8ba6131f54d6fa1ab926aa99114e9",
       "version_major": 2,
       "version_minor": 0
      },
      "text/plain": [
       "Feature collision:   0%|          | 0/10 [00:00<?, ?it/s]"
      ]
     },
     "metadata": {},
     "output_type": "display_data"
    },
    {
     "data": {
      "application/vnd.jupyter.widget-view+json": {
       "model_id": "f98eccd00ced4e20803ffbfc9bd2ca85",
       "version_major": 2,
       "version_minor": 0
      },
      "text/plain": [
       "Feature collision:   0%|          | 0/10 [00:00<?, ?it/s]"
      ]
     },
     "metadata": {},
     "output_type": "display_data"
    },
    {
     "data": {
      "application/vnd.jupyter.widget-view+json": {
       "model_id": "9571d2a3fc7f4411a144e51b6eeb09fc",
       "version_major": 2,
       "version_minor": 0
      },
      "text/plain": [
       "Feature collision:   0%|          | 0/10 [00:00<?, ?it/s]"
      ]
     },
     "metadata": {},
     "output_type": "display_data"
    },
    {
     "data": {
      "application/vnd.jupyter.widget-view+json": {
       "model_id": "b0051a1e684f4534a9bd93f57f9a3cb2",
       "version_major": 2,
       "version_minor": 0
      },
      "text/plain": [
       "Feature collision:   0%|          | 0/10 [00:00<?, ?it/s]"
      ]
     },
     "metadata": {},
     "output_type": "display_data"
    },
    {
     "data": {
      "application/vnd.jupyter.widget-view+json": {
       "model_id": "b3a6e62c706442f0b58982c140606289",
       "version_major": 2,
       "version_minor": 0
      },
      "text/plain": [
       "Feature collision:   0%|          | 0/10 [00:00<?, ?it/s]"
      ]
     },
     "metadata": {},
     "output_type": "display_data"
    },
    {
     "data": {
      "application/vnd.jupyter.widget-view+json": {
       "model_id": "827fc3ab5ec3412fa7e1f6ab24d0938e",
       "version_major": 2,
       "version_minor": 0
      },
      "text/plain": [
       "Feature collision:   0%|          | 0/10 [00:00<?, ?it/s]"
      ]
     },
     "metadata": {},
     "output_type": "display_data"
    },
    {
     "data": {
      "application/vnd.jupyter.widget-view+json": {
       "model_id": "275c3fc7f1ad4a40af33d34789442723",
       "version_major": 2,
       "version_minor": 0
      },
      "text/plain": [
       "Feature collision:   0%|          | 0/10 [00:00<?, ?it/s]"
      ]
     },
     "metadata": {},
     "output_type": "display_data"
    },
    {
     "data": {
      "application/vnd.jupyter.widget-view+json": {
       "model_id": "a239b908520d4193b1069134eb60ac9d",
       "version_major": 2,
       "version_minor": 0
      },
      "text/plain": [
       "Feature collision:   0%|          | 0/10 [00:00<?, ?it/s]"
      ]
     },
     "metadata": {},
     "output_type": "display_data"
    },
    {
     "data": {
      "application/vnd.jupyter.widget-view+json": {
       "model_id": "0f83eed54ccf47fb91f4ba6f813134b1",
       "version_major": 2,
       "version_minor": 0
      },
      "text/plain": [
       "Feature collision:   0%|          | 0/10 [00:00<?, ?it/s]"
      ]
     },
     "metadata": {},
     "output_type": "display_data"
    },
    {
     "data": {
      "application/vnd.jupyter.widget-view+json": {
       "model_id": "6b80620d6a4a409496711ef077279b4b",
       "version_major": 2,
       "version_minor": 0
      },
      "text/plain": [
       "Feature collision:   0%|          | 0/10 [00:00<?, ?it/s]"
      ]
     },
     "metadata": {},
     "output_type": "display_data"
    },
    {
     "data": {
      "application/vnd.jupyter.widget-view+json": {
       "model_id": "3e7a6957b4cb48878d35fa7b4ab7283c",
       "version_major": 2,
       "version_minor": 0
      },
      "text/plain": [
       "Feature collision:   0%|          | 0/10 [00:00<?, ?it/s]"
      ]
     },
     "metadata": {},
     "output_type": "display_data"
    },
    {
     "data": {
      "application/vnd.jupyter.widget-view+json": {
       "model_id": "b9d13081c4f94f10b7d4ec29ee60e475",
       "version_major": 2,
       "version_minor": 0
      },
      "text/plain": [
       "Feature collision:   0%|          | 0/10 [00:00<?, ?it/s]"
      ]
     },
     "metadata": {},
     "output_type": "display_data"
    },
    {
     "data": {
      "application/vnd.jupyter.widget-view+json": {
       "model_id": "f25044da8e2d4959a59015dd7f2a7e9e",
       "version_major": 2,
       "version_minor": 0
      },
      "text/plain": [
       "Feature collision:   0%|          | 0/10 [00:00<?, ?it/s]"
      ]
     },
     "metadata": {},
     "output_type": "display_data"
    },
    {
     "data": {
      "application/vnd.jupyter.widget-view+json": {
       "model_id": "f71342632fc54cf1a522496e93220c65",
       "version_major": 2,
       "version_minor": 0
      },
      "text/plain": [
       "Feature collision:   0%|          | 0/10 [00:00<?, ?it/s]"
      ]
     },
     "metadata": {},
     "output_type": "display_data"
    },
    {
     "data": {
      "application/vnd.jupyter.widget-view+json": {
       "model_id": "14eb79a346954bbfb8169bdd2198a6d9",
       "version_major": 2,
       "version_minor": 0
      },
      "text/plain": [
       "Feature collision:   0%|          | 0/10 [00:00<?, ?it/s]"
      ]
     },
     "metadata": {},
     "output_type": "display_data"
    },
    {
     "data": {
      "application/vnd.jupyter.widget-view+json": {
       "model_id": "704973ca7829446cae020c651da7ba3e",
       "version_major": 2,
       "version_minor": 0
      },
      "text/plain": [
       "Feature collision:   0%|          | 0/10 [00:00<?, ?it/s]"
      ]
     },
     "metadata": {},
     "output_type": "display_data"
    },
    {
     "data": {
      "application/vnd.jupyter.widget-view+json": {
       "model_id": "77b57e2bd2d74e278e40c21872e992dd",
       "version_major": 2,
       "version_minor": 0
      },
      "text/plain": [
       "Feature collision:   0%|          | 0/10 [00:00<?, ?it/s]"
      ]
     },
     "metadata": {},
     "output_type": "display_data"
    },
    {
     "data": {
      "application/vnd.jupyter.widget-view+json": {
       "model_id": "c4771bc38b244b7f82f1ba99983b50ae",
       "version_major": 2,
       "version_minor": 0
      },
      "text/plain": [
       "Feature collision:   0%|          | 0/10 [00:00<?, ?it/s]"
      ]
     },
     "metadata": {},
     "output_type": "display_data"
    },
    {
     "data": {
      "application/vnd.jupyter.widget-view+json": {
       "model_id": "fd25317307634fc7b23dc1106ca82ddf",
       "version_major": 2,
       "version_minor": 0
      },
      "text/plain": [
       "Feature collision:   0%|          | 0/10 [00:00<?, ?it/s]"
      ]
     },
     "metadata": {},
     "output_type": "display_data"
    },
    {
     "data": {
      "application/vnd.jupyter.widget-view+json": {
       "model_id": "9e658c6c9d2d48acab6cac48dc719d99",
       "version_major": 2,
       "version_minor": 0
      },
      "text/plain": [
       "Feature collision:   0%|          | 0/10 [00:00<?, ?it/s]"
      ]
     },
     "metadata": {},
     "output_type": "display_data"
    },
    {
     "data": {
      "application/vnd.jupyter.widget-view+json": {
       "model_id": "0594209aefb64966af46934a5679382d",
       "version_major": 2,
       "version_minor": 0
      },
      "text/plain": [
       "Feature collision:   0%|          | 0/10 [00:00<?, ?it/s]"
      ]
     },
     "metadata": {},
     "output_type": "display_data"
    },
    {
     "data": {
      "application/vnd.jupyter.widget-view+json": {
       "model_id": "abe6d244cf5e443aac4235bad85a6c3c",
       "version_major": 2,
       "version_minor": 0
      },
      "text/plain": [
       "Feature collision:   0%|          | 0/10 [00:00<?, ?it/s]"
      ]
     },
     "metadata": {},
     "output_type": "display_data"
    },
    {
     "data": {
      "application/vnd.jupyter.widget-view+json": {
       "model_id": "5a28c7396e6a43639a276b224c4b83b7",
       "version_major": 2,
       "version_minor": 0
      },
      "text/plain": [
       "Feature collision:   0%|          | 0/10 [00:00<?, ?it/s]"
      ]
     },
     "metadata": {},
     "output_type": "display_data"
    },
    {
     "data": {
      "application/vnd.jupyter.widget-view+json": {
       "model_id": "e913d58c9eef4e5494174a67932c694b",
       "version_major": 2,
       "version_minor": 0
      },
      "text/plain": [
       "Feature collision:   0%|          | 0/10 [00:00<?, ?it/s]"
      ]
     },
     "metadata": {},
     "output_type": "display_data"
    },
    {
     "data": {
      "application/vnd.jupyter.widget-view+json": {
       "model_id": "74e7d0c95c2b47ccb4ac347ae6d7e305",
       "version_major": 2,
       "version_minor": 0
      },
      "text/plain": [
       "Feature collision:   0%|          | 0/10 [00:00<?, ?it/s]"
      ]
     },
     "metadata": {},
     "output_type": "display_data"
    },
    {
     "data": {
      "application/vnd.jupyter.widget-view+json": {
       "model_id": "58d3735dd0f24338bf6490416542f493",
       "version_major": 2,
       "version_minor": 0
      },
      "text/plain": [
       "Feature collision:   0%|          | 0/10 [00:00<?, ?it/s]"
      ]
     },
     "metadata": {},
     "output_type": "display_data"
    },
    {
     "data": {
      "application/vnd.jupyter.widget-view+json": {
       "model_id": "1edcf54517304e74bb6a09ff297a513d",
       "version_major": 2,
       "version_minor": 0
      },
      "text/plain": [
       "Feature collision:   0%|          | 0/10 [00:00<?, ?it/s]"
      ]
     },
     "metadata": {},
     "output_type": "display_data"
    },
    {
     "data": {
      "application/vnd.jupyter.widget-view+json": {
       "model_id": "29541542b1ad45c2abc4449864f46217",
       "version_major": 2,
       "version_minor": 0
      },
      "text/plain": [
       "Feature collision:   0%|          | 0/10 [00:00<?, ?it/s]"
      ]
     },
     "metadata": {},
     "output_type": "display_data"
    },
    {
     "data": {
      "application/vnd.jupyter.widget-view+json": {
       "model_id": "144c953351cd44fc852e8b7b39a9ed4b",
       "version_major": 2,
       "version_minor": 0
      },
      "text/plain": [
       "Feature collision:   0%|          | 0/10 [00:00<?, ?it/s]"
      ]
     },
     "metadata": {},
     "output_type": "display_data"
    },
    {
     "data": {
      "application/vnd.jupyter.widget-view+json": {
       "model_id": "6270ed8c6b03456ab0f9fdcf65e810a1",
       "version_major": 2,
       "version_minor": 0
      },
      "text/plain": [
       "Feature collision:   0%|          | 0/10 [00:00<?, ?it/s]"
      ]
     },
     "metadata": {},
     "output_type": "display_data"
    },
    {
     "data": {
      "application/vnd.jupyter.widget-view+json": {
       "model_id": "760b5231f4a24291a727b5b86d14a467",
       "version_major": 2,
       "version_minor": 0
      },
      "text/plain": [
       "Feature collision:   0%|          | 0/10 [00:00<?, ?it/s]"
      ]
     },
     "metadata": {},
     "output_type": "display_data"
    },
    {
     "data": {
      "application/vnd.jupyter.widget-view+json": {
       "model_id": "4f58a3aa5c0847cf9bc8a0a1bd43ed78",
       "version_major": 2,
       "version_minor": 0
      },
      "text/plain": [
       "Feature collision:   0%|          | 0/10 [00:00<?, ?it/s]"
      ]
     },
     "metadata": {},
     "output_type": "display_data"
    },
    {
     "data": {
      "application/vnd.jupyter.widget-view+json": {
       "model_id": "337dfc2538cd4fea8c3270dfb7542a4c",
       "version_major": 2,
       "version_minor": 0
      },
      "text/plain": [
       "Feature collision:   0%|          | 0/10 [00:00<?, ?it/s]"
      ]
     },
     "metadata": {},
     "output_type": "display_data"
    },
    {
     "data": {
      "application/vnd.jupyter.widget-view+json": {
       "model_id": "e8bc77eda2de4066a00c07df44267874",
       "version_major": 2,
       "version_minor": 0
      },
      "text/plain": [
       "Feature collision:   0%|          | 0/10 [00:00<?, ?it/s]"
      ]
     },
     "metadata": {},
     "output_type": "display_data"
    },
    {
     "data": {
      "application/vnd.jupyter.widget-view+json": {
       "model_id": "e4668fa2751d42ba99e12d98c16cd58e",
       "version_major": 2,
       "version_minor": 0
      },
      "text/plain": [
       "Feature collision:   0%|          | 0/10 [00:00<?, ?it/s]"
      ]
     },
     "metadata": {},
     "output_type": "display_data"
    },
    {
     "data": {
      "application/vnd.jupyter.widget-view+json": {
       "model_id": "58dc1030249d49ebaad3b2d92ee77ba6",
       "version_major": 2,
       "version_minor": 0
      },
      "text/plain": [
       "Feature collision:   0%|          | 0/10 [00:00<?, ?it/s]"
      ]
     },
     "metadata": {},
     "output_type": "display_data"
    },
    {
     "data": {
      "application/vnd.jupyter.widget-view+json": {
       "model_id": "6a2fd8c6dc144d8e8fab5bb24cab67a1",
       "version_major": 2,
       "version_minor": 0
      },
      "text/plain": [
       "Feature collision:   0%|          | 0/10 [00:00<?, ?it/s]"
      ]
     },
     "metadata": {},
     "output_type": "display_data"
    },
    {
     "data": {
      "application/vnd.jupyter.widget-view+json": {
       "model_id": "aa96c54699084ff0b94cb097b8f46ea2",
       "version_major": 2,
       "version_minor": 0
      },
      "text/plain": [
       "Feature collision:   0%|          | 0/10 [00:00<?, ?it/s]"
      ]
     },
     "metadata": {},
     "output_type": "display_data"
    },
    {
     "data": {
      "application/vnd.jupyter.widget-view+json": {
       "model_id": "24812c0faf37447fa5829acca125571f",
       "version_major": 2,
       "version_minor": 0
      },
      "text/plain": [
       "Feature collision:   0%|          | 0/10 [00:00<?, ?it/s]"
      ]
     },
     "metadata": {},
     "output_type": "display_data"
    },
    {
     "data": {
      "application/vnd.jupyter.widget-view+json": {
       "model_id": "d9b33177a0594b67a1a77fceb4d8cc48",
       "version_major": 2,
       "version_minor": 0
      },
      "text/plain": [
       "Feature collision:   0%|          | 0/10 [00:00<?, ?it/s]"
      ]
     },
     "metadata": {},
     "output_type": "display_data"
    },
    {
     "data": {
      "application/vnd.jupyter.widget-view+json": {
       "model_id": "31a413dceb904108983ba3fab4c5973c",
       "version_major": 2,
       "version_minor": 0
      },
      "text/plain": [
       "Feature collision:   0%|          | 0/10 [00:00<?, ?it/s]"
      ]
     },
     "metadata": {},
     "output_type": "display_data"
    },
    {
     "data": {
      "application/vnd.jupyter.widget-view+json": {
       "model_id": "cbc5b61900884cf38b11d86a4c8e04b4",
       "version_major": 2,
       "version_minor": 0
      },
      "text/plain": [
       "Feature collision:   0%|          | 0/10 [00:00<?, ?it/s]"
      ]
     },
     "metadata": {},
     "output_type": "display_data"
    },
    {
     "data": {
      "application/vnd.jupyter.widget-view+json": {
       "model_id": "fcab78b481174c8a8b960f7d1a8b7fe0",
       "version_major": 2,
       "version_minor": 0
      },
      "text/plain": [
       "Feature collision:   0%|          | 0/10 [00:00<?, ?it/s]"
      ]
     },
     "metadata": {},
     "output_type": "display_data"
    },
    {
     "data": {
      "application/vnd.jupyter.widget-view+json": {
       "model_id": "d0cdd225dac64190a9a6709f9d497d2c",
       "version_major": 2,
       "version_minor": 0
      },
      "text/plain": [
       "Feature collision:   0%|          | 0/10 [00:00<?, ?it/s]"
      ]
     },
     "metadata": {},
     "output_type": "display_data"
    },
    {
     "data": {
      "application/vnd.jupyter.widget-view+json": {
       "model_id": "c2b42d34f2dd48828d7c47c99cfb3a72",
       "version_major": 2,
       "version_minor": 0
      },
      "text/plain": [
       "Feature collision:   0%|          | 0/10 [00:00<?, ?it/s]"
      ]
     },
     "metadata": {},
     "output_type": "display_data"
    },
    {
     "data": {
      "application/vnd.jupyter.widget-view+json": {
       "model_id": "24a21233b16d4babaf91370681dfce86",
       "version_major": 2,
       "version_minor": 0
      },
      "text/plain": [
       "Feature collision:   0%|          | 0/10 [00:00<?, ?it/s]"
      ]
     },
     "metadata": {},
     "output_type": "display_data"
    },
    {
     "data": {
      "application/vnd.jupyter.widget-view+json": {
       "model_id": "4e955184e7d64806b26c7d8b5bd0316a",
       "version_major": 2,
       "version_minor": 0
      },
      "text/plain": [
       "Feature collision:   0%|          | 0/10 [00:00<?, ?it/s]"
      ]
     },
     "metadata": {},
     "output_type": "display_data"
    },
    {
     "data": {
      "application/vnd.jupyter.widget-view+json": {
       "model_id": "c7a45d0a28064ed4bf31f5347fc019e8",
       "version_major": 2,
       "version_minor": 0
      },
      "text/plain": [
       "Feature collision:   0%|          | 0/10 [00:00<?, ?it/s]"
      ]
     },
     "metadata": {},
     "output_type": "display_data"
    },
    {
     "data": {
      "application/vnd.jupyter.widget-view+json": {
       "model_id": "e73b21882629447bae91e7dbcc2bff21",
       "version_major": 2,
       "version_minor": 0
      },
      "text/plain": [
       "Feature collision:   0%|          | 0/10 [00:00<?, ?it/s]"
      ]
     },
     "metadata": {},
     "output_type": "display_data"
    },
    {
     "data": {
      "application/vnd.jupyter.widget-view+json": {
       "model_id": "31e93fc6eeee4817ab938ea6f88de364",
       "version_major": 2,
       "version_minor": 0
      },
      "text/plain": [
       "Feature collision:   0%|          | 0/10 [00:00<?, ?it/s]"
      ]
     },
     "metadata": {},
     "output_type": "display_data"
    },
    {
     "data": {
      "application/vnd.jupyter.widget-view+json": {
       "model_id": "7943b9cdc7144703992adb6422349bc0",
       "version_major": 2,
       "version_minor": 0
      },
      "text/plain": [
       "Feature collision:   0%|          | 0/10 [00:00<?, ?it/s]"
      ]
     },
     "metadata": {},
     "output_type": "display_data"
    },
    {
     "data": {
      "application/vnd.jupyter.widget-view+json": {
       "model_id": "913c6b0afdfa48998373e8561353bbe8",
       "version_major": 2,
       "version_minor": 0
      },
      "text/plain": [
       "Feature collision:   0%|          | 0/10 [00:00<?, ?it/s]"
      ]
     },
     "metadata": {},
     "output_type": "display_data"
    },
    {
     "data": {
      "application/vnd.jupyter.widget-view+json": {
       "model_id": "6e01a3c7848047fbb07e14c2ab073a4e",
       "version_major": 2,
       "version_minor": 0
      },
      "text/plain": [
       "Feature collision:   0%|          | 0/10 [00:00<?, ?it/s]"
      ]
     },
     "metadata": {},
     "output_type": "display_data"
    },
    {
     "data": {
      "application/vnd.jupyter.widget-view+json": {
       "model_id": "18f6b0c1d998415f9ab4d0916f07d096",
       "version_major": 2,
       "version_minor": 0
      },
      "text/plain": [
       "Feature collision:   0%|          | 0/10 [00:00<?, ?it/s]"
      ]
     },
     "metadata": {},
     "output_type": "display_data"
    },
    {
     "data": {
      "application/vnd.jupyter.widget-view+json": {
       "model_id": "4a6fb2a65a734040bdb94c36061d28bf",
       "version_major": 2,
       "version_minor": 0
      },
      "text/plain": [
       "Feature collision:   0%|          | 0/10 [00:00<?, ?it/s]"
      ]
     },
     "metadata": {},
     "output_type": "display_data"
    },
    {
     "data": {
      "application/vnd.jupyter.widget-view+json": {
       "model_id": "42a456c1c0d349368aad966cf41d0478",
       "version_major": 2,
       "version_minor": 0
      },
      "text/plain": [
       "Feature collision:   0%|          | 0/10 [00:00<?, ?it/s]"
      ]
     },
     "metadata": {},
     "output_type": "display_data"
    },
    {
     "data": {
      "application/vnd.jupyter.widget-view+json": {
       "model_id": "2726b6f029304202a9715d41130ed582",
       "version_major": 2,
       "version_minor": 0
      },
      "text/plain": [
       "Feature collision:   0%|          | 0/10 [00:00<?, ?it/s]"
      ]
     },
     "metadata": {},
     "output_type": "display_data"
    },
    {
     "data": {
      "application/vnd.jupyter.widget-view+json": {
       "model_id": "f3721f2c3e784341837f644a78858a8a",
       "version_major": 2,
       "version_minor": 0
      },
      "text/plain": [
       "Feature collision:   0%|          | 0/10 [00:00<?, ?it/s]"
      ]
     },
     "metadata": {},
     "output_type": "display_data"
    },
    {
     "data": {
      "application/vnd.jupyter.widget-view+json": {
       "model_id": "66596871cc2f47568f7df03d1d628f90",
       "version_major": 2,
       "version_minor": 0
      },
      "text/plain": [
       "Feature collision:   0%|          | 0/10 [00:00<?, ?it/s]"
      ]
     },
     "metadata": {},
     "output_type": "display_data"
    },
    {
     "data": {
      "application/vnd.jupyter.widget-view+json": {
       "model_id": "7dae1bf0f5844a4399e3b0d3030cfc5a",
       "version_major": 2,
       "version_minor": 0
      },
      "text/plain": [
       "Feature collision:   0%|          | 0/10 [00:00<?, ?it/s]"
      ]
     },
     "metadata": {},
     "output_type": "display_data"
    },
    {
     "data": {
      "application/vnd.jupyter.widget-view+json": {
       "model_id": "c0c569a94ef04223ae78f1ae2840f9e0",
       "version_major": 2,
       "version_minor": 0
      },
      "text/plain": [
       "Feature collision:   0%|          | 0/10 [00:00<?, ?it/s]"
      ]
     },
     "metadata": {},
     "output_type": "display_data"
    },
    {
     "data": {
      "application/vnd.jupyter.widget-view+json": {
       "model_id": "b5571fecde2a4596a47052386c72d19d",
       "version_major": 2,
       "version_minor": 0
      },
      "text/plain": [
       "Feature collision:   0%|          | 0/10 [00:00<?, ?it/s]"
      ]
     },
     "metadata": {},
     "output_type": "display_data"
    },
    {
     "data": {
      "application/vnd.jupyter.widget-view+json": {
       "model_id": "8fc31af737734590b05f3df1d13eff69",
       "version_major": 2,
       "version_minor": 0
      },
      "text/plain": [
       "Feature collision:   0%|          | 0/10 [00:00<?, ?it/s]"
      ]
     },
     "metadata": {},
     "output_type": "display_data"
    },
    {
     "data": {
      "application/vnd.jupyter.widget-view+json": {
       "model_id": "e6acd3f7766147dab416674551205dae",
       "version_major": 2,
       "version_minor": 0
      },
      "text/plain": [
       "Feature collision:   0%|          | 0/10 [00:00<?, ?it/s]"
      ]
     },
     "metadata": {},
     "output_type": "display_data"
    },
    {
     "data": {
      "application/vnd.jupyter.widget-view+json": {
       "model_id": "6e640a75a2db4020bf935c3e490c026d",
       "version_major": 2,
       "version_minor": 0
      },
      "text/plain": [
       "Feature collision:   0%|          | 0/10 [00:00<?, ?it/s]"
      ]
     },
     "metadata": {},
     "output_type": "display_data"
    },
    {
     "data": {
      "application/vnd.jupyter.widget-view+json": {
       "model_id": "9358669f692e4b99993bd6c210a0d689",
       "version_major": 2,
       "version_minor": 0
      },
      "text/plain": [
       "Feature collision:   0%|          | 0/10 [00:00<?, ?it/s]"
      ]
     },
     "metadata": {},
     "output_type": "display_data"
    },
    {
     "data": {
      "application/vnd.jupyter.widget-view+json": {
       "model_id": "d8d6ecc1f5b54cebb7ecb5b5e234c4cc",
       "version_major": 2,
       "version_minor": 0
      },
      "text/plain": [
       "Feature collision:   0%|          | 0/10 [00:00<?, ?it/s]"
      ]
     },
     "metadata": {},
     "output_type": "display_data"
    },
    {
     "data": {
      "application/vnd.jupyter.widget-view+json": {
       "model_id": "5da6abe258fe4803ac8ae7aa873aef2c",
       "version_major": 2,
       "version_minor": 0
      },
      "text/plain": [
       "Feature collision:   0%|          | 0/10 [00:00<?, ?it/s]"
      ]
     },
     "metadata": {},
     "output_type": "display_data"
    },
    {
     "data": {
      "application/vnd.jupyter.widget-view+json": {
       "model_id": "58f6948c375845baab00af94e56ce79a",
       "version_major": 2,
       "version_minor": 0
      },
      "text/plain": [
       "Feature collision:   0%|          | 0/10 [00:00<?, ?it/s]"
      ]
     },
     "metadata": {},
     "output_type": "display_data"
    },
    {
     "data": {
      "application/vnd.jupyter.widget-view+json": {
       "model_id": "08d4804d7e474b58996899e12632327d",
       "version_major": 2,
       "version_minor": 0
      },
      "text/plain": [
       "Feature collision:   0%|          | 0/10 [00:00<?, ?it/s]"
      ]
     },
     "metadata": {},
     "output_type": "display_data"
    },
    {
     "data": {
      "application/vnd.jupyter.widget-view+json": {
       "model_id": "691aa737728143ba84d24f348a77153e",
       "version_major": 2,
       "version_minor": 0
      },
      "text/plain": [
       "Feature collision:   0%|          | 0/10 [00:00<?, ?it/s]"
      ]
     },
     "metadata": {},
     "output_type": "display_data"
    },
    {
     "data": {
      "application/vnd.jupyter.widget-view+json": {
       "model_id": "7821e97d985241478dbc1dbd619b7f47",
       "version_major": 2,
       "version_minor": 0
      },
      "text/plain": [
       "Feature collision:   0%|          | 0/10 [00:00<?, ?it/s]"
      ]
     },
     "metadata": {},
     "output_type": "display_data"
    },
    {
     "data": {
      "application/vnd.jupyter.widget-view+json": {
       "model_id": "572f61ef9461468cbcd4d6139768eee3",
       "version_major": 2,
       "version_minor": 0
      },
      "text/plain": [
       "Feature collision:   0%|          | 0/10 [00:00<?, ?it/s]"
      ]
     },
     "metadata": {},
     "output_type": "display_data"
    },
    {
     "data": {
      "application/vnd.jupyter.widget-view+json": {
       "model_id": "a12ffb2eb45a43079f23920716f058f9",
       "version_major": 2,
       "version_minor": 0
      },
      "text/plain": [
       "Feature collision:   0%|          | 0/10 [00:00<?, ?it/s]"
      ]
     },
     "metadata": {},
     "output_type": "display_data"
    },
    {
     "data": {
      "application/vnd.jupyter.widget-view+json": {
       "model_id": "7219cf3bf7854f19bbf904e87b6cc1d2",
       "version_major": 2,
       "version_minor": 0
      },
      "text/plain": [
       "Feature collision:   0%|          | 0/10 [00:00<?, ?it/s]"
      ]
     },
     "metadata": {},
     "output_type": "display_data"
    },
    {
     "data": {
      "application/vnd.jupyter.widget-view+json": {
       "model_id": "c370ddc7e10f405ab6fd9da3bba555ef",
       "version_major": 2,
       "version_minor": 0
      },
      "text/plain": [
       "Feature collision:   0%|          | 0/10 [00:00<?, ?it/s]"
      ]
     },
     "metadata": {},
     "output_type": "display_data"
    },
    {
     "data": {
      "application/vnd.jupyter.widget-view+json": {
       "model_id": "6ee104f50c8e4de9863cde461bca21cd",
       "version_major": 2,
       "version_minor": 0
      },
      "text/plain": [
       "Feature collision:   0%|          | 0/10 [00:00<?, ?it/s]"
      ]
     },
     "metadata": {},
     "output_type": "display_data"
    },
    {
     "data": {
      "application/vnd.jupyter.widget-view+json": {
       "model_id": "0d32bfa26588413eb6a57460822e05cc",
       "version_major": 2,
       "version_minor": 0
      },
      "text/plain": [
       "Feature collision:   0%|          | 0/10 [00:00<?, ?it/s]"
      ]
     },
     "metadata": {},
     "output_type": "display_data"
    },
    {
     "data": {
      "application/vnd.jupyter.widget-view+json": {
       "model_id": "532f8c2c53714e3b9922131116b30b9c",
       "version_major": 2,
       "version_minor": 0
      },
      "text/plain": [
       "Feature collision:   0%|          | 0/10 [00:00<?, ?it/s]"
      ]
     },
     "metadata": {},
     "output_type": "display_data"
    },
    {
     "data": {
      "application/vnd.jupyter.widget-view+json": {
       "model_id": "210f54f934554f62bea9a33b8165c6f9",
       "version_major": 2,
       "version_minor": 0
      },
      "text/plain": [
       "Feature collision:   0%|          | 0/10 [00:00<?, ?it/s]"
      ]
     },
     "metadata": {},
     "output_type": "display_data"
    },
    {
     "data": {
      "application/vnd.jupyter.widget-view+json": {
       "model_id": "6d8728d5ac7e48f99e9c09fba9434073",
       "version_major": 2,
       "version_minor": 0
      },
      "text/plain": [
       "Feature collision:   0%|          | 0/10 [00:00<?, ?it/s]"
      ]
     },
     "metadata": {},
     "output_type": "display_data"
    },
    {
     "data": {
      "application/vnd.jupyter.widget-view+json": {
       "model_id": "0f63dcd1ef9a4c3f9f90a904a67905e8",
       "version_major": 2,
       "version_minor": 0
      },
      "text/plain": [
       "Feature collision:   0%|          | 0/10 [00:00<?, ?it/s]"
      ]
     },
     "metadata": {},
     "output_type": "display_data"
    },
    {
     "data": {
      "application/vnd.jupyter.widget-view+json": {
       "model_id": "5aac78e51ca94409a0ad56cd166e7ce6",
       "version_major": 2,
       "version_minor": 0
      },
      "text/plain": [
       "Feature collision:   0%|          | 0/10 [00:00<?, ?it/s]"
      ]
     },
     "metadata": {},
     "output_type": "display_data"
    },
    {
     "data": {
      "application/vnd.jupyter.widget-view+json": {
       "model_id": "faf23eda700644b58936137bca4d1e5b",
       "version_major": 2,
       "version_minor": 0
      },
      "text/plain": [
       "Feature collision:   0%|          | 0/10 [00:00<?, ?it/s]"
      ]
     },
     "metadata": {},
     "output_type": "display_data"
    },
    {
     "data": {
      "application/vnd.jupyter.widget-view+json": {
       "model_id": "252f57483d71442bbfe424191d4eb393",
       "version_major": 2,
       "version_minor": 0
      },
      "text/plain": [
       "Feature collision:   0%|          | 0/10 [00:00<?, ?it/s]"
      ]
     },
     "metadata": {},
     "output_type": "display_data"
    },
    {
     "data": {
      "application/vnd.jupyter.widget-view+json": {
       "model_id": "33e706b796584062a91fe9782b42cfe6",
       "version_major": 2,
       "version_minor": 0
      },
      "text/plain": [
       "Feature collision:   0%|          | 0/10 [00:00<?, ?it/s]"
      ]
     },
     "metadata": {},
     "output_type": "display_data"
    },
    {
     "data": {
      "application/vnd.jupyter.widget-view+json": {
       "model_id": "8b4af941e4e34166bbf18e6d01845366",
       "version_major": 2,
       "version_minor": 0
      },
      "text/plain": [
       "Feature collision:   0%|          | 0/10 [00:00<?, ?it/s]"
      ]
     },
     "metadata": {},
     "output_type": "display_data"
    },
    {
     "data": {
      "application/vnd.jupyter.widget-view+json": {
       "model_id": "34cbb1ce088b4c2d9c6ec11948bbd11f",
       "version_major": 2,
       "version_minor": 0
      },
      "text/plain": [
       "Feature collision:   0%|          | 0/10 [00:00<?, ?it/s]"
      ]
     },
     "metadata": {},
     "output_type": "display_data"
    },
    {
     "data": {
      "application/vnd.jupyter.widget-view+json": {
       "model_id": "e89197f9440444cfae274a4c9243d338",
       "version_major": 2,
       "version_minor": 0
      },
      "text/plain": [
       "Feature collision:   0%|          | 0/10 [00:00<?, ?it/s]"
      ]
     },
     "metadata": {},
     "output_type": "display_data"
    },
    {
     "data": {
      "application/vnd.jupyter.widget-view+json": {
       "model_id": "f76bfeae9ec842018addb80b73a18f74",
       "version_major": 2,
       "version_minor": 0
      },
      "text/plain": [
       "Feature collision:   0%|          | 0/10 [00:00<?, ?it/s]"
      ]
     },
     "metadata": {},
     "output_type": "display_data"
    },
    {
     "data": {
      "application/vnd.jupyter.widget-view+json": {
       "model_id": "107c11a6438c49baab242fb1e10be89d",
       "version_major": 2,
       "version_minor": 0
      },
      "text/plain": [
       "Feature collision:   0%|          | 0/10 [00:00<?, ?it/s]"
      ]
     },
     "metadata": {},
     "output_type": "display_data"
    },
    {
     "data": {
      "application/vnd.jupyter.widget-view+json": {
       "model_id": "a649dbcec6d8438bb24bc92353e170db",
       "version_major": 2,
       "version_minor": 0
      },
      "text/plain": [
       "Feature collision:   0%|          | 0/10 [00:00<?, ?it/s]"
      ]
     },
     "metadata": {},
     "output_type": "display_data"
    },
    {
     "data": {
      "application/vnd.jupyter.widget-view+json": {
       "model_id": "2367c3039090436ba95940ab8dbbc37a",
       "version_major": 2,
       "version_minor": 0
      },
      "text/plain": [
       "Feature collision:   0%|          | 0/10 [00:00<?, ?it/s]"
      ]
     },
     "metadata": {},
     "output_type": "display_data"
    },
    {
     "data": {
      "application/vnd.jupyter.widget-view+json": {
       "model_id": "35bfce6260a240ffb5a10dfefe0a1194",
       "version_major": 2,
       "version_minor": 0
      },
      "text/plain": [
       "Feature collision:   0%|          | 0/10 [00:00<?, ?it/s]"
      ]
     },
     "metadata": {},
     "output_type": "display_data"
    },
    {
     "data": {
      "application/vnd.jupyter.widget-view+json": {
       "model_id": "238b75c761bf4fd4b07c633015903ff7",
       "version_major": 2,
       "version_minor": 0
      },
      "text/plain": [
       "Feature collision:   0%|          | 0/10 [00:00<?, ?it/s]"
      ]
     },
     "metadata": {},
     "output_type": "display_data"
    },
    {
     "data": {
      "application/vnd.jupyter.widget-view+json": {
       "model_id": "2f117ef5de6d43dc94970d5a474c6429",
       "version_major": 2,
       "version_minor": 0
      },
      "text/plain": [
       "Feature collision:   0%|          | 0/10 [00:00<?, ?it/s]"
      ]
     },
     "metadata": {},
     "output_type": "display_data"
    },
    {
     "data": {
      "application/vnd.jupyter.widget-view+json": {
       "model_id": "5ae4255eae6840ae839f8df08c703278",
       "version_major": 2,
       "version_minor": 0
      },
      "text/plain": [
       "Feature collision:   0%|          | 0/10 [00:00<?, ?it/s]"
      ]
     },
     "metadata": {},
     "output_type": "display_data"
    },
    {
     "data": {
      "application/vnd.jupyter.widget-view+json": {
       "model_id": "2bf4eed7888f4ee8a456ee5f65cf51fa",
       "version_major": 2,
       "version_minor": 0
      },
      "text/plain": [
       "Feature collision:   0%|          | 0/10 [00:00<?, ?it/s]"
      ]
     },
     "metadata": {},
     "output_type": "display_data"
    },
    {
     "data": {
      "application/vnd.jupyter.widget-view+json": {
       "model_id": "779b3e8fbea34c79938996fcddf9a3a7",
       "version_major": 2,
       "version_minor": 0
      },
      "text/plain": [
       "Feature collision:   0%|          | 0/10 [00:00<?, ?it/s]"
      ]
     },
     "metadata": {},
     "output_type": "display_data"
    },
    {
     "data": {
      "application/vnd.jupyter.widget-view+json": {
       "model_id": "5fe5db96795b4f8e971ff5d58d26f844",
       "version_major": 2,
       "version_minor": 0
      },
      "text/plain": [
       "Feature collision:   0%|          | 0/10 [00:00<?, ?it/s]"
      ]
     },
     "metadata": {},
     "output_type": "display_data"
    },
    {
     "data": {
      "application/vnd.jupyter.widget-view+json": {
       "model_id": "53e972361dc34eb0a9b3e9bd2b447910",
       "version_major": 2,
       "version_minor": 0
      },
      "text/plain": [
       "Feature collision:   0%|          | 0/10 [00:00<?, ?it/s]"
      ]
     },
     "metadata": {},
     "output_type": "display_data"
    },
    {
     "data": {
      "application/vnd.jupyter.widget-view+json": {
       "model_id": "59114746685c46afb0eefa9726488904",
       "version_major": 2,
       "version_minor": 0
      },
      "text/plain": [
       "Feature collision:   0%|          | 0/10 [00:00<?, ?it/s]"
      ]
     },
     "metadata": {},
     "output_type": "display_data"
    },
    {
     "data": {
      "application/vnd.jupyter.widget-view+json": {
       "model_id": "aaf63036f1334d948e4a8e2ba18829fc",
       "version_major": 2,
       "version_minor": 0
      },
      "text/plain": [
       "Feature collision:   0%|          | 0/10 [00:00<?, ?it/s]"
      ]
     },
     "metadata": {},
     "output_type": "display_data"
    },
    {
     "data": {
      "application/vnd.jupyter.widget-view+json": {
       "model_id": "0bc2d5247b644f1c80158cd436e82531",
       "version_major": 2,
       "version_minor": 0
      },
      "text/plain": [
       "Feature collision:   0%|          | 0/10 [00:00<?, ?it/s]"
      ]
     },
     "metadata": {},
     "output_type": "display_data"
    },
    {
     "data": {
      "application/vnd.jupyter.widget-view+json": {
       "model_id": "9afe426dd08c40a4a414e739240b0edc",
       "version_major": 2,
       "version_minor": 0
      },
      "text/plain": [
       "Feature collision:   0%|          | 0/10 [00:00<?, ?it/s]"
      ]
     },
     "metadata": {},
     "output_type": "display_data"
    },
    {
     "data": {
      "application/vnd.jupyter.widget-view+json": {
       "model_id": "c9428248e5fa4bacaacbde6d0883817e",
       "version_major": 2,
       "version_minor": 0
      },
      "text/plain": [
       "Feature collision:   0%|          | 0/10 [00:00<?, ?it/s]"
      ]
     },
     "metadata": {},
     "output_type": "display_data"
    },
    {
     "data": {
      "application/vnd.jupyter.widget-view+json": {
       "model_id": "5688f9a55f1e451ba8c662ef57592e42",
       "version_major": 2,
       "version_minor": 0
      },
      "text/plain": [
       "Feature collision:   0%|          | 0/10 [00:00<?, ?it/s]"
      ]
     },
     "metadata": {},
     "output_type": "display_data"
    },
    {
     "data": {
      "application/vnd.jupyter.widget-view+json": {
       "model_id": "aa6a45a036414f96b4828ac4b28632c2",
       "version_major": 2,
       "version_minor": 0
      },
      "text/plain": [
       "Feature collision:   0%|          | 0/10 [00:00<?, ?it/s]"
      ]
     },
     "metadata": {},
     "output_type": "display_data"
    },
    {
     "data": {
      "application/vnd.jupyter.widget-view+json": {
       "model_id": "5efe96302bd54698b3ee928664a6ebf9",
       "version_major": 2,
       "version_minor": 0
      },
      "text/plain": [
       "Feature collision:   0%|          | 0/10 [00:00<?, ?it/s]"
      ]
     },
     "metadata": {},
     "output_type": "display_data"
    },
    {
     "data": {
      "application/vnd.jupyter.widget-view+json": {
       "model_id": "3683eb82c957435a8d400e105c1c975e",
       "version_major": 2,
       "version_minor": 0
      },
      "text/plain": [
       "Feature collision:   0%|          | 0/10 [00:00<?, ?it/s]"
      ]
     },
     "metadata": {},
     "output_type": "display_data"
    },
    {
     "data": {
      "application/vnd.jupyter.widget-view+json": {
       "model_id": "e183f01fa7d14108b9fbadb05c214dc6",
       "version_major": 2,
       "version_minor": 0
      },
      "text/plain": [
       "Feature collision:   0%|          | 0/10 [00:00<?, ?it/s]"
      ]
     },
     "metadata": {},
     "output_type": "display_data"
    },
    {
     "data": {
      "application/vnd.jupyter.widget-view+json": {
       "model_id": "8ef2297cffe840f8bad31405d323bc4a",
       "version_major": 2,
       "version_minor": 0
      },
      "text/plain": [
       "Feature collision:   0%|          | 0/10 [00:00<?, ?it/s]"
      ]
     },
     "metadata": {},
     "output_type": "display_data"
    },
    {
     "data": {
      "application/vnd.jupyter.widget-view+json": {
       "model_id": "ac9a1fbcabb14cb7a10f8d2098de740f",
       "version_major": 2,
       "version_minor": 0
      },
      "text/plain": [
       "Feature collision:   0%|          | 0/10 [00:00<?, ?it/s]"
      ]
     },
     "metadata": {},
     "output_type": "display_data"
    },
    {
     "data": {
      "application/vnd.jupyter.widget-view+json": {
       "model_id": "a3b6a128c36c4a33b8395e6fd06a5f9b",
       "version_major": 2,
       "version_minor": 0
      },
      "text/plain": [
       "Feature collision:   0%|          | 0/10 [00:00<?, ?it/s]"
      ]
     },
     "metadata": {},
     "output_type": "display_data"
    },
    {
     "data": {
      "application/vnd.jupyter.widget-view+json": {
       "model_id": "37299cc3629e4db393835778dab1e745",
       "version_major": 2,
       "version_minor": 0
      },
      "text/plain": [
       "Feature collision:   0%|          | 0/10 [00:00<?, ?it/s]"
      ]
     },
     "metadata": {},
     "output_type": "display_data"
    },
    {
     "data": {
      "application/vnd.jupyter.widget-view+json": {
       "model_id": "2130839cb0f44894a20c8cacbcd11e00",
       "version_major": 2,
       "version_minor": 0
      },
      "text/plain": [
       "Feature collision:   0%|          | 0/10 [00:00<?, ?it/s]"
      ]
     },
     "metadata": {},
     "output_type": "display_data"
    },
    {
     "data": {
      "application/vnd.jupyter.widget-view+json": {
       "model_id": "a913e6330b39405e953f84bf9780d7c2",
       "version_major": 2,
       "version_minor": 0
      },
      "text/plain": [
       "Feature collision:   0%|          | 0/10 [00:00<?, ?it/s]"
      ]
     },
     "metadata": {},
     "output_type": "display_data"
    },
    {
     "data": {
      "application/vnd.jupyter.widget-view+json": {
       "model_id": "d62ed40ab6f443c7b384c2b860408ed7",
       "version_major": 2,
       "version_minor": 0
      },
      "text/plain": [
       "Feature collision:   0%|          | 0/10 [00:00<?, ?it/s]"
      ]
     },
     "metadata": {},
     "output_type": "display_data"
    },
    {
     "data": {
      "application/vnd.jupyter.widget-view+json": {
       "model_id": "98eb91ee1c0f4f0e9583af801e9912f7",
       "version_major": 2,
       "version_minor": 0
      },
      "text/plain": [
       "Feature collision:   0%|          | 0/10 [00:00<?, ?it/s]"
      ]
     },
     "metadata": {},
     "output_type": "display_data"
    },
    {
     "data": {
      "application/vnd.jupyter.widget-view+json": {
       "model_id": "be458b7f238c4e6eb9bf8b92362305a3",
       "version_major": 2,
       "version_minor": 0
      },
      "text/plain": [
       "Feature collision:   0%|          | 0/10 [00:00<?, ?it/s]"
      ]
     },
     "metadata": {},
     "output_type": "display_data"
    },
    {
     "data": {
      "application/vnd.jupyter.widget-view+json": {
       "model_id": "1bc2bf132d194f45888ffa6ae6ebe109",
       "version_major": 2,
       "version_minor": 0
      },
      "text/plain": [
       "Feature collision:   0%|          | 0/10 [00:00<?, ?it/s]"
      ]
     },
     "metadata": {},
     "output_type": "display_data"
    },
    {
     "data": {
      "application/vnd.jupyter.widget-view+json": {
       "model_id": "8fc0d8d6939d41a49171141eae6abf16",
       "version_major": 2,
       "version_minor": 0
      },
      "text/plain": [
       "Feature collision:   0%|          | 0/10 [00:00<?, ?it/s]"
      ]
     },
     "metadata": {},
     "output_type": "display_data"
    },
    {
     "data": {
      "application/vnd.jupyter.widget-view+json": {
       "model_id": "210eb08212b541a9bc74360d580606c2",
       "version_major": 2,
       "version_minor": 0
      },
      "text/plain": [
       "Feature collision:   0%|          | 0/10 [00:00<?, ?it/s]"
      ]
     },
     "metadata": {},
     "output_type": "display_data"
    },
    {
     "data": {
      "application/vnd.jupyter.widget-view+json": {
       "model_id": "9635eac859ed4dd1be4254d0d07c281b",
       "version_major": 2,
       "version_minor": 0
      },
      "text/plain": [
       "Feature collision:   0%|          | 0/10 [00:00<?, ?it/s]"
      ]
     },
     "metadata": {},
     "output_type": "display_data"
    },
    {
     "data": {
      "application/vnd.jupyter.widget-view+json": {
       "model_id": "84583c41bf7e4f8f9709d0c5226839ec",
       "version_major": 2,
       "version_minor": 0
      },
      "text/plain": [
       "Feature collision:   0%|          | 0/10 [00:00<?, ?it/s]"
      ]
     },
     "metadata": {},
     "output_type": "display_data"
    },
    {
     "data": {
      "application/vnd.jupyter.widget-view+json": {
       "model_id": "d24df61bc3b44755816bdf5b0bfe1c29",
       "version_major": 2,
       "version_minor": 0
      },
      "text/plain": [
       "Feature collision:   0%|          | 0/10 [00:00<?, ?it/s]"
      ]
     },
     "metadata": {},
     "output_type": "display_data"
    },
    {
     "data": {
      "application/vnd.jupyter.widget-view+json": {
       "model_id": "9fba5179239a4e22acb006fed36c3aba",
       "version_major": 2,
       "version_minor": 0
      },
      "text/plain": [
       "Feature collision:   0%|          | 0/10 [00:00<?, ?it/s]"
      ]
     },
     "metadata": {},
     "output_type": "display_data"
    },
    {
     "data": {
      "application/vnd.jupyter.widget-view+json": {
       "model_id": "62c5bd317c664cf1ab39197bcbe981b7",
       "version_major": 2,
       "version_minor": 0
      },
      "text/plain": [
       "Feature collision:   0%|          | 0/10 [00:00<?, ?it/s]"
      ]
     },
     "metadata": {},
     "output_type": "display_data"
    },
    {
     "data": {
      "application/vnd.jupyter.widget-view+json": {
       "model_id": "d33fd928394046f2bc3d37aeaeb02449",
       "version_major": 2,
       "version_minor": 0
      },
      "text/plain": [
       "Feature collision:   0%|          | 0/10 [00:00<?, ?it/s]"
      ]
     },
     "metadata": {},
     "output_type": "display_data"
    },
    {
     "data": {
      "application/vnd.jupyter.widget-view+json": {
       "model_id": "805e42d411c24afbbdd4d3088e49f170",
       "version_major": 2,
       "version_minor": 0
      },
      "text/plain": [
       "Feature collision:   0%|          | 0/10 [00:00<?, ?it/s]"
      ]
     },
     "metadata": {},
     "output_type": "display_data"
    },
    {
     "data": {
      "application/vnd.jupyter.widget-view+json": {
       "model_id": "86712d8a2e22436ba6ba9c0bfb40e221",
       "version_major": 2,
       "version_minor": 0
      },
      "text/plain": [
       "Feature collision:   0%|          | 0/10 [00:00<?, ?it/s]"
      ]
     },
     "metadata": {},
     "output_type": "display_data"
    },
    {
     "data": {
      "application/vnd.jupyter.widget-view+json": {
       "model_id": "946d8cc70a5347f5b795997e4934dceb",
       "version_major": 2,
       "version_minor": 0
      },
      "text/plain": [
       "Feature collision:   0%|          | 0/10 [00:00<?, ?it/s]"
      ]
     },
     "metadata": {},
     "output_type": "display_data"
    },
    {
     "data": {
      "application/vnd.jupyter.widget-view+json": {
       "model_id": "5108af456fcc47feb0aa4a0d65afe50d",
       "version_major": 2,
       "version_minor": 0
      },
      "text/plain": [
       "Feature collision:   0%|          | 0/10 [00:00<?, ?it/s]"
      ]
     },
     "metadata": {},
     "output_type": "display_data"
    },
    {
     "data": {
      "application/vnd.jupyter.widget-view+json": {
       "model_id": "5abac814cba645ac9c47227be0546241",
       "version_major": 2,
       "version_minor": 0
      },
      "text/plain": [
       "Feature collision:   0%|          | 0/10 [00:00<?, ?it/s]"
      ]
     },
     "metadata": {},
     "output_type": "display_data"
    },
    {
     "data": {
      "application/vnd.jupyter.widget-view+json": {
       "model_id": "081b7852e0ef490cbfa213695d4b7701",
       "version_major": 2,
       "version_minor": 0
      },
      "text/plain": [
       "Feature collision:   0%|          | 0/10 [00:00<?, ?it/s]"
      ]
     },
     "metadata": {},
     "output_type": "display_data"
    },
    {
     "data": {
      "application/vnd.jupyter.widget-view+json": {
       "model_id": "25bc5daf1a5443bea993bb9326017572",
       "version_major": 2,
       "version_minor": 0
      },
      "text/plain": [
       "Feature collision:   0%|          | 0/10 [00:00<?, ?it/s]"
      ]
     },
     "metadata": {},
     "output_type": "display_data"
    },
    {
     "data": {
      "application/vnd.jupyter.widget-view+json": {
       "model_id": "573a75191aec42518962a7998189324e",
       "version_major": 2,
       "version_minor": 0
      },
      "text/plain": [
       "Feature collision:   0%|          | 0/10 [00:00<?, ?it/s]"
      ]
     },
     "metadata": {},
     "output_type": "display_data"
    },
    {
     "data": {
      "application/vnd.jupyter.widget-view+json": {
       "model_id": "1f19a38c344d41969c54d2c339f22cde",
       "version_major": 2,
       "version_minor": 0
      },
      "text/plain": [
       "Feature collision:   0%|          | 0/10 [00:00<?, ?it/s]"
      ]
     },
     "metadata": {},
     "output_type": "display_data"
    },
    {
     "data": {
      "application/vnd.jupyter.widget-view+json": {
       "model_id": "75475335644f479285dea51f7bbbe935",
       "version_major": 2,
       "version_minor": 0
      },
      "text/plain": [
       "Feature collision:   0%|          | 0/10 [00:00<?, ?it/s]"
      ]
     },
     "metadata": {},
     "output_type": "display_data"
    },
    {
     "data": {
      "application/vnd.jupyter.widget-view+json": {
       "model_id": "9c328f3818bd41c3ac11222d0735a063",
       "version_major": 2,
       "version_minor": 0
      },
      "text/plain": [
       "Feature collision:   0%|          | 0/10 [00:00<?, ?it/s]"
      ]
     },
     "metadata": {},
     "output_type": "display_data"
    },
    {
     "data": {
      "application/vnd.jupyter.widget-view+json": {
       "model_id": "fda8bbfbd0f745b3b0a03c0a14594d22",
       "version_major": 2,
       "version_minor": 0
      },
      "text/plain": [
       "Feature collision:   0%|          | 0/10 [00:00<?, ?it/s]"
      ]
     },
     "metadata": {},
     "output_type": "display_data"
    },
    {
     "data": {
      "application/vnd.jupyter.widget-view+json": {
       "model_id": "39d64ad92bda493f9948654a8734e232",
       "version_major": 2,
       "version_minor": 0
      },
      "text/plain": [
       "Feature collision:   0%|          | 0/10 [00:00<?, ?it/s]"
      ]
     },
     "metadata": {},
     "output_type": "display_data"
    },
    {
     "data": {
      "application/vnd.jupyter.widget-view+json": {
       "model_id": "105e208d6c3c4e078a9d7f79d9fec33e",
       "version_major": 2,
       "version_minor": 0
      },
      "text/plain": [
       "Feature collision:   0%|          | 0/10 [00:00<?, ?it/s]"
      ]
     },
     "metadata": {},
     "output_type": "display_data"
    },
    {
     "data": {
      "application/vnd.jupyter.widget-view+json": {
       "model_id": "767b71fb41054180a0ba5ed3478b2479",
       "version_major": 2,
       "version_minor": 0
      },
      "text/plain": [
       "Feature collision:   0%|          | 0/10 [00:00<?, ?it/s]"
      ]
     },
     "metadata": {},
     "output_type": "display_data"
    },
    {
     "data": {
      "application/vnd.jupyter.widget-view+json": {
       "model_id": "f1f86ab01876403a8fed38a5f079ebab",
       "version_major": 2,
       "version_minor": 0
      },
      "text/plain": [
       "Feature collision:   0%|          | 0/10 [00:00<?, ?it/s]"
      ]
     },
     "metadata": {},
     "output_type": "display_data"
    },
    {
     "data": {
      "application/vnd.jupyter.widget-view+json": {
       "model_id": "e1f7bd7f77134296912c526c8962b55e",
       "version_major": 2,
       "version_minor": 0
      },
      "text/plain": [
       "Feature collision:   0%|          | 0/10 [00:00<?, ?it/s]"
      ]
     },
     "metadata": {},
     "output_type": "display_data"
    },
    {
     "data": {
      "application/vnd.jupyter.widget-view+json": {
       "model_id": "a5cd6d74b39d4ee88296b0a8cfbb6465",
       "version_major": 2,
       "version_minor": 0
      },
      "text/plain": [
       "Feature collision:   0%|          | 0/10 [00:00<?, ?it/s]"
      ]
     },
     "metadata": {},
     "output_type": "display_data"
    },
    {
     "data": {
      "application/vnd.jupyter.widget-view+json": {
       "model_id": "df7e2a933862475abd0747b1a095368b",
       "version_major": 2,
       "version_minor": 0
      },
      "text/plain": [
       "Feature collision:   0%|          | 0/10 [00:00<?, ?it/s]"
      ]
     },
     "metadata": {},
     "output_type": "display_data"
    },
    {
     "data": {
      "application/vnd.jupyter.widget-view+json": {
       "model_id": "ec4b93f0c1144059aac7aeb2c92838aa",
       "version_major": 2,
       "version_minor": 0
      },
      "text/plain": [
       "Feature collision:   0%|          | 0/10 [00:00<?, ?it/s]"
      ]
     },
     "metadata": {},
     "output_type": "display_data"
    },
    {
     "data": {
      "application/vnd.jupyter.widget-view+json": {
       "model_id": "5b0d4d4610824fbdba66665c9525a99a",
       "version_major": 2,
       "version_minor": 0
      },
      "text/plain": [
       "Feature collision:   0%|          | 0/10 [00:00<?, ?it/s]"
      ]
     },
     "metadata": {},
     "output_type": "display_data"
    },
    {
     "data": {
      "application/vnd.jupyter.widget-view+json": {
       "model_id": "ca7698c20c9c45f982a3d51ca30234be",
       "version_major": 2,
       "version_minor": 0
      },
      "text/plain": [
       "Feature collision:   0%|          | 0/10 [00:00<?, ?it/s]"
      ]
     },
     "metadata": {},
     "output_type": "display_data"
    },
    {
     "data": {
      "application/vnd.jupyter.widget-view+json": {
       "model_id": "7a28ba5d420745c0afd3a17d8af5a621",
       "version_major": 2,
       "version_minor": 0
      },
      "text/plain": [
       "Feature collision:   0%|          | 0/10 [00:00<?, ?it/s]"
      ]
     },
     "metadata": {},
     "output_type": "display_data"
    },
    {
     "data": {
      "application/vnd.jupyter.widget-view+json": {
       "model_id": "eef1a4948c384eeab11d3f3f775059c8",
       "version_major": 2,
       "version_minor": 0
      },
      "text/plain": [
       "Feature collision:   0%|          | 0/10 [00:00<?, ?it/s]"
      ]
     },
     "metadata": {},
     "output_type": "display_data"
    },
    {
     "data": {
      "application/vnd.jupyter.widget-view+json": {
       "model_id": "fcc241b3be8a49b7bec24747a8f890ff",
       "version_major": 2,
       "version_minor": 0
      },
      "text/plain": [
       "Feature collision:   0%|          | 0/10 [00:00<?, ?it/s]"
      ]
     },
     "metadata": {},
     "output_type": "display_data"
    },
    {
     "data": {
      "application/vnd.jupyter.widget-view+json": {
       "model_id": "9d9e8e365a544f63a0946b63bcc8d55e",
       "version_major": 2,
       "version_minor": 0
      },
      "text/plain": [
       "Feature collision:   0%|          | 0/10 [00:00<?, ?it/s]"
      ]
     },
     "metadata": {},
     "output_type": "display_data"
    },
    {
     "data": {
      "application/vnd.jupyter.widget-view+json": {
       "model_id": "26b65fa1589b459ba513f924fe730e17",
       "version_major": 2,
       "version_minor": 0
      },
      "text/plain": [
       "Feature collision:   0%|          | 0/10 [00:00<?, ?it/s]"
      ]
     },
     "metadata": {},
     "output_type": "display_data"
    },
    {
     "data": {
      "application/vnd.jupyter.widget-view+json": {
       "model_id": "9fb96049c06b4de59742276f98697852",
       "version_major": 2,
       "version_minor": 0
      },
      "text/plain": [
       "Feature collision:   0%|          | 0/10 [00:00<?, ?it/s]"
      ]
     },
     "metadata": {},
     "output_type": "display_data"
    },
    {
     "data": {
      "application/vnd.jupyter.widget-view+json": {
       "model_id": "0162ba8b5bd5430883072e194341bf68",
       "version_major": 2,
       "version_minor": 0
      },
      "text/plain": [
       "Feature collision:   0%|          | 0/10 [00:00<?, ?it/s]"
      ]
     },
     "metadata": {},
     "output_type": "display_data"
    },
    {
     "data": {
      "application/vnd.jupyter.widget-view+json": {
       "model_id": "38bab1f17e2d499a9777a69c82a62ff2",
       "version_major": 2,
       "version_minor": 0
      },
      "text/plain": [
       "Feature collision:   0%|          | 0/10 [00:00<?, ?it/s]"
      ]
     },
     "metadata": {},
     "output_type": "display_data"
    },
    {
     "data": {
      "application/vnd.jupyter.widget-view+json": {
       "model_id": "695ba6431c2a40f293eed77f08a22892",
       "version_major": 2,
       "version_minor": 0
      },
      "text/plain": [
       "Feature collision:   0%|          | 0/10 [00:00<?, ?it/s]"
      ]
     },
     "metadata": {},
     "output_type": "display_data"
    },
    {
     "data": {
      "application/vnd.jupyter.widget-view+json": {
       "model_id": "0146ee6f20ef47bb9e21fe73b5168938",
       "version_major": 2,
       "version_minor": 0
      },
      "text/plain": [
       "Feature collision:   0%|          | 0/10 [00:00<?, ?it/s]"
      ]
     },
     "metadata": {},
     "output_type": "display_data"
    },
    {
     "data": {
      "application/vnd.jupyter.widget-view+json": {
       "model_id": "8652cddbe7d444d09da82bc913312ed5",
       "version_major": 2,
       "version_minor": 0
      },
      "text/plain": [
       "Feature collision:   0%|          | 0/10 [00:00<?, ?it/s]"
      ]
     },
     "metadata": {},
     "output_type": "display_data"
    },
    {
     "data": {
      "application/vnd.jupyter.widget-view+json": {
       "model_id": "39efda01fcf74cbaa3cd0814f1f0ed9d",
       "version_major": 2,
       "version_minor": 0
      },
      "text/plain": [
       "Feature collision:   0%|          | 0/10 [00:00<?, ?it/s]"
      ]
     },
     "metadata": {},
     "output_type": "display_data"
    },
    {
     "data": {
      "application/vnd.jupyter.widget-view+json": {
       "model_id": "03f96359f5e2408c9c29bcb349b98c6d",
       "version_major": 2,
       "version_minor": 0
      },
      "text/plain": [
       "Feature collision:   0%|          | 0/10 [00:00<?, ?it/s]"
      ]
     },
     "metadata": {},
     "output_type": "display_data"
    },
    {
     "data": {
      "application/vnd.jupyter.widget-view+json": {
       "model_id": "1704edcc607049ffbf6a326905393d05",
       "version_major": 2,
       "version_minor": 0
      },
      "text/plain": [
       "Feature collision:   0%|          | 0/10 [00:00<?, ?it/s]"
      ]
     },
     "metadata": {},
     "output_type": "display_data"
    },
    {
     "data": {
      "application/vnd.jupyter.widget-view+json": {
       "model_id": "79dc538e85854461bdbf95e5fad73f76",
       "version_major": 2,
       "version_minor": 0
      },
      "text/plain": [
       "Feature collision:   0%|          | 0/10 [00:00<?, ?it/s]"
      ]
     },
     "metadata": {},
     "output_type": "display_data"
    },
    {
     "data": {
      "application/vnd.jupyter.widget-view+json": {
       "model_id": "a2736ae917c14ac5b49b2c0f0be6fb1c",
       "version_major": 2,
       "version_minor": 0
      },
      "text/plain": [
       "Feature collision:   0%|          | 0/10 [00:00<?, ?it/s]"
      ]
     },
     "metadata": {},
     "output_type": "display_data"
    },
    {
     "data": {
      "application/vnd.jupyter.widget-view+json": {
       "model_id": "d4b953570aa04870982c52884fd776a2",
       "version_major": 2,
       "version_minor": 0
      },
      "text/plain": [
       "Feature collision:   0%|          | 0/10 [00:00<?, ?it/s]"
      ]
     },
     "metadata": {},
     "output_type": "display_data"
    },
    {
     "data": {
      "application/vnd.jupyter.widget-view+json": {
       "model_id": "30a3e16d77ed44a7b2459f9cd38c2aaa",
       "version_major": 2,
       "version_minor": 0
      },
      "text/plain": [
       "Feature collision:   0%|          | 0/10 [00:00<?, ?it/s]"
      ]
     },
     "metadata": {},
     "output_type": "display_data"
    },
    {
     "data": {
      "application/vnd.jupyter.widget-view+json": {
       "model_id": "72d5f9a940ae40f9a7fc502850b0c470",
       "version_major": 2,
       "version_minor": 0
      },
      "text/plain": [
       "Feature collision:   0%|          | 0/10 [00:00<?, ?it/s]"
      ]
     },
     "metadata": {},
     "output_type": "display_data"
    },
    {
     "data": {
      "application/vnd.jupyter.widget-view+json": {
       "model_id": "1e798ec7de36472bae7ce8b502a87034",
       "version_major": 2,
       "version_minor": 0
      },
      "text/plain": [
       "Feature collision:   0%|          | 0/10 [00:00<?, ?it/s]"
      ]
     },
     "metadata": {},
     "output_type": "display_data"
    },
    {
     "data": {
      "application/vnd.jupyter.widget-view+json": {
       "model_id": "f7df0eb38ed6465aa59a978ec7242008",
       "version_major": 2,
       "version_minor": 0
      },
      "text/plain": [
       "Feature collision:   0%|          | 0/10 [00:00<?, ?it/s]"
      ]
     },
     "metadata": {},
     "output_type": "display_data"
    },
    {
     "data": {
      "application/vnd.jupyter.widget-view+json": {
       "model_id": "7f0b8530b4e04b5187e5b823bbea8b97",
       "version_major": 2,
       "version_minor": 0
      },
      "text/plain": [
       "Feature collision:   0%|          | 0/10 [00:00<?, ?it/s]"
      ]
     },
     "metadata": {},
     "output_type": "display_data"
    },
    {
     "data": {
      "application/vnd.jupyter.widget-view+json": {
       "model_id": "b020538857714bdeb0f0f8ea263d6518",
       "version_major": 2,
       "version_minor": 0
      },
      "text/plain": [
       "Feature collision:   0%|          | 0/10 [00:00<?, ?it/s]"
      ]
     },
     "metadata": {},
     "output_type": "display_data"
    },
    {
     "data": {
      "application/vnd.jupyter.widget-view+json": {
       "model_id": "f8dd553b083c42c7bd19c4b9a0bf06df",
       "version_major": 2,
       "version_minor": 0
      },
      "text/plain": [
       "Feature collision:   0%|          | 0/10 [00:00<?, ?it/s]"
      ]
     },
     "metadata": {},
     "output_type": "display_data"
    },
    {
     "data": {
      "application/vnd.jupyter.widget-view+json": {
       "model_id": "29a178e3592e48e3967e63006f2b752b",
       "version_major": 2,
       "version_minor": 0
      },
      "text/plain": [
       "Feature collision:   0%|          | 0/10 [00:00<?, ?it/s]"
      ]
     },
     "metadata": {},
     "output_type": "display_data"
    },
    {
     "data": {
      "application/vnd.jupyter.widget-view+json": {
       "model_id": "71ff863a27c54269a1fcc520fd633f36",
       "version_major": 2,
       "version_minor": 0
      },
      "text/plain": [
       "Feature collision:   0%|          | 0/10 [00:00<?, ?it/s]"
      ]
     },
     "metadata": {},
     "output_type": "display_data"
    },
    {
     "data": {
      "application/vnd.jupyter.widget-view+json": {
       "model_id": "3423789aadb5442b96014c8de55fe5ed",
       "version_major": 2,
       "version_minor": 0
      },
      "text/plain": [
       "Feature collision:   0%|          | 0/10 [00:00<?, ?it/s]"
      ]
     },
     "metadata": {},
     "output_type": "display_data"
    },
    {
     "data": {
      "application/vnd.jupyter.widget-view+json": {
       "model_id": "d50f57ed4ad04d4a953a3e6f8d3a48cb",
       "version_major": 2,
       "version_minor": 0
      },
      "text/plain": [
       "Feature collision:   0%|          | 0/10 [00:00<?, ?it/s]"
      ]
     },
     "metadata": {},
     "output_type": "display_data"
    },
    {
     "data": {
      "application/vnd.jupyter.widget-view+json": {
       "model_id": "439b24f5472d439ebaac26e948b3ff58",
       "version_major": 2,
       "version_minor": 0
      },
      "text/plain": [
       "Feature collision:   0%|          | 0/10 [00:00<?, ?it/s]"
      ]
     },
     "metadata": {},
     "output_type": "display_data"
    },
    {
     "data": {
      "application/vnd.jupyter.widget-view+json": {
       "model_id": "0ac358927d7f4005b9a2d35cc9806c9d",
       "version_major": 2,
       "version_minor": 0
      },
      "text/plain": [
       "Feature collision:   0%|          | 0/10 [00:00<?, ?it/s]"
      ]
     },
     "metadata": {},
     "output_type": "display_data"
    },
    {
     "data": {
      "application/vnd.jupyter.widget-view+json": {
       "model_id": "892cb3b2f6e8482082f836ee3e32a170",
       "version_major": 2,
       "version_minor": 0
      },
      "text/plain": [
       "Feature collision:   0%|          | 0/10 [00:00<?, ?it/s]"
      ]
     },
     "metadata": {},
     "output_type": "display_data"
    },
    {
     "data": {
      "application/vnd.jupyter.widget-view+json": {
       "model_id": "1352468a11f241588258409176289028",
       "version_major": 2,
       "version_minor": 0
      },
      "text/plain": [
       "Feature collision:   0%|          | 0/10 [00:00<?, ?it/s]"
      ]
     },
     "metadata": {},
     "output_type": "display_data"
    },
    {
     "data": {
      "application/vnd.jupyter.widget-view+json": {
       "model_id": "46266849e3474692822c63476afb93c3",
       "version_major": 2,
       "version_minor": 0
      },
      "text/plain": [
       "Feature collision:   0%|          | 0/10 [00:00<?, ?it/s]"
      ]
     },
     "metadata": {},
     "output_type": "display_data"
    },
    {
     "data": {
      "application/vnd.jupyter.widget-view+json": {
       "model_id": "61c7422fcd3f42d182deb0f0d566f1e8",
       "version_major": 2,
       "version_minor": 0
      },
      "text/plain": [
       "Feature collision:   0%|          | 0/10 [00:00<?, ?it/s]"
      ]
     },
     "metadata": {},
     "output_type": "display_data"
    },
    {
     "data": {
      "application/vnd.jupyter.widget-view+json": {
       "model_id": "b284a3bf5aae49228a0a4abebcf5d16a",
       "version_major": 2,
       "version_minor": 0
      },
      "text/plain": [
       "Feature collision:   0%|          | 0/10 [00:00<?, ?it/s]"
      ]
     },
     "metadata": {},
     "output_type": "display_data"
    },
    {
     "data": {
      "application/vnd.jupyter.widget-view+json": {
       "model_id": "1a679847dd0a4155a773ca6dde528fd9",
       "version_major": 2,
       "version_minor": 0
      },
      "text/plain": [
       "Feature collision:   0%|          | 0/10 [00:00<?, ?it/s]"
      ]
     },
     "metadata": {},
     "output_type": "display_data"
    },
    {
     "data": {
      "application/vnd.jupyter.widget-view+json": {
       "model_id": "d421498a696f4e2f929e997e22367d9f",
       "version_major": 2,
       "version_minor": 0
      },
      "text/plain": [
       "Feature collision:   0%|          | 0/10 [00:00<?, ?it/s]"
      ]
     },
     "metadata": {},
     "output_type": "display_data"
    },
    {
     "data": {
      "application/vnd.jupyter.widget-view+json": {
       "model_id": "5d1194c56d514ac6a7bd07196a87bfde",
       "version_major": 2,
       "version_minor": 0
      },
      "text/plain": [
       "Feature collision:   0%|          | 0/10 [00:00<?, ?it/s]"
      ]
     },
     "metadata": {},
     "output_type": "display_data"
    },
    {
     "data": {
      "application/vnd.jupyter.widget-view+json": {
       "model_id": "24f233a491154d0c907dd976167acfb6",
       "version_major": 2,
       "version_minor": 0
      },
      "text/plain": [
       "Feature collision:   0%|          | 0/10 [00:00<?, ?it/s]"
      ]
     },
     "metadata": {},
     "output_type": "display_data"
    },
    {
     "data": {
      "application/vnd.jupyter.widget-view+json": {
       "model_id": "80cb40a63a2048cb9e652c7fb6681bc7",
       "version_major": 2,
       "version_minor": 0
      },
      "text/plain": [
       "Feature collision:   0%|          | 0/10 [00:00<?, ?it/s]"
      ]
     },
     "metadata": {},
     "output_type": "display_data"
    },
    {
     "data": {
      "application/vnd.jupyter.widget-view+json": {
       "model_id": "de0ca209297b4f27a9df008fe2c2f427",
       "version_major": 2,
       "version_minor": 0
      },
      "text/plain": [
       "Feature collision:   0%|          | 0/10 [00:00<?, ?it/s]"
      ]
     },
     "metadata": {},
     "output_type": "display_data"
    },
    {
     "data": {
      "application/vnd.jupyter.widget-view+json": {
       "model_id": "f81bc59a0eaf49298c82c0049cbc45f2",
       "version_major": 2,
       "version_minor": 0
      },
      "text/plain": [
       "Feature collision:   0%|          | 0/10 [00:00<?, ?it/s]"
      ]
     },
     "metadata": {},
     "output_type": "display_data"
    },
    {
     "data": {
      "application/vnd.jupyter.widget-view+json": {
       "model_id": "5026c27d260c4c54a1a4190a1049df93",
       "version_major": 2,
       "version_minor": 0
      },
      "text/plain": [
       "Feature collision:   0%|          | 0/10 [00:00<?, ?it/s]"
      ]
     },
     "metadata": {},
     "output_type": "display_data"
    },
    {
     "data": {
      "application/vnd.jupyter.widget-view+json": {
       "model_id": "3a7ba6b560404ddea2e7cc26c5fdc43f",
       "version_major": 2,
       "version_minor": 0
      },
      "text/plain": [
       "Feature collision:   0%|          | 0/10 [00:00<?, ?it/s]"
      ]
     },
     "metadata": {},
     "output_type": "display_data"
    },
    {
     "data": {
      "application/vnd.jupyter.widget-view+json": {
       "model_id": "fa04e3faa01542319f9493c9723ebc27",
       "version_major": 2,
       "version_minor": 0
      },
      "text/plain": [
       "Feature collision:   0%|          | 0/10 [00:00<?, ?it/s]"
      ]
     },
     "metadata": {},
     "output_type": "display_data"
    },
    {
     "data": {
      "application/vnd.jupyter.widget-view+json": {
       "model_id": "8b42006408994004bac7a58051d05e3f",
       "version_major": 2,
       "version_minor": 0
      },
      "text/plain": [
       "Feature collision:   0%|          | 0/10 [00:00<?, ?it/s]"
      ]
     },
     "metadata": {},
     "output_type": "display_data"
    },
    {
     "data": {
      "application/vnd.jupyter.widget-view+json": {
       "model_id": "d1417f4848ab4d13aaee8040caa743e2",
       "version_major": 2,
       "version_minor": 0
      },
      "text/plain": [
       "Feature collision:   0%|          | 0/10 [00:00<?, ?it/s]"
      ]
     },
     "metadata": {},
     "output_type": "display_data"
    },
    {
     "data": {
      "application/vnd.jupyter.widget-view+json": {
       "model_id": "07c624a1341f4ff580dbe4b84d8d1b0c",
       "version_major": 2,
       "version_minor": 0
      },
      "text/plain": [
       "Feature collision:   0%|          | 0/10 [00:00<?, ?it/s]"
      ]
     },
     "metadata": {},
     "output_type": "display_data"
    },
    {
     "data": {
      "application/vnd.jupyter.widget-view+json": {
       "model_id": "6d8ec97b71954d8d99df81bcb46832a4",
       "version_major": 2,
       "version_minor": 0
      },
      "text/plain": [
       "Feature collision:   0%|          | 0/10 [00:00<?, ?it/s]"
      ]
     },
     "metadata": {},
     "output_type": "display_data"
    },
    {
     "data": {
      "application/vnd.jupyter.widget-view+json": {
       "model_id": "eae6e7ccfd9b41458926a37b38d83996",
       "version_major": 2,
       "version_minor": 0
      },
      "text/plain": [
       "Feature collision:   0%|          | 0/10 [00:00<?, ?it/s]"
      ]
     },
     "metadata": {},
     "output_type": "display_data"
    },
    {
     "data": {
      "application/vnd.jupyter.widget-view+json": {
       "model_id": "d411a8cb83234f9a9f3088f8ce934493",
       "version_major": 2,
       "version_minor": 0
      },
      "text/plain": [
       "Feature collision:   0%|          | 0/10 [00:00<?, ?it/s]"
      ]
     },
     "metadata": {},
     "output_type": "display_data"
    },
    {
     "data": {
      "application/vnd.jupyter.widget-view+json": {
       "model_id": "ce4011accfcd4f14842c3557236b41a7",
       "version_major": 2,
       "version_minor": 0
      },
      "text/plain": [
       "Feature collision:   0%|          | 0/10 [00:00<?, ?it/s]"
      ]
     },
     "metadata": {},
     "output_type": "display_data"
    },
    {
     "data": {
      "application/vnd.jupyter.widget-view+json": {
       "model_id": "9070070425dc4733bc3856798e4e9d2c",
       "version_major": 2,
       "version_minor": 0
      },
      "text/plain": [
       "Feature collision:   0%|          | 0/10 [00:00<?, ?it/s]"
      ]
     },
     "metadata": {},
     "output_type": "display_data"
    },
    {
     "data": {
      "application/vnd.jupyter.widget-view+json": {
       "model_id": "0aed979a78ab4d919a8d07569b16082e",
       "version_major": 2,
       "version_minor": 0
      },
      "text/plain": [
       "Feature collision:   0%|          | 0/10 [00:00<?, ?it/s]"
      ]
     },
     "metadata": {},
     "output_type": "display_data"
    },
    {
     "data": {
      "application/vnd.jupyter.widget-view+json": {
       "model_id": "b68fedd4b71c4f66aefd29abadbb4204",
       "version_major": 2,
       "version_minor": 0
      },
      "text/plain": [
       "Feature collision:   0%|          | 0/10 [00:00<?, ?it/s]"
      ]
     },
     "metadata": {},
     "output_type": "display_data"
    },
    {
     "data": {
      "application/vnd.jupyter.widget-view+json": {
       "model_id": "9adb7160e81d4baa82fd40fddbd39044",
       "version_major": 2,
       "version_minor": 0
      },
      "text/plain": [
       "Feature collision:   0%|          | 0/10 [00:00<?, ?it/s]"
      ]
     },
     "metadata": {},
     "output_type": "display_data"
    },
    {
     "data": {
      "application/vnd.jupyter.widget-view+json": {
       "model_id": "885715b073984465b20e555a6fc427d9",
       "version_major": 2,
       "version_minor": 0
      },
      "text/plain": [
       "Feature collision:   0%|          | 0/10 [00:00<?, ?it/s]"
      ]
     },
     "metadata": {},
     "output_type": "display_data"
    },
    {
     "data": {
      "application/vnd.jupyter.widget-view+json": {
       "model_id": "387e8146335f4660b0f92ae45c5240e4",
       "version_major": 2,
       "version_minor": 0
      },
      "text/plain": [
       "Feature collision:   0%|          | 0/10 [00:00<?, ?it/s]"
      ]
     },
     "metadata": {},
     "output_type": "display_data"
    },
    {
     "data": {
      "application/vnd.jupyter.widget-view+json": {
       "model_id": "784b651e51374e02802de67809425342",
       "version_major": 2,
       "version_minor": 0
      },
      "text/plain": [
       "Feature collision:   0%|          | 0/10 [00:00<?, ?it/s]"
      ]
     },
     "metadata": {},
     "output_type": "display_data"
    },
    {
     "data": {
      "application/vnd.jupyter.widget-view+json": {
       "model_id": "69dd76ed3f1a45ef9d325395f91436a8",
       "version_major": 2,
       "version_minor": 0
      },
      "text/plain": [
       "Feature collision:   0%|          | 0/10 [00:00<?, ?it/s]"
      ]
     },
     "metadata": {},
     "output_type": "display_data"
    },
    {
     "data": {
      "application/vnd.jupyter.widget-view+json": {
       "model_id": "7d2445954f3747f4bef26b0b71c418f1",
       "version_major": 2,
       "version_minor": 0
      },
      "text/plain": [
       "Feature collision:   0%|          | 0/10 [00:00<?, ?it/s]"
      ]
     },
     "metadata": {},
     "output_type": "display_data"
    },
    {
     "data": {
      "application/vnd.jupyter.widget-view+json": {
       "model_id": "499d33acf59446fd9d87aa13ca930deb",
       "version_major": 2,
       "version_minor": 0
      },
      "text/plain": [
       "Feature collision:   0%|          | 0/10 [00:00<?, ?it/s]"
      ]
     },
     "metadata": {},
     "output_type": "display_data"
    },
    {
     "data": {
      "application/vnd.jupyter.widget-view+json": {
       "model_id": "bb1b8ccda1ea45019ac8205392021ee3",
       "version_major": 2,
       "version_minor": 0
      },
      "text/plain": [
       "Feature collision:   0%|          | 0/10 [00:00<?, ?it/s]"
      ]
     },
     "metadata": {},
     "output_type": "display_data"
    },
    {
     "data": {
      "application/vnd.jupyter.widget-view+json": {
       "model_id": "263715e39e644714ab04e4d8289dc9af",
       "version_major": 2,
       "version_minor": 0
      },
      "text/plain": [
       "Feature collision:   0%|          | 0/10 [00:00<?, ?it/s]"
      ]
     },
     "metadata": {},
     "output_type": "display_data"
    },
    {
     "data": {
      "application/vnd.jupyter.widget-view+json": {
       "model_id": "de8307dbf4ae4284a57321f656a01217",
       "version_major": 2,
       "version_minor": 0
      },
      "text/plain": [
       "Feature collision:   0%|          | 0/10 [00:00<?, ?it/s]"
      ]
     },
     "metadata": {},
     "output_type": "display_data"
    },
    {
     "data": {
      "application/vnd.jupyter.widget-view+json": {
       "model_id": "7830bc79b4a64a4da6be3c8b5c594725",
       "version_major": 2,
       "version_minor": 0
      },
      "text/plain": [
       "Feature collision:   0%|          | 0/10 [00:00<?, ?it/s]"
      ]
     },
     "metadata": {},
     "output_type": "display_data"
    },
    {
     "data": {
      "application/vnd.jupyter.widget-view+json": {
       "model_id": "aca4e38081e0429795a534ded730777f",
       "version_major": 2,
       "version_minor": 0
      },
      "text/plain": [
       "Feature collision:   0%|          | 0/10 [00:00<?, ?it/s]"
      ]
     },
     "metadata": {},
     "output_type": "display_data"
    },
    {
     "data": {
      "application/vnd.jupyter.widget-view+json": {
       "model_id": "eebc0f31a89d4ac186aed87353c6e449",
       "version_major": 2,
       "version_minor": 0
      },
      "text/plain": [
       "Feature collision:   0%|          | 0/10 [00:00<?, ?it/s]"
      ]
     },
     "metadata": {},
     "output_type": "display_data"
    },
    {
     "data": {
      "application/vnd.jupyter.widget-view+json": {
       "model_id": "ca36bb6fbc0644c3a50f81a0e634340f",
       "version_major": 2,
       "version_minor": 0
      },
      "text/plain": [
       "Feature collision:   0%|          | 0/10 [00:00<?, ?it/s]"
      ]
     },
     "metadata": {},
     "output_type": "display_data"
    },
    {
     "data": {
      "application/vnd.jupyter.widget-view+json": {
       "model_id": "6b91040b93a745daadd4bcb745eafaeb",
       "version_major": 2,
       "version_minor": 0
      },
      "text/plain": [
       "Feature collision:   0%|          | 0/10 [00:00<?, ?it/s]"
      ]
     },
     "metadata": {},
     "output_type": "display_data"
    },
    {
     "data": {
      "application/vnd.jupyter.widget-view+json": {
       "model_id": "df5ef457e09b4be58c6918e578f8f9d3",
       "version_major": 2,
       "version_minor": 0
      },
      "text/plain": [
       "Feature collision:   0%|          | 0/10 [00:00<?, ?it/s]"
      ]
     },
     "metadata": {},
     "output_type": "display_data"
    },
    {
     "data": {
      "application/vnd.jupyter.widget-view+json": {
       "model_id": "cdcc8ce827594ed6b95395ed0af203e0",
       "version_major": 2,
       "version_minor": 0
      },
      "text/plain": [
       "Feature collision:   0%|          | 0/10 [00:00<?, ?it/s]"
      ]
     },
     "metadata": {},
     "output_type": "display_data"
    },
    {
     "data": {
      "application/vnd.jupyter.widget-view+json": {
       "model_id": "507e323919ae449b85e35b9e13e0dd64",
       "version_major": 2,
       "version_minor": 0
      },
      "text/plain": [
       "Feature collision:   0%|          | 0/10 [00:00<?, ?it/s]"
      ]
     },
     "metadata": {},
     "output_type": "display_data"
    },
    {
     "data": {
      "application/vnd.jupyter.widget-view+json": {
       "model_id": "1c55611f61ac470a8bea3db1c2d5383e",
       "version_major": 2,
       "version_minor": 0
      },
      "text/plain": [
       "Feature collision:   0%|          | 0/10 [00:00<?, ?it/s]"
      ]
     },
     "metadata": {},
     "output_type": "display_data"
    },
    {
     "data": {
      "application/vnd.jupyter.widget-view+json": {
       "model_id": "5ec4d48b621e483c89865d923482e80e",
       "version_major": 2,
       "version_minor": 0
      },
      "text/plain": [
       "Feature collision:   0%|          | 0/10 [00:00<?, ?it/s]"
      ]
     },
     "metadata": {},
     "output_type": "display_data"
    },
    {
     "data": {
      "application/vnd.jupyter.widget-view+json": {
       "model_id": "95a37a08e6a746268a1dcad0270bf6bd",
       "version_major": 2,
       "version_minor": 0
      },
      "text/plain": [
       "Feature collision:   0%|          | 0/10 [00:00<?, ?it/s]"
      ]
     },
     "metadata": {},
     "output_type": "display_data"
    },
    {
     "data": {
      "application/vnd.jupyter.widget-view+json": {
       "model_id": "8372052f02cf41f4b2ca07f8545ed7a7",
       "version_major": 2,
       "version_minor": 0
      },
      "text/plain": [
       "Feature collision:   0%|          | 0/10 [00:00<?, ?it/s]"
      ]
     },
     "metadata": {},
     "output_type": "display_data"
    },
    {
     "data": {
      "application/vnd.jupyter.widget-view+json": {
       "model_id": "0c909ef1686548e89d3602620125e29b",
       "version_major": 2,
       "version_minor": 0
      },
      "text/plain": [
       "Feature collision:   0%|          | 0/10 [00:00<?, ?it/s]"
      ]
     },
     "metadata": {},
     "output_type": "display_data"
    },
    {
     "data": {
      "application/vnd.jupyter.widget-view+json": {
       "model_id": "77df8efa4a194c44a5b31a1442573341",
       "version_major": 2,
       "version_minor": 0
      },
      "text/plain": [
       "Feature collision:   0%|          | 0/10 [00:00<?, ?it/s]"
      ]
     },
     "metadata": {},
     "output_type": "display_data"
    },
    {
     "data": {
      "application/vnd.jupyter.widget-view+json": {
       "model_id": "6775aba6836444f58ee83340724f1288",
       "version_major": 2,
       "version_minor": 0
      },
      "text/plain": [
       "Feature collision:   0%|          | 0/10 [00:00<?, ?it/s]"
      ]
     },
     "metadata": {},
     "output_type": "display_data"
    },
    {
     "data": {
      "application/vnd.jupyter.widget-view+json": {
       "model_id": "a5d70952026c41dbb0a7a40daff5d173",
       "version_major": 2,
       "version_minor": 0
      },
      "text/plain": [
       "Feature collision:   0%|          | 0/10 [00:00<?, ?it/s]"
      ]
     },
     "metadata": {},
     "output_type": "display_data"
    },
    {
     "data": {
      "application/vnd.jupyter.widget-view+json": {
       "model_id": "233435d25fab408eafa21fb3d0181e25",
       "version_major": 2,
       "version_minor": 0
      },
      "text/plain": [
       "Feature collision:   0%|          | 0/10 [00:00<?, ?it/s]"
      ]
     },
     "metadata": {},
     "output_type": "display_data"
    },
    {
     "data": {
      "application/vnd.jupyter.widget-view+json": {
       "model_id": "7c4dd28cc9c4452fae9bb786ab3c9a73",
       "version_major": 2,
       "version_minor": 0
      },
      "text/plain": [
       "Feature collision:   0%|          | 0/10 [00:00<?, ?it/s]"
      ]
     },
     "metadata": {},
     "output_type": "display_data"
    },
    {
     "data": {
      "application/vnd.jupyter.widget-view+json": {
       "model_id": "4c27dfc4489a4c8ab07b09a409048f0e",
       "version_major": 2,
       "version_minor": 0
      },
      "text/plain": [
       "Feature collision:   0%|          | 0/10 [00:00<?, ?it/s]"
      ]
     },
     "metadata": {},
     "output_type": "display_data"
    },
    {
     "data": {
      "application/vnd.jupyter.widget-view+json": {
       "model_id": "694d5d1b80334de9bee1d300f61809e6",
       "version_major": 2,
       "version_minor": 0
      },
      "text/plain": [
       "Feature collision:   0%|          | 0/10 [00:00<?, ?it/s]"
      ]
     },
     "metadata": {},
     "output_type": "display_data"
    },
    {
     "data": {
      "application/vnd.jupyter.widget-view+json": {
       "model_id": "bb6fec4afcbb4e5f9b3aaf2319a046c2",
       "version_major": 2,
       "version_minor": 0
      },
      "text/plain": [
       "Feature collision:   0%|          | 0/10 [00:00<?, ?it/s]"
      ]
     },
     "metadata": {},
     "output_type": "display_data"
    },
    {
     "data": {
      "application/vnd.jupyter.widget-view+json": {
       "model_id": "7fa2f10a7b41459195d05d7501ff4e6d",
       "version_major": 2,
       "version_minor": 0
      },
      "text/plain": [
       "Feature collision:   0%|          | 0/10 [00:00<?, ?it/s]"
      ]
     },
     "metadata": {},
     "output_type": "display_data"
    },
    {
     "data": {
      "application/vnd.jupyter.widget-view+json": {
       "model_id": "decd510d3d1a4f3da401f436bd251212",
       "version_major": 2,
       "version_minor": 0
      },
      "text/plain": [
       "Feature collision:   0%|          | 0/10 [00:00<?, ?it/s]"
      ]
     },
     "metadata": {},
     "output_type": "display_data"
    },
    {
     "data": {
      "application/vnd.jupyter.widget-view+json": {
       "model_id": "10f77bb2e5714f709c8be33b4d1ae12e",
       "version_major": 2,
       "version_minor": 0
      },
      "text/plain": [
       "Feature collision:   0%|          | 0/10 [00:00<?, ?it/s]"
      ]
     },
     "metadata": {},
     "output_type": "display_data"
    },
    {
     "data": {
      "application/vnd.jupyter.widget-view+json": {
       "model_id": "9deda6eb55474eb98c41c7adff468c42",
       "version_major": 2,
       "version_minor": 0
      },
      "text/plain": [
       "Feature collision:   0%|          | 0/10 [00:00<?, ?it/s]"
      ]
     },
     "metadata": {},
     "output_type": "display_data"
    },
    {
     "data": {
      "application/vnd.jupyter.widget-view+json": {
       "model_id": "7938f4c6d8574751825f39df0d016bf0",
       "version_major": 2,
       "version_minor": 0
      },
      "text/plain": [
       "Feature collision:   0%|          | 0/10 [00:00<?, ?it/s]"
      ]
     },
     "metadata": {},
     "output_type": "display_data"
    },
    {
     "data": {
      "application/vnd.jupyter.widget-view+json": {
       "model_id": "bf087e2077fa4bb3ad61f4450c051301",
       "version_major": 2,
       "version_minor": 0
      },
      "text/plain": [
       "Feature collision:   0%|          | 0/10 [00:00<?, ?it/s]"
      ]
     },
     "metadata": {},
     "output_type": "display_data"
    },
    {
     "data": {
      "application/vnd.jupyter.widget-view+json": {
       "model_id": "8ba52b77ad1d4d99a4b7df4c9d7a5723",
       "version_major": 2,
       "version_minor": 0
      },
      "text/plain": [
       "Feature collision:   0%|          | 0/10 [00:00<?, ?it/s]"
      ]
     },
     "metadata": {},
     "output_type": "display_data"
    },
    {
     "data": {
      "application/vnd.jupyter.widget-view+json": {
       "model_id": "57c6018db38a41809d1dddbc12d4357e",
       "version_major": 2,
       "version_minor": 0
      },
      "text/plain": [
       "Feature collision:   0%|          | 0/10 [00:00<?, ?it/s]"
      ]
     },
     "metadata": {},
     "output_type": "display_data"
    },
    {
     "data": {
      "application/vnd.jupyter.widget-view+json": {
       "model_id": "aa4ab7422b414fd8b82c06dd1ee74712",
       "version_major": 2,
       "version_minor": 0
      },
      "text/plain": [
       "Feature collision:   0%|          | 0/10 [00:00<?, ?it/s]"
      ]
     },
     "metadata": {},
     "output_type": "display_data"
    },
    {
     "data": {
      "application/vnd.jupyter.widget-view+json": {
       "model_id": "9b33d1c706f14217a1078afb5fec94d4",
       "version_major": 2,
       "version_minor": 0
      },
      "text/plain": [
       "Feature collision:   0%|          | 0/10 [00:00<?, ?it/s]"
      ]
     },
     "metadata": {},
     "output_type": "display_data"
    },
    {
     "data": {
      "application/vnd.jupyter.widget-view+json": {
       "model_id": "6f62d1db98d84d78b57cd1aec1bcb213",
       "version_major": 2,
       "version_minor": 0
      },
      "text/plain": [
       "Feature collision:   0%|          | 0/10 [00:00<?, ?it/s]"
      ]
     },
     "metadata": {},
     "output_type": "display_data"
    },
    {
     "data": {
      "application/vnd.jupyter.widget-view+json": {
       "model_id": "31a9766d25a9441fa10fd8c5c4c03d56",
       "version_major": 2,
       "version_minor": 0
      },
      "text/plain": [
       "Feature collision:   0%|          | 0/10 [00:00<?, ?it/s]"
      ]
     },
     "metadata": {},
     "output_type": "display_data"
    },
    {
     "data": {
      "application/vnd.jupyter.widget-view+json": {
       "model_id": "3e1cc435fda6439f8a53ec991bc863f3",
       "version_major": 2,
       "version_minor": 0
      },
      "text/plain": [
       "Feature collision:   0%|          | 0/10 [00:00<?, ?it/s]"
      ]
     },
     "metadata": {},
     "output_type": "display_data"
    },
    {
     "data": {
      "application/vnd.jupyter.widget-view+json": {
       "model_id": "e75e64136d924964b65de91bba907e34",
       "version_major": 2,
       "version_minor": 0
      },
      "text/plain": [
       "Feature collision:   0%|          | 0/10 [00:00<?, ?it/s]"
      ]
     },
     "metadata": {},
     "output_type": "display_data"
    },
    {
     "data": {
      "application/vnd.jupyter.widget-view+json": {
       "model_id": "c71d3d6c6cdc4bdcb14c12b856067059",
       "version_major": 2,
       "version_minor": 0
      },
      "text/plain": [
       "Feature collision:   0%|          | 0/10 [00:00<?, ?it/s]"
      ]
     },
     "metadata": {},
     "output_type": "display_data"
    },
    {
     "data": {
      "application/vnd.jupyter.widget-view+json": {
       "model_id": "ac8cde68ef1f48b5a05e7cd6bf7391fd",
       "version_major": 2,
       "version_minor": 0
      },
      "text/plain": [
       "Feature collision:   0%|          | 0/10 [00:00<?, ?it/s]"
      ]
     },
     "metadata": {},
     "output_type": "display_data"
    },
    {
     "data": {
      "application/vnd.jupyter.widget-view+json": {
       "model_id": "be83841dde2142699a77fe40475549e7",
       "version_major": 2,
       "version_minor": 0
      },
      "text/plain": [
       "Feature collision:   0%|          | 0/10 [00:00<?, ?it/s]"
      ]
     },
     "metadata": {},
     "output_type": "display_data"
    },
    {
     "data": {
      "application/vnd.jupyter.widget-view+json": {
       "model_id": "f9b49be270c44c3c90067be24bf00ebc",
       "version_major": 2,
       "version_minor": 0
      },
      "text/plain": [
       "Feature collision:   0%|          | 0/10 [00:00<?, ?it/s]"
      ]
     },
     "metadata": {},
     "output_type": "display_data"
    },
    {
     "data": {
      "application/vnd.jupyter.widget-view+json": {
       "model_id": "c2b76c38fa6a4284a2d17f502b1cf45f",
       "version_major": 2,
       "version_minor": 0
      },
      "text/plain": [
       "Feature collision:   0%|          | 0/10 [00:00<?, ?it/s]"
      ]
     },
     "metadata": {},
     "output_type": "display_data"
    },
    {
     "data": {
      "application/vnd.jupyter.widget-view+json": {
       "model_id": "2e1ef5bc912a40379cb9359a75277ed3",
       "version_major": 2,
       "version_minor": 0
      },
      "text/plain": [
       "Feature collision:   0%|          | 0/10 [00:00<?, ?it/s]"
      ]
     },
     "metadata": {},
     "output_type": "display_data"
    },
    {
     "data": {
      "application/vnd.jupyter.widget-view+json": {
       "model_id": "6406c3688b9748feaa6c27e7d6846644",
       "version_major": 2,
       "version_minor": 0
      },
      "text/plain": [
       "Feature collision:   0%|          | 0/10 [00:00<?, ?it/s]"
      ]
     },
     "metadata": {},
     "output_type": "display_data"
    },
    {
     "data": {
      "application/vnd.jupyter.widget-view+json": {
       "model_id": "0b23ce5664a246789a6ce4e45e2e9b0e",
       "version_major": 2,
       "version_minor": 0
      },
      "text/plain": [
       "Feature collision:   0%|          | 0/10 [00:00<?, ?it/s]"
      ]
     },
     "metadata": {},
     "output_type": "display_data"
    },
    {
     "data": {
      "application/vnd.jupyter.widget-view+json": {
       "model_id": "27d8d3074c244925ba0c013350f6dee2",
       "version_major": 2,
       "version_minor": 0
      },
      "text/plain": [
       "Feature collision:   0%|          | 0/10 [00:00<?, ?it/s]"
      ]
     },
     "metadata": {},
     "output_type": "display_data"
    },
    {
     "data": {
      "application/vnd.jupyter.widget-view+json": {
       "model_id": "130dbdb550934c4db550deeacd576a47",
       "version_major": 2,
       "version_minor": 0
      },
      "text/plain": [
       "Feature collision:   0%|          | 0/10 [00:00<?, ?it/s]"
      ]
     },
     "metadata": {},
     "output_type": "display_data"
    },
    {
     "data": {
      "application/vnd.jupyter.widget-view+json": {
       "model_id": "ca2d0892bcf548549a857e55739d16fc",
       "version_major": 2,
       "version_minor": 0
      },
      "text/plain": [
       "Feature collision:   0%|          | 0/10 [00:00<?, ?it/s]"
      ]
     },
     "metadata": {},
     "output_type": "display_data"
    },
    {
     "data": {
      "application/vnd.jupyter.widget-view+json": {
       "model_id": "7b8bb182870f47748caabfc6500b037e",
       "version_major": 2,
       "version_minor": 0
      },
      "text/plain": [
       "Feature collision:   0%|          | 0/10 [00:00<?, ?it/s]"
      ]
     },
     "metadata": {},
     "output_type": "display_data"
    },
    {
     "data": {
      "application/vnd.jupyter.widget-view+json": {
       "model_id": "88c230ab5c5b43ddb93aebb1b838f405",
       "version_major": 2,
       "version_minor": 0
      },
      "text/plain": [
       "Feature collision:   0%|          | 0/10 [00:00<?, ?it/s]"
      ]
     },
     "metadata": {},
     "output_type": "display_data"
    },
    {
     "data": {
      "application/vnd.jupyter.widget-view+json": {
       "model_id": "1014623462aa460b96133030aab17c8c",
       "version_major": 2,
       "version_minor": 0
      },
      "text/plain": [
       "Feature collision:   0%|          | 0/10 [00:00<?, ?it/s]"
      ]
     },
     "metadata": {},
     "output_type": "display_data"
    },
    {
     "data": {
      "application/vnd.jupyter.widget-view+json": {
       "model_id": "c735f58c4f4f45b58774b4805a4fabdb",
       "version_major": 2,
       "version_minor": 0
      },
      "text/plain": [
       "Feature collision:   0%|          | 0/10 [00:00<?, ?it/s]"
      ]
     },
     "metadata": {},
     "output_type": "display_data"
    },
    {
     "data": {
      "application/vnd.jupyter.widget-view+json": {
       "model_id": "c2f35ea3cbf0495a9933ba1648973a23",
       "version_major": 2,
       "version_minor": 0
      },
      "text/plain": [
       "Feature collision:   0%|          | 0/10 [00:00<?, ?it/s]"
      ]
     },
     "metadata": {},
     "output_type": "display_data"
    },
    {
     "data": {
      "application/vnd.jupyter.widget-view+json": {
       "model_id": "a07a178762ce41b8944b8c5ca95b00ba",
       "version_major": 2,
       "version_minor": 0
      },
      "text/plain": [
       "Feature collision:   0%|          | 0/10 [00:00<?, ?it/s]"
      ]
     },
     "metadata": {},
     "output_type": "display_data"
    },
    {
     "data": {
      "application/vnd.jupyter.widget-view+json": {
       "model_id": "c6ab82df989b43739a42114dcd754af4",
       "version_major": 2,
       "version_minor": 0
      },
      "text/plain": [
       "Feature collision:   0%|          | 0/10 [00:00<?, ?it/s]"
      ]
     },
     "metadata": {},
     "output_type": "display_data"
    },
    {
     "data": {
      "application/vnd.jupyter.widget-view+json": {
       "model_id": "8cf96aa2841f430bb375e7da7cca0c30",
       "version_major": 2,
       "version_minor": 0
      },
      "text/plain": [
       "Feature collision:   0%|          | 0/10 [00:00<?, ?it/s]"
      ]
     },
     "metadata": {},
     "output_type": "display_data"
    },
    {
     "data": {
      "application/vnd.jupyter.widget-view+json": {
       "model_id": "ac3dbcfa2c00485ab8567a1123439069",
       "version_major": 2,
       "version_minor": 0
      },
      "text/plain": [
       "Feature collision:   0%|          | 0/10 [00:00<?, ?it/s]"
      ]
     },
     "metadata": {},
     "output_type": "display_data"
    },
    {
     "data": {
      "application/vnd.jupyter.widget-view+json": {
       "model_id": "1eb23a0722d44dc89382fc9cc325869f",
       "version_major": 2,
       "version_minor": 0
      },
      "text/plain": [
       "Feature collision:   0%|          | 0/10 [00:00<?, ?it/s]"
      ]
     },
     "metadata": {},
     "output_type": "display_data"
    },
    {
     "data": {
      "application/vnd.jupyter.widget-view+json": {
       "model_id": "48ec7aa571c44866b3e3162acc545cc6",
       "version_major": 2,
       "version_minor": 0
      },
      "text/plain": [
       "Feature collision:   0%|          | 0/10 [00:00<?, ?it/s]"
      ]
     },
     "metadata": {},
     "output_type": "display_data"
    },
    {
     "data": {
      "application/vnd.jupyter.widget-view+json": {
       "model_id": "19c606626292480f84e81684d221daf6",
       "version_major": 2,
       "version_minor": 0
      },
      "text/plain": [
       "Feature collision:   0%|          | 0/10 [00:00<?, ?it/s]"
      ]
     },
     "metadata": {},
     "output_type": "display_data"
    },
    {
     "data": {
      "application/vnd.jupyter.widget-view+json": {
       "model_id": "1e8690aaa59b4de4b35af46300dc568a",
       "version_major": 2,
       "version_minor": 0
      },
      "text/plain": [
       "Feature collision:   0%|          | 0/10 [00:00<?, ?it/s]"
      ]
     },
     "metadata": {},
     "output_type": "display_data"
    },
    {
     "data": {
      "application/vnd.jupyter.widget-view+json": {
       "model_id": "5627302c8b364f9ab96a7620b677e3df",
       "version_major": 2,
       "version_minor": 0
      },
      "text/plain": [
       "Feature collision:   0%|          | 0/10 [00:00<?, ?it/s]"
      ]
     },
     "metadata": {},
     "output_type": "display_data"
    },
    {
     "data": {
      "application/vnd.jupyter.widget-view+json": {
       "model_id": "43974cd917cb42c89c81552117fe6a9c",
       "version_major": 2,
       "version_minor": 0
      },
      "text/plain": [
       "Feature collision:   0%|          | 0/10 [00:00<?, ?it/s]"
      ]
     },
     "metadata": {},
     "output_type": "display_data"
    },
    {
     "data": {
      "application/vnd.jupyter.widget-view+json": {
       "model_id": "b640a8b877b242b6b785c8e6f22a3ccd",
       "version_major": 2,
       "version_minor": 0
      },
      "text/plain": [
       "Feature collision:   0%|          | 0/10 [00:00<?, ?it/s]"
      ]
     },
     "metadata": {},
     "output_type": "display_data"
    },
    {
     "data": {
      "application/vnd.jupyter.widget-view+json": {
       "model_id": "083cfd6ba6c141c7aacd1bbb7b481be3",
       "version_major": 2,
       "version_minor": 0
      },
      "text/plain": [
       "Feature collision:   0%|          | 0/10 [00:00<?, ?it/s]"
      ]
     },
     "metadata": {},
     "output_type": "display_data"
    },
    {
     "data": {
      "application/vnd.jupyter.widget-view+json": {
       "model_id": "031a394fd19641b1929518154616f2d8",
       "version_major": 2,
       "version_minor": 0
      },
      "text/plain": [
       "Feature collision:   0%|          | 0/10 [00:00<?, ?it/s]"
      ]
     },
     "metadata": {},
     "output_type": "display_data"
    },
    {
     "data": {
      "application/vnd.jupyter.widget-view+json": {
       "model_id": "3688b66e473d4febaa36b82a7e328775",
       "version_major": 2,
       "version_minor": 0
      },
      "text/plain": [
       "Feature collision:   0%|          | 0/10 [00:00<?, ?it/s]"
      ]
     },
     "metadata": {},
     "output_type": "display_data"
    },
    {
     "data": {
      "application/vnd.jupyter.widget-view+json": {
       "model_id": "5788b1c91ac643f9b485b3a35364f1ff",
       "version_major": 2,
       "version_minor": 0
      },
      "text/plain": [
       "Feature collision:   0%|          | 0/10 [00:00<?, ?it/s]"
      ]
     },
     "metadata": {},
     "output_type": "display_data"
    },
    {
     "data": {
      "application/vnd.jupyter.widget-view+json": {
       "model_id": "44edb1c2dff24e688e87e9da0feadcad",
       "version_major": 2,
       "version_minor": 0
      },
      "text/plain": [
       "Feature collision:   0%|          | 0/10 [00:00<?, ?it/s]"
      ]
     },
     "metadata": {},
     "output_type": "display_data"
    },
    {
     "data": {
      "application/vnd.jupyter.widget-view+json": {
       "model_id": "2e54eb9fce114c53aedfd4d32b4c25b0",
       "version_major": 2,
       "version_minor": 0
      },
      "text/plain": [
       "Feature collision:   0%|          | 0/10 [00:00<?, ?it/s]"
      ]
     },
     "metadata": {},
     "output_type": "display_data"
    },
    {
     "data": {
      "application/vnd.jupyter.widget-view+json": {
       "model_id": "34912f36918542f2ba95d99c967554d4",
       "version_major": 2,
       "version_minor": 0
      },
      "text/plain": [
       "Feature collision:   0%|          | 0/10 [00:00<?, ?it/s]"
      ]
     },
     "metadata": {},
     "output_type": "display_data"
    },
    {
     "data": {
      "application/vnd.jupyter.widget-view+json": {
       "model_id": "36346c715c434b53a2a1294255856543",
       "version_major": 2,
       "version_minor": 0
      },
      "text/plain": [
       "Feature collision:   0%|          | 0/10 [00:00<?, ?it/s]"
      ]
     },
     "metadata": {},
     "output_type": "display_data"
    },
    {
     "data": {
      "application/vnd.jupyter.widget-view+json": {
       "model_id": "4650acf19db5451d9846f0f28a908223",
       "version_major": 2,
       "version_minor": 0
      },
      "text/plain": [
       "Feature collision:   0%|          | 0/10 [00:00<?, ?it/s]"
      ]
     },
     "metadata": {},
     "output_type": "display_data"
    },
    {
     "data": {
      "application/vnd.jupyter.widget-view+json": {
       "model_id": "7033c6cf56884e2c998999b9abda2aa2",
       "version_major": 2,
       "version_minor": 0
      },
      "text/plain": [
       "Feature collision:   0%|          | 0/10 [00:00<?, ?it/s]"
      ]
     },
     "metadata": {},
     "output_type": "display_data"
    },
    {
     "data": {
      "application/vnd.jupyter.widget-view+json": {
       "model_id": "f0be2879065e47088c74d771fa7034c4",
       "version_major": 2,
       "version_minor": 0
      },
      "text/plain": [
       "Feature collision:   0%|          | 0/10 [00:00<?, ?it/s]"
      ]
     },
     "metadata": {},
     "output_type": "display_data"
    },
    {
     "data": {
      "application/vnd.jupyter.widget-view+json": {
       "model_id": "72863db53e3a49d4b1302490c952715e",
       "version_major": 2,
       "version_minor": 0
      },
      "text/plain": [
       "Feature collision:   0%|          | 0/10 [00:00<?, ?it/s]"
      ]
     },
     "metadata": {},
     "output_type": "display_data"
    },
    {
     "data": {
      "application/vnd.jupyter.widget-view+json": {
       "model_id": "1d9d4f78f02746aeac05a8c15ec45e70",
       "version_major": 2,
       "version_minor": 0
      },
      "text/plain": [
       "Feature collision:   0%|          | 0/10 [00:00<?, ?it/s]"
      ]
     },
     "metadata": {},
     "output_type": "display_data"
    },
    {
     "data": {
      "application/vnd.jupyter.widget-view+json": {
       "model_id": "bc8939c4e0c64f4fa525689c5c72750e",
       "version_major": 2,
       "version_minor": 0
      },
      "text/plain": [
       "Feature collision:   0%|          | 0/10 [00:00<?, ?it/s]"
      ]
     },
     "metadata": {},
     "output_type": "display_data"
    },
    {
     "data": {
      "application/vnd.jupyter.widget-view+json": {
       "model_id": "9b830ec55cec49378a88a7ac5bbf626d",
       "version_major": 2,
       "version_minor": 0
      },
      "text/plain": [
       "Feature collision:   0%|          | 0/10 [00:00<?, ?it/s]"
      ]
     },
     "metadata": {},
     "output_type": "display_data"
    },
    {
     "data": {
      "application/vnd.jupyter.widget-view+json": {
       "model_id": "8bb5fe1865324979ac94145d5f9b85ac",
       "version_major": 2,
       "version_minor": 0
      },
      "text/plain": [
       "Feature collision:   0%|          | 0/10 [00:00<?, ?it/s]"
      ]
     },
     "metadata": {},
     "output_type": "display_data"
    },
    {
     "data": {
      "application/vnd.jupyter.widget-view+json": {
       "model_id": "e778157a63c54b9291843ec8c362e543",
       "version_major": 2,
       "version_minor": 0
      },
      "text/plain": [
       "Feature collision:   0%|          | 0/10 [00:00<?, ?it/s]"
      ]
     },
     "metadata": {},
     "output_type": "display_data"
    },
    {
     "data": {
      "application/vnd.jupyter.widget-view+json": {
       "model_id": "c437086cae774c5d92fc32272d85f982",
       "version_major": 2,
       "version_minor": 0
      },
      "text/plain": [
       "Feature collision:   0%|          | 0/10 [00:00<?, ?it/s]"
      ]
     },
     "metadata": {},
     "output_type": "display_data"
    },
    {
     "data": {
      "application/vnd.jupyter.widget-view+json": {
       "model_id": "0a506b7743fe4d3e9a88b3817a2fc120",
       "version_major": 2,
       "version_minor": 0
      },
      "text/plain": [
       "Feature collision:   0%|          | 0/10 [00:00<?, ?it/s]"
      ]
     },
     "metadata": {},
     "output_type": "display_data"
    },
    {
     "data": {
      "application/vnd.jupyter.widget-view+json": {
       "model_id": "a047ef664d6243788c26e836ce2f1e76",
       "version_major": 2,
       "version_minor": 0
      },
      "text/plain": [
       "Feature collision:   0%|          | 0/10 [00:00<?, ?it/s]"
      ]
     },
     "metadata": {},
     "output_type": "display_data"
    },
    {
     "data": {
      "application/vnd.jupyter.widget-view+json": {
       "model_id": "cefb18cf66464c1180b9be25d8cf09e4",
       "version_major": 2,
       "version_minor": 0
      },
      "text/plain": [
       "Feature collision:   0%|          | 0/10 [00:00<?, ?it/s]"
      ]
     },
     "metadata": {},
     "output_type": "display_data"
    },
    {
     "data": {
      "application/vnd.jupyter.widget-view+json": {
       "model_id": "f84151b56b054cd1936646eed4b97a95",
       "version_major": 2,
       "version_minor": 0
      },
      "text/plain": [
       "Feature collision:   0%|          | 0/10 [00:00<?, ?it/s]"
      ]
     },
     "metadata": {},
     "output_type": "display_data"
    },
    {
     "data": {
      "application/vnd.jupyter.widget-view+json": {
       "model_id": "db42d199a5194e708c805a39e2034206",
       "version_major": 2,
       "version_minor": 0
      },
      "text/plain": [
       "Feature collision:   0%|          | 0/10 [00:00<?, ?it/s]"
      ]
     },
     "metadata": {},
     "output_type": "display_data"
    },
    {
     "data": {
      "application/vnd.jupyter.widget-view+json": {
       "model_id": "8ea6bc0239304ee59d8131c4f2cc93ae",
       "version_major": 2,
       "version_minor": 0
      },
      "text/plain": [
       "Feature collision:   0%|          | 0/10 [00:00<?, ?it/s]"
      ]
     },
     "metadata": {},
     "output_type": "display_data"
    },
    {
     "data": {
      "application/vnd.jupyter.widget-view+json": {
       "model_id": "a08290089d774bd4a5e5d9741ec486b1",
       "version_major": 2,
       "version_minor": 0
      },
      "text/plain": [
       "Feature collision:   0%|          | 0/10 [00:00<?, ?it/s]"
      ]
     },
     "metadata": {},
     "output_type": "display_data"
    },
    {
     "data": {
      "application/vnd.jupyter.widget-view+json": {
       "model_id": "5b6023e86e8e44a1b9c417b5679337e3",
       "version_major": 2,
       "version_minor": 0
      },
      "text/plain": [
       "Feature collision:   0%|          | 0/10 [00:00<?, ?it/s]"
      ]
     },
     "metadata": {},
     "output_type": "display_data"
    },
    {
     "data": {
      "application/vnd.jupyter.widget-view+json": {
       "model_id": "05950f244be343d4b609f5108a27a49c",
       "version_major": 2,
       "version_minor": 0
      },
      "text/plain": [
       "Feature collision:   0%|          | 0/10 [00:00<?, ?it/s]"
      ]
     },
     "metadata": {},
     "output_type": "display_data"
    },
    {
     "data": {
      "application/vnd.jupyter.widget-view+json": {
       "model_id": "078029587b194c008adc9d4e35e11572",
       "version_major": 2,
       "version_minor": 0
      },
      "text/plain": [
       "Feature collision:   0%|          | 0/10 [00:00<?, ?it/s]"
      ]
     },
     "metadata": {},
     "output_type": "display_data"
    },
    {
     "data": {
      "application/vnd.jupyter.widget-view+json": {
       "model_id": "269e5a58280f4d798e9a8150b4e40584",
       "version_major": 2,
       "version_minor": 0
      },
      "text/plain": [
       "Feature collision:   0%|          | 0/10 [00:00<?, ?it/s]"
      ]
     },
     "metadata": {},
     "output_type": "display_data"
    },
    {
     "data": {
      "application/vnd.jupyter.widget-view+json": {
       "model_id": "1bbf4584667349029fbf175c9895d825",
       "version_major": 2,
       "version_minor": 0
      },
      "text/plain": [
       "Feature collision:   0%|          | 0/10 [00:00<?, ?it/s]"
      ]
     },
     "metadata": {},
     "output_type": "display_data"
    },
    {
     "data": {
      "application/vnd.jupyter.widget-view+json": {
       "model_id": "674028ac3c4a4cd085b253ee9a56727a",
       "version_major": 2,
       "version_minor": 0
      },
      "text/plain": [
       "Feature collision:   0%|          | 0/10 [00:00<?, ?it/s]"
      ]
     },
     "metadata": {},
     "output_type": "display_data"
    },
    {
     "data": {
      "application/vnd.jupyter.widget-view+json": {
       "model_id": "69044309d8ce4a7aa0697d136694db79",
       "version_major": 2,
       "version_minor": 0
      },
      "text/plain": [
       "Feature collision:   0%|          | 0/10 [00:00<?, ?it/s]"
      ]
     },
     "metadata": {},
     "output_type": "display_data"
    },
    {
     "data": {
      "application/vnd.jupyter.widget-view+json": {
       "model_id": "99aefc838c554dc09a186081bf6bda0b",
       "version_major": 2,
       "version_minor": 0
      },
      "text/plain": [
       "Feature collision:   0%|          | 0/10 [00:00<?, ?it/s]"
      ]
     },
     "metadata": {},
     "output_type": "display_data"
    },
    {
     "data": {
      "application/vnd.jupyter.widget-view+json": {
       "model_id": "0ee353686cb147fbac214e23bc5e1051",
       "version_major": 2,
       "version_minor": 0
      },
      "text/plain": [
       "Feature collision:   0%|          | 0/10 [00:00<?, ?it/s]"
      ]
     },
     "metadata": {},
     "output_type": "display_data"
    },
    {
     "data": {
      "application/vnd.jupyter.widget-view+json": {
       "model_id": "acd5b5e1b36c49f89af4b1ea80f49f81",
       "version_major": 2,
       "version_minor": 0
      },
      "text/plain": [
       "Feature collision:   0%|          | 0/10 [00:00<?, ?it/s]"
      ]
     },
     "metadata": {},
     "output_type": "display_data"
    },
    {
     "data": {
      "application/vnd.jupyter.widget-view+json": {
       "model_id": "c801f11312784237b290d5542a244f0b",
       "version_major": 2,
       "version_minor": 0
      },
      "text/plain": [
       "Feature collision:   0%|          | 0/10 [00:00<?, ?it/s]"
      ]
     },
     "metadata": {},
     "output_type": "display_data"
    },
    {
     "data": {
      "application/vnd.jupyter.widget-view+json": {
       "model_id": "7e1aa8f4c950456abea5d5381b3b88ea",
       "version_major": 2,
       "version_minor": 0
      },
      "text/plain": [
       "Feature collision:   0%|          | 0/10 [00:00<?, ?it/s]"
      ]
     },
     "metadata": {},
     "output_type": "display_data"
    },
    {
     "data": {
      "application/vnd.jupyter.widget-view+json": {
       "model_id": "559d8b69ab2445bf8bc61c3bb0143c84",
       "version_major": 2,
       "version_minor": 0
      },
      "text/plain": [
       "Feature collision:   0%|          | 0/10 [00:00<?, ?it/s]"
      ]
     },
     "metadata": {},
     "output_type": "display_data"
    },
    {
     "data": {
      "application/vnd.jupyter.widget-view+json": {
       "model_id": "79f18649618f436597ded600291d97d3",
       "version_major": 2,
       "version_minor": 0
      },
      "text/plain": [
       "Feature collision:   0%|          | 0/10 [00:00<?, ?it/s]"
      ]
     },
     "metadata": {},
     "output_type": "display_data"
    },
    {
     "data": {
      "application/vnd.jupyter.widget-view+json": {
       "model_id": "88b5d77c7719442898b0813d8666183b",
       "version_major": 2,
       "version_minor": 0
      },
      "text/plain": [
       "Feature collision:   0%|          | 0/10 [00:00<?, ?it/s]"
      ]
     },
     "metadata": {},
     "output_type": "display_data"
    },
    {
     "data": {
      "application/vnd.jupyter.widget-view+json": {
       "model_id": "2934b499592f486b9e76a17bd3e7da03",
       "version_major": 2,
       "version_minor": 0
      },
      "text/plain": [
       "Feature collision:   0%|          | 0/10 [00:00<?, ?it/s]"
      ]
     },
     "metadata": {},
     "output_type": "display_data"
    },
    {
     "data": {
      "application/vnd.jupyter.widget-view+json": {
       "model_id": "8d9055f9424b4bd384644682ba4b6564",
       "version_major": 2,
       "version_minor": 0
      },
      "text/plain": [
       "Feature collision:   0%|          | 0/10 [00:00<?, ?it/s]"
      ]
     },
     "metadata": {},
     "output_type": "display_data"
    },
    {
     "data": {
      "application/vnd.jupyter.widget-view+json": {
       "model_id": "7a20fda54e6e424a86a0b179ca58edb4",
       "version_major": 2,
       "version_minor": 0
      },
      "text/plain": [
       "Feature collision:   0%|          | 0/10 [00:00<?, ?it/s]"
      ]
     },
     "metadata": {},
     "output_type": "display_data"
    },
    {
     "data": {
      "application/vnd.jupyter.widget-view+json": {
       "model_id": "633558ffd5ac44269749e7543998cde5",
       "version_major": 2,
       "version_minor": 0
      },
      "text/plain": [
       "Feature collision:   0%|          | 0/10 [00:00<?, ?it/s]"
      ]
     },
     "metadata": {},
     "output_type": "display_data"
    },
    {
     "data": {
      "application/vnd.jupyter.widget-view+json": {
       "model_id": "a01633c1af674c259844cfdfbef0c422",
       "version_major": 2,
       "version_minor": 0
      },
      "text/plain": [
       "Feature collision:   0%|          | 0/10 [00:00<?, ?it/s]"
      ]
     },
     "metadata": {},
     "output_type": "display_data"
    },
    {
     "data": {
      "application/vnd.jupyter.widget-view+json": {
       "model_id": "3d9a4bd191ac4cfdbcc7bffc78f5bf41",
       "version_major": 2,
       "version_minor": 0
      },
      "text/plain": [
       "Feature collision:   0%|          | 0/10 [00:00<?, ?it/s]"
      ]
     },
     "metadata": {},
     "output_type": "display_data"
    },
    {
     "data": {
      "application/vnd.jupyter.widget-view+json": {
       "model_id": "1bad5a364dc7472d8dc14ed1cdf32439",
       "version_major": 2,
       "version_minor": 0
      },
      "text/plain": [
       "Feature collision:   0%|          | 0/10 [00:00<?, ?it/s]"
      ]
     },
     "metadata": {},
     "output_type": "display_data"
    },
    {
     "data": {
      "application/vnd.jupyter.widget-view+json": {
       "model_id": "c2d9be9aeb4c4bbfb0f842e82044fa1a",
       "version_major": 2,
       "version_minor": 0
      },
      "text/plain": [
       "Feature collision:   0%|          | 0/10 [00:00<?, ?it/s]"
      ]
     },
     "metadata": {},
     "output_type": "display_data"
    },
    {
     "data": {
      "application/vnd.jupyter.widget-view+json": {
       "model_id": "ea04cd878b1e4e5eb73f2e105e1a93ba",
       "version_major": 2,
       "version_minor": 0
      },
      "text/plain": [
       "Feature collision:   0%|          | 0/10 [00:00<?, ?it/s]"
      ]
     },
     "metadata": {},
     "output_type": "display_data"
    },
    {
     "data": {
      "application/vnd.jupyter.widget-view+json": {
       "model_id": "59f00209a5df4e08920bdad6329f9453",
       "version_major": 2,
       "version_minor": 0
      },
      "text/plain": [
       "Feature collision:   0%|          | 0/10 [00:00<?, ?it/s]"
      ]
     },
     "metadata": {},
     "output_type": "display_data"
    },
    {
     "data": {
      "application/vnd.jupyter.widget-view+json": {
       "model_id": "307b83f79f28452686df1532f126b276",
       "version_major": 2,
       "version_minor": 0
      },
      "text/plain": [
       "Feature collision:   0%|          | 0/10 [00:00<?, ?it/s]"
      ]
     },
     "metadata": {},
     "output_type": "display_data"
    },
    {
     "data": {
      "application/vnd.jupyter.widget-view+json": {
       "model_id": "09d34db6eeea4c00b8153b3632e60a2d",
       "version_major": 2,
       "version_minor": 0
      },
      "text/plain": [
       "Feature collision:   0%|          | 0/10 [00:00<?, ?it/s]"
      ]
     },
     "metadata": {},
     "output_type": "display_data"
    },
    {
     "data": {
      "application/vnd.jupyter.widget-view+json": {
       "model_id": "2302d22b436142cca99ea1217c1c472b",
       "version_major": 2,
       "version_minor": 0
      },
      "text/plain": [
       "Feature collision:   0%|          | 0/10 [00:00<?, ?it/s]"
      ]
     },
     "metadata": {},
     "output_type": "display_data"
    },
    {
     "data": {
      "application/vnd.jupyter.widget-view+json": {
       "model_id": "8a4345905534485e80a603322a452bd2",
       "version_major": 2,
       "version_minor": 0
      },
      "text/plain": [
       "Feature collision:   0%|          | 0/10 [00:00<?, ?it/s]"
      ]
     },
     "metadata": {},
     "output_type": "display_data"
    },
    {
     "data": {
      "application/vnd.jupyter.widget-view+json": {
       "model_id": "2f12956d48664bf0b9303ec5ae22b212",
       "version_major": 2,
       "version_minor": 0
      },
      "text/plain": [
       "Feature collision:   0%|          | 0/10 [00:00<?, ?it/s]"
      ]
     },
     "metadata": {},
     "output_type": "display_data"
    },
    {
     "data": {
      "application/vnd.jupyter.widget-view+json": {
       "model_id": "04c05c6da1ce44348febf6df6c9a72c7",
       "version_major": 2,
       "version_minor": 0
      },
      "text/plain": [
       "Feature collision:   0%|          | 0/10 [00:00<?, ?it/s]"
      ]
     },
     "metadata": {},
     "output_type": "display_data"
    },
    {
     "data": {
      "application/vnd.jupyter.widget-view+json": {
       "model_id": "efa4217da0cc430cb318955a346823cd",
       "version_major": 2,
       "version_minor": 0
      },
      "text/plain": [
       "Feature collision:   0%|          | 0/10 [00:00<?, ?it/s]"
      ]
     },
     "metadata": {},
     "output_type": "display_data"
    },
    {
     "data": {
      "application/vnd.jupyter.widget-view+json": {
       "model_id": "043486c737374684b95bb9e69374d651",
       "version_major": 2,
       "version_minor": 0
      },
      "text/plain": [
       "Feature collision:   0%|          | 0/10 [00:00<?, ?it/s]"
      ]
     },
     "metadata": {},
     "output_type": "display_data"
    },
    {
     "data": {
      "application/vnd.jupyter.widget-view+json": {
       "model_id": "16db4e63e6b34683b57aed0a3a456d50",
       "version_major": 2,
       "version_minor": 0
      },
      "text/plain": [
       "Feature collision:   0%|          | 0/10 [00:00<?, ?it/s]"
      ]
     },
     "metadata": {},
     "output_type": "display_data"
    },
    {
     "data": {
      "application/vnd.jupyter.widget-view+json": {
       "model_id": "34398da622bd4cb48d99f64189bfd180",
       "version_major": 2,
       "version_minor": 0
      },
      "text/plain": [
       "Feature collision:   0%|          | 0/10 [00:00<?, ?it/s]"
      ]
     },
     "metadata": {},
     "output_type": "display_data"
    },
    {
     "data": {
      "application/vnd.jupyter.widget-view+json": {
       "model_id": "55ec363462424e849b865d1601ae525b",
       "version_major": 2,
       "version_minor": 0
      },
      "text/plain": [
       "Feature collision:   0%|          | 0/10 [00:00<?, ?it/s]"
      ]
     },
     "metadata": {},
     "output_type": "display_data"
    },
    {
     "data": {
      "application/vnd.jupyter.widget-view+json": {
       "model_id": "24cf7fc223fa463586c29b1a4330ea52",
       "version_major": 2,
       "version_minor": 0
      },
      "text/plain": [
       "Feature collision:   0%|          | 0/10 [00:00<?, ?it/s]"
      ]
     },
     "metadata": {},
     "output_type": "display_data"
    },
    {
     "data": {
      "application/vnd.jupyter.widget-view+json": {
       "model_id": "b50cc4ef2bec432fbff162ba76faf3e9",
       "version_major": 2,
       "version_minor": 0
      },
      "text/plain": [
       "Feature collision:   0%|          | 0/10 [00:00<?, ?it/s]"
      ]
     },
     "metadata": {},
     "output_type": "display_data"
    },
    {
     "data": {
      "application/vnd.jupyter.widget-view+json": {
       "model_id": "07480b0ade184f0ab09fcc1e85eec45a",
       "version_major": 2,
       "version_minor": 0
      },
      "text/plain": [
       "Feature collision:   0%|          | 0/10 [00:00<?, ?it/s]"
      ]
     },
     "metadata": {},
     "output_type": "display_data"
    },
    {
     "data": {
      "application/vnd.jupyter.widget-view+json": {
       "model_id": "756aa0d6459149f0afb2cabf76c3a6a7",
       "version_major": 2,
       "version_minor": 0
      },
      "text/plain": [
       "Feature collision:   0%|          | 0/10 [00:00<?, ?it/s]"
      ]
     },
     "metadata": {},
     "output_type": "display_data"
    },
    {
     "data": {
      "application/vnd.jupyter.widget-view+json": {
       "model_id": "ccf1f701d0e9410d84761c1cf2371cc0",
       "version_major": 2,
       "version_minor": 0
      },
      "text/plain": [
       "Feature collision:   0%|          | 0/10 [00:00<?, ?it/s]"
      ]
     },
     "metadata": {},
     "output_type": "display_data"
    },
    {
     "data": {
      "application/vnd.jupyter.widget-view+json": {
       "model_id": "ca0106ab2d74468b9b44b4fedfb267c6",
       "version_major": 2,
       "version_minor": 0
      },
      "text/plain": [
       "Feature collision:   0%|          | 0/10 [00:00<?, ?it/s]"
      ]
     },
     "metadata": {},
     "output_type": "display_data"
    },
    {
     "data": {
      "application/vnd.jupyter.widget-view+json": {
       "model_id": "771b50de45594f0e87e32d93a8ebea2f",
       "version_major": 2,
       "version_minor": 0
      },
      "text/plain": [
       "Feature collision:   0%|          | 0/10 [00:00<?, ?it/s]"
      ]
     },
     "metadata": {},
     "output_type": "display_data"
    },
    {
     "data": {
      "application/vnd.jupyter.widget-view+json": {
       "model_id": "fc98bfe655da4913bb24a5a6722bd96c",
       "version_major": 2,
       "version_minor": 0
      },
      "text/plain": [
       "Feature collision:   0%|          | 0/10 [00:00<?, ?it/s]"
      ]
     },
     "metadata": {},
     "output_type": "display_data"
    },
    {
     "data": {
      "application/vnd.jupyter.widget-view+json": {
       "model_id": "4d574c0ef5cf4e5291ccd5c1e19d8bac",
       "version_major": 2,
       "version_minor": 0
      },
      "text/plain": [
       "Feature collision:   0%|          | 0/10 [00:00<?, ?it/s]"
      ]
     },
     "metadata": {},
     "output_type": "display_data"
    },
    {
     "data": {
      "application/vnd.jupyter.widget-view+json": {
       "model_id": "9ebb049c0925405192737f1b80d1c945",
       "version_major": 2,
       "version_minor": 0
      },
      "text/plain": [
       "Feature collision:   0%|          | 0/10 [00:00<?, ?it/s]"
      ]
     },
     "metadata": {},
     "output_type": "display_data"
    },
    {
     "data": {
      "application/vnd.jupyter.widget-view+json": {
       "model_id": "2a4495e9f93e441ba64d81b0f8797850",
       "version_major": 2,
       "version_minor": 0
      },
      "text/plain": [
       "Feature collision:   0%|          | 0/10 [00:00<?, ?it/s]"
      ]
     },
     "metadata": {},
     "output_type": "display_data"
    },
    {
     "data": {
      "application/vnd.jupyter.widget-view+json": {
       "model_id": "9e8e27671ddf463abee0777a6eb6aaae",
       "version_major": 2,
       "version_minor": 0
      },
      "text/plain": [
       "Feature collision:   0%|          | 0/10 [00:00<?, ?it/s]"
      ]
     },
     "metadata": {},
     "output_type": "display_data"
    },
    {
     "data": {
      "application/vnd.jupyter.widget-view+json": {
       "model_id": "13faf9c7446e4d498b4f4439e3a8124d",
       "version_major": 2,
       "version_minor": 0
      },
      "text/plain": [
       "Feature collision:   0%|          | 0/10 [00:00<?, ?it/s]"
      ]
     },
     "metadata": {},
     "output_type": "display_data"
    },
    {
     "data": {
      "application/vnd.jupyter.widget-view+json": {
       "model_id": "aaeb502b01664e48a41696c60a23946f",
       "version_major": 2,
       "version_minor": 0
      },
      "text/plain": [
       "Feature collision:   0%|          | 0/10 [00:00<?, ?it/s]"
      ]
     },
     "metadata": {},
     "output_type": "display_data"
    },
    {
     "data": {
      "application/vnd.jupyter.widget-view+json": {
       "model_id": "07085b2750754332a78789761827392e",
       "version_major": 2,
       "version_minor": 0
      },
      "text/plain": [
       "Feature collision:   0%|          | 0/10 [00:00<?, ?it/s]"
      ]
     },
     "metadata": {},
     "output_type": "display_data"
    },
    {
     "data": {
      "application/vnd.jupyter.widget-view+json": {
       "model_id": "6e41d1b0c25f4332a638727b3073cef9",
       "version_major": 2,
       "version_minor": 0
      },
      "text/plain": [
       "Feature collision:   0%|          | 0/10 [00:00<?, ?it/s]"
      ]
     },
     "metadata": {},
     "output_type": "display_data"
    },
    {
     "data": {
      "application/vnd.jupyter.widget-view+json": {
       "model_id": "65ecce31d2ae43d6a096513d77f49a78",
       "version_major": 2,
       "version_minor": 0
      },
      "text/plain": [
       "Feature collision:   0%|          | 0/10 [00:00<?, ?it/s]"
      ]
     },
     "metadata": {},
     "output_type": "display_data"
    },
    {
     "data": {
      "application/vnd.jupyter.widget-view+json": {
       "model_id": "c3a37aabb74949d3be37a577fdc31a90",
       "version_major": 2,
       "version_minor": 0
      },
      "text/plain": [
       "Feature collision:   0%|          | 0/10 [00:00<?, ?it/s]"
      ]
     },
     "metadata": {},
     "output_type": "display_data"
    },
    {
     "data": {
      "application/vnd.jupyter.widget-view+json": {
       "model_id": "218b5e13d8c14b11b548dd6a000f8a8c",
       "version_major": 2,
       "version_minor": 0
      },
      "text/plain": [
       "Feature collision:   0%|          | 0/10 [00:00<?, ?it/s]"
      ]
     },
     "metadata": {},
     "output_type": "display_data"
    },
    {
     "data": {
      "application/vnd.jupyter.widget-view+json": {
       "model_id": "5427103ce9bf44dea80d5277be73a6a0",
       "version_major": 2,
       "version_minor": 0
      },
      "text/plain": [
       "Feature collision:   0%|          | 0/10 [00:00<?, ?it/s]"
      ]
     },
     "metadata": {},
     "output_type": "display_data"
    },
    {
     "data": {
      "application/vnd.jupyter.widget-view+json": {
       "model_id": "069981c62f994c1b82cb4c25083f874f",
       "version_major": 2,
       "version_minor": 0
      },
      "text/plain": [
       "Feature collision:   0%|          | 0/10 [00:00<?, ?it/s]"
      ]
     },
     "metadata": {},
     "output_type": "display_data"
    },
    {
     "data": {
      "application/vnd.jupyter.widget-view+json": {
       "model_id": "ae9fde794aee4eea82ecd014643cc472",
       "version_major": 2,
       "version_minor": 0
      },
      "text/plain": [
       "Feature collision:   0%|          | 0/10 [00:00<?, ?it/s]"
      ]
     },
     "metadata": {},
     "output_type": "display_data"
    },
    {
     "data": {
      "application/vnd.jupyter.widget-view+json": {
       "model_id": "30c4ac00479547559cc1d844e1353fdc",
       "version_major": 2,
       "version_minor": 0
      },
      "text/plain": [
       "Feature collision:   0%|          | 0/10 [00:00<?, ?it/s]"
      ]
     },
     "metadata": {},
     "output_type": "display_data"
    },
    {
     "data": {
      "application/vnd.jupyter.widget-view+json": {
       "model_id": "73ade0e9ccd24e69b23ca8014b355245",
       "version_major": 2,
       "version_minor": 0
      },
      "text/plain": [
       "Feature collision:   0%|          | 0/10 [00:00<?, ?it/s]"
      ]
     },
     "metadata": {},
     "output_type": "display_data"
    },
    {
     "data": {
      "application/vnd.jupyter.widget-view+json": {
       "model_id": "a010164405124b6aa10298b2dea624d5",
       "version_major": 2,
       "version_minor": 0
      },
      "text/plain": [
       "Feature collision:   0%|          | 0/10 [00:00<?, ?it/s]"
      ]
     },
     "metadata": {},
     "output_type": "display_data"
    },
    {
     "data": {
      "application/vnd.jupyter.widget-view+json": {
       "model_id": "044524af694f470882c717131f8ff4a9",
       "version_major": 2,
       "version_minor": 0
      },
      "text/plain": [
       "Feature collision:   0%|          | 0/10 [00:00<?, ?it/s]"
      ]
     },
     "metadata": {},
     "output_type": "display_data"
    },
    {
     "data": {
      "application/vnd.jupyter.widget-view+json": {
       "model_id": "5e69afac3c494b0291be14fb996e7421",
       "version_major": 2,
       "version_minor": 0
      },
      "text/plain": [
       "Feature collision:   0%|          | 0/10 [00:00<?, ?it/s]"
      ]
     },
     "metadata": {},
     "output_type": "display_data"
    },
    {
     "data": {
      "application/vnd.jupyter.widget-view+json": {
       "model_id": "446b55caaa3042148899ecc91dd2bbd8",
       "version_major": 2,
       "version_minor": 0
      },
      "text/plain": [
       "Feature collision:   0%|          | 0/10 [00:00<?, ?it/s]"
      ]
     },
     "metadata": {},
     "output_type": "display_data"
    },
    {
     "data": {
      "application/vnd.jupyter.widget-view+json": {
       "model_id": "2b2dab59bc644d52be8cb1473184cebe",
       "version_major": 2,
       "version_minor": 0
      },
      "text/plain": [
       "Feature collision:   0%|          | 0/10 [00:00<?, ?it/s]"
      ]
     },
     "metadata": {},
     "output_type": "display_data"
    },
    {
     "data": {
      "application/vnd.jupyter.widget-view+json": {
       "model_id": "ab4deb525cfc4d99878fd721dd876f24",
       "version_major": 2,
       "version_minor": 0
      },
      "text/plain": [
       "Feature collision:   0%|          | 0/10 [00:00<?, ?it/s]"
      ]
     },
     "metadata": {},
     "output_type": "display_data"
    },
    {
     "data": {
      "application/vnd.jupyter.widget-view+json": {
       "model_id": "f184387575704ed8854e9275eb9daf4f",
       "version_major": 2,
       "version_minor": 0
      },
      "text/plain": [
       "Feature collision:   0%|          | 0/10 [00:00<?, ?it/s]"
      ]
     },
     "metadata": {},
     "output_type": "display_data"
    },
    {
     "data": {
      "application/vnd.jupyter.widget-view+json": {
       "model_id": "d317242f84cb4084be7f4f1149f73572",
       "version_major": 2,
       "version_minor": 0
      },
      "text/plain": [
       "Feature collision:   0%|          | 0/10 [00:00<?, ?it/s]"
      ]
     },
     "metadata": {},
     "output_type": "display_data"
    },
    {
     "data": {
      "application/vnd.jupyter.widget-view+json": {
       "model_id": "213bdca02f9d4771a0363bcbc5c17542",
       "version_major": 2,
       "version_minor": 0
      },
      "text/plain": [
       "Feature collision:   0%|          | 0/10 [00:00<?, ?it/s]"
      ]
     },
     "metadata": {},
     "output_type": "display_data"
    },
    {
     "data": {
      "application/vnd.jupyter.widget-view+json": {
       "model_id": "a405571de7964425b0b4a0a80323b8aa",
       "version_major": 2,
       "version_minor": 0
      },
      "text/plain": [
       "Feature collision:   0%|          | 0/10 [00:00<?, ?it/s]"
      ]
     },
     "metadata": {},
     "output_type": "display_data"
    },
    {
     "data": {
      "application/vnd.jupyter.widget-view+json": {
       "model_id": "8802002391c14168b1e7c2cdaa9f0b3e",
       "version_major": 2,
       "version_minor": 0
      },
      "text/plain": [
       "Feature collision:   0%|          | 0/10 [00:00<?, ?it/s]"
      ]
     },
     "metadata": {},
     "output_type": "display_data"
    },
    {
     "data": {
      "application/vnd.jupyter.widget-view+json": {
       "model_id": "19b1bc2f569846398538adc9a49560bf",
       "version_major": 2,
       "version_minor": 0
      },
      "text/plain": [
       "Feature collision:   0%|          | 0/10 [00:00<?, ?it/s]"
      ]
     },
     "metadata": {},
     "output_type": "display_data"
    },
    {
     "data": {
      "application/vnd.jupyter.widget-view+json": {
       "model_id": "681c86d5aa264251b166d8cc455d2b57",
       "version_major": 2,
       "version_minor": 0
      },
      "text/plain": [
       "Feature collision:   0%|          | 0/10 [00:00<?, ?it/s]"
      ]
     },
     "metadata": {},
     "output_type": "display_data"
    },
    {
     "data": {
      "application/vnd.jupyter.widget-view+json": {
       "model_id": "49a0479af9cb4f329aeb1ecf71774158",
       "version_major": 2,
       "version_minor": 0
      },
      "text/plain": [
       "Feature collision:   0%|          | 0/10 [00:00<?, ?it/s]"
      ]
     },
     "metadata": {},
     "output_type": "display_data"
    },
    {
     "data": {
      "application/vnd.jupyter.widget-view+json": {
       "model_id": "8e7084b48081435fb0de958ea9d80944",
       "version_major": 2,
       "version_minor": 0
      },
      "text/plain": [
       "Feature collision:   0%|          | 0/10 [00:00<?, ?it/s]"
      ]
     },
     "metadata": {},
     "output_type": "display_data"
    },
    {
     "data": {
      "application/vnd.jupyter.widget-view+json": {
       "model_id": "85cf5bf7425344a9b91434bbb485ca54",
       "version_major": 2,
       "version_minor": 0
      },
      "text/plain": [
       "Feature collision:   0%|          | 0/10 [00:00<?, ?it/s]"
      ]
     },
     "metadata": {},
     "output_type": "display_data"
    },
    {
     "data": {
      "application/vnd.jupyter.widget-view+json": {
       "model_id": "350663015a2343858c184e7221ac832c",
       "version_major": 2,
       "version_minor": 0
      },
      "text/plain": [
       "Feature collision:   0%|          | 0/10 [00:00<?, ?it/s]"
      ]
     },
     "metadata": {},
     "output_type": "display_data"
    },
    {
     "data": {
      "application/vnd.jupyter.widget-view+json": {
       "model_id": "cec81399c2ee4eeeb10b4ae93f2c964f",
       "version_major": 2,
       "version_minor": 0
      },
      "text/plain": [
       "Feature collision:   0%|          | 0/10 [00:00<?, ?it/s]"
      ]
     },
     "metadata": {},
     "output_type": "display_data"
    },
    {
     "data": {
      "application/vnd.jupyter.widget-view+json": {
       "model_id": "ef380f6afbaa43638b2a56481704cb1b",
       "version_major": 2,
       "version_minor": 0
      },
      "text/plain": [
       "Feature collision:   0%|          | 0/10 [00:00<?, ?it/s]"
      ]
     },
     "metadata": {},
     "output_type": "display_data"
    },
    {
     "data": {
      "application/vnd.jupyter.widget-view+json": {
       "model_id": "814b749019ae4839a6ccf93d6487f6cc",
       "version_major": 2,
       "version_minor": 0
      },
      "text/plain": [
       "Feature collision:   0%|          | 0/10 [00:00<?, ?it/s]"
      ]
     },
     "metadata": {},
     "output_type": "display_data"
    },
    {
     "data": {
      "application/vnd.jupyter.widget-view+json": {
       "model_id": "aea6fc7a608f4f7599d13aaaa257847e",
       "version_major": 2,
       "version_minor": 0
      },
      "text/plain": [
       "Feature collision:   0%|          | 0/10 [00:00<?, ?it/s]"
      ]
     },
     "metadata": {},
     "output_type": "display_data"
    },
    {
     "data": {
      "application/vnd.jupyter.widget-view+json": {
       "model_id": "2c097e0367ea4b2aab53c171409b9ebf",
       "version_major": 2,
       "version_minor": 0
      },
      "text/plain": [
       "Feature collision:   0%|          | 0/10 [00:00<?, ?it/s]"
      ]
     },
     "metadata": {},
     "output_type": "display_data"
    },
    {
     "data": {
      "application/vnd.jupyter.widget-view+json": {
       "model_id": "f7249f6f82ba47b19a8b16e5e3963ad0",
       "version_major": 2,
       "version_minor": 0
      },
      "text/plain": [
       "Feature collision:   0%|          | 0/10 [00:00<?, ?it/s]"
      ]
     },
     "metadata": {},
     "output_type": "display_data"
    },
    {
     "data": {
      "application/vnd.jupyter.widget-view+json": {
       "model_id": "df6d43fb08e84ea9b6f65c5c36d8f238",
       "version_major": 2,
       "version_minor": 0
      },
      "text/plain": [
       "Feature collision:   0%|          | 0/10 [00:00<?, ?it/s]"
      ]
     },
     "metadata": {},
     "output_type": "display_data"
    },
    {
     "data": {
      "application/vnd.jupyter.widget-view+json": {
       "model_id": "edb75b41e5104c6e8fb1ab4729299e82",
       "version_major": 2,
       "version_minor": 0
      },
      "text/plain": [
       "Feature collision:   0%|          | 0/10 [00:00<?, ?it/s]"
      ]
     },
     "metadata": {},
     "output_type": "display_data"
    },
    {
     "data": {
      "application/vnd.jupyter.widget-view+json": {
       "model_id": "d9983978205d45c08f318c6e90018580",
       "version_major": 2,
       "version_minor": 0
      },
      "text/plain": [
       "Feature collision:   0%|          | 0/10 [00:00<?, ?it/s]"
      ]
     },
     "metadata": {},
     "output_type": "display_data"
    },
    {
     "data": {
      "application/vnd.jupyter.widget-view+json": {
       "model_id": "39f2b07ed1f94efdb13dec8f1dd94e1d",
       "version_major": 2,
       "version_minor": 0
      },
      "text/plain": [
       "Feature collision:   0%|          | 0/10 [00:00<?, ?it/s]"
      ]
     },
     "metadata": {},
     "output_type": "display_data"
    },
    {
     "data": {
      "application/vnd.jupyter.widget-view+json": {
       "model_id": "de1b25ea9b204f879885564704a883a6",
       "version_major": 2,
       "version_minor": 0
      },
      "text/plain": [
       "Feature collision:   0%|          | 0/10 [00:00<?, ?it/s]"
      ]
     },
     "metadata": {},
     "output_type": "display_data"
    },
    {
     "data": {
      "application/vnd.jupyter.widget-view+json": {
       "model_id": "f1023da0469b4cc1a26e8453022b59a9",
       "version_major": 2,
       "version_minor": 0
      },
      "text/plain": [
       "Feature collision:   0%|          | 0/10 [00:00<?, ?it/s]"
      ]
     },
     "metadata": {},
     "output_type": "display_data"
    },
    {
     "data": {
      "application/vnd.jupyter.widget-view+json": {
       "model_id": "33a4b7575cf74127912cbbfbf240f0c5",
       "version_major": 2,
       "version_minor": 0
      },
      "text/plain": [
       "Feature collision:   0%|          | 0/10 [00:00<?, ?it/s]"
      ]
     },
     "metadata": {},
     "output_type": "display_data"
    },
    {
     "data": {
      "application/vnd.jupyter.widget-view+json": {
       "model_id": "7ef085e438c44ff2b5dd560409c1f789",
       "version_major": 2,
       "version_minor": 0
      },
      "text/plain": [
       "Feature collision:   0%|          | 0/10 [00:00<?, ?it/s]"
      ]
     },
     "metadata": {},
     "output_type": "display_data"
    },
    {
     "data": {
      "application/vnd.jupyter.widget-view+json": {
       "model_id": "def869ac97484e69aec56bb713389feb",
       "version_major": 2,
       "version_minor": 0
      },
      "text/plain": [
       "Feature collision:   0%|          | 0/10 [00:00<?, ?it/s]"
      ]
     },
     "metadata": {},
     "output_type": "display_data"
    },
    {
     "data": {
      "application/vnd.jupyter.widget-view+json": {
       "model_id": "09d541ceeba9448e91b50085acaac4b0",
       "version_major": 2,
       "version_minor": 0
      },
      "text/plain": [
       "Feature collision:   0%|          | 0/10 [00:00<?, ?it/s]"
      ]
     },
     "metadata": {},
     "output_type": "display_data"
    },
    {
     "data": {
      "application/vnd.jupyter.widget-view+json": {
       "model_id": "21b7733f7738400ea8184f83898cda7a",
       "version_major": 2,
       "version_minor": 0
      },
      "text/plain": [
       "Feature collision:   0%|          | 0/10 [00:00<?, ?it/s]"
      ]
     },
     "metadata": {},
     "output_type": "display_data"
    },
    {
     "data": {
      "application/vnd.jupyter.widget-view+json": {
       "model_id": "58b081398efb484f9d22349df27abed7",
       "version_major": 2,
       "version_minor": 0
      },
      "text/plain": [
       "Feature collision:   0%|          | 0/10 [00:00<?, ?it/s]"
      ]
     },
     "metadata": {},
     "output_type": "display_data"
    },
    {
     "data": {
      "application/vnd.jupyter.widget-view+json": {
       "model_id": "b7a0ee40f91643d7a3103243648353ea",
       "version_major": 2,
       "version_minor": 0
      },
      "text/plain": [
       "Feature collision:   0%|          | 0/10 [00:00<?, ?it/s]"
      ]
     },
     "metadata": {},
     "output_type": "display_data"
    },
    {
     "data": {
      "application/vnd.jupyter.widget-view+json": {
       "model_id": "2ea68c1a1ec2490ba58b0c1ded2925ca",
       "version_major": 2,
       "version_minor": 0
      },
      "text/plain": [
       "Feature collision:   0%|          | 0/10 [00:00<?, ?it/s]"
      ]
     },
     "metadata": {},
     "output_type": "display_data"
    },
    {
     "data": {
      "application/vnd.jupyter.widget-view+json": {
       "model_id": "8eefba82c2c04bf693241a62365e7d3c",
       "version_major": 2,
       "version_minor": 0
      },
      "text/plain": [
       "Feature collision:   0%|          | 0/10 [00:00<?, ?it/s]"
      ]
     },
     "metadata": {},
     "output_type": "display_data"
    },
    {
     "data": {
      "application/vnd.jupyter.widget-view+json": {
       "model_id": "e5a101adfbb843abadb7791d378b433e",
       "version_major": 2,
       "version_minor": 0
      },
      "text/plain": [
       "Feature collision:   0%|          | 0/10 [00:00<?, ?it/s]"
      ]
     },
     "metadata": {},
     "output_type": "display_data"
    },
    {
     "data": {
      "application/vnd.jupyter.widget-view+json": {
       "model_id": "5a4e3b37ae034d238bd29eb77797fffb",
       "version_major": 2,
       "version_minor": 0
      },
      "text/plain": [
       "Feature collision:   0%|          | 0/10 [00:00<?, ?it/s]"
      ]
     },
     "metadata": {},
     "output_type": "display_data"
    },
    {
     "data": {
      "application/vnd.jupyter.widget-view+json": {
       "model_id": "14e20f573a8e497090e739d17b1cee15",
       "version_major": 2,
       "version_minor": 0
      },
      "text/plain": [
       "Feature collision:   0%|          | 0/10 [00:00<?, ?it/s]"
      ]
     },
     "metadata": {},
     "output_type": "display_data"
    },
    {
     "data": {
      "application/vnd.jupyter.widget-view+json": {
       "model_id": "727813c37eb7430e879603bad846ff35",
       "version_major": 2,
       "version_minor": 0
      },
      "text/plain": [
       "Feature collision:   0%|          | 0/10 [00:00<?, ?it/s]"
      ]
     },
     "metadata": {},
     "output_type": "display_data"
    },
    {
     "data": {
      "application/vnd.jupyter.widget-view+json": {
       "model_id": "b1a906692d4545e18045c1e8ef127f4f",
       "version_major": 2,
       "version_minor": 0
      },
      "text/plain": [
       "Feature collision:   0%|          | 0/10 [00:00<?, ?it/s]"
      ]
     },
     "metadata": {},
     "output_type": "display_data"
    },
    {
     "data": {
      "application/vnd.jupyter.widget-view+json": {
       "model_id": "6cc6cb65256c4d7394772b0ff74c15b0",
       "version_major": 2,
       "version_minor": 0
      },
      "text/plain": [
       "Feature collision:   0%|          | 0/10 [00:00<?, ?it/s]"
      ]
     },
     "metadata": {},
     "output_type": "display_data"
    },
    {
     "data": {
      "application/vnd.jupyter.widget-view+json": {
       "model_id": "88c7f29ff23b41d680afb20f57edb021",
       "version_major": 2,
       "version_minor": 0
      },
      "text/plain": [
       "Feature collision:   0%|          | 0/10 [00:00<?, ?it/s]"
      ]
     },
     "metadata": {},
     "output_type": "display_data"
    },
    {
     "data": {
      "application/vnd.jupyter.widget-view+json": {
       "model_id": "63407131dd6a4ddf865ab20255eb9b8c",
       "version_major": 2,
       "version_minor": 0
      },
      "text/plain": [
       "Feature collision:   0%|          | 0/10 [00:00<?, ?it/s]"
      ]
     },
     "metadata": {},
     "output_type": "display_data"
    },
    {
     "data": {
      "application/vnd.jupyter.widget-view+json": {
       "model_id": "d9846d7bcc2848adafa2dfb76185baec",
       "version_major": 2,
       "version_minor": 0
      },
      "text/plain": [
       "Feature collision:   0%|          | 0/10 [00:00<?, ?it/s]"
      ]
     },
     "metadata": {},
     "output_type": "display_data"
    },
    {
     "data": {
      "application/vnd.jupyter.widget-view+json": {
       "model_id": "3b7e94dc4cbe43bda203c6fcba0e4e04",
       "version_major": 2,
       "version_minor": 0
      },
      "text/plain": [
       "Feature collision:   0%|          | 0/10 [00:00<?, ?it/s]"
      ]
     },
     "metadata": {},
     "output_type": "display_data"
    },
    {
     "data": {
      "application/vnd.jupyter.widget-view+json": {
       "model_id": "f4f691b70fdb4ca48ae328df9a286330",
       "version_major": 2,
       "version_minor": 0
      },
      "text/plain": [
       "Feature collision:   0%|          | 0/10 [00:00<?, ?it/s]"
      ]
     },
     "metadata": {},
     "output_type": "display_data"
    },
    {
     "data": {
      "application/vnd.jupyter.widget-view+json": {
       "model_id": "8d36ad16407a43b4b5938af92713b412",
       "version_major": 2,
       "version_minor": 0
      },
      "text/plain": [
       "Feature collision:   0%|          | 0/10 [00:00<?, ?it/s]"
      ]
     },
     "metadata": {},
     "output_type": "display_data"
    },
    {
     "data": {
      "application/vnd.jupyter.widget-view+json": {
       "model_id": "f1618b72edef427e8f76c5395ec19540",
       "version_major": 2,
       "version_minor": 0
      },
      "text/plain": [
       "Feature collision:   0%|          | 0/10 [00:00<?, ?it/s]"
      ]
     },
     "metadata": {},
     "output_type": "display_data"
    },
    {
     "data": {
      "application/vnd.jupyter.widget-view+json": {
       "model_id": "016ae6d96dde4aea9c40bdf5194f0aa2",
       "version_major": 2,
       "version_minor": 0
      },
      "text/plain": [
       "Feature collision:   0%|          | 0/10 [00:00<?, ?it/s]"
      ]
     },
     "metadata": {},
     "output_type": "display_data"
    },
    {
     "data": {
      "application/vnd.jupyter.widget-view+json": {
       "model_id": "a3ea44095b4e44b9ade036d470ac2c11",
       "version_major": 2,
       "version_minor": 0
      },
      "text/plain": [
       "Feature collision:   0%|          | 0/10 [00:00<?, ?it/s]"
      ]
     },
     "metadata": {},
     "output_type": "display_data"
    },
    {
     "data": {
      "application/vnd.jupyter.widget-view+json": {
       "model_id": "976137d5ac8e4c6cbefbba280aa6efa5",
       "version_major": 2,
       "version_minor": 0
      },
      "text/plain": [
       "Feature collision:   0%|          | 0/10 [00:00<?, ?it/s]"
      ]
     },
     "metadata": {},
     "output_type": "display_data"
    },
    {
     "data": {
      "application/vnd.jupyter.widget-view+json": {
       "model_id": "65ed33b28b314282aaa0e9d3bf427e78",
       "version_major": 2,
       "version_minor": 0
      },
      "text/plain": [
       "Feature collision:   0%|          | 0/10 [00:00<?, ?it/s]"
      ]
     },
     "metadata": {},
     "output_type": "display_data"
    },
    {
     "data": {
      "application/vnd.jupyter.widget-view+json": {
       "model_id": "0ca04ae54753422fab309f229ac93921",
       "version_major": 2,
       "version_minor": 0
      },
      "text/plain": [
       "Feature collision:   0%|          | 0/10 [00:00<?, ?it/s]"
      ]
     },
     "metadata": {},
     "output_type": "display_data"
    },
    {
     "data": {
      "application/vnd.jupyter.widget-view+json": {
       "model_id": "70df237e3c8844a28a4b449b5b785218",
       "version_major": 2,
       "version_minor": 0
      },
      "text/plain": [
       "Feature collision:   0%|          | 0/10 [00:00<?, ?it/s]"
      ]
     },
     "metadata": {},
     "output_type": "display_data"
    },
    {
     "data": {
      "application/vnd.jupyter.widget-view+json": {
       "model_id": "de182bec2a7c4617823eba4e8e0434ce",
       "version_major": 2,
       "version_minor": 0
      },
      "text/plain": [
       "Feature collision:   0%|          | 0/10 [00:00<?, ?it/s]"
      ]
     },
     "metadata": {},
     "output_type": "display_data"
    },
    {
     "data": {
      "application/vnd.jupyter.widget-view+json": {
       "model_id": "5c371c40a63845a4bee97c0ee6ba5ef6",
       "version_major": 2,
       "version_minor": 0
      },
      "text/plain": [
       "Feature collision:   0%|          | 0/10 [00:00<?, ?it/s]"
      ]
     },
     "metadata": {},
     "output_type": "display_data"
    },
    {
     "data": {
      "application/vnd.jupyter.widget-view+json": {
       "model_id": "236415fcd3b947b8835c3b537e9ac92c",
       "version_major": 2,
       "version_minor": 0
      },
      "text/plain": [
       "Feature collision:   0%|          | 0/10 [00:00<?, ?it/s]"
      ]
     },
     "metadata": {},
     "output_type": "display_data"
    },
    {
     "data": {
      "application/vnd.jupyter.widget-view+json": {
       "model_id": "297bfd0bebd043de986964e0ef47c14f",
       "version_major": 2,
       "version_minor": 0
      },
      "text/plain": [
       "Feature collision:   0%|          | 0/10 [00:00<?, ?it/s]"
      ]
     },
     "metadata": {},
     "output_type": "display_data"
    },
    {
     "data": {
      "application/vnd.jupyter.widget-view+json": {
       "model_id": "8322312c86894413b036b8c06659b60d",
       "version_major": 2,
       "version_minor": 0
      },
      "text/plain": [
       "Feature collision:   0%|          | 0/10 [00:00<?, ?it/s]"
      ]
     },
     "metadata": {},
     "output_type": "display_data"
    },
    {
     "data": {
      "application/vnd.jupyter.widget-view+json": {
       "model_id": "c1cda137ca0f43cb83c058d44738a7cc",
       "version_major": 2,
       "version_minor": 0
      },
      "text/plain": [
       "Feature collision:   0%|          | 0/10 [00:00<?, ?it/s]"
      ]
     },
     "metadata": {},
     "output_type": "display_data"
    },
    {
     "data": {
      "application/vnd.jupyter.widget-view+json": {
       "model_id": "8fd8dcd3af7242c38edfb53e04db6d5a",
       "version_major": 2,
       "version_minor": 0
      },
      "text/plain": [
       "Feature collision:   0%|          | 0/10 [00:00<?, ?it/s]"
      ]
     },
     "metadata": {},
     "output_type": "display_data"
    },
    {
     "data": {
      "application/vnd.jupyter.widget-view+json": {
       "model_id": "7bcfe93f1e854aa8b0903519d4d9d6d8",
       "version_major": 2,
       "version_minor": 0
      },
      "text/plain": [
       "Feature collision:   0%|          | 0/10 [00:00<?, ?it/s]"
      ]
     },
     "metadata": {},
     "output_type": "display_data"
    },
    {
     "data": {
      "application/vnd.jupyter.widget-view+json": {
       "model_id": "9c706029e68f4abc98cf5f00379ea171",
       "version_major": 2,
       "version_minor": 0
      },
      "text/plain": [
       "Feature collision:   0%|          | 0/10 [00:00<?, ?it/s]"
      ]
     },
     "metadata": {},
     "output_type": "display_data"
    },
    {
     "data": {
      "application/vnd.jupyter.widget-view+json": {
       "model_id": "76a12c46ff514fb8bc2e9715ef7a961a",
       "version_major": 2,
       "version_minor": 0
      },
      "text/plain": [
       "Feature collision:   0%|          | 0/10 [00:00<?, ?it/s]"
      ]
     },
     "metadata": {},
     "output_type": "display_data"
    },
    {
     "data": {
      "application/vnd.jupyter.widget-view+json": {
       "model_id": "db57dea570b6495cb311018f7b9435fd",
       "version_major": 2,
       "version_minor": 0
      },
      "text/plain": [
       "Feature collision:   0%|          | 0/10 [00:00<?, ?it/s]"
      ]
     },
     "metadata": {},
     "output_type": "display_data"
    },
    {
     "data": {
      "application/vnd.jupyter.widget-view+json": {
       "model_id": "38e46241a08b4b95945cf1bcb25e3e97",
       "version_major": 2,
       "version_minor": 0
      },
      "text/plain": [
       "Feature collision:   0%|          | 0/10 [00:00<?, ?it/s]"
      ]
     },
     "metadata": {},
     "output_type": "display_data"
    },
    {
     "data": {
      "application/vnd.jupyter.widget-view+json": {
       "model_id": "da9e172b15d740258f4e66fab3520070",
       "version_major": 2,
       "version_minor": 0
      },
      "text/plain": [
       "Feature collision:   0%|          | 0/10 [00:00<?, ?it/s]"
      ]
     },
     "metadata": {},
     "output_type": "display_data"
    },
    {
     "data": {
      "application/vnd.jupyter.widget-view+json": {
       "model_id": "d7738af05f56435d93796329fc479f39",
       "version_major": 2,
       "version_minor": 0
      },
      "text/plain": [
       "Feature collision:   0%|          | 0/10 [00:00<?, ?it/s]"
      ]
     },
     "metadata": {},
     "output_type": "display_data"
    },
    {
     "data": {
      "application/vnd.jupyter.widget-view+json": {
       "model_id": "b36fd7719d0e458e838f56182d09b060",
       "version_major": 2,
       "version_minor": 0
      },
      "text/plain": [
       "Feature collision:   0%|          | 0/10 [00:00<?, ?it/s]"
      ]
     },
     "metadata": {},
     "output_type": "display_data"
    },
    {
     "data": {
      "application/vnd.jupyter.widget-view+json": {
       "model_id": "24fca81d94be4b8f94c8b7b50b11b65e",
       "version_major": 2,
       "version_minor": 0
      },
      "text/plain": [
       "Feature collision:   0%|          | 0/10 [00:00<?, ?it/s]"
      ]
     },
     "metadata": {},
     "output_type": "display_data"
    },
    {
     "data": {
      "application/vnd.jupyter.widget-view+json": {
       "model_id": "e7f15823dfc947a6b7ae854b4d6a660d",
       "version_major": 2,
       "version_minor": 0
      },
      "text/plain": [
       "Feature collision:   0%|          | 0/10 [00:00<?, ?it/s]"
      ]
     },
     "metadata": {},
     "output_type": "display_data"
    },
    {
     "data": {
      "application/vnd.jupyter.widget-view+json": {
       "model_id": "d04e8dfeddc342b08c30875f0ea28d16",
       "version_major": 2,
       "version_minor": 0
      },
      "text/plain": [
       "Feature collision:   0%|          | 0/10 [00:00<?, ?it/s]"
      ]
     },
     "metadata": {},
     "output_type": "display_data"
    },
    {
     "data": {
      "application/vnd.jupyter.widget-view+json": {
       "model_id": "028450e4f78c42a6ad028cc980d74158",
       "version_major": 2,
       "version_minor": 0
      },
      "text/plain": [
       "Feature collision:   0%|          | 0/10 [00:00<?, ?it/s]"
      ]
     },
     "metadata": {},
     "output_type": "display_data"
    },
    {
     "data": {
      "application/vnd.jupyter.widget-view+json": {
       "model_id": "8981acf69a07462c882dc272a961917d",
       "version_major": 2,
       "version_minor": 0
      },
      "text/plain": [
       "Feature collision:   0%|          | 0/10 [00:00<?, ?it/s]"
      ]
     },
     "metadata": {},
     "output_type": "display_data"
    },
    {
     "data": {
      "application/vnd.jupyter.widget-view+json": {
       "model_id": "aa71622dd8864c2490fd95b8ba4b0476",
       "version_major": 2,
       "version_minor": 0
      },
      "text/plain": [
       "Feature collision:   0%|          | 0/10 [00:00<?, ?it/s]"
      ]
     },
     "metadata": {},
     "output_type": "display_data"
    },
    {
     "data": {
      "application/vnd.jupyter.widget-view+json": {
       "model_id": "0aad715a106c406fb72a795091ba21ad",
       "version_major": 2,
       "version_minor": 0
      },
      "text/plain": [
       "Feature collision:   0%|          | 0/10 [00:00<?, ?it/s]"
      ]
     },
     "metadata": {},
     "output_type": "display_data"
    },
    {
     "data": {
      "application/vnd.jupyter.widget-view+json": {
       "model_id": "28eb2a9be1d04b7f99a993fdbd56da28",
       "version_major": 2,
       "version_minor": 0
      },
      "text/plain": [
       "Feature collision:   0%|          | 0/10 [00:00<?, ?it/s]"
      ]
     },
     "metadata": {},
     "output_type": "display_data"
    },
    {
     "data": {
      "application/vnd.jupyter.widget-view+json": {
       "model_id": "a8e541eeecb44ceb80a71f67b9af0474",
       "version_major": 2,
       "version_minor": 0
      },
      "text/plain": [
       "Feature collision:   0%|          | 0/10 [00:00<?, ?it/s]"
      ]
     },
     "metadata": {},
     "output_type": "display_data"
    },
    {
     "data": {
      "application/vnd.jupyter.widget-view+json": {
       "model_id": "a1ecb3525d3749e08e071c23e2e9961a",
       "version_major": 2,
       "version_minor": 0
      },
      "text/plain": [
       "Feature collision:   0%|          | 0/10 [00:00<?, ?it/s]"
      ]
     },
     "metadata": {},
     "output_type": "display_data"
    },
    {
     "data": {
      "application/vnd.jupyter.widget-view+json": {
       "model_id": "fdb2bdb04b5c4eaf98a3720c2a175c2c",
       "version_major": 2,
       "version_minor": 0
      },
      "text/plain": [
       "Feature collision:   0%|          | 0/10 [00:00<?, ?it/s]"
      ]
     },
     "metadata": {},
     "output_type": "display_data"
    },
    {
     "data": {
      "application/vnd.jupyter.widget-view+json": {
       "model_id": "8c64ef7a501649af977c8cf51ff4ca4d",
       "version_major": 2,
       "version_minor": 0
      },
      "text/plain": [
       "Feature collision:   0%|          | 0/10 [00:00<?, ?it/s]"
      ]
     },
     "metadata": {},
     "output_type": "display_data"
    },
    {
     "data": {
      "application/vnd.jupyter.widget-view+json": {
       "model_id": "27d6cf34ad7f48ca99d850d82f5a8f58",
       "version_major": 2,
       "version_minor": 0
      },
      "text/plain": [
       "Feature collision:   0%|          | 0/10 [00:00<?, ?it/s]"
      ]
     },
     "metadata": {},
     "output_type": "display_data"
    },
    {
     "data": {
      "application/vnd.jupyter.widget-view+json": {
       "model_id": "5bee2314b1ec48f4b8c70bec6232923d",
       "version_major": 2,
       "version_minor": 0
      },
      "text/plain": [
       "Feature collision:   0%|          | 0/10 [00:00<?, ?it/s]"
      ]
     },
     "metadata": {},
     "output_type": "display_data"
    },
    {
     "data": {
      "application/vnd.jupyter.widget-view+json": {
       "model_id": "a91278c895454706a374c47afa9c73e7",
       "version_major": 2,
       "version_minor": 0
      },
      "text/plain": [
       "Feature collision:   0%|          | 0/10 [00:00<?, ?it/s]"
      ]
     },
     "metadata": {},
     "output_type": "display_data"
    },
    {
     "data": {
      "application/vnd.jupyter.widget-view+json": {
       "model_id": "0354e93236fb4048968faedcda44fbf2",
       "version_major": 2,
       "version_minor": 0
      },
      "text/plain": [
       "Feature collision:   0%|          | 0/10 [00:00<?, ?it/s]"
      ]
     },
     "metadata": {},
     "output_type": "display_data"
    },
    {
     "data": {
      "application/vnd.jupyter.widget-view+json": {
       "model_id": "376634bb94ee472a9294820cb7817f5b",
       "version_major": 2,
       "version_minor": 0
      },
      "text/plain": [
       "Feature collision:   0%|          | 0/10 [00:00<?, ?it/s]"
      ]
     },
     "metadata": {},
     "output_type": "display_data"
    },
    {
     "data": {
      "application/vnd.jupyter.widget-view+json": {
       "model_id": "2239942c9f6540228b97eeaf661d2dbd",
       "version_major": 2,
       "version_minor": 0
      },
      "text/plain": [
       "Feature collision:   0%|          | 0/10 [00:00<?, ?it/s]"
      ]
     },
     "metadata": {},
     "output_type": "display_data"
    },
    {
     "data": {
      "application/vnd.jupyter.widget-view+json": {
       "model_id": "59ee4be5b07743f18fc490b0e575bc10",
       "version_major": 2,
       "version_minor": 0
      },
      "text/plain": [
       "Feature collision:   0%|          | 0/10 [00:00<?, ?it/s]"
      ]
     },
     "metadata": {},
     "output_type": "display_data"
    },
    {
     "data": {
      "application/vnd.jupyter.widget-view+json": {
       "model_id": "c370c35d045a4fa1bfbf1681b412d737",
       "version_major": 2,
       "version_minor": 0
      },
      "text/plain": [
       "Feature collision:   0%|          | 0/10 [00:00<?, ?it/s]"
      ]
     },
     "metadata": {},
     "output_type": "display_data"
    },
    {
     "data": {
      "application/vnd.jupyter.widget-view+json": {
       "model_id": "91bb93bfaf004ed4a7a7b462c28d4403",
       "version_major": 2,
       "version_minor": 0
      },
      "text/plain": [
       "Feature collision:   0%|          | 0/10 [00:00<?, ?it/s]"
      ]
     },
     "metadata": {},
     "output_type": "display_data"
    },
    {
     "data": {
      "application/vnd.jupyter.widget-view+json": {
       "model_id": "91a10063671f4d739d6b7d60880257c7",
       "version_major": 2,
       "version_minor": 0
      },
      "text/plain": [
       "Feature collision:   0%|          | 0/10 [00:00<?, ?it/s]"
      ]
     },
     "metadata": {},
     "output_type": "display_data"
    },
    {
     "data": {
      "application/vnd.jupyter.widget-view+json": {
       "model_id": "65e6d317974e4ef4a83870e5f4a08fd3",
       "version_major": 2,
       "version_minor": 0
      },
      "text/plain": [
       "Feature collision:   0%|          | 0/10 [00:00<?, ?it/s]"
      ]
     },
     "metadata": {},
     "output_type": "display_data"
    },
    {
     "data": {
      "application/vnd.jupyter.widget-view+json": {
       "model_id": "c124c239d3494747bc1230e4ae0ffe46",
       "version_major": 2,
       "version_minor": 0
      },
      "text/plain": [
       "Feature collision:   0%|          | 0/10 [00:00<?, ?it/s]"
      ]
     },
     "metadata": {},
     "output_type": "display_data"
    },
    {
     "data": {
      "application/vnd.jupyter.widget-view+json": {
       "model_id": "baf477b7885f422fb64059d3b3c02327",
       "version_major": 2,
       "version_minor": 0
      },
      "text/plain": [
       "Feature collision:   0%|          | 0/10 [00:00<?, ?it/s]"
      ]
     },
     "metadata": {},
     "output_type": "display_data"
    },
    {
     "data": {
      "application/vnd.jupyter.widget-view+json": {
       "model_id": "732f24a9dcf1441c8f1ef6e0c384c518",
       "version_major": 2,
       "version_minor": 0
      },
      "text/plain": [
       "Feature collision:   0%|          | 0/10 [00:00<?, ?it/s]"
      ]
     },
     "metadata": {},
     "output_type": "display_data"
    },
    {
     "data": {
      "application/vnd.jupyter.widget-view+json": {
       "model_id": "661f238c7d0e473a8fa79726f8b4bbf5",
       "version_major": 2,
       "version_minor": 0
      },
      "text/plain": [
       "Feature collision:   0%|          | 0/10 [00:00<?, ?it/s]"
      ]
     },
     "metadata": {},
     "output_type": "display_data"
    },
    {
     "data": {
      "application/vnd.jupyter.widget-view+json": {
       "model_id": "9e4063b257a14089a5e67c67876ac30f",
       "version_major": 2,
       "version_minor": 0
      },
      "text/plain": [
       "Feature collision:   0%|          | 0/10 [00:00<?, ?it/s]"
      ]
     },
     "metadata": {},
     "output_type": "display_data"
    },
    {
     "data": {
      "application/vnd.jupyter.widget-view+json": {
       "model_id": "508ee9d24df3400f80e6628d541d3dd8",
       "version_major": 2,
       "version_minor": 0
      },
      "text/plain": [
       "Feature collision:   0%|          | 0/10 [00:00<?, ?it/s]"
      ]
     },
     "metadata": {},
     "output_type": "display_data"
    },
    {
     "data": {
      "application/vnd.jupyter.widget-view+json": {
       "model_id": "a35147b114f640b68b1ed502be18c39f",
       "version_major": 2,
       "version_minor": 0
      },
      "text/plain": [
       "Feature collision:   0%|          | 0/10 [00:00<?, ?it/s]"
      ]
     },
     "metadata": {},
     "output_type": "display_data"
    },
    {
     "data": {
      "application/vnd.jupyter.widget-view+json": {
       "model_id": "340f9b7f9bdf43899b03bcbda75bdef7",
       "version_major": 2,
       "version_minor": 0
      },
      "text/plain": [
       "Feature collision:   0%|          | 0/10 [00:00<?, ?it/s]"
      ]
     },
     "metadata": {},
     "output_type": "display_data"
    },
    {
     "data": {
      "application/vnd.jupyter.widget-view+json": {
       "model_id": "41fb74db4640499386153443f7819c5e",
       "version_major": 2,
       "version_minor": 0
      },
      "text/plain": [
       "Feature collision:   0%|          | 0/10 [00:00<?, ?it/s]"
      ]
     },
     "metadata": {},
     "output_type": "display_data"
    },
    {
     "data": {
      "application/vnd.jupyter.widget-view+json": {
       "model_id": "2e65de70e7ae4eae9850d20969addc8e",
       "version_major": 2,
       "version_minor": 0
      },
      "text/plain": [
       "Feature collision:   0%|          | 0/10 [00:00<?, ?it/s]"
      ]
     },
     "metadata": {},
     "output_type": "display_data"
    },
    {
     "data": {
      "application/vnd.jupyter.widget-view+json": {
       "model_id": "2b3343a6a17941eb8e58786416fa8c30",
       "version_major": 2,
       "version_minor": 0
      },
      "text/plain": [
       "Feature collision:   0%|          | 0/10 [00:00<?, ?it/s]"
      ]
     },
     "metadata": {},
     "output_type": "display_data"
    },
    {
     "data": {
      "application/vnd.jupyter.widget-view+json": {
       "model_id": "21a31c00c53a44a8af830eabd9fc8252",
       "version_major": 2,
       "version_minor": 0
      },
      "text/plain": [
       "Feature collision:   0%|          | 0/10 [00:00<?, ?it/s]"
      ]
     },
     "metadata": {},
     "output_type": "display_data"
    },
    {
     "data": {
      "application/vnd.jupyter.widget-view+json": {
       "model_id": "9e610419fd554c0a9b933db6e4bca1ef",
       "version_major": 2,
       "version_minor": 0
      },
      "text/plain": [
       "Feature collision:   0%|          | 0/10 [00:00<?, ?it/s]"
      ]
     },
     "metadata": {},
     "output_type": "display_data"
    },
    {
     "data": {
      "application/vnd.jupyter.widget-view+json": {
       "model_id": "a414c4a43ac54ec9aad1dbbda9ab35b2",
       "version_major": 2,
       "version_minor": 0
      },
      "text/plain": [
       "Feature collision:   0%|          | 0/10 [00:00<?, ?it/s]"
      ]
     },
     "metadata": {},
     "output_type": "display_data"
    },
    {
     "data": {
      "application/vnd.jupyter.widget-view+json": {
       "model_id": "85239ae9ad4f4eaa88356fb4bc1ebb2e",
       "version_major": 2,
       "version_minor": 0
      },
      "text/plain": [
       "Feature collision:   0%|          | 0/10 [00:00<?, ?it/s]"
      ]
     },
     "metadata": {},
     "output_type": "display_data"
    },
    {
     "data": {
      "application/vnd.jupyter.widget-view+json": {
       "model_id": "741337093e264bf7aa397152557627c3",
       "version_major": 2,
       "version_minor": 0
      },
      "text/plain": [
       "Feature collision:   0%|          | 0/10 [00:00<?, ?it/s]"
      ]
     },
     "metadata": {},
     "output_type": "display_data"
    },
    {
     "data": {
      "application/vnd.jupyter.widget-view+json": {
       "model_id": "ecd5c498bc164dfbb602677ebb073a07",
       "version_major": 2,
       "version_minor": 0
      },
      "text/plain": [
       "Feature collision:   0%|          | 0/10 [00:00<?, ?it/s]"
      ]
     },
     "metadata": {},
     "output_type": "display_data"
    },
    {
     "data": {
      "application/vnd.jupyter.widget-view+json": {
       "model_id": "4627e13e00ea4191b9e5adc398b32abd",
       "version_major": 2,
       "version_minor": 0
      },
      "text/plain": [
       "Feature collision:   0%|          | 0/10 [00:00<?, ?it/s]"
      ]
     },
     "metadata": {},
     "output_type": "display_data"
    },
    {
     "data": {
      "application/vnd.jupyter.widget-view+json": {
       "model_id": "b98c65c6a75e43dfa80ec230cab1df65",
       "version_major": 2,
       "version_minor": 0
      },
      "text/plain": [
       "Feature collision:   0%|          | 0/10 [00:00<?, ?it/s]"
      ]
     },
     "metadata": {},
     "output_type": "display_data"
    },
    {
     "data": {
      "application/vnd.jupyter.widget-view+json": {
       "model_id": "633075ab7daa40fdb56a75ad70efa14e",
       "version_major": 2,
       "version_minor": 0
      },
      "text/plain": [
       "Feature collision:   0%|          | 0/10 [00:00<?, ?it/s]"
      ]
     },
     "metadata": {},
     "output_type": "display_data"
    },
    {
     "data": {
      "application/vnd.jupyter.widget-view+json": {
       "model_id": "5ea1d4d1a4e44b058bfb147d1de4d06c",
       "version_major": 2,
       "version_minor": 0
      },
      "text/plain": [
       "Feature collision:   0%|          | 0/10 [00:00<?, ?it/s]"
      ]
     },
     "metadata": {},
     "output_type": "display_data"
    },
    {
     "data": {
      "application/vnd.jupyter.widget-view+json": {
       "model_id": "4aa1a5e77d5544e99059fe046496b596",
       "version_major": 2,
       "version_minor": 0
      },
      "text/plain": [
       "Feature collision:   0%|          | 0/10 [00:00<?, ?it/s]"
      ]
     },
     "metadata": {},
     "output_type": "display_data"
    },
    {
     "data": {
      "application/vnd.jupyter.widget-view+json": {
       "model_id": "4580236b05cf482eafc5d825bdf05c61",
       "version_major": 2,
       "version_minor": 0
      },
      "text/plain": [
       "Feature collision:   0%|          | 0/10 [00:00<?, ?it/s]"
      ]
     },
     "metadata": {},
     "output_type": "display_data"
    },
    {
     "data": {
      "application/vnd.jupyter.widget-view+json": {
       "model_id": "f1c6cd50ee05455eae1a6ec0bcf3f849",
       "version_major": 2,
       "version_minor": 0
      },
      "text/plain": [
       "Feature collision:   0%|          | 0/10 [00:00<?, ?it/s]"
      ]
     },
     "metadata": {},
     "output_type": "display_data"
    },
    {
     "data": {
      "application/vnd.jupyter.widget-view+json": {
       "model_id": "d7734140574c4f8494126e6d441406e3",
       "version_major": 2,
       "version_minor": 0
      },
      "text/plain": [
       "Feature collision:   0%|          | 0/10 [00:00<?, ?it/s]"
      ]
     },
     "metadata": {},
     "output_type": "display_data"
    },
    {
     "data": {
      "application/vnd.jupyter.widget-view+json": {
       "model_id": "d9bbc116e2af4ecb921687a100f121e0",
       "version_major": 2,
       "version_minor": 0
      },
      "text/plain": [
       "Feature collision:   0%|          | 0/10 [00:00<?, ?it/s]"
      ]
     },
     "metadata": {},
     "output_type": "display_data"
    },
    {
     "data": {
      "application/vnd.jupyter.widget-view+json": {
       "model_id": "5c84249500a64aaaa1c889316a8e1e4e",
       "version_major": 2,
       "version_minor": 0
      },
      "text/plain": [
       "Feature collision:   0%|          | 0/10 [00:00<?, ?it/s]"
      ]
     },
     "metadata": {},
     "output_type": "display_data"
    },
    {
     "data": {
      "application/vnd.jupyter.widget-view+json": {
       "model_id": "e793171ff5fc4124a5d6858d50bcb7bb",
       "version_major": 2,
       "version_minor": 0
      },
      "text/plain": [
       "Feature collision:   0%|          | 0/10 [00:00<?, ?it/s]"
      ]
     },
     "metadata": {},
     "output_type": "display_data"
    },
    {
     "data": {
      "application/vnd.jupyter.widget-view+json": {
       "model_id": "1437ef57d78f499cb800caa5824c467e",
       "version_major": 2,
       "version_minor": 0
      },
      "text/plain": [
       "Feature collision:   0%|          | 0/10 [00:00<?, ?it/s]"
      ]
     },
     "metadata": {},
     "output_type": "display_data"
    },
    {
     "data": {
      "application/vnd.jupyter.widget-view+json": {
       "model_id": "8923b5f4ca0a45869d186b814d5e538e",
       "version_major": 2,
       "version_minor": 0
      },
      "text/plain": [
       "Feature collision:   0%|          | 0/10 [00:00<?, ?it/s]"
      ]
     },
     "metadata": {},
     "output_type": "display_data"
    },
    {
     "data": {
      "application/vnd.jupyter.widget-view+json": {
       "model_id": "fc7517b890aa4eaea15e4d62f3687b97",
       "version_major": 2,
       "version_minor": 0
      },
      "text/plain": [
       "Feature collision:   0%|          | 0/10 [00:00<?, ?it/s]"
      ]
     },
     "metadata": {},
     "output_type": "display_data"
    },
    {
     "data": {
      "application/vnd.jupyter.widget-view+json": {
       "model_id": "a71c46f0f44848b1b654bdcc5d09ef76",
       "version_major": 2,
       "version_minor": 0
      },
      "text/plain": [
       "Feature collision:   0%|          | 0/10 [00:00<?, ?it/s]"
      ]
     },
     "metadata": {},
     "output_type": "display_data"
    },
    {
     "data": {
      "application/vnd.jupyter.widget-view+json": {
       "model_id": "cd3aa113c8dd4ec78c8eebd65f5d9aab",
       "version_major": 2,
       "version_minor": 0
      },
      "text/plain": [
       "Feature collision:   0%|          | 0/10 [00:00<?, ?it/s]"
      ]
     },
     "metadata": {},
     "output_type": "display_data"
    },
    {
     "data": {
      "application/vnd.jupyter.widget-view+json": {
       "model_id": "0baee655edbe4fe5938366f194d7f86a",
       "version_major": 2,
       "version_minor": 0
      },
      "text/plain": [
       "Feature collision:   0%|          | 0/10 [00:00<?, ?it/s]"
      ]
     },
     "metadata": {},
     "output_type": "display_data"
    },
    {
     "data": {
      "application/vnd.jupyter.widget-view+json": {
       "model_id": "b33efdd4df0740a0999136c5389d0185",
       "version_major": 2,
       "version_minor": 0
      },
      "text/plain": [
       "Feature collision:   0%|          | 0/10 [00:00<?, ?it/s]"
      ]
     },
     "metadata": {},
     "output_type": "display_data"
    },
    {
     "data": {
      "application/vnd.jupyter.widget-view+json": {
       "model_id": "c21cc40f35494ac0b8897c5074204206",
       "version_major": 2,
       "version_minor": 0
      },
      "text/plain": [
       "Feature collision:   0%|          | 0/10 [00:00<?, ?it/s]"
      ]
     },
     "metadata": {},
     "output_type": "display_data"
    },
    {
     "data": {
      "application/vnd.jupyter.widget-view+json": {
       "model_id": "ac98cf5dd30241eabf18cb33a221f821",
       "version_major": 2,
       "version_minor": 0
      },
      "text/plain": [
       "Feature collision:   0%|          | 0/10 [00:00<?, ?it/s]"
      ]
     },
     "metadata": {},
     "output_type": "display_data"
    },
    {
     "data": {
      "application/vnd.jupyter.widget-view+json": {
       "model_id": "af1920270e504585a6f8079bf248ce2e",
       "version_major": 2,
       "version_minor": 0
      },
      "text/plain": [
       "Feature collision:   0%|          | 0/10 [00:00<?, ?it/s]"
      ]
     },
     "metadata": {},
     "output_type": "display_data"
    },
    {
     "data": {
      "application/vnd.jupyter.widget-view+json": {
       "model_id": "891a8f220e76438fb64b50d9c63392ff",
       "version_major": 2,
       "version_minor": 0
      },
      "text/plain": [
       "Feature collision:   0%|          | 0/10 [00:00<?, ?it/s]"
      ]
     },
     "metadata": {},
     "output_type": "display_data"
    },
    {
     "data": {
      "application/vnd.jupyter.widget-view+json": {
       "model_id": "d77a8a1d3679442c9fdd5a9d122bad6d",
       "version_major": 2,
       "version_minor": 0
      },
      "text/plain": [
       "Feature collision:   0%|          | 0/10 [00:00<?, ?it/s]"
      ]
     },
     "metadata": {},
     "output_type": "display_data"
    },
    {
     "data": {
      "application/vnd.jupyter.widget-view+json": {
       "model_id": "61c1600120e04de58527af77f764f184",
       "version_major": 2,
       "version_minor": 0
      },
      "text/plain": [
       "Feature collision:   0%|          | 0/10 [00:00<?, ?it/s]"
      ]
     },
     "metadata": {},
     "output_type": "display_data"
    },
    {
     "data": {
      "application/vnd.jupyter.widget-view+json": {
       "model_id": "ee134c77701f4100882d76bd24908cf3",
       "version_major": 2,
       "version_minor": 0
      },
      "text/plain": [
       "Feature collision:   0%|          | 0/10 [00:00<?, ?it/s]"
      ]
     },
     "metadata": {},
     "output_type": "display_data"
    },
    {
     "data": {
      "application/vnd.jupyter.widget-view+json": {
       "model_id": "8c7afd0f26ee4615894184911187621b",
       "version_major": 2,
       "version_minor": 0
      },
      "text/plain": [
       "Feature collision:   0%|          | 0/10 [00:00<?, ?it/s]"
      ]
     },
     "metadata": {},
     "output_type": "display_data"
    },
    {
     "data": {
      "application/vnd.jupyter.widget-view+json": {
       "model_id": "6274c7ebb49c40b3956202fc127c011c",
       "version_major": 2,
       "version_minor": 0
      },
      "text/plain": [
       "Feature collision:   0%|          | 0/10 [00:00<?, ?it/s]"
      ]
     },
     "metadata": {},
     "output_type": "display_data"
    },
    {
     "data": {
      "application/vnd.jupyter.widget-view+json": {
       "model_id": "dcf9d8d150ac40be8064a0be56f6ebee",
       "version_major": 2,
       "version_minor": 0
      },
      "text/plain": [
       "Feature collision:   0%|          | 0/10 [00:00<?, ?it/s]"
      ]
     },
     "metadata": {},
     "output_type": "display_data"
    },
    {
     "data": {
      "application/vnd.jupyter.widget-view+json": {
       "model_id": "c464d056121d43dc8f52144d62a82f18",
       "version_major": 2,
       "version_minor": 0
      },
      "text/plain": [
       "Feature collision:   0%|          | 0/10 [00:00<?, ?it/s]"
      ]
     },
     "metadata": {},
     "output_type": "display_data"
    },
    {
     "data": {
      "application/vnd.jupyter.widget-view+json": {
       "model_id": "2a73f136357446b69d87e821d6715a65",
       "version_major": 2,
       "version_minor": 0
      },
      "text/plain": [
       "Feature collision:   0%|          | 0/10 [00:00<?, ?it/s]"
      ]
     },
     "metadata": {},
     "output_type": "display_data"
    },
    {
     "data": {
      "application/vnd.jupyter.widget-view+json": {
       "model_id": "df8fc3cce0274470bb17f7ebc8dc7d1a",
       "version_major": 2,
       "version_minor": 0
      },
      "text/plain": [
       "Feature collision:   0%|          | 0/10 [00:00<?, ?it/s]"
      ]
     },
     "metadata": {},
     "output_type": "display_data"
    },
    {
     "data": {
      "application/vnd.jupyter.widget-view+json": {
       "model_id": "2380efc7233649bd84fddba453cd281b",
       "version_major": 2,
       "version_minor": 0
      },
      "text/plain": [
       "Feature collision:   0%|          | 0/10 [00:00<?, ?it/s]"
      ]
     },
     "metadata": {},
     "output_type": "display_data"
    },
    {
     "data": {
      "application/vnd.jupyter.widget-view+json": {
       "model_id": "40ad3e17ee3a4e049e0933af8d76a17d",
       "version_major": 2,
       "version_minor": 0
      },
      "text/plain": [
       "Feature collision:   0%|          | 0/10 [00:00<?, ?it/s]"
      ]
     },
     "metadata": {},
     "output_type": "display_data"
    },
    {
     "data": {
      "application/vnd.jupyter.widget-view+json": {
       "model_id": "59cba5a0dab447cba21634924c4fa250",
       "version_major": 2,
       "version_minor": 0
      },
      "text/plain": [
       "Feature collision:   0%|          | 0/10 [00:00<?, ?it/s]"
      ]
     },
     "metadata": {},
     "output_type": "display_data"
    },
    {
     "data": {
      "application/vnd.jupyter.widget-view+json": {
       "model_id": "3fe2467876aa407baaa954f814f29e7e",
       "version_major": 2,
       "version_minor": 0
      },
      "text/plain": [
       "Feature collision:   0%|          | 0/10 [00:00<?, ?it/s]"
      ]
     },
     "metadata": {},
     "output_type": "display_data"
    },
    {
     "data": {
      "application/vnd.jupyter.widget-view+json": {
       "model_id": "a19e02241e7a48abbf6cd9986d7c4895",
       "version_major": 2,
       "version_minor": 0
      },
      "text/plain": [
       "Feature collision:   0%|          | 0/10 [00:00<?, ?it/s]"
      ]
     },
     "metadata": {},
     "output_type": "display_data"
    },
    {
     "data": {
      "application/vnd.jupyter.widget-view+json": {
       "model_id": "5b78ca64005a48b1990655cc5b387778",
       "version_major": 2,
       "version_minor": 0
      },
      "text/plain": [
       "Feature collision:   0%|          | 0/10 [00:00<?, ?it/s]"
      ]
     },
     "metadata": {},
     "output_type": "display_data"
    },
    {
     "data": {
      "application/vnd.jupyter.widget-view+json": {
       "model_id": "1e174c5c13c145f38ec83c3058b61352",
       "version_major": 2,
       "version_minor": 0
      },
      "text/plain": [
       "Feature collision:   0%|          | 0/10 [00:00<?, ?it/s]"
      ]
     },
     "metadata": {},
     "output_type": "display_data"
    },
    {
     "data": {
      "application/vnd.jupyter.widget-view+json": {
       "model_id": "c18908c6895c446b8e2a3bb18c8c3dde",
       "version_major": 2,
       "version_minor": 0
      },
      "text/plain": [
       "Feature collision:   0%|          | 0/10 [00:00<?, ?it/s]"
      ]
     },
     "metadata": {},
     "output_type": "display_data"
    },
    {
     "data": {
      "application/vnd.jupyter.widget-view+json": {
       "model_id": "2ff25c8fc41d4f5eb760c734bc1320c8",
       "version_major": 2,
       "version_minor": 0
      },
      "text/plain": [
       "Feature collision:   0%|          | 0/10 [00:00<?, ?it/s]"
      ]
     },
     "metadata": {},
     "output_type": "display_data"
    },
    {
     "data": {
      "application/vnd.jupyter.widget-view+json": {
       "model_id": "ba7e9d7caecc42df9a6c9c66c799a642",
       "version_major": 2,
       "version_minor": 0
      },
      "text/plain": [
       "Feature collision:   0%|          | 0/10 [00:00<?, ?it/s]"
      ]
     },
     "metadata": {},
     "output_type": "display_data"
    },
    {
     "data": {
      "application/vnd.jupyter.widget-view+json": {
       "model_id": "2f83b0623fdc401ab998dcd16c1118d1",
       "version_major": 2,
       "version_minor": 0
      },
      "text/plain": [
       "Feature collision:   0%|          | 0/10 [00:00<?, ?it/s]"
      ]
     },
     "metadata": {},
     "output_type": "display_data"
    },
    {
     "data": {
      "application/vnd.jupyter.widget-view+json": {
       "model_id": "b8209352f03e43a7a07034ab72d57108",
       "version_major": 2,
       "version_minor": 0
      },
      "text/plain": [
       "Feature collision:   0%|          | 0/10 [00:00<?, ?it/s]"
      ]
     },
     "metadata": {},
     "output_type": "display_data"
    },
    {
     "data": {
      "application/vnd.jupyter.widget-view+json": {
       "model_id": "dd3bd11b10f446178e332375caa80718",
       "version_major": 2,
       "version_minor": 0
      },
      "text/plain": [
       "Feature collision:   0%|          | 0/10 [00:00<?, ?it/s]"
      ]
     },
     "metadata": {},
     "output_type": "display_data"
    },
    {
     "data": {
      "application/vnd.jupyter.widget-view+json": {
       "model_id": "5d11d6b0793a4237933cfe235be91475",
       "version_major": 2,
       "version_minor": 0
      },
      "text/plain": [
       "Feature collision:   0%|          | 0/10 [00:00<?, ?it/s]"
      ]
     },
     "metadata": {},
     "output_type": "display_data"
    },
    {
     "data": {
      "application/vnd.jupyter.widget-view+json": {
       "model_id": "184daaa066df4945a581947642f0f3c1",
       "version_major": 2,
       "version_minor": 0
      },
      "text/plain": [
       "Feature collision:   0%|          | 0/10 [00:00<?, ?it/s]"
      ]
     },
     "metadata": {},
     "output_type": "display_data"
    },
    {
     "data": {
      "application/vnd.jupyter.widget-view+json": {
       "model_id": "b675ed63143648ae86b584a58339164f",
       "version_major": 2,
       "version_minor": 0
      },
      "text/plain": [
       "Feature collision:   0%|          | 0/10 [00:00<?, ?it/s]"
      ]
     },
     "metadata": {},
     "output_type": "display_data"
    },
    {
     "data": {
      "application/vnd.jupyter.widget-view+json": {
       "model_id": "6f29178f2d724350ad729b548c9c82d8",
       "version_major": 2,
       "version_minor": 0
      },
      "text/plain": [
       "Feature collision:   0%|          | 0/10 [00:00<?, ?it/s]"
      ]
     },
     "metadata": {},
     "output_type": "display_data"
    },
    {
     "data": {
      "application/vnd.jupyter.widget-view+json": {
       "model_id": "90bb9608241f447ea177a8bc70a2bdce",
       "version_major": 2,
       "version_minor": 0
      },
      "text/plain": [
       "Feature collision:   0%|          | 0/10 [00:00<?, ?it/s]"
      ]
     },
     "metadata": {},
     "output_type": "display_data"
    },
    {
     "data": {
      "application/vnd.jupyter.widget-view+json": {
       "model_id": "628e2f58743644e9b8f2a1c6dd7f0a49",
       "version_major": 2,
       "version_minor": 0
      },
      "text/plain": [
       "Feature collision:   0%|          | 0/10 [00:00<?, ?it/s]"
      ]
     },
     "metadata": {},
     "output_type": "display_data"
    },
    {
     "data": {
      "application/vnd.jupyter.widget-view+json": {
       "model_id": "f604cb6c7e674c849ee56d81d3fbd363",
       "version_major": 2,
       "version_minor": 0
      },
      "text/plain": [
       "Feature collision:   0%|          | 0/10 [00:00<?, ?it/s]"
      ]
     },
     "metadata": {},
     "output_type": "display_data"
    },
    {
     "data": {
      "application/vnd.jupyter.widget-view+json": {
       "model_id": "cf7ae059d9c8472688d61fbf7bb0abe5",
       "version_major": 2,
       "version_minor": 0
      },
      "text/plain": [
       "Feature collision:   0%|          | 0/10 [00:00<?, ?it/s]"
      ]
     },
     "metadata": {},
     "output_type": "display_data"
    },
    {
     "data": {
      "application/vnd.jupyter.widget-view+json": {
       "model_id": "c9abb24707094ad79f49b0d797b72a50",
       "version_major": 2,
       "version_minor": 0
      },
      "text/plain": [
       "Feature collision:   0%|          | 0/10 [00:00<?, ?it/s]"
      ]
     },
     "metadata": {},
     "output_type": "display_data"
    },
    {
     "data": {
      "application/vnd.jupyter.widget-view+json": {
       "model_id": "76497be1932142f997299f7b336a2dc7",
       "version_major": 2,
       "version_minor": 0
      },
      "text/plain": [
       "Feature collision:   0%|          | 0/10 [00:00<?, ?it/s]"
      ]
     },
     "metadata": {},
     "output_type": "display_data"
    },
    {
     "data": {
      "application/vnd.jupyter.widget-view+json": {
       "model_id": "dfcca5b04b6848efa68df5b62698889a",
       "version_major": 2,
       "version_minor": 0
      },
      "text/plain": [
       "Feature collision:   0%|          | 0/10 [00:00<?, ?it/s]"
      ]
     },
     "metadata": {},
     "output_type": "display_data"
    },
    {
     "data": {
      "application/vnd.jupyter.widget-view+json": {
       "model_id": "5f929aff224442d39e1dba71faf76008",
       "version_major": 2,
       "version_minor": 0
      },
      "text/plain": [
       "Feature collision:   0%|          | 0/10 [00:00<?, ?it/s]"
      ]
     },
     "metadata": {},
     "output_type": "display_data"
    },
    {
     "data": {
      "application/vnd.jupyter.widget-view+json": {
       "model_id": "48543e85b52643309de5d4665e52f330",
       "version_major": 2,
       "version_minor": 0
      },
      "text/plain": [
       "Feature collision:   0%|          | 0/10 [00:00<?, ?it/s]"
      ]
     },
     "metadata": {},
     "output_type": "display_data"
    },
    {
     "data": {
      "application/vnd.jupyter.widget-view+json": {
       "model_id": "ff5e43b3324d40b1b354fcf9f1045d15",
       "version_major": 2,
       "version_minor": 0
      },
      "text/plain": [
       "Feature collision:   0%|          | 0/10 [00:00<?, ?it/s]"
      ]
     },
     "metadata": {},
     "output_type": "display_data"
    },
    {
     "data": {
      "application/vnd.jupyter.widget-view+json": {
       "model_id": "f1f36911ae5442aaafd43f499da6c0ed",
       "version_major": 2,
       "version_minor": 0
      },
      "text/plain": [
       "Feature collision:   0%|          | 0/10 [00:00<?, ?it/s]"
      ]
     },
     "metadata": {},
     "output_type": "display_data"
    },
    {
     "data": {
      "application/vnd.jupyter.widget-view+json": {
       "model_id": "69c7308865c44d32bdf6be816e5370ae",
       "version_major": 2,
       "version_minor": 0
      },
      "text/plain": [
       "Feature collision:   0%|          | 0/10 [00:00<?, ?it/s]"
      ]
     },
     "metadata": {},
     "output_type": "display_data"
    },
    {
     "data": {
      "application/vnd.jupyter.widget-view+json": {
       "model_id": "6dc090ac34124a79929725523fd48887",
       "version_major": 2,
       "version_minor": 0
      },
      "text/plain": [
       "Feature collision:   0%|          | 0/10 [00:00<?, ?it/s]"
      ]
     },
     "metadata": {},
     "output_type": "display_data"
    },
    {
     "data": {
      "application/vnd.jupyter.widget-view+json": {
       "model_id": "1a58e184bb144431acca86b2fdce5dd8",
       "version_major": 2,
       "version_minor": 0
      },
      "text/plain": [
       "Feature collision:   0%|          | 0/10 [00:00<?, ?it/s]"
      ]
     },
     "metadata": {},
     "output_type": "display_data"
    },
    {
     "data": {
      "application/vnd.jupyter.widget-view+json": {
       "model_id": "21a2794595574145908f12cb433fece2",
       "version_major": 2,
       "version_minor": 0
      },
      "text/plain": [
       "Feature collision:   0%|          | 0/10 [00:00<?, ?it/s]"
      ]
     },
     "metadata": {},
     "output_type": "display_data"
    },
    {
     "data": {
      "application/vnd.jupyter.widget-view+json": {
       "model_id": "5e913c02282e4008813cfe2fa487dfa6",
       "version_major": 2,
       "version_minor": 0
      },
      "text/plain": [
       "Feature collision:   0%|          | 0/10 [00:00<?, ?it/s]"
      ]
     },
     "metadata": {},
     "output_type": "display_data"
    },
    {
     "data": {
      "application/vnd.jupyter.widget-view+json": {
       "model_id": "8f7fc07e527b4d50a366bb9757fbd778",
       "version_major": 2,
       "version_minor": 0
      },
      "text/plain": [
       "Feature collision:   0%|          | 0/10 [00:00<?, ?it/s]"
      ]
     },
     "metadata": {},
     "output_type": "display_data"
    },
    {
     "data": {
      "application/vnd.jupyter.widget-view+json": {
       "model_id": "8329c705ab3b4119a43ac4902cf5277f",
       "version_major": 2,
       "version_minor": 0
      },
      "text/plain": [
       "Feature collision:   0%|          | 0/10 [00:00<?, ?it/s]"
      ]
     },
     "metadata": {},
     "output_type": "display_data"
    },
    {
     "data": {
      "application/vnd.jupyter.widget-view+json": {
       "model_id": "835479c13cac451f8b742227a107f1c3",
       "version_major": 2,
       "version_minor": 0
      },
      "text/plain": [
       "Feature collision:   0%|          | 0/10 [00:00<?, ?it/s]"
      ]
     },
     "metadata": {},
     "output_type": "display_data"
    },
    {
     "data": {
      "application/vnd.jupyter.widget-view+json": {
       "model_id": "d62483d6c14d45cfbd2162e75d856d85",
       "version_major": 2,
       "version_minor": 0
      },
      "text/plain": [
       "Feature collision:   0%|          | 0/10 [00:00<?, ?it/s]"
      ]
     },
     "metadata": {},
     "output_type": "display_data"
    },
    {
     "data": {
      "application/vnd.jupyter.widget-view+json": {
       "model_id": "36da3b6e9e794c0a97895f7965ef8f94",
       "version_major": 2,
       "version_minor": 0
      },
      "text/plain": [
       "Feature collision:   0%|          | 0/10 [00:00<?, ?it/s]"
      ]
     },
     "metadata": {},
     "output_type": "display_data"
    },
    {
     "data": {
      "application/vnd.jupyter.widget-view+json": {
       "model_id": "7e20a5ab98384b5a8ffbab6993e64476",
       "version_major": 2,
       "version_minor": 0
      },
      "text/plain": [
       "Feature collision:   0%|          | 0/10 [00:00<?, ?it/s]"
      ]
     },
     "metadata": {},
     "output_type": "display_data"
    },
    {
     "data": {
      "application/vnd.jupyter.widget-view+json": {
       "model_id": "2179017296884960b1cafbc3456a3909",
       "version_major": 2,
       "version_minor": 0
      },
      "text/plain": [
       "Feature collision:   0%|          | 0/10 [00:00<?, ?it/s]"
      ]
     },
     "metadata": {},
     "output_type": "display_data"
    },
    {
     "data": {
      "application/vnd.jupyter.widget-view+json": {
       "model_id": "acf952ac734645f198bdd937e24328ab",
       "version_major": 2,
       "version_minor": 0
      },
      "text/plain": [
       "Feature collision:   0%|          | 0/10 [00:00<?, ?it/s]"
      ]
     },
     "metadata": {},
     "output_type": "display_data"
    },
    {
     "data": {
      "application/vnd.jupyter.widget-view+json": {
       "model_id": "73714e026d9f4a6cbc832d055b5ede45",
       "version_major": 2,
       "version_minor": 0
      },
      "text/plain": [
       "Feature collision:   0%|          | 0/10 [00:00<?, ?it/s]"
      ]
     },
     "metadata": {},
     "output_type": "display_data"
    },
    {
     "data": {
      "application/vnd.jupyter.widget-view+json": {
       "model_id": "2188422a360b42ac8f2ff196da6a5c7c",
       "version_major": 2,
       "version_minor": 0
      },
      "text/plain": [
       "Feature collision:   0%|          | 0/10 [00:00<?, ?it/s]"
      ]
     },
     "metadata": {},
     "output_type": "display_data"
    },
    {
     "data": {
      "application/vnd.jupyter.widget-view+json": {
       "model_id": "7c6d58d809fb4a6aad417a64c06bca34",
       "version_major": 2,
       "version_minor": 0
      },
      "text/plain": [
       "Feature collision:   0%|          | 0/10 [00:00<?, ?it/s]"
      ]
     },
     "metadata": {},
     "output_type": "display_data"
    },
    {
     "data": {
      "application/vnd.jupyter.widget-view+json": {
       "model_id": "54b552ea2617495db4a011d26bf0efbb",
       "version_major": 2,
       "version_minor": 0
      },
      "text/plain": [
       "Feature collision:   0%|          | 0/10 [00:00<?, ?it/s]"
      ]
     },
     "metadata": {},
     "output_type": "display_data"
    },
    {
     "data": {
      "application/vnd.jupyter.widget-view+json": {
       "model_id": "a6296c0aa36b4046a57d008eb3ea4458",
       "version_major": 2,
       "version_minor": 0
      },
      "text/plain": [
       "Feature collision:   0%|          | 0/10 [00:00<?, ?it/s]"
      ]
     },
     "metadata": {},
     "output_type": "display_data"
    },
    {
     "data": {
      "application/vnd.jupyter.widget-view+json": {
       "model_id": "95508e2fb44d4033b174ff6420abeb98",
       "version_major": 2,
       "version_minor": 0
      },
      "text/plain": [
       "Feature collision:   0%|          | 0/10 [00:00<?, ?it/s]"
      ]
     },
     "metadata": {},
     "output_type": "display_data"
    },
    {
     "data": {
      "application/vnd.jupyter.widget-view+json": {
       "model_id": "0952b9161f94472cbbde53a14bcaef4c",
       "version_major": 2,
       "version_minor": 0
      },
      "text/plain": [
       "Feature collision:   0%|          | 0/10 [00:00<?, ?it/s]"
      ]
     },
     "metadata": {},
     "output_type": "display_data"
    },
    {
     "data": {
      "application/vnd.jupyter.widget-view+json": {
       "model_id": "012c062c4cb44057aa5fe88137812999",
       "version_major": 2,
       "version_minor": 0
      },
      "text/plain": [
       "Feature collision:   0%|          | 0/10 [00:00<?, ?it/s]"
      ]
     },
     "metadata": {},
     "output_type": "display_data"
    },
    {
     "data": {
      "application/vnd.jupyter.widget-view+json": {
       "model_id": "b993ca4da98b4d689fc7177e91b607f1",
       "version_major": 2,
       "version_minor": 0
      },
      "text/plain": [
       "Feature collision:   0%|          | 0/10 [00:00<?, ?it/s]"
      ]
     },
     "metadata": {},
     "output_type": "display_data"
    },
    {
     "data": {
      "application/vnd.jupyter.widget-view+json": {
       "model_id": "eed78cc8660b41b9999f6f87005287ed",
       "version_major": 2,
       "version_minor": 0
      },
      "text/plain": [
       "Feature collision:   0%|          | 0/10 [00:00<?, ?it/s]"
      ]
     },
     "metadata": {},
     "output_type": "display_data"
    },
    {
     "data": {
      "application/vnd.jupyter.widget-view+json": {
       "model_id": "8dc786ee0ea24710a270b6a0335717ae",
       "version_major": 2,
       "version_minor": 0
      },
      "text/plain": [
       "Feature collision:   0%|          | 0/10 [00:00<?, ?it/s]"
      ]
     },
     "metadata": {},
     "output_type": "display_data"
    },
    {
     "data": {
      "application/vnd.jupyter.widget-view+json": {
       "model_id": "fc05a5bcf7f049999c0ecd75c4959545",
       "version_major": 2,
       "version_minor": 0
      },
      "text/plain": [
       "Feature collision:   0%|          | 0/10 [00:00<?, ?it/s]"
      ]
     },
     "metadata": {},
     "output_type": "display_data"
    },
    {
     "data": {
      "application/vnd.jupyter.widget-view+json": {
       "model_id": "a588f6e0cf084e11aa424d20ae36f38b",
       "version_major": 2,
       "version_minor": 0
      },
      "text/plain": [
       "Feature collision:   0%|          | 0/10 [00:00<?, ?it/s]"
      ]
     },
     "metadata": {},
     "output_type": "display_data"
    },
    {
     "data": {
      "application/vnd.jupyter.widget-view+json": {
       "model_id": "ed6ad161b6b444b1948c10dbae6fdeba",
       "version_major": 2,
       "version_minor": 0
      },
      "text/plain": [
       "Feature collision:   0%|          | 0/10 [00:00<?, ?it/s]"
      ]
     },
     "metadata": {},
     "output_type": "display_data"
    },
    {
     "data": {
      "application/vnd.jupyter.widget-view+json": {
       "model_id": "b739efd6041d4b1daf62d678bd66d090",
       "version_major": 2,
       "version_minor": 0
      },
      "text/plain": [
       "Feature collision:   0%|          | 0/10 [00:00<?, ?it/s]"
      ]
     },
     "metadata": {},
     "output_type": "display_data"
    },
    {
     "data": {
      "application/vnd.jupyter.widget-view+json": {
       "model_id": "05712c108b334f83a942ec2b56bf949f",
       "version_major": 2,
       "version_minor": 0
      },
      "text/plain": [
       "Feature collision:   0%|          | 0/10 [00:00<?, ?it/s]"
      ]
     },
     "metadata": {},
     "output_type": "display_data"
    },
    {
     "data": {
      "application/vnd.jupyter.widget-view+json": {
       "model_id": "20c33c29c61a4a3da0ff686415305348",
       "version_major": 2,
       "version_minor": 0
      },
      "text/plain": [
       "Feature collision:   0%|          | 0/10 [00:00<?, ?it/s]"
      ]
     },
     "metadata": {},
     "output_type": "display_data"
    },
    {
     "data": {
      "application/vnd.jupyter.widget-view+json": {
       "model_id": "7632457ab1a74e8f8c2f92fc7e4f0811",
       "version_major": 2,
       "version_minor": 0
      },
      "text/plain": [
       "Feature collision:   0%|          | 0/10 [00:00<?, ?it/s]"
      ]
     },
     "metadata": {},
     "output_type": "display_data"
    },
    {
     "data": {
      "application/vnd.jupyter.widget-view+json": {
       "model_id": "e3a65aaa56694b5ba0e3201659cdf5f4",
       "version_major": 2,
       "version_minor": 0
      },
      "text/plain": [
       "Feature collision:   0%|          | 0/10 [00:00<?, ?it/s]"
      ]
     },
     "metadata": {},
     "output_type": "display_data"
    },
    {
     "data": {
      "application/vnd.jupyter.widget-view+json": {
       "model_id": "9c54378777ba42dcaf3e99d48a678319",
       "version_major": 2,
       "version_minor": 0
      },
      "text/plain": [
       "Feature collision:   0%|          | 0/10 [00:00<?, ?it/s]"
      ]
     },
     "metadata": {},
     "output_type": "display_data"
    },
    {
     "data": {
      "application/vnd.jupyter.widget-view+json": {
       "model_id": "8d7d181eb03042dba94d099d2e1706ce",
       "version_major": 2,
       "version_minor": 0
      },
      "text/plain": [
       "Feature collision:   0%|          | 0/10 [00:00<?, ?it/s]"
      ]
     },
     "metadata": {},
     "output_type": "display_data"
    },
    {
     "data": {
      "application/vnd.jupyter.widget-view+json": {
       "model_id": "5699de27b8144c1d93516ba7ee9e77ff",
       "version_major": 2,
       "version_minor": 0
      },
      "text/plain": [
       "Feature collision:   0%|          | 0/10 [00:00<?, ?it/s]"
      ]
     },
     "metadata": {},
     "output_type": "display_data"
    },
    {
     "data": {
      "application/vnd.jupyter.widget-view+json": {
       "model_id": "d2dabbc1db0241828dddc5a77ed93283",
       "version_major": 2,
       "version_minor": 0
      },
      "text/plain": [
       "Feature collision:   0%|          | 0/10 [00:00<?, ?it/s]"
      ]
     },
     "metadata": {},
     "output_type": "display_data"
    },
    {
     "data": {
      "application/vnd.jupyter.widget-view+json": {
       "model_id": "9c353b80a6654104b618777c63db91a2",
       "version_major": 2,
       "version_minor": 0
      },
      "text/plain": [
       "Feature collision:   0%|          | 0/10 [00:00<?, ?it/s]"
      ]
     },
     "metadata": {},
     "output_type": "display_data"
    },
    {
     "data": {
      "application/vnd.jupyter.widget-view+json": {
       "model_id": "7e7416c620d34304b64f64688ca34d06",
       "version_major": 2,
       "version_minor": 0
      },
      "text/plain": [
       "Feature collision:   0%|          | 0/10 [00:00<?, ?it/s]"
      ]
     },
     "metadata": {},
     "output_type": "display_data"
    },
    {
     "data": {
      "application/vnd.jupyter.widget-view+json": {
       "model_id": "9786305520fa4d14b9e0ee16edca2c64",
       "version_major": 2,
       "version_minor": 0
      },
      "text/plain": [
       "Feature collision:   0%|          | 0/10 [00:00<?, ?it/s]"
      ]
     },
     "metadata": {},
     "output_type": "display_data"
    },
    {
     "data": {
      "application/vnd.jupyter.widget-view+json": {
       "model_id": "5403588515764e6bbd7ebfa18656a119",
       "version_major": 2,
       "version_minor": 0
      },
      "text/plain": [
       "Feature collision:   0%|          | 0/10 [00:00<?, ?it/s]"
      ]
     },
     "metadata": {},
     "output_type": "display_data"
    },
    {
     "data": {
      "application/vnd.jupyter.widget-view+json": {
       "model_id": "5f0e70505aea4df3ad192c3398bb0d6f",
       "version_major": 2,
       "version_minor": 0
      },
      "text/plain": [
       "Feature collision:   0%|          | 0/10 [00:00<?, ?it/s]"
      ]
     },
     "metadata": {},
     "output_type": "display_data"
    },
    {
     "data": {
      "application/vnd.jupyter.widget-view+json": {
       "model_id": "5c11d7dac9ba40bcbdb433591f28d44d",
       "version_major": 2,
       "version_minor": 0
      },
      "text/plain": [
       "Feature collision:   0%|          | 0/10 [00:00<?, ?it/s]"
      ]
     },
     "metadata": {},
     "output_type": "display_data"
    },
    {
     "data": {
      "application/vnd.jupyter.widget-view+json": {
       "model_id": "c3c565f147fc4c92ae75138463547749",
       "version_major": 2,
       "version_minor": 0
      },
      "text/plain": [
       "Feature collision:   0%|          | 0/10 [00:00<?, ?it/s]"
      ]
     },
     "metadata": {},
     "output_type": "display_data"
    },
    {
     "data": {
      "application/vnd.jupyter.widget-view+json": {
       "model_id": "1ae69e0f0d6f4f899f3d3a0b13f7a7dc",
       "version_major": 2,
       "version_minor": 0
      },
      "text/plain": [
       "Feature collision:   0%|          | 0/10 [00:00<?, ?it/s]"
      ]
     },
     "metadata": {},
     "output_type": "display_data"
    },
    {
     "data": {
      "application/vnd.jupyter.widget-view+json": {
       "model_id": "5cc45e9e9f804304931cc3be09fd72a3",
       "version_major": 2,
       "version_minor": 0
      },
      "text/plain": [
       "Feature collision:   0%|          | 0/10 [00:00<?, ?it/s]"
      ]
     },
     "metadata": {},
     "output_type": "display_data"
    },
    {
     "data": {
      "application/vnd.jupyter.widget-view+json": {
       "model_id": "6813997a99c54c1688a5a84721166e57",
       "version_major": 2,
       "version_minor": 0
      },
      "text/plain": [
       "Feature collision:   0%|          | 0/10 [00:00<?, ?it/s]"
      ]
     },
     "metadata": {},
     "output_type": "display_data"
    },
    {
     "data": {
      "application/vnd.jupyter.widget-view+json": {
       "model_id": "0fa01b49f7ed47e884529e8aeca4cc9c",
       "version_major": 2,
       "version_minor": 0
      },
      "text/plain": [
       "Feature collision:   0%|          | 0/10 [00:00<?, ?it/s]"
      ]
     },
     "metadata": {},
     "output_type": "display_data"
    },
    {
     "data": {
      "application/vnd.jupyter.widget-view+json": {
       "model_id": "d228d4ea071242fd875a87278e5951ac",
       "version_major": 2,
       "version_minor": 0
      },
      "text/plain": [
       "Feature collision:   0%|          | 0/10 [00:00<?, ?it/s]"
      ]
     },
     "metadata": {},
     "output_type": "display_data"
    },
    {
     "data": {
      "application/vnd.jupyter.widget-view+json": {
       "model_id": "943b6b753ddc4c9589d1d9346cdfb8b1",
       "version_major": 2,
       "version_minor": 0
      },
      "text/plain": [
       "Feature collision:   0%|          | 0/10 [00:00<?, ?it/s]"
      ]
     },
     "metadata": {},
     "output_type": "display_data"
    },
    {
     "data": {
      "application/vnd.jupyter.widget-view+json": {
       "model_id": "e63095a94beb4ba6b49461f59feab26e",
       "version_major": 2,
       "version_minor": 0
      },
      "text/plain": [
       "Feature collision:   0%|          | 0/10 [00:00<?, ?it/s]"
      ]
     },
     "metadata": {},
     "output_type": "display_data"
    },
    {
     "data": {
      "application/vnd.jupyter.widget-view+json": {
       "model_id": "138dde322919474bbe6c27424146c97e",
       "version_major": 2,
       "version_minor": 0
      },
      "text/plain": [
       "Feature collision:   0%|          | 0/10 [00:00<?, ?it/s]"
      ]
     },
     "metadata": {},
     "output_type": "display_data"
    },
    {
     "data": {
      "application/vnd.jupyter.widget-view+json": {
       "model_id": "cfe9ed80763e451ea4a9517eb86e2d92",
       "version_major": 2,
       "version_minor": 0
      },
      "text/plain": [
       "Feature collision:   0%|          | 0/10 [00:00<?, ?it/s]"
      ]
     },
     "metadata": {},
     "output_type": "display_data"
    },
    {
     "data": {
      "application/vnd.jupyter.widget-view+json": {
       "model_id": "9bbfb8e08c84416e813744c45e3fdd48",
       "version_major": 2,
       "version_minor": 0
      },
      "text/plain": [
       "Feature collision:   0%|          | 0/10 [00:00<?, ?it/s]"
      ]
     },
     "metadata": {},
     "output_type": "display_data"
    },
    {
     "data": {
      "application/vnd.jupyter.widget-view+json": {
       "model_id": "ac6e07b4865e4694bfa70d486c3c4a92",
       "version_major": 2,
       "version_minor": 0
      },
      "text/plain": [
       "Feature collision:   0%|          | 0/10 [00:00<?, ?it/s]"
      ]
     },
     "metadata": {},
     "output_type": "display_data"
    },
    {
     "data": {
      "application/vnd.jupyter.widget-view+json": {
       "model_id": "0950a8e81e0f49afb502ecacf1c82e07",
       "version_major": 2,
       "version_minor": 0
      },
      "text/plain": [
       "Feature collision:   0%|          | 0/10 [00:00<?, ?it/s]"
      ]
     },
     "metadata": {},
     "output_type": "display_data"
    },
    {
     "data": {
      "application/vnd.jupyter.widget-view+json": {
       "model_id": "01eb9480df4a4384af71490d05581985",
       "version_major": 2,
       "version_minor": 0
      },
      "text/plain": [
       "Feature collision:   0%|          | 0/10 [00:00<?, ?it/s]"
      ]
     },
     "metadata": {},
     "output_type": "display_data"
    },
    {
     "data": {
      "application/vnd.jupyter.widget-view+json": {
       "model_id": "8ae26c47e002492f99232f0d9a26c989",
       "version_major": 2,
       "version_minor": 0
      },
      "text/plain": [
       "Feature collision:   0%|          | 0/10 [00:00<?, ?it/s]"
      ]
     },
     "metadata": {},
     "output_type": "display_data"
    },
    {
     "data": {
      "application/vnd.jupyter.widget-view+json": {
       "model_id": "ff4bca2090ff437fa15b02d0fa2e9798",
       "version_major": 2,
       "version_minor": 0
      },
      "text/plain": [
       "Feature collision:   0%|          | 0/10 [00:00<?, ?it/s]"
      ]
     },
     "metadata": {},
     "output_type": "display_data"
    },
    {
     "data": {
      "application/vnd.jupyter.widget-view+json": {
       "model_id": "5bd4207c292f4ee48153f601188d0665",
       "version_major": 2,
       "version_minor": 0
      },
      "text/plain": [
       "Feature collision:   0%|          | 0/10 [00:00<?, ?it/s]"
      ]
     },
     "metadata": {},
     "output_type": "display_data"
    },
    {
     "data": {
      "application/vnd.jupyter.widget-view+json": {
       "model_id": "f8c422a1bd0840b2b8b78fdd02ee9c56",
       "version_major": 2,
       "version_minor": 0
      },
      "text/plain": [
       "Feature collision:   0%|          | 0/10 [00:00<?, ?it/s]"
      ]
     },
     "metadata": {},
     "output_type": "display_data"
    },
    {
     "data": {
      "application/vnd.jupyter.widget-view+json": {
       "model_id": "ed58c6e2f66943028dc8ac22b7915cd7",
       "version_major": 2,
       "version_minor": 0
      },
      "text/plain": [
       "Feature collision:   0%|          | 0/10 [00:00<?, ?it/s]"
      ]
     },
     "metadata": {},
     "output_type": "display_data"
    },
    {
     "data": {
      "application/vnd.jupyter.widget-view+json": {
       "model_id": "33c36f75092843d790db886507058ecf",
       "version_major": 2,
       "version_minor": 0
      },
      "text/plain": [
       "Feature collision:   0%|          | 0/10 [00:00<?, ?it/s]"
      ]
     },
     "metadata": {},
     "output_type": "display_data"
    },
    {
     "data": {
      "application/vnd.jupyter.widget-view+json": {
       "model_id": "9f13907c4ad843f3b4c7c67be781d045",
       "version_major": 2,
       "version_minor": 0
      },
      "text/plain": [
       "Feature collision:   0%|          | 0/10 [00:00<?, ?it/s]"
      ]
     },
     "metadata": {},
     "output_type": "display_data"
    },
    {
     "data": {
      "application/vnd.jupyter.widget-view+json": {
       "model_id": "c281fbc5a1e941d79cd92d159204029b",
       "version_major": 2,
       "version_minor": 0
      },
      "text/plain": [
       "Feature collision:   0%|          | 0/10 [00:00<?, ?it/s]"
      ]
     },
     "metadata": {},
     "output_type": "display_data"
    },
    {
     "data": {
      "application/vnd.jupyter.widget-view+json": {
       "model_id": "c7cf114eeb7e4f1188be1cad60bf6b4f",
       "version_major": 2,
       "version_minor": 0
      },
      "text/plain": [
       "Feature collision:   0%|          | 0/10 [00:00<?, ?it/s]"
      ]
     },
     "metadata": {},
     "output_type": "display_data"
    },
    {
     "data": {
      "application/vnd.jupyter.widget-view+json": {
       "model_id": "8689c6a70de047aab18f9213618de5f3",
       "version_major": 2,
       "version_minor": 0
      },
      "text/plain": [
       "Feature collision:   0%|          | 0/10 [00:00<?, ?it/s]"
      ]
     },
     "metadata": {},
     "output_type": "display_data"
    },
    {
     "data": {
      "application/vnd.jupyter.widget-view+json": {
       "model_id": "c5e8f6eb2b094c148f8dfb4293901211",
       "version_major": 2,
       "version_minor": 0
      },
      "text/plain": [
       "Feature collision:   0%|          | 0/10 [00:00<?, ?it/s]"
      ]
     },
     "metadata": {},
     "output_type": "display_data"
    },
    {
     "data": {
      "application/vnd.jupyter.widget-view+json": {
       "model_id": "bb03d22956cd4153bfff26d719f7f8e5",
       "version_major": 2,
       "version_minor": 0
      },
      "text/plain": [
       "Feature collision:   0%|          | 0/10 [00:00<?, ?it/s]"
      ]
     },
     "metadata": {},
     "output_type": "display_data"
    },
    {
     "data": {
      "application/vnd.jupyter.widget-view+json": {
       "model_id": "b20554ef288249ba8de798a707aeb4cd",
       "version_major": 2,
       "version_minor": 0
      },
      "text/plain": [
       "Feature collision:   0%|          | 0/10 [00:00<?, ?it/s]"
      ]
     },
     "metadata": {},
     "output_type": "display_data"
    },
    {
     "data": {
      "application/vnd.jupyter.widget-view+json": {
       "model_id": "b16b52de8bf246819e6ed8afd1ef2411",
       "version_major": 2,
       "version_minor": 0
      },
      "text/plain": [
       "Feature collision:   0%|          | 0/10 [00:00<?, ?it/s]"
      ]
     },
     "metadata": {},
     "output_type": "display_data"
    },
    {
     "data": {
      "application/vnd.jupyter.widget-view+json": {
       "model_id": "769a4f8519534ec385c6b2b803aebf05",
       "version_major": 2,
       "version_minor": 0
      },
      "text/plain": [
       "Feature collision:   0%|          | 0/10 [00:00<?, ?it/s]"
      ]
     },
     "metadata": {},
     "output_type": "display_data"
    },
    {
     "data": {
      "application/vnd.jupyter.widget-view+json": {
       "model_id": "6786e6f752ea45ff83f2c11c074c7dee",
       "version_major": 2,
       "version_minor": 0
      },
      "text/plain": [
       "Feature collision:   0%|          | 0/10 [00:00<?, ?it/s]"
      ]
     },
     "metadata": {},
     "output_type": "display_data"
    },
    {
     "data": {
      "application/vnd.jupyter.widget-view+json": {
       "model_id": "99daf93959b04741bb9fd6fc1e80983f",
       "version_major": 2,
       "version_minor": 0
      },
      "text/plain": [
       "Feature collision:   0%|          | 0/10 [00:00<?, ?it/s]"
      ]
     },
     "metadata": {},
     "output_type": "display_data"
    },
    {
     "data": {
      "application/vnd.jupyter.widget-view+json": {
       "model_id": "9cc80637966543cbb6aad364fc52e17a",
       "version_major": 2,
       "version_minor": 0
      },
      "text/plain": [
       "Feature collision:   0%|          | 0/10 [00:00<?, ?it/s]"
      ]
     },
     "metadata": {},
     "output_type": "display_data"
    },
    {
     "data": {
      "application/vnd.jupyter.widget-view+json": {
       "model_id": "239aaf5972754b9a9f1accffe80bc43f",
       "version_major": 2,
       "version_minor": 0
      },
      "text/plain": [
       "Feature collision:   0%|          | 0/10 [00:00<?, ?it/s]"
      ]
     },
     "metadata": {},
     "output_type": "display_data"
    },
    {
     "data": {
      "application/vnd.jupyter.widget-view+json": {
       "model_id": "457558d72fc74936bdaa7603299ae55e",
       "version_major": 2,
       "version_minor": 0
      },
      "text/plain": [
       "Feature collision:   0%|          | 0/10 [00:00<?, ?it/s]"
      ]
     },
     "metadata": {},
     "output_type": "display_data"
    },
    {
     "data": {
      "application/vnd.jupyter.widget-view+json": {
       "model_id": "25f9f00cf91a4fbf8e7514a57ea28f77",
       "version_major": 2,
       "version_minor": 0
      },
      "text/plain": [
       "Feature collision:   0%|          | 0/10 [00:00<?, ?it/s]"
      ]
     },
     "metadata": {},
     "output_type": "display_data"
    },
    {
     "data": {
      "application/vnd.jupyter.widget-view+json": {
       "model_id": "c0fa669eb0ad4fcca0e199f42bcf18c0",
       "version_major": 2,
       "version_minor": 0
      },
      "text/plain": [
       "Feature collision:   0%|          | 0/10 [00:00<?, ?it/s]"
      ]
     },
     "metadata": {},
     "output_type": "display_data"
    },
    {
     "data": {
      "application/vnd.jupyter.widget-view+json": {
       "model_id": "0c367be7c1cb427f869af361f5aa7d8e",
       "version_major": 2,
       "version_minor": 0
      },
      "text/plain": [
       "Feature collision:   0%|          | 0/10 [00:00<?, ?it/s]"
      ]
     },
     "metadata": {},
     "output_type": "display_data"
    },
    {
     "data": {
      "application/vnd.jupyter.widget-view+json": {
       "model_id": "28041a04d468428d9bb75791e17bca68",
       "version_major": 2,
       "version_minor": 0
      },
      "text/plain": [
       "Feature collision:   0%|          | 0/10 [00:00<?, ?it/s]"
      ]
     },
     "metadata": {},
     "output_type": "display_data"
    },
    {
     "data": {
      "application/vnd.jupyter.widget-view+json": {
       "model_id": "e85f9eefc7494086805c5337dfc3f606",
       "version_major": 2,
       "version_minor": 0
      },
      "text/plain": [
       "Feature collision:   0%|          | 0/10 [00:00<?, ?it/s]"
      ]
     },
     "metadata": {},
     "output_type": "display_data"
    },
    {
     "data": {
      "application/vnd.jupyter.widget-view+json": {
       "model_id": "b485ca8a19ae469aa04e9d102e6efbc7",
       "version_major": 2,
       "version_minor": 0
      },
      "text/plain": [
       "Feature collision:   0%|          | 0/10 [00:00<?, ?it/s]"
      ]
     },
     "metadata": {},
     "output_type": "display_data"
    },
    {
     "data": {
      "application/vnd.jupyter.widget-view+json": {
       "model_id": "c4eef0d95d4d44a7825935cad82a97f4",
       "version_major": 2,
       "version_minor": 0
      },
      "text/plain": [
       "Feature collision:   0%|          | 0/10 [00:00<?, ?it/s]"
      ]
     },
     "metadata": {},
     "output_type": "display_data"
    },
    {
     "data": {
      "application/vnd.jupyter.widget-view+json": {
       "model_id": "9480a40a6ec244508b0a66d35a34d131",
       "version_major": 2,
       "version_minor": 0
      },
      "text/plain": [
       "Feature collision:   0%|          | 0/10 [00:00<?, ?it/s]"
      ]
     },
     "metadata": {},
     "output_type": "display_data"
    },
    {
     "data": {
      "application/vnd.jupyter.widget-view+json": {
       "model_id": "85a85ee62d274345b22dc27e1aa3d49c",
       "version_major": 2,
       "version_minor": 0
      },
      "text/plain": [
       "Feature collision:   0%|          | 0/10 [00:00<?, ?it/s]"
      ]
     },
     "metadata": {},
     "output_type": "display_data"
    },
    {
     "data": {
      "application/vnd.jupyter.widget-view+json": {
       "model_id": "52dd1ac49961413ab2822c7e35b8f619",
       "version_major": 2,
       "version_minor": 0
      },
      "text/plain": [
       "Feature collision:   0%|          | 0/10 [00:00<?, ?it/s]"
      ]
     },
     "metadata": {},
     "output_type": "display_data"
    },
    {
     "data": {
      "application/vnd.jupyter.widget-view+json": {
       "model_id": "f97c2a7851c44022a6f704b253751d00",
       "version_major": 2,
       "version_minor": 0
      },
      "text/plain": [
       "Feature collision:   0%|          | 0/10 [00:00<?, ?it/s]"
      ]
     },
     "metadata": {},
     "output_type": "display_data"
    },
    {
     "data": {
      "application/vnd.jupyter.widget-view+json": {
       "model_id": "a9265ad8af214499807f3749d469c8a6",
       "version_major": 2,
       "version_minor": 0
      },
      "text/plain": [
       "Feature collision:   0%|          | 0/10 [00:00<?, ?it/s]"
      ]
     },
     "metadata": {},
     "output_type": "display_data"
    },
    {
     "data": {
      "application/vnd.jupyter.widget-view+json": {
       "model_id": "50ce00524bd945448ba144f500c779b9",
       "version_major": 2,
       "version_minor": 0
      },
      "text/plain": [
       "Feature collision:   0%|          | 0/10 [00:00<?, ?it/s]"
      ]
     },
     "metadata": {},
     "output_type": "display_data"
    },
    {
     "data": {
      "application/vnd.jupyter.widget-view+json": {
       "model_id": "fcf4bca84d944f7a89190d766f8acd42",
       "version_major": 2,
       "version_minor": 0
      },
      "text/plain": [
       "Feature collision:   0%|          | 0/10 [00:00<?, ?it/s]"
      ]
     },
     "metadata": {},
     "output_type": "display_data"
    },
    {
     "data": {
      "application/vnd.jupyter.widget-view+json": {
       "model_id": "2392d4eb332647aeba5888589715ca20",
       "version_major": 2,
       "version_minor": 0
      },
      "text/plain": [
       "Feature collision:   0%|          | 0/10 [00:00<?, ?it/s]"
      ]
     },
     "metadata": {},
     "output_type": "display_data"
    },
    {
     "data": {
      "application/vnd.jupyter.widget-view+json": {
       "model_id": "59582524b8be4cf98abfed3ff79cb87e",
       "version_major": 2,
       "version_minor": 0
      },
      "text/plain": [
       "Feature collision:   0%|          | 0/10 [00:00<?, ?it/s]"
      ]
     },
     "metadata": {},
     "output_type": "display_data"
    },
    {
     "data": {
      "application/vnd.jupyter.widget-view+json": {
       "model_id": "54e79b3fc71841ffa07944e5847c642e",
       "version_major": 2,
       "version_minor": 0
      },
      "text/plain": [
       "Feature collision:   0%|          | 0/10 [00:00<?, ?it/s]"
      ]
     },
     "metadata": {},
     "output_type": "display_data"
    },
    {
     "data": {
      "application/vnd.jupyter.widget-view+json": {
       "model_id": "1659b048a0dc4332a749a7f8b6baf8bb",
       "version_major": 2,
       "version_minor": 0
      },
      "text/plain": [
       "Feature collision:   0%|          | 0/10 [00:00<?, ?it/s]"
      ]
     },
     "metadata": {},
     "output_type": "display_data"
    },
    {
     "data": {
      "application/vnd.jupyter.widget-view+json": {
       "model_id": "5162aab609a1422fb134cdb9acaa3c82",
       "version_major": 2,
       "version_minor": 0
      },
      "text/plain": [
       "Feature collision:   0%|          | 0/10 [00:00<?, ?it/s]"
      ]
     },
     "metadata": {},
     "output_type": "display_data"
    },
    {
     "data": {
      "application/vnd.jupyter.widget-view+json": {
       "model_id": "1746c27e30264d038253c462e5f794da",
       "version_major": 2,
       "version_minor": 0
      },
      "text/plain": [
       "Feature collision:   0%|          | 0/10 [00:00<?, ?it/s]"
      ]
     },
     "metadata": {},
     "output_type": "display_data"
    },
    {
     "data": {
      "application/vnd.jupyter.widget-view+json": {
       "model_id": "553950a7c3c248b588e2798910f0cf1f",
       "version_major": 2,
       "version_minor": 0
      },
      "text/plain": [
       "Feature collision:   0%|          | 0/10 [00:00<?, ?it/s]"
      ]
     },
     "metadata": {},
     "output_type": "display_data"
    },
    {
     "data": {
      "application/vnd.jupyter.widget-view+json": {
       "model_id": "db854678d76a4731b303d41044322231",
       "version_major": 2,
       "version_minor": 0
      },
      "text/plain": [
       "Feature collision:   0%|          | 0/10 [00:00<?, ?it/s]"
      ]
     },
     "metadata": {},
     "output_type": "display_data"
    },
    {
     "data": {
      "application/vnd.jupyter.widget-view+json": {
       "model_id": "07a52bfbdc66401e919c70f5cbcfee7f",
       "version_major": 2,
       "version_minor": 0
      },
      "text/plain": [
       "Feature collision:   0%|          | 0/10 [00:00<?, ?it/s]"
      ]
     },
     "metadata": {},
     "output_type": "display_data"
    },
    {
     "data": {
      "application/vnd.jupyter.widget-view+json": {
       "model_id": "d885963fb3af417abcce375c303eef27",
       "version_major": 2,
       "version_minor": 0
      },
      "text/plain": [
       "Feature collision:   0%|          | 0/10 [00:00<?, ?it/s]"
      ]
     },
     "metadata": {},
     "output_type": "display_data"
    },
    {
     "data": {
      "application/vnd.jupyter.widget-view+json": {
       "model_id": "b51922150aa943788e21cbfafd5df0ab",
       "version_major": 2,
       "version_minor": 0
      },
      "text/plain": [
       "Feature collision:   0%|          | 0/10 [00:00<?, ?it/s]"
      ]
     },
     "metadata": {},
     "output_type": "display_data"
    },
    {
     "data": {
      "application/vnd.jupyter.widget-view+json": {
       "model_id": "3e2d470ab42a4d1b8e22826629fcc274",
       "version_major": 2,
       "version_minor": 0
      },
      "text/plain": [
       "Feature collision:   0%|          | 0/10 [00:00<?, ?it/s]"
      ]
     },
     "metadata": {},
     "output_type": "display_data"
    },
    {
     "data": {
      "application/vnd.jupyter.widget-view+json": {
       "model_id": "11a5e4de18984f13a625553d41bb333b",
       "version_major": 2,
       "version_minor": 0
      },
      "text/plain": [
       "Feature collision:   0%|          | 0/10 [00:00<?, ?it/s]"
      ]
     },
     "metadata": {},
     "output_type": "display_data"
    },
    {
     "data": {
      "application/vnd.jupyter.widget-view+json": {
       "model_id": "1ed8d1d2989e4faaa41a02f10a6876dc",
       "version_major": 2,
       "version_minor": 0
      },
      "text/plain": [
       "Feature collision:   0%|          | 0/10 [00:00<?, ?it/s]"
      ]
     },
     "metadata": {},
     "output_type": "display_data"
    },
    {
     "data": {
      "application/vnd.jupyter.widget-view+json": {
       "model_id": "273baf7aa23248d1868ef39d5389189b",
       "version_major": 2,
       "version_minor": 0
      },
      "text/plain": [
       "Feature collision:   0%|          | 0/10 [00:00<?, ?it/s]"
      ]
     },
     "metadata": {},
     "output_type": "display_data"
    },
    {
     "data": {
      "application/vnd.jupyter.widget-view+json": {
       "model_id": "e33e26eeb68b432883e9b0a68eaf5e0a",
       "version_major": 2,
       "version_minor": 0
      },
      "text/plain": [
       "Feature collision:   0%|          | 0/10 [00:00<?, ?it/s]"
      ]
     },
     "metadata": {},
     "output_type": "display_data"
    },
    {
     "data": {
      "application/vnd.jupyter.widget-view+json": {
       "model_id": "9c31b4459f7740029053702cd9212c95",
       "version_major": 2,
       "version_minor": 0
      },
      "text/plain": [
       "Feature collision:   0%|          | 0/10 [00:00<?, ?it/s]"
      ]
     },
     "metadata": {},
     "output_type": "display_data"
    }
   ],
   "source": [
    "poison, poison_labels = attack.poison(base_instances)"
   ]
  },
  {
   "cell_type": "markdown",
   "id": "2f921261-5c72-4953-998c-e6dadf04c606",
   "metadata": {},
   "source": [
    "# Results"
   ]
  },
  {
   "cell_type": "code",
   "execution_count": 164,
   "id": "a72e594f-560b-413d-9e90-496cc65cf30c",
   "metadata": {},
   "outputs": [],
   "source": [
    "adv_preds = np.argmax(classifier.predict(poison), axis=1)"
   ]
  },
  {
   "cell_type": "code",
   "execution_count": 165,
   "id": "89826df0-b8b3-4e9d-b43f-cb16f274dc1f",
   "metadata": {},
   "outputs": [],
   "source": [
    "y_true = np.argmax(base_labels, axis=1)"
   ]
  },
  {
   "cell_type": "code",
   "execution_count": 166,
   "id": "dff70184-4bec-4505-b7aa-958457db43de",
   "metadata": {},
   "outputs": [],
   "source": [
    "cifar10_class_labels = [\"airplane\", \"automobile\", \"bird\", \"cat\", \"deer\",\n",
    "                        \"dog\", \"frog\", \"horse\", \"ship\", \"truck\"]"
   ]
  },
  {
   "cell_type": "code",
   "execution_count": 172,
   "id": "e2cf693e-6485-49ad-af78-8e54da0335cd",
   "metadata": {},
   "outputs": [],
   "source": [
    "poison_labels_true = np.argmax(poison_labels, axis=1)"
   ]
  },
  {
   "cell_type": "code",
   "execution_count": 177,
   "id": "59beeff9-eafb-4aba-9aa7-7d560ac46d5f",
   "metadata": {},
   "outputs": [
    {
     "data": {
      "image/png": "[encoded data removed]",
      "text/plain": [
       "<Figure size 1000x600 with 4 Axes>"
      ]
     },
     "metadata": {},
     "output_type": "display_data"
    }
   ],
   "source": [
    "fig, axes = plt.subplots(nrows=2, ncols=2, figsize=(10, 6))\n",
    "random_index = np.random.randint(0, len(poison), 4)\n",
    "\n",
    "for i, ax in enumerate(axes.ravel()):\n",
    "    ax.imshow(poison[random_index[i]])\n",
    "    ax.axis('off')\n",
    "\n",
    "    if y_true[random_index[i]] == adv_preds[random_index[i]]:\n",
    "        color = 'green'\n",
    "    else:\n",
    "        color = 'red'\n",
    "\n",
    "    ax.set_title(\n",
    "        f'True: {cifar10_class_labels[y_true[random_index[i]]]}\\nPredicted: {cifar10_class_labels[adv_preds[random_index[i]]]}',\n",
    "        color=color\n",
    "    )\n",
    "\n",
    "plt.tight_layout()\n",
    "plt.show()"
   ]
  },
  {
   "cell_type": "code",
   "execution_count": null,
   "id": "b700739f-47ac-4605-be4e-7bb941018e1e",
   "metadata": {},
   "outputs": [],
   "source": []
  },
  {
   "cell_type": "code",
   "execution_count": null,
   "id": "727a983d-1cef-48d1-b266-900bb40d3b76",
   "metadata": {},
   "outputs": [],
   "source": []
  }
 ],
 "metadata": {
  "kernelspec": {
   "display_name": "Python 3 (ipykernel)",
   "language": "python",
   "name": "python3"
  },
  "language_info": {
   "codemirror_mode": {
    "name": "ipython",
    "version": 3
   },
   "file_extension": ".py",
   "mimetype": "text/x-python",
   "name": "python",
   "nbconvert_exporter": "python",
   "pygments_lexer": "ipython3",
   "version": "3.10.12"
  }
 },
 "nbformat": 4,
 "nbformat_minor": 5
}

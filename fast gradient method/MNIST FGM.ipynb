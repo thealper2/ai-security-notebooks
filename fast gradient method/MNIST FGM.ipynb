{
 "cells": [
  {
   "cell_type": "markdown",
   "id": "9d12f456-9f27-4136-8456-b53959039f22",
   "metadata": {},
   "source": [
    "# Import Libraries"
   ]
  },
  {
   "cell_type": "code",
   "execution_count": 10,
   "id": "e75a75f0-0b96-41f5-9def-63f63e101283",
   "metadata": {},
   "outputs": [],
   "source": [
    "import numpy as np\n",
    "import matplotlib.pyplot as plt\n",
    "\n",
    "from tensorflow.keras import layers, models\n",
    "from tensorflow.keras.datasets import mnist\n",
    "from tensorflow.keras.optimizers import Adam\n",
    "from tensorflow.keras.losses import SparseCategoricalCrossentropy\n",
    "from tensorflow.keras.utils import to_categorical\n",
    "\n",
    "from sklearn.metrics import accuracy_score, precision_score, recall_score, f1_score\n",
    "\n",
    "from art.utils import load_mnist\n",
    "from art.estimators.classification import TensorFlowV2Classifier\n",
    "from art.attacks.evasion import FastGradientMethod"
   ]
  },
  {
   "cell_type": "markdown",
   "id": "c31b077d-3c93-455d-abdc-eb9cf9bf0060",
   "metadata": {},
   "source": [
    "# Load Data"
   ]
  },
  {
   "cell_type": "code",
   "execution_count": 4,
   "id": "9fa8c2e5-d286-4e83-96d9-926ae19c45f8",
   "metadata": {},
   "outputs": [],
   "source": [
    "(x_train, y_train), (x_test, y_test), min_, max_ = load_mnist()"
   ]
  },
  {
   "cell_type": "code",
   "execution_count": 5,
   "id": "d58ba9c1-fd9a-477a-a0b0-e966f9b57151",
   "metadata": {},
   "outputs": [],
   "source": [
    "x_train = x_train.reshape(x_train.shape[0], -1)\n",
    "x_test = x_test.reshape(x_test.shape[0], -1)\n",
    "\n",
    "y_train = np.argmax(y_train, axis=1)\n",
    "y_test = np.argmax(y_test, axis=1)\n",
    "\n",
    "n_samples_max = 100\n",
    "x_train = x_train[:n_samples_max]\n",
    "y_train = y_train[:n_samples_max]\n",
    "x_test = x_test[:n_samples_max]\n",
    "y_test = y_test[:n_samples_max]"
   ]
  },
  {
   "cell_type": "markdown",
   "id": "938c47cf-a29a-465c-8b21-5f88d3a2272c",
   "metadata": {},
   "source": [
    "# Model"
   ]
  },
  {
   "cell_type": "code",
   "execution_count": 6,
   "id": "ba2ae0a9-93f5-44ed-8694-849aa2d19a1f",
   "metadata": {},
   "outputs": [],
   "source": [
    "model = models.Sequential([\n",
    "    layers.Dense(64, activation='relu'),\n",
    "    layers.Dense(128, activation='relu'),\n",
    "    layers.Dense(256, activation='relu'),\n",
    "    layers.Dense(10, activation='softmax')\n",
    "])"
   ]
  },
  {
   "cell_type": "code",
   "execution_count": 7,
   "id": "eb56640c-89b4-4af3-8dea-535ea0c284bc",
   "metadata": {},
   "outputs": [],
   "source": [
    "model.compile(loss=SparseCategoricalCrossentropy(from_logits=True), optimizer=\"adam\", metrics=[\"accuracy\"])"
   ]
  },
  {
   "cell_type": "markdown",
   "id": "71be792a-dad8-4ff1-bee6-4bc8251a970c",
   "metadata": {},
   "source": [
    "# Train"
   ]
  },
  {
   "cell_type": "code",
   "execution_count": 8,
   "id": "02c9974f-563b-4f86-adce-2772c4d4aa97",
   "metadata": {},
   "outputs": [
    {
     "name": "stdout",
     "output_type": "stream",
     "text": [
      "Epoch 1/10\n"
     ]
    },
    {
     "name": "stderr",
     "output_type": "stream",
     "text": [
      "/home/alper/.local/lib/python3.10/site-packages/keras/src/backend.py:5714: UserWarning: \"`sparse_categorical_crossentropy` received `from_logits=True`, but the `output` argument was produced by a Softmax activation and thus does not represent logits. Was this intended?\n",
      "  output, from_logits = _get_logits(\n"
     ]
    },
    {
     "name": "stdout",
     "output_type": "stream",
     "text": [
      "4/4 [==============================] - 1s 10ms/step - loss: 2.3078 - accuracy: 0.1100\n",
      "Epoch 2/10\n",
      "4/4 [==============================] - 0s 8ms/step - loss: 2.1328 - accuracy: 0.4600\n",
      "Epoch 3/10\n",
      "4/4 [==============================] - 0s 10ms/step - loss: 1.9606 - accuracy: 0.5100\n",
      "Epoch 4/10\n",
      "4/4 [==============================] - 0s 9ms/step - loss: 1.7649 - accuracy: 0.5500\n",
      "Epoch 5/10\n",
      "4/4 [==============================] - 0s 5ms/step - loss: 1.5260 - accuracy: 0.6100\n",
      "Epoch 6/10\n",
      "4/4 [==============================] - 0s 5ms/step - loss: 1.2640 - accuracy: 0.7200\n",
      "Epoch 7/10\n",
      "4/4 [==============================] - 0s 6ms/step - loss: 0.9949 - accuracy: 0.8000\n",
      "Epoch 8/10\n",
      "4/4 [==============================] - 0s 5ms/step - loss: 0.7633 - accuracy: 0.8200\n",
      "Epoch 9/10\n",
      "4/4 [==============================] - 0s 7ms/step - loss: 0.5782 - accuracy: 0.8900\n",
      "Epoch 10/10\n",
      "4/4 [==============================] - 0s 5ms/step - loss: 0.4165 - accuracy: 0.9100\n"
     ]
    },
    {
     "data": {
      "text/plain": [
       "<keras.src.callbacks.History at 0x7f3d93b4c070>"
      ]
     },
     "execution_count": 8,
     "metadata": {},
     "output_type": "execute_result"
    }
   ],
   "source": [
    "model.fit(x_train, y_train, epochs=10, batch_size=32)"
   ]
  },
  {
   "cell_type": "markdown",
   "id": "90f642a3-93d8-4e1f-9359-9daebd19c48d",
   "metadata": {},
   "source": [
    "# Attack"
   ]
  },
  {
   "cell_type": "code",
   "execution_count": 11,
   "id": "830bd155-a2ef-4cd3-bd3b-584cc8c3c9be",
   "metadata": {},
   "outputs": [],
   "source": [
    "art_model = TensorFlowV2Classifier(model=model, loss_object=SparseCategoricalCrossentropy(from_logits=True), nb_classes=10, input_shape=(784,), clip_values=(0, 1))"
   ]
  },
  {
   "cell_type": "code",
   "execution_count": 12,
   "id": "8755af7e-1e27-41f5-8bdd-b4660def7a23",
   "metadata": {},
   "outputs": [],
   "source": [
    "fgsm = FastGradientMethod(estimator=art_model, eps=0.1)"
   ]
  },
  {
   "cell_type": "code",
   "execution_count": 13,
   "id": "aa433a87-63cd-47de-9348-af692143d1d1",
   "metadata": {},
   "outputs": [
    {
     "name": "stderr",
     "output_type": "stream",
     "text": [
      "/home/alper/.local/lib/python3.10/site-packages/keras/src/backend.py:5714: UserWarning: \"`sparse_categorical_crossentropy` received `from_logits=True`, but the `output` argument was produced by a Softmax activation and thus does not represent logits. Was this intended?\n",
      "  output, from_logits = _get_logits(\n"
     ]
    }
   ],
   "source": [
    "adv_test = fgsm.generate(x=x_test)"
   ]
  },
  {
   "cell_type": "markdown",
   "id": "b7834762-c078-448b-af7f-268ae42ed450",
   "metadata": {},
   "source": [
    "# Results"
   ]
  },
  {
   "cell_type": "code",
   "execution_count": 14,
   "id": "2bb46314-aba7-4277-a1a6-7eea4d4f712d",
   "metadata": {},
   "outputs": [],
   "source": [
    "safe_preds = np.argmax(art_model.predict(x_test), axis=1)"
   ]
  },
  {
   "cell_type": "code",
   "execution_count": 15,
   "id": "8b0099a8-5229-4e4d-910b-47e91fbfb7ff",
   "metadata": {},
   "outputs": [],
   "source": [
    "safe_model_scores = {\n",
    "    'ACC': accuracy_score(y_test, safe_preds),\n",
    "    'PREC': precision_score(y_test, safe_preds, average='weighted'),\n",
    "    'REC': recall_score(y_test, safe_preds, average='weighted'),\n",
    "    'F1': f1_score(y_test, safe_preds, average='weighted')\n",
    "}"
   ]
  },
  {
   "cell_type": "code",
   "execution_count": 16,
   "id": "b60af0d9-4073-4c09-ba21-6a518c80982e",
   "metadata": {},
   "outputs": [
    {
     "data": {
      "text/plain": [
       "{'ACC': 0.63,\n",
       " 'PREC': 0.6861946169772257,\n",
       " 'REC': 0.63,\n",
       " 'F1': 0.6076352405219148}"
      ]
     },
     "execution_count": 16,
     "metadata": {},
     "output_type": "execute_result"
    }
   ],
   "source": [
    "safe_model_scores"
   ]
  },
  {
   "cell_type": "code",
   "execution_count": 18,
   "id": "5a6458ed-f4c2-4506-b9b1-eaee4f83c43b",
   "metadata": {},
   "outputs": [],
   "source": [
    "adv_preds = np.argmax(art_model.predict(adv_test), axis=1)"
   ]
  },
  {
   "cell_type": "code",
   "execution_count": 19,
   "id": "0871f3bb-3b24-4095-a96f-5c58c5ae41af",
   "metadata": {},
   "outputs": [],
   "source": [
    "adv_model_scores = {\n",
    "    'ACC': accuracy_score(y_test, adv_preds),\n",
    "    'PREC': precision_score(y_test, adv_preds, average='weighted'),\n",
    "    'REC': recall_score(y_test, adv_preds, average='weighted'),\n",
    "    'F1': f1_score(y_test, adv_preds, average='weighted')\n",
    "}"
   ]
  },
  {
   "cell_type": "code",
   "execution_count": 20,
   "id": "3a5f91b5-e4a8-4469-a85b-db081c68fc71",
   "metadata": {},
   "outputs": [
    {
     "data": {
      "text/plain": [
       "{'ACC': 0.24,\n",
       " 'PREC': 0.4400961538461538,\n",
       " 'REC': 0.24,\n",
       " 'F1': 0.26252166593470944}"
      ]
     },
     "execution_count": 20,
     "metadata": {},
     "output_type": "execute_result"
    }
   ],
   "source": [
    "adv_model_scores"
   ]
  },
  {
   "cell_type": "code",
   "execution_count": 21,
   "id": "23ee0c3a-a2b1-4943-93a9-db437d9ea6ce",
   "metadata": {},
   "outputs": [
    {
     "data": {
      "image/png": "[encoded data removed]",
      "text/plain": [
       "<Figure size 1000x600 with 16 Axes>"
      ]
     },
     "metadata": {},
     "output_type": "display_data"
    }
   ],
   "source": [
    "fig, axes = plt.subplots(nrows=4, ncols=4, figsize=(10, 6))\n",
    "random_index = np.random.randint(0, len(adv_test), 16)\n",
    "\n",
    "for i, ax in enumerate(axes.ravel()):\n",
    "    ax.imshow(adv_test[random_index[i]].reshape(28, 28), cmap='gray')\n",
    "    ax.axis('off')\n",
    "\n",
    "    if y_test[random_index[i]] == adv_preds[random_index[i]]:\n",
    "        color = 'green'\n",
    "    else:\n",
    "        color = 'red'\n",
    "\n",
    "    ax.set_title(\n",
    "        f'True: {y_test[random_index[i]]}\\nPredicted: {adv_preds[random_index[i]]}',\n",
    "        color=color\n",
    "    )\n",
    "\n",
    "plt.tight_layout()\n",
    "plt.show()"
   ]
  },
  {
   "cell_type": "code",
   "execution_count": null,
   "id": "fc8efa0a-5252-4311-aa6c-801deb31776f",
   "metadata": {},
   "outputs": [],
   "source": []
  }
 ],
 "metadata": {
  "kernelspec": {
   "display_name": "Python 3 (ipykernel)",
   "language": "python",
   "name": "python3"
  },
  "language_info": {
   "codemirror_mode": {
    "name": "ipython",
    "version": 3
   },
   "file_extension": ".py",
   "mimetype": "text/x-python",
   "name": "python",
   "nbconvert_exporter": "python",
   "pygments_lexer": "ipython3",
   "version": "3.10.12"
  }
 },
 "nbformat": 4,
 "nbformat_minor": 5
}

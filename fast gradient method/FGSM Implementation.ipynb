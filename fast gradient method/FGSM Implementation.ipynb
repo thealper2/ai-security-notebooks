{
 "cells": [
  {
   "cell_type": "markdown",
   "id": "e646d644-e99b-4a9b-bf72-33e8031f10cd",
   "metadata": {},
   "source": [
    "# Import Libraries"
   ]
  },
  {
   "cell_type": "code",
   "execution_count": 1,
   "id": "bd561167-4f2e-4e63-91e7-0897d495f17c",
   "metadata": {},
   "outputs": [
    {
     "name": "stderr",
     "output_type": "stream",
     "text": [
      "/home/alper/.local/lib/python3.10/site-packages/matplotlib/projections/__init__.py:63: UserWarning: Unable to import Axes3D. This may be due to multiple versions of Matplotlib being installed (e.g. as a system package and as a pip package). As a result, the 3D projection is not available.\n",
      "  warnings.warn(\"Unable to import Axes3D. This may be due to multiple versions of \"\n"
     ]
    }
   ],
   "source": [
    "import torch\n",
    "import numpy as np\n",
    "import tensorflow as tf\n",
    "import matplotlib.pyplot as plt\n",
    "import torch.nn.functional as F"
   ]
  },
  {
   "cell_type": "markdown",
   "id": "bfbbd10a-36c5-4869-a953-36918f518de1",
   "metadata": {},
   "source": [
    "# PyTorch Implementation"
   ]
  },
  {
   "cell_type": "code",
   "execution_count": 2,
   "id": "3143aa79-6c18-425a-9a3b-dd777cbf183f",
   "metadata": {},
   "outputs": [],
   "source": [
    "def fgsm_attack(x, y, epsilon, model):\n",
    "    x_tensor = torch.tensor(x, dtype=torch.float32, requires_grad=True)\n",
    "    y_tensor = torch.tensor(y, dtype=torch.float32)\n",
    "\n",
    "    predictions = model(x_tensor)\n",
    "    loss = F.cross_entropy(predictions, y_tensor.argmax(dim=1))\n",
    "\n",
    "    model.zero_grad()\n",
    "    loss.backward()\n",
    "\n",
    "    gradient = x_tensor.grad.data\n",
    "    perturbation = epsilon * torch.sign(gradient)\n",
    "\n",
    "    perturbed_input = x_tensor + perturbation\n",
    "    perturbed_input = torch.clamp(perturbed_input, 0, 1)\n",
    "\n",
    "    return perturbed_input.detach().numpy(), perturbation.detach().numpy()"
   ]
  },
  {
   "cell_type": "markdown",
   "id": "f9b62c67-cc64-4bf2-becf-3108381f3668",
   "metadata": {},
   "source": [
    "# TensorFlow Implementation"
   ]
  },
  {
   "cell_type": "code",
   "execution_count": 3,
   "id": "3ac34915-8d10-4041-98e8-30105413022e",
   "metadata": {},
   "outputs": [],
   "source": [
    "def fgsm_attack(x, y, epsilon):\n",
    "    x_tensor = tf.convert_to_tensor(x, dtype=tf.float32)\n",
    "    y_tensor = tf.convert_to_tensor(y, dtype=tf.float32)\n",
    "\n",
    "    with tf.GradientTape() as tape:\n",
    "        tape.watch(x_tensor)\n",
    "        predictions = model(x_tensor)\n",
    "        loss = tf.keras.losses.categorical_crossentropy(y_tensor, predictions)\n",
    "\n",
    "    gradient = tape.gradient(loss, x_tensor)\n",
    "\n",
    "    perturbation = epsilon * tf.sign(gradient)\n",
    "    perturbed_input = x_tensor + perturbation\n",
    "\n",
    "    perturbed_input = tf.clip_by_value(perturbed_input, 0, 1)\n",
    "    return perturbed_input.numpy(), perturbation.numpy()"
   ]
  },
  {
   "cell_type": "markdown",
   "id": "059d00b6-a65b-4435-b544-444009e42f5d",
   "metadata": {},
   "source": [
    "# Load Data"
   ]
  },
  {
   "cell_type": "code",
   "execution_count": 4,
   "id": "3af6aea6-e002-4f7f-bb1f-8af9dfedcb04",
   "metadata": {},
   "outputs": [],
   "source": [
    "(x_train, y_train), (x_test, y_test) = tf.keras.datasets.cifar10.load_data()"
   ]
  },
  {
   "cell_type": "code",
   "execution_count": 5,
   "id": "5caf05b1-4a07-4aa8-ac7c-3c42aa02d686",
   "metadata": {},
   "outputs": [],
   "source": [
    "x_train = x_train.astype('float32') / 255\n",
    "x_test = x_test.astype('float32') / 255"
   ]
  },
  {
   "cell_type": "code",
   "execution_count": 6,
   "id": "c0561ec6-2612-473f-bed2-57be9f12fea5",
   "metadata": {},
   "outputs": [],
   "source": [
    "y_train = tf.keras.utils.to_categorical(y_train, num_classes=10)\n",
    "y_test = tf.keras.utils.to_categorical(y_test, num_classes=10)"
   ]
  },
  {
   "cell_type": "markdown",
   "id": "f7d474f8-8040-4cd2-a580-aebf1c850062",
   "metadata": {},
   "source": [
    "# Load Model"
   ]
  },
  {
   "cell_type": "code",
   "execution_count": 7,
   "id": "7a66a477-7fe0-4a3a-b909-aa3b8dcaadd5",
   "metadata": {},
   "outputs": [],
   "source": [
    "model = tf.keras.models.load_model(\"models/cifar10_safe_model.h5\")"
   ]
  },
  {
   "cell_type": "markdown",
   "id": "491f718f-1fa6-4a7b-b3a6-3d67d85d281d",
   "metadata": {},
   "source": [
    "# Attack"
   ]
  },
  {
   "cell_type": "code",
   "execution_count": 8,
   "id": "f9d3f2c3-9a35-4215-9996-e77b12e390b1",
   "metadata": {},
   "outputs": [],
   "source": [
    "epsilon = 0.1\n",
    "idx = 0\n",
    "x_sample = x_test[idx:idx+1]\n",
    "y_sample = y_test[idx:idx+1]"
   ]
  },
  {
   "cell_type": "code",
   "execution_count": 9,
   "id": "c1cdcdb8-fc5b-43ad-a3cc-44ff4f7ffc72",
   "metadata": {},
   "outputs": [],
   "source": [
    "perturbed_sample, perturbation = fgsm_attack(x_sample, y_sample, epsilon)"
   ]
  },
  {
   "cell_type": "code",
   "execution_count": 10,
   "id": "516a748d-3123-4594-bb4a-49832d619e9c",
   "metadata": {},
   "outputs": [],
   "source": [
    "original_image = x_sample[0, :, :, :]\n",
    "perturbation_image = perturbation[0, :, :, :]\n",
    "perturbed_image = perturbed_sample[0, :, :, :]"
   ]
  },
  {
   "cell_type": "code",
   "execution_count": 11,
   "id": "0480ed56-4b4e-484d-be1f-b261ccaca710",
   "metadata": {},
   "outputs": [
    {
     "name": "stdout",
     "output_type": "stream",
     "text": [
      "1/1 [==============================] - 0s 273ms/step\n",
      "1/1 [==============================] - 0s 12ms/step\n",
      "Prediction before attack: [3]\n",
      "Prediction after attack: [5]\n"
     ]
    }
   ],
   "source": [
    "original_pred = np.argmax(model.predict(x_sample), axis=1)\n",
    "perturbed_pred = np.argmax(model.predict(perturbed_sample), axis=1)\n",
    "\n",
    "print(f\"Prediction before attack: {original_pred}\")\n",
    "print(f\"Prediction after attack: {perturbed_pred}\")"
   ]
  },
  {
   "cell_type": "code",
   "execution_count": 12,
   "id": "1473e5fc-c789-4255-bcf1-200b892e0510",
   "metadata": {},
   "outputs": [],
   "source": [
    "cifar10_class_names = [\"airplane\", \"automobile\", \"bird\", \"cat\", \"deer\",\n",
    "                       \"dog\", \"frog\", \"horse\", \"ship\", \"truck\"]"
   ]
  },
  {
   "cell_type": "code",
   "execution_count": 13,
   "id": "5e39fefe-9841-4a26-ac72-831911cc751e",
   "metadata": {},
   "outputs": [
    {
     "name": "stderr",
     "output_type": "stream",
     "text": [
      "Clipping input data to the valid range for imshow with RGB data ([0..1] for floats or [0..255] for integers). Got range [-0.1..0.1].\n"
     ]
    },
    {
     "data": {
      "image/png": "[encoded data removed]",
      "text/plain": [
       "<Figure size 1200x400 with 3 Axes>"
      ]
     },
     "metadata": {},
     "output_type": "display_data"
    }
   ],
   "source": [
    "plt.figure(figsize=(12, 4))\n",
    "\n",
    "plt.subplot(1, 3, 1)\n",
    "plt.title(f\"Original Image (C:{cifar10_class_names[original_pred[0]]}\")\n",
    "plt.imshow(original_image)\n",
    "plt.axis(\"off\")\n",
    "\n",
    "plt.subplot(1, 3, 2)\n",
    "plt.title(f\"Perturbation (Eps:{epsilon / 255})\")\n",
    "plt.imshow(perturbation_image)\n",
    "plt.axis(\"off\")\n",
    "\n",
    "plt.subplot(1, 3, 3)\n",
    "plt.title(f\"Perturbed Image (P:{cifar10_class_names[perturbed_pred[0]]})\")\n",
    "plt.imshow(perturbed_image)\n",
    "plt.axis(\"off\")\n",
    "\n",
    "plt.tight_layout()\n",
    "plt.show()"
   ]
  },
  {
   "cell_type": "code",
   "execution_count": 14,
   "id": "f5597a95-1c39-46f1-b21d-f76369c7755f",
   "metadata": {
    "scrolled": true
   },
   "outputs": [],
   "source": [
    "count_dict = {\"Pred True\": 0, \"Pred False\": 0}\n",
    "for epsilon in range(0, 255):\n",
    "    perturbed_sample, _ = fgsm_attack(x_sample, y_sample, epsilon / 255)\n",
    "    original_pred = np.argmax(model.predict(x_sample, verbose=False), axis=1)\n",
    "    perturbed_pred = np.argmax(model.predict(perturbed_sample, verbose=False), axis=1)\n",
    "    \n",
    "    if (original_pred == perturbed_pred)[0]:\n",
    "        count_dict[\"Pred True\"] += 1\n",
    "    else:\n",
    "        count_dict[\"Pred False\"] += 1"
   ]
  },
  {
   "cell_type": "code",
   "execution_count": 15,
   "id": "3d7f2251-1fa0-449a-b15e-aba58527a0ff",
   "metadata": {},
   "outputs": [
    {
     "data": {
      "text/plain": [
       "{'Pred True': 1, 'Pred False': 254}"
      ]
     },
     "execution_count": 15,
     "metadata": {},
     "output_type": "execute_result"
    }
   ],
   "source": [
    "count_dict"
   ]
  },
  {
   "cell_type": "code",
   "execution_count": null,
   "id": "181dd8fc-f785-40b7-937e-15ba5c8a0c0b",
   "metadata": {},
   "outputs": [],
   "source": []
  }
 ],
 "metadata": {
  "kernelspec": {
   "display_name": "Python 3 (ipykernel)",
   "language": "python",
   "name": "python3"
  },
  "language_info": {
   "codemirror_mode": {
    "name": "ipython",
    "version": 3
   },
   "file_extension": ".py",
   "mimetype": "text/x-python",
   "name": "python",
   "nbconvert_exporter": "python",
   "pygments_lexer": "ipython3",
   "version": "3.10.12"
  }
 },
 "nbformat": 4,
 "nbformat_minor": 5
}

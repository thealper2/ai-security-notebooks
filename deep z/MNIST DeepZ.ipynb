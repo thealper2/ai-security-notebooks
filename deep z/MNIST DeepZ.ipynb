{
 "cells": [
  {
   "cell_type": "markdown",
   "id": "36649ba9-91f4-4471-93a6-c69bc2ce7506",
   "metadata": {},
   "source": [
    "# Import Libraries"
   ]
  },
  {
   "cell_type": "code",
   "execution_count": 1,
   "id": "1a612f0d-32b0-4ce6-8301-7c0912e798b5",
   "metadata": {},
   "outputs": [],
   "source": [
    "import numpy as np\n",
    "import matplotlib.pyplot as plt\n",
    "\n",
    "import torch\n",
    "import torch.nn as nn\n",
    "import torch.optim as optim\n",
    "\n",
    "from sklearn.utils import shuffle\n",
    "from sklearn.metrics import accuracy_score\n",
    "\n",
    "from art.estimators.classification import PyTorchClassifier\n",
    "from art.attacks.evasion import ProjectedGradientDescent\n",
    "from art.estimators.certification.deep_z import PytorchDeepZ\n",
    "from art.utils import load_mnist\n",
    "\n",
    "device = torch.device(\"cuda\" if torch.cuda.is_available() else \"cpu\")"
   ]
  },
  {
   "cell_type": "markdown",
   "id": "f35847c0-76f8-415d-a7d5-1577c8fa4dc1",
   "metadata": {},
   "source": [
    "# Load Data"
   ]
  },
  {
   "cell_type": "code",
   "execution_count": 2,
   "id": "b5f80a51-f413-48c0-bc29-dca0d0ada66d",
   "metadata": {},
   "outputs": [],
   "source": [
    "(x_train, y_train), (x_test, y_test), min_, max_ = load_mnist()"
   ]
  },
  {
   "cell_type": "code",
   "execution_count": 3,
   "id": "5cfc1a74-8657-4775-8801-c76f31c37f7b",
   "metadata": {},
   "outputs": [],
   "source": [
    "x_train = np.expand_dims(np.squeeze(x_train), axis=1)\n",
    "x_test = np.expand_dims(np.squeeze(x_test), axis=1)\n",
    "y_train = np.argmax(y_train, axis=1)\n",
    "y_test = np.argmax(y_test, axis=1)"
   ]
  },
  {
   "cell_type": "markdown",
   "id": "0cea5a36-1711-426d-aba5-074be23fb030",
   "metadata": {},
   "source": [
    "# Model"
   ]
  },
  {
   "cell_type": "code",
   "execution_count": 4,
   "id": "598d77eb-0ab9-4453-ba4e-31f9ccd16b94",
   "metadata": {},
   "outputs": [],
   "source": [
    "class MNISTModel(nn.Module):\n",
    "    def __init__(self):\n",
    "        super(MNISTModel, self).__init__()\n",
    "\n",
    "        self.conv1 = nn.Conv2d(1, 16, kernel_size=4, stride=2)\n",
    "        self.conv2 = nn.Conv2d(16, 32, kernel_size=4, stride=1)\n",
    "        self.fc = nn.Linear(3200, 10)\n",
    "        self.relu = nn.ReLU()\n",
    "\n",
    "    def forward(self, x):\n",
    "        x = self.relu(self.conv1(x))\n",
    "        x = self.relu(self.conv2(x))\n",
    "        x = x.view(x.size(0), -1)\n",
    "        return self.fc(x)"
   ]
  },
  {
   "cell_type": "code",
   "execution_count": 5,
   "id": "adfec943-7fda-40a1-ae29-f4948b734da8",
   "metadata": {},
   "outputs": [
    {
     "data": {
      "text/plain": [
       "MNISTModel(\n",
       "  (conv1): Conv2d(1, 16, kernel_size=(4, 4), stride=(2, 2))\n",
       "  (conv2): Conv2d(16, 32, kernel_size=(4, 4), stride=(1, 1))\n",
       "  (fc): Linear(in_features=3200, out_features=10, bias=True)\n",
       "  (relu): ReLU()\n",
       ")"
      ]
     },
     "execution_count": 5,
     "metadata": {},
     "output_type": "execute_result"
    }
   ],
   "source": [
    "model = MNISTModel()\n",
    "model.to(device)"
   ]
  },
  {
   "cell_type": "markdown",
   "id": "38d64f65-6e84-44e9-921c-fff224dfa821",
   "metadata": {},
   "source": [
    "# Train"
   ]
  },
  {
   "cell_type": "code",
   "execution_count": 6,
   "id": "da2123b0-ffdd-4f5f-9a68-e4998f11dda2",
   "metadata": {},
   "outputs": [],
   "source": [
    "optimizer = optim.Adam(model.parameters(), lr=0.0001)"
   ]
  },
  {
   "cell_type": "code",
   "execution_count": 7,
   "id": "a3df2e33-0c7b-4f57-bb9f-697f79d61d13",
   "metadata": {},
   "outputs": [],
   "source": [
    "loss_fn = nn.CrossEntropyLoss()"
   ]
  },
  {
   "cell_type": "code",
   "execution_count": 8,
   "id": "ef9a2495-516c-4d33-a249-a2cbc24f1fc9",
   "metadata": {},
   "outputs": [],
   "source": [
    "def train_model(model, optimizer, loss_fn, x_data, y_data, batch_size=32, epochs=5):\n",
    "    for epoch in range(epochs):\n",
    "        x_data, y_data = shuffle(x_data, y_data)\n",
    "        epoch_loss = []\n",
    "\n",
    "        for start in range(0, len(x_data), batch_size):\n",
    "            end = start + batch_size\n",
    "            x_batch = torch.tensor(x_data[start:end]).float().to(device)\n",
    "            y_batch = torch.tensor(y_data[start:end], dtype=torch.long).to(device)\n",
    "\n",
    "            optimizer.zero_grad()\n",
    "            predictions = model(x_batch)\n",
    "            loss = loss_fn(predictions, y_batch)\n",
    "            loss.backward()\n",
    "            optimizer.step()\n",
    "\n",
    "            epoch_loss.append(loss.item())\n",
    "\n",
    "        print(f\"Epoch {epoch+1}, Loss: {np.mean(epoch_loss):.4f}\")\n",
    "\n",
    "    return model"
   ]
  },
  {
   "cell_type": "code",
   "execution_count": 9,
   "id": "b220f042-165c-45fc-a643-6a5dadb57976",
   "metadata": {},
   "outputs": [
    {
     "name": "stdout",
     "output_type": "stream",
     "text": [
      "Epoch 1, Loss: 0.4888\n",
      "Epoch 2, Loss: 0.1805\n",
      "Epoch 3, Loss: 0.1119\n",
      "Epoch 4, Loss: 0.0827\n",
      "Epoch 5, Loss: 0.0680\n"
     ]
    }
   ],
   "source": [
    "model = train_model(model, optimizer, loss_fn, x_train, y_train)"
   ]
  },
  {
   "cell_type": "markdown",
   "id": "f41b9152-0ef2-4450-9418-9ed3743cc027",
   "metadata": {},
   "source": [
    "# Test"
   ]
  },
  {
   "cell_type": "code",
   "execution_count": 10,
   "id": "b1272b5a-a52b-44c7-bdfd-d01662253440",
   "metadata": {},
   "outputs": [],
   "source": [
    "with torch.no_grad():\n",
    "    safe_preds = model(torch.tensor(x_test).float().to(device))"
   ]
  },
  {
   "cell_type": "code",
   "execution_count": 11,
   "id": "9a6f0e95-6975-47f9-bc6e-91ebab5c644c",
   "metadata": {},
   "outputs": [],
   "source": [
    "safe_preds = np.argmax(safe_preds.cpu().detach().numpy(), axis=1)"
   ]
  },
  {
   "cell_type": "code",
   "execution_count": 12,
   "id": "8e0ce34b-580d-47cf-87ac-c0e3d282d972",
   "metadata": {},
   "outputs": [
    {
     "name": "stdout",
     "output_type": "stream",
     "text": [
      "Model Accuracy: 98.1%\n"
     ]
    }
   ],
   "source": [
    "print(\"Model Accuracy: {}%\".format((np.sum(safe_preds == y_test) / len(y_test)) * 100))"
   ]
  },
  {
   "cell_type": "markdown",
   "id": "52057886-5110-4825-a25f-8b2a2e6f801a",
   "metadata": {},
   "source": [
    "# Deep Z"
   ]
  },
  {
   "cell_type": "code",
   "execution_count": 13,
   "id": "84e0beed-d819-47fe-9be0-0c1737e6f337",
   "metadata": {},
   "outputs": [
    {
     "name": "stdout",
     "output_type": "stream",
     "text": [
      "Inferred reshape on op num 4\n"
     ]
    },
    {
     "name": "stderr",
     "output_type": "stream",
     "text": [
      "/home/alper/.local/lib/python3.10/site-packages/art/estimators/certification/deep_z/pytorch.py:242: UserWarning: \n",
      "This estimator does not support networks which have dense layers before convolutional. We currently infer a reshape when a neural network goes from convolutional layers to dense layers. If your use case does not fall into this pattern then consider directly building a certifier network with the custom layers found in art.estimators.certification.deepz.deep_z.py\n",
      "\n",
      "  warnings.warn(\n"
     ]
    }
   ],
   "source": [
    "classifier = PytorchDeepZ(\n",
    "    model=model,\n",
    "    loss=nn.CrossEntropyLoss(),\n",
    "    input_shape=(1, 28, 28),\n",
    "    clip_values=(min_, max_),\n",
    "    nb_classes=10,\n",
    "    \n",
    ")"
   ]
  },
  {
   "cell_type": "markdown",
   "id": "773fa085-1f17-428b-82c1-6a49798aee6f",
   "metadata": {},
   "source": [
    "# Attack"
   ]
  },
  {
   "cell_type": "code",
   "execution_count": 14,
   "id": "e04d7af8-ca3b-4cfd-bbba-efc411a41ca2",
   "metadata": {},
   "outputs": [],
   "source": [
    "pt_model = PyTorchClassifier(\n",
    "    model=model,\n",
    "    loss=nn.CrossEntropyLoss(),\n",
    "    input_shape=(1, 28, 28),\n",
    "    clip_values=(min_, max_),\n",
    "    nb_classes=10,\n",
    "    \n",
    ")"
   ]
  },
  {
   "cell_type": "code",
   "execution_count": 15,
   "id": "831d541b-3a22-4219-98a0-d9c1ece5f0db",
   "metadata": {},
   "outputs": [],
   "source": [
    "attack = ProjectedGradientDescent(\n",
    "    estimator=pt_model,\n",
    "    eps=0.05,\n",
    "    eps_step=0.001,\n",
    "    max_iter=20,\n",
    "    num_random_init=1\n",
    ")"
   ]
  },
  {
   "cell_type": "code",
   "execution_count": 16,
   "id": "cd072b96-6ca8-4925-96a3-0f775fa7e0fe",
   "metadata": {},
   "outputs": [
    {
     "data": {
      "application/vnd.jupyter.widget-view+json": {
       "model_id": "",
       "version_major": 2,
       "version_minor": 0
      },
      "text/plain": [
       "PGD - Batches:   0%|          | 0/313 [00:00<?, ?it/s]"
      ]
     },
     "metadata": {},
     "output_type": "display_data"
    }
   ],
   "source": [
    "adv_test = attack.generate(x=x_test.astype('float32'))"
   ]
  },
  {
   "cell_type": "code",
   "execution_count": 17,
   "id": "a5fcdf01-733d-447a-80c3-c8bac37ea991",
   "metadata": {},
   "outputs": [],
   "source": [
    "classifier.model.set_forward_mode(\"concrete\")"
   ]
  },
  {
   "cell_type": "code",
   "execution_count": 18,
   "id": "461412f4-706d-4a29-aeb6-34e1505ffb93",
   "metadata": {},
   "outputs": [],
   "source": [
    "adv_preds = classifier.model.forward(torch.tensor(adv_test).float().to(device))"
   ]
  },
  {
   "cell_type": "code",
   "execution_count": 19,
   "id": "0aad831d-6d03-4d61-8efd-00a427f91a93",
   "metadata": {},
   "outputs": [],
   "source": [
    "adv_preds = np.argmax(adv_preds.cpu().detach().numpy(), axis=1)"
   ]
  },
  {
   "cell_type": "code",
   "execution_count": 20,
   "id": "0d8b3c4f-5e39-48ef-a9a1-a47fb51fadba",
   "metadata": {},
   "outputs": [
    {
     "name": "stdout",
     "output_type": "stream",
     "text": [
      "Adversarial Accuracy: 96.71%\n"
     ]
    }
   ],
   "source": [
    "print(\"Adversarial Accuracy: {}%\".format((np.sum(adv_preds == y_test) / len(y_test)) * 100))"
   ]
  },
  {
   "cell_type": "markdown",
   "id": "f69cd0d7-535a-45bf-a8e4-957ac230f4ed",
   "metadata": {},
   "source": [
    "# Results"
   ]
  },
  {
   "cell_type": "code",
   "execution_count": 21,
   "id": "40944e3f-169e-48e4-8b01-06731d601a78",
   "metadata": {},
   "outputs": [
    {
     "data": {
      "image/png": "[encoded data removed]",
      "text/plain": [
       "<Figure size 1000x600 with 16 Axes>"
      ]
     },
     "metadata": {},
     "output_type": "display_data"
    }
   ],
   "source": [
    "fig, axes = plt.subplots(nrows=4, ncols=4, figsize=(10, 6))\n",
    "random_index = np.random.randint(0, len(adv_test), 16)\n",
    "\n",
    "for i, ax in enumerate(axes.ravel()):\n",
    "    ax.imshow(adv_test[random_index[i]].reshape(28, 28))\n",
    "    ax.axis('off')\n",
    "\n",
    "    if y_test[random_index[i]] == adv_preds[random_index[i]]:\n",
    "        color = 'green'\n",
    "    else:\n",
    "        color = 'red'\n",
    "\n",
    "    ax.set_title(\n",
    "        f'True: {y_test[random_index[i]]}\\nPredicted: {adv_preds[random_index[i]]}',\n",
    "        color=color\n",
    "    )\n",
    "\n",
    "plt.tight_layout()\n",
    "plt.show()"
   ]
  },
  {
   "cell_type": "code",
   "execution_count": null,
   "id": "18628d04-5b0e-4226-9b66-fced4d65fa21",
   "metadata": {},
   "outputs": [],
   "source": []
  }
 ],
 "metadata": {
  "kernelspec": {
   "display_name": "Python 3 (ipykernel)",
   "language": "python",
   "name": "python3"
  },
  "language_info": {
   "codemirror_mode": {
    "name": "ipython",
    "version": 3
   },
   "file_extension": ".py",
   "mimetype": "text/x-python",
   "name": "python",
   "nbconvert_exporter": "python",
   "pygments_lexer": "ipython3",
   "version": "3.10.12"
  }
 },
 "nbformat": 4,
 "nbformat_minor": 5
}

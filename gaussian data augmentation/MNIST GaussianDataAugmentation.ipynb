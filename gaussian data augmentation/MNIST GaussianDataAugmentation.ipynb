{
 "cells": [
  {
   "cell_type": "markdown",
   "id": "9d12f456-9f27-4136-8456-b53959039f22",
   "metadata": {},
   "source": [
    "# Import Libraries"
   ]
  },
  {
   "cell_type": "code",
   "execution_count": 3,
   "id": "e75a75f0-0b96-41f5-9def-63f63e101283",
   "metadata": {},
   "outputs": [],
   "source": [
    "import numpy as np\n",
    "import matplotlib.pyplot as plt\n",
    "\n",
    "from tensorflow.keras import layers, models\n",
    "from tensorflow.keras.datasets import mnist\n",
    "from tensorflow.keras.optimizers import Adam\n",
    "from tensorflow.keras.losses import CategoricalCrossentropy\n",
    "from tensorflow.keras.utils import to_categorical\n",
    "\n",
    "from sklearn.metrics import accuracy_score, precision_score, recall_score, f1_score\n",
    "\n",
    "from art.utils import load_mnist\n",
    "from art.estimators.classification import TensorFlowV2Classifier\n",
    "from art.attacks.evasion import FastGradientMethod\n",
    "from art.defences.preprocessor import GaussianAugmentation"
   ]
  },
  {
   "cell_type": "markdown",
   "id": "c31b077d-3c93-455d-abdc-eb9cf9bf0060",
   "metadata": {},
   "source": [
    "# Load Data"
   ]
  },
  {
   "cell_type": "code",
   "execution_count": 4,
   "id": "9fa8c2e5-d286-4e83-96d9-926ae19c45f8",
   "metadata": {},
   "outputs": [],
   "source": [
    "(x_train, y_train), (x_test, y_test), min_, max_ = load_mnist()"
   ]
  },
  {
   "cell_type": "markdown",
   "id": "e521f496-7c1e-4224-b8df-6763e4f56c18",
   "metadata": {},
   "source": [
    "# Gaussian Data Augmentation"
   ]
  },
  {
   "cell_type": "code",
   "execution_count": 5,
   "id": "13608bd1-2e31-4714-a58c-c37fb3c909f1",
   "metadata": {},
   "outputs": [],
   "source": [
    "gaussian_augmentation = GaussianAugmentation(sigma=0.1, augmentation=False, ratio=1.0)"
   ]
  },
  {
   "cell_type": "code",
   "execution_count": 6,
   "id": "29533055-6199-4e59-87cd-a43e595a9a72",
   "metadata": {},
   "outputs": [],
   "source": [
    "x_train_augmented, _ = gaussian_augmentation(x_train)"
   ]
  },
  {
   "cell_type": "code",
   "execution_count": 23,
   "id": "bd2945c0-b653-45ce-b015-a6d0cd993052",
   "metadata": {},
   "outputs": [
    {
     "data": {
      "image/png": "[encoded data removed]",
      "text/plain": [
       "<Figure size 800x600 with 2 Axes>"
      ]
     },
     "metadata": {},
     "output_type": "display_data"
    }
   ],
   "source": [
    "fig, axes = plt.subplots(nrows=1, ncols=2, figsize=(8, 6))\n",
    "\n",
    "axes[0].imshow(x_train[0], cmap='gray')\n",
    "axes[0].axis('off')\n",
    "axes[0].set_title(\"Raw Data\")\n",
    "\n",
    "axes[1].imshow(x_train_augmented[0], cmap='gray')\n",
    "axes[1].axis('off')\n",
    "axes[1].set_title(\"Augmented Data\")\n",
    "\n",
    "plt.tight_layout()\n",
    "plt.show()"
   ]
  },
  {
   "cell_type": "markdown",
   "id": "938c47cf-a29a-465c-8b21-5f88d3a2272c",
   "metadata": {},
   "source": [
    "# Normal Model"
   ]
  },
  {
   "cell_type": "code",
   "execution_count": 7,
   "id": "ba2ae0a9-93f5-44ed-8694-849aa2d19a1f",
   "metadata": {},
   "outputs": [],
   "source": [
    "normal_model = models.Sequential([\n",
    "    layers.Flatten(input_shape=(28, 28)),\n",
    "    layers.Dense(128, activation='relu'),\n",
    "    layers.Dense(256, activation='relu'),\n",
    "    layers.Dense(10)\n",
    "])"
   ]
  },
  {
   "cell_type": "code",
   "execution_count": 8,
   "id": "eb56640c-89b4-4af3-8dea-535ea0c284bc",
   "metadata": {},
   "outputs": [],
   "source": [
    "normal_model.compile(loss=CategoricalCrossentropy(from_logits=True), optimizer=\"adam\", metrics=[\"accuracy\"])"
   ]
  },
  {
   "cell_type": "code",
   "execution_count": 9,
   "id": "02c9974f-563b-4f86-adce-2772c4d4aa97",
   "metadata": {},
   "outputs": [
    {
     "name": "stdout",
     "output_type": "stream",
     "text": [
      "Epoch 1/10\n",
      "1875/1875 [==============================] - 8s 4ms/step - loss: 0.2201 - accuracy: 0.9343\n",
      "Epoch 2/10\n",
      "1875/1875 [==============================] - 7s 4ms/step - loss: 0.0924 - accuracy: 0.9712\n",
      "Epoch 3/10\n",
      "1875/1875 [==============================] - 7s 4ms/step - loss: 0.0664 - accuracy: 0.9789\n",
      "Epoch 4/10\n",
      "1875/1875 [==============================] - 7s 4ms/step - loss: 0.0482 - accuracy: 0.9847\n",
      "Epoch 5/10\n",
      "1875/1875 [==============================] - 7s 4ms/step - loss: 0.0409 - accuracy: 0.9866\n",
      "Epoch 6/10\n",
      "1875/1875 [==============================] - 7s 4ms/step - loss: 0.0330 - accuracy: 0.9891\n",
      "Epoch 7/10\n",
      "1875/1875 [==============================] - 7s 4ms/step - loss: 0.0257 - accuracy: 0.9912\n",
      "Epoch 8/10\n",
      "1875/1875 [==============================] - 7s 4ms/step - loss: 0.0247 - accuracy: 0.9921\n",
      "Epoch 9/10\n",
      "1875/1875 [==============================] - 7s 4ms/step - loss: 0.0211 - accuracy: 0.9930\n",
      "Epoch 10/10\n",
      "1875/1875 [==============================] - 7s 4ms/step - loss: 0.0180 - accuracy: 0.9936\n"
     ]
    },
    {
     "data": {
      "text/plain": [
       "<keras.src.callbacks.History at 0x7f5b09f27490>"
      ]
     },
     "execution_count": 9,
     "metadata": {},
     "output_type": "execute_result"
    }
   ],
   "source": [
    "normal_model.fit(x_train, y_train, epochs=10, batch_size=32)"
   ]
  },
  {
   "cell_type": "markdown",
   "id": "1ab82e78-b92a-481e-8724-eb839aa369da",
   "metadata": {},
   "source": [
    "# Augmented Model"
   ]
  },
  {
   "cell_type": "code",
   "execution_count": 10,
   "id": "d0fcaa2d-9a4c-45a6-98af-2d6dd94b8c24",
   "metadata": {},
   "outputs": [],
   "source": [
    "augmented_model = models.Sequential([\n",
    "    layers.Flatten(input_shape=(28, 28)),\n",
    "    layers.Dense(128, activation='relu'),\n",
    "    layers.Dense(256, activation='relu'),\n",
    "    layers.Dense(10)\n",
    "])"
   ]
  },
  {
   "cell_type": "code",
   "execution_count": 11,
   "id": "ec3e9845-0517-4510-a0db-47213767498a",
   "metadata": {},
   "outputs": [],
   "source": [
    "augmented_model.compile(loss=CategoricalCrossentropy(from_logits=True), optimizer=\"adam\", metrics=[\"accuracy\"])"
   ]
  },
  {
   "cell_type": "code",
   "execution_count": 12,
   "id": "94ed430d-beb5-4fcb-9ca1-5315293057bf",
   "metadata": {},
   "outputs": [
    {
     "name": "stdout",
     "output_type": "stream",
     "text": [
      "Epoch 1/10\n",
      "1875/1875 [==============================] - 8s 4ms/step - loss: 0.2357 - accuracy: 0.9286\n",
      "Epoch 2/10\n",
      "1875/1875 [==============================] - 8s 4ms/step - loss: 0.0923 - accuracy: 0.9713\n",
      "Epoch 3/10\n",
      "1875/1875 [==============================] - 8s 4ms/step - loss: 0.0576 - accuracy: 0.9818\n",
      "Epoch 4/10\n",
      "1875/1875 [==============================] - 8s 4ms/step - loss: 0.0365 - accuracy: 0.9881\n",
      "Epoch 5/10\n",
      "1875/1875 [==============================] - 8s 4ms/step - loss: 0.0278 - accuracy: 0.9904\n",
      "Epoch 6/10\n",
      "1875/1875 [==============================] - 8s 4ms/step - loss: 0.0212 - accuracy: 0.9930\n",
      "Epoch 7/10\n",
      "1875/1875 [==============================] - 7s 4ms/step - loss: 0.0176 - accuracy: 0.9942\n",
      "Epoch 8/10\n",
      "1875/1875 [==============================] - 8s 4ms/step - loss: 0.0174 - accuracy: 0.9942\n",
      "Epoch 9/10\n",
      "1875/1875 [==============================] - 7s 4ms/step - loss: 0.0156 - accuracy: 0.9950\n",
      "Epoch 10/10\n",
      "1875/1875 [==============================] - 7s 4ms/step - loss: 0.0121 - accuracy: 0.9959\n"
     ]
    },
    {
     "data": {
      "text/plain": [
       "<keras.src.callbacks.History at 0x7f5a88305d20>"
      ]
     },
     "execution_count": 12,
     "metadata": {},
     "output_type": "execute_result"
    }
   ],
   "source": [
    "augmented_model.fit(x_train_augmented, y_train, epochs=10, batch_size=32)"
   ]
  },
  {
   "cell_type": "markdown",
   "id": "90f642a3-93d8-4e1f-9359-9daebd19c48d",
   "metadata": {},
   "source": [
    "# Fast Gradient Method Attack"
   ]
  },
  {
   "cell_type": "code",
   "execution_count": 14,
   "id": "830bd155-a2ef-4cd3-bd3b-584cc8c3c9be",
   "metadata": {},
   "outputs": [],
   "source": [
    "art_model = TensorFlowV2Classifier(\n",
    "    model=normal_model, \n",
    "    loss_object=CategoricalCrossentropy(from_logits=True), \n",
    "    nb_classes=10, \n",
    "    input_shape=(28, 28), \n",
    "    clip_values=(0, 1)\n",
    ")"
   ]
  },
  {
   "cell_type": "code",
   "execution_count": 15,
   "id": "8755af7e-1e27-41f5-8bdd-b4660def7a23",
   "metadata": {},
   "outputs": [],
   "source": [
    "fgsm = FastGradientMethod(estimator=art_model, eps=0.1)"
   ]
  },
  {
   "cell_type": "code",
   "execution_count": 16,
   "id": "aa433a87-63cd-47de-9348-af692143d1d1",
   "metadata": {},
   "outputs": [],
   "source": [
    "adv_test = fgsm.generate(x=x_test)"
   ]
  },
  {
   "cell_type": "markdown",
   "id": "b7834762-c078-448b-af7f-268ae42ed450",
   "metadata": {},
   "source": [
    "# Results"
   ]
  },
  {
   "cell_type": "code",
   "execution_count": 17,
   "id": "378d4c76-e5f1-44f2-a22a-70b49be887eb",
   "metadata": {},
   "outputs": [],
   "source": [
    "y_test = np.argmax(y_test, axis=1)"
   ]
  },
  {
   "cell_type": "code",
   "execution_count": 18,
   "id": "c0e80dd4-5d68-495a-9172-3be3ffe8678f",
   "metadata": {},
   "outputs": [
    {
     "name": "stdout",
     "output_type": "stream",
     "text": [
      "313/313 [==============================] - 1s 2ms/step\n"
     ]
    }
   ],
   "source": [
    "safe_preds = np.argmax(normal_model.predict(adv_test), axis=1)"
   ]
  },
  {
   "cell_type": "code",
   "execution_count": 19,
   "id": "b6224edc-1fbf-42a5-95df-ec8c40a17f74",
   "metadata": {},
   "outputs": [
    {
     "name": "stdout",
     "output_type": "stream",
     "text": [
      "313/313 [==============================] - 0s 1ms/step\n"
     ]
    }
   ],
   "source": [
    "augmented_preds = np.argmax(augmented_model.predict(adv_test), axis=1)"
   ]
  },
  {
   "cell_type": "code",
   "execution_count": 20,
   "id": "fc8efa0a-5252-4311-aa6c-801deb31776f",
   "metadata": {},
   "outputs": [
    {
     "name": "stdout",
     "output_type": "stream",
     "text": [
      "Safe Model Accuracy Score on FSM Data: 0.3368\n",
      "Augmented Model Accuracy Score on FSM Data: 0.737\n"
     ]
    }
   ],
   "source": [
    "print(\"Safe Model Accuracy Score on FSM Data:\", accuracy_score(y_test, safe_preds))\n",
    "print(\"Augmented Model Accuracy Score on FSM Data:\", accuracy_score(y_test, augmented_preds))"
   ]
  },
  {
   "cell_type": "code",
   "execution_count": null,
   "id": "4cfd0912-0716-47d5-a8ba-d3a711d67c5d",
   "metadata": {},
   "outputs": [],
   "source": []
  }
 ],
 "metadata": {
  "kernelspec": {
   "display_name": "Python 3 (ipykernel)",
   "language": "python",
   "name": "python3"
  },
  "language_info": {
   "codemirror_mode": {
    "name": "ipython",
    "version": 3
   },
   "file_extension": ".py",
   "mimetype": "text/x-python",
   "name": "python",
   "nbconvert_exporter": "python",
   "pygments_lexer": "ipython3",
   "version": "3.10.12"
  }
 },
 "nbformat": 4,
 "nbformat_minor": 5
}

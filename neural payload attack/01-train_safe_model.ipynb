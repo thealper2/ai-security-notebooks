{
 "cells": [
  {
   "cell_type": "markdown",
   "id": "43d3efb5-f792-4ee7-a23e-c5d8a06d1052",
   "metadata": {},
   "source": [
    "# Import Libraries"
   ]
  },
  {
   "cell_type": "code",
   "execution_count": 1,
   "id": "37cbc93d-8372-49ea-8b9a-faaef49f97f2",
   "metadata": {},
   "outputs": [],
   "source": [
    "import numpy as np\n",
    "import pandas as pd\n",
    "import matplotlib.pyplot as plt\n",
    "import tensorflow as tf\n",
    "from tensorflow.keras.datasets import cifar10\n",
    "from tensorflow.keras.layers import Conv2D, MaxPooling2D, Flatten, Dense, Input\n",
    "from tensorflow.keras.models import Sequential\n",
    "from tensorflow.keras.utils import to_categorical"
   ]
  },
  {
   "cell_type": "markdown",
   "id": "8e0a13a6-fbbc-4a27-b842-ecc5d9a0e525",
   "metadata": {},
   "source": [
    "# Load Data"
   ]
  },
  {
   "cell_type": "code",
   "execution_count": 2,
   "id": "1fa16d90-411e-455b-84f7-c4f05a94dceb",
   "metadata": {},
   "outputs": [],
   "source": [
    "(x_train, y_train), (x_test, y_test) = cifar10.load_data()"
   ]
  },
  {
   "cell_type": "code",
   "execution_count": 3,
   "id": "5ea9a5ed-68b0-4d94-bbe4-15421cba4c5a",
   "metadata": {},
   "outputs": [],
   "source": [
    "x_train = x_train.astype('float32') / 255\n",
    "x_test = x_test.astype('float32') / 255"
   ]
  },
  {
   "cell_type": "code",
   "execution_count": 4,
   "id": "046aebe7-ee13-4684-bd2c-6b258afa2b99",
   "metadata": {},
   "outputs": [],
   "source": [
    "y_train = to_categorical(y_train, num_classes=10)\n",
    "y_test = to_categorical(y_test, num_classes=10)"
   ]
  },
  {
   "cell_type": "markdown",
   "id": "c0172226-1801-48b3-a44d-34c76aa5abc6",
   "metadata": {},
   "source": [
    "# Model"
   ]
  },
  {
   "cell_type": "code",
   "execution_count": 5,
   "id": "ee2359b4-7964-46c6-b798-3f02df6ab508",
   "metadata": {},
   "outputs": [],
   "source": [
    "model = Sequential([\n",
    "    Input(shape=(32, 32, 3)),\n",
    "    Conv2D(32, (3, 3), activation=\"relu\", padding=\"same\"),\n",
    "    MaxPooling2D(pool_size=(2, 2)),\n",
    "    \n",
    "    Conv2D(64, (3, 3), activation=\"relu\", padding=\"same\"),\n",
    "    MaxPooling2D(pool_size=(2, 2)),\n",
    "    \n",
    "    Flatten(),\n",
    "    \n",
    "    Dense(512, activation=\"relu\"),\n",
    "    Dense(10, activation=\"softmax\")\n",
    "], name=\"SafeModel\")"
   ]
  },
  {
   "cell_type": "code",
   "execution_count": 6,
   "id": "b6f80748-4ea3-4803-a645-8dde305b03db",
   "metadata": {},
   "outputs": [],
   "source": [
    "model.compile(optimizer='adam', loss='categorical_crossentropy', metrics=['accuracy'])"
   ]
  },
  {
   "cell_type": "markdown",
   "id": "f46e9904-aa1f-49a2-a7d1-795907991c95",
   "metadata": {},
   "source": [
    "# Train"
   ]
  },
  {
   "cell_type": "code",
   "execution_count": 7,
   "id": "ba27ed8b-1ab0-4090-a3ea-bd0941199788",
   "metadata": {},
   "outputs": [
    {
     "name": "stdout",
     "output_type": "stream",
     "text": [
      "Epoch 1/10\n",
      "391/391 [==============================] - 5s 8ms/step - loss: 1.4060 - accuracy: 0.4987 - val_loss: 1.1403 - val_accuracy: 0.5941\n",
      "Epoch 2/10\n",
      "391/391 [==============================] - 3s 7ms/step - loss: 1.0383 - accuracy: 0.6394 - val_loss: 1.0039 - val_accuracy: 0.6504\n",
      "Epoch 3/10\n",
      "391/391 [==============================] - 3s 8ms/step - loss: 0.8909 - accuracy: 0.6910 - val_loss: 0.9434 - val_accuracy: 0.6730\n",
      "Epoch 4/10\n",
      "391/391 [==============================] - 3s 7ms/step - loss: 0.7910 - accuracy: 0.7245 - val_loss: 0.8592 - val_accuracy: 0.7045\n",
      "Epoch 5/10\n",
      "391/391 [==============================] - 3s 7ms/step - loss: 0.6917 - accuracy: 0.7611 - val_loss: 0.8207 - val_accuracy: 0.7179\n",
      "Epoch 6/10\n",
      "391/391 [==============================] - 3s 7ms/step - loss: 0.6058 - accuracy: 0.7916 - val_loss: 0.8255 - val_accuracy: 0.7217\n",
      "Epoch 7/10\n",
      "391/391 [==============================] - 3s 7ms/step - loss: 0.5233 - accuracy: 0.8188 - val_loss: 0.8518 - val_accuracy: 0.7179\n",
      "Epoch 8/10\n",
      "391/391 [==============================] - 3s 7ms/step - loss: 0.4358 - accuracy: 0.8502 - val_loss: 0.8344 - val_accuracy: 0.7275\n",
      "Epoch 9/10\n",
      "391/391 [==============================] - 3s 7ms/step - loss: 0.3550 - accuracy: 0.8798 - val_loss: 0.8364 - val_accuracy: 0.7374\n",
      "Epoch 10/10\n",
      "391/391 [==============================] - 3s 7ms/step - loss: 0.2691 - accuracy: 0.9114 - val_loss: 0.8897 - val_accuracy: 0.7395\n"
     ]
    }
   ],
   "source": [
    "history = model.fit(x_train, y_train, batch_size=128, epochs=10, validation_data=(x_test, y_test))"
   ]
  },
  {
   "cell_type": "markdown",
   "id": "fdebeda0-d21b-4a1d-ba58-760619555756",
   "metadata": {},
   "source": [
    "# Test"
   ]
  },
  {
   "cell_type": "code",
   "execution_count": 8,
   "id": "ce119179-f259-4f84-8c05-a4d6554c9608",
   "metadata": {},
   "outputs": [
    {
     "name": "stdout",
     "output_type": "stream",
     "text": [
      "313/313 [==============================] - 1s 4ms/step - loss: 0.8897 - accuracy: 0.7395\n",
      "Test accuracy: 0.7394999861717224\n"
     ]
    }
   ],
   "source": [
    "test_loss, test_acc = model.evaluate(x_test, y_test)\n",
    "print('Test accuracy:', test_acc)"
   ]
  },
  {
   "cell_type": "markdown",
   "id": "e7b5d252-406b-497d-bbed-c5e3070dd616",
   "metadata": {},
   "source": [
    "# Results"
   ]
  },
  {
   "cell_type": "code",
   "execution_count": 9,
   "id": "e5b9944f-f2c5-491a-a0ab-585ccb6c731e",
   "metadata": {},
   "outputs": [
    {
     "data": {
      "text/html": [
       "<div>\n",
       "<style scoped>\n",
       "    .dataframe tbody tr th:only-of-type {\n",
       "        vertical-align: middle;\n",
       "    }\n",
       "\n",
       "    .dataframe tbody tr th {\n",
       "        vertical-align: top;\n",
       "    }\n",
       "\n",
       "    .dataframe thead th {\n",
       "        text-align: right;\n",
       "    }\n",
       "</style>\n",
       "<table border=\"1\" class=\"dataframe\">\n",
       "  <thead>\n",
       "    <tr style=\"text-align: right;\">\n",
       "      <th></th>\n",
       "      <th>loss</th>\n",
       "      <th>accuracy</th>\n",
       "      <th>val_loss</th>\n",
       "      <th>val_accuracy</th>\n",
       "    </tr>\n",
       "  </thead>\n",
       "  <tbody>\n",
       "    <tr>\n",
       "      <th>0</th>\n",
       "      <td>1.406042</td>\n",
       "      <td>0.49872</td>\n",
       "      <td>1.140324</td>\n",
       "      <td>0.5941</td>\n",
       "    </tr>\n",
       "    <tr>\n",
       "      <th>1</th>\n",
       "      <td>1.038270</td>\n",
       "      <td>0.63944</td>\n",
       "      <td>1.003860</td>\n",
       "      <td>0.6504</td>\n",
       "    </tr>\n",
       "    <tr>\n",
       "      <th>2</th>\n",
       "      <td>0.890873</td>\n",
       "      <td>0.69098</td>\n",
       "      <td>0.943379</td>\n",
       "      <td>0.6730</td>\n",
       "    </tr>\n",
       "    <tr>\n",
       "      <th>3</th>\n",
       "      <td>0.791021</td>\n",
       "      <td>0.72446</td>\n",
       "      <td>0.859237</td>\n",
       "      <td>0.7045</td>\n",
       "    </tr>\n",
       "    <tr>\n",
       "      <th>4</th>\n",
       "      <td>0.691705</td>\n",
       "      <td>0.76110</td>\n",
       "      <td>0.820749</td>\n",
       "      <td>0.7179</td>\n",
       "    </tr>\n",
       "  </tbody>\n",
       "</table>\n",
       "</div>"
      ],
      "text/plain": [
       "       loss  accuracy  val_loss  val_accuracy\n",
       "0  1.406042   0.49872  1.140324        0.5941\n",
       "1  1.038270   0.63944  1.003860        0.6504\n",
       "2  0.890873   0.69098  0.943379        0.6730\n",
       "3  0.791021   0.72446  0.859237        0.7045\n",
       "4  0.691705   0.76110  0.820749        0.7179"
      ]
     },
     "execution_count": 9,
     "metadata": {},
     "output_type": "execute_result"
    }
   ],
   "source": [
    "history_df = pd.DataFrame(history.history)\n",
    "history_df.head()"
   ]
  },
  {
   "cell_type": "code",
   "execution_count": 10,
   "id": "5c7d8618-e0d4-4f82-a2f0-c6ca355f3e75",
   "metadata": {},
   "outputs": [
    {
     "data": {
      "image/png": "[encoded data removed]",
      "text/plain": [
       "<Figure size 640x480 with 1 Axes>"
      ]
     },
     "metadata": {},
     "output_type": "display_data"
    }
   ],
   "source": [
    "plt.figure()\n",
    "plt.plot(history.history[\"accuracy\"])\n",
    "plt.plot(history.history[\"val_accuracy\"])\n",
    "plt.xlabel(\"Epoch\")\n",
    "plt.ylabel(\"Accuracy\")\n",
    "plt.legend([\"train\", \"valid\"])\n",
    "plt.show()"
   ]
  },
  {
   "cell_type": "code",
   "execution_count": 11,
   "id": "7bf13b14-1f4d-48da-925b-780b4adbf8ed",
   "metadata": {},
   "outputs": [
    {
     "data": {
      "image/png": "[encoded data removed]",
      "text/plain": [
       "<Figure size 640x480 with 1 Axes>"
      ]
     },
     "metadata": {},
     "output_type": "display_data"
    }
   ],
   "source": [
    "plt.figure()\n",
    "plt.plot(history.history[\"loss\"])\n",
    "plt.plot(history.history[\"val_loss\"])\n",
    "plt.xlabel(\"Epoch\")\n",
    "plt.ylabel(\"Loss\")\n",
    "plt.legend([\"train\", \"valid\"])\n",
    "plt.show()"
   ]
  },
  {
   "cell_type": "markdown",
   "id": "3591f150-8bba-4255-aa62-e2035fe43d90",
   "metadata": {},
   "source": [
    "# Save"
   ]
  },
  {
   "cell_type": "code",
   "execution_count": 12,
   "id": "e3710751-22e0-4142-8e0c-10833bfd1835",
   "metadata": {},
   "outputs": [
    {
     "name": "stderr",
     "output_type": "stream",
     "text": [
      "/home/alper/.local/lib/python3.10/site-packages/keras/src/engine/training.py:3000: UserWarning: You are saving your model as an HDF5 file via `model.save()`. This file format is considered legacy. We recommend using instead the native Keras format, e.g. `model.save('my_model.keras')`.\n",
      "  saving_api.save_model(\n"
     ]
    }
   ],
   "source": [
    "safe_model_path = \"./models/safe_model.h5\"\n",
    "model.save(safe_model_path)"
   ]
  },
  {
   "cell_type": "code",
   "execution_count": null,
   "id": "5fb497a9-480b-4032-82df-65f9d10fd78b",
   "metadata": {},
   "outputs": [],
   "source": []
  },
  {
   "cell_type": "code",
   "execution_count": null,
   "id": "5306397b-2c9c-4ab1-b6fe-d5d99c9fb739",
   "metadata": {},
   "outputs": [],
   "source": []
  }
 ],
 "metadata": {
  "kernelspec": {
   "display_name": "Python 3 (ipykernel)",
   "language": "python",
   "name": "python3"
  },
  "language_info": {
   "codemirror_mode": {
    "name": "ipython",
    "version": 3
   },
   "file_extension": ".py",
   "mimetype": "text/x-python",
   "name": "python",
   "nbconvert_exporter": "python",
   "pygments_lexer": "ipython3",
   "version": "3.10.12"
  }
 },
 "nbformat": 4,
 "nbformat_minor": 5
}

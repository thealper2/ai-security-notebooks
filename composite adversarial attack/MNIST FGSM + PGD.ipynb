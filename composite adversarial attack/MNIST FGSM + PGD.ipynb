{
 "cells": [
  {
   "cell_type": "markdown",
   "id": "cabc54b8-aea4-4abc-a31c-b37990e0441c",
   "metadata": {},
   "source": [
    "# Import Libraries"
   ]
  },
  {
   "cell_type": "code",
   "execution_count": 41,
   "id": "4f4b4c3c-4d65-4f9f-bbca-a1813cacfdaf",
   "metadata": {},
   "outputs": [],
   "source": [
    "import numpy as np\n",
    "import matplotlib.pyplot as plt\n",
    "\n",
    "from tensorflow.keras import layers, models\n",
    "from tensorflow.keras.datasets import mnist\n",
    "from tensorflow.keras.optimizers import Adam\n",
    "from tensorflow.keras.losses import SparseCategoricalCrossentropy\n",
    "from tensorflow.keras.utils import to_categorical\n",
    "\n",
    "from sklearn.metrics import accuracy_score, precision_score, recall_score, f1_score\n",
    "\n",
    "from art.utils import load_mnist\n",
    "from art.estimators.classification import TensorFlowV2Classifier\n",
    "from art.attacks.evasion import FastGradientMethod, ProjectedGradientDescent"
   ]
  },
  {
   "cell_type": "markdown",
   "id": "a1a03f9f-b399-4476-8c6a-be10c6fec6b3",
   "metadata": {},
   "source": [
    "# Load Data"
   ]
  },
  {
   "cell_type": "code",
   "execution_count": 42,
   "id": "449b7141-8fe7-4195-817a-d20d8408171a",
   "metadata": {},
   "outputs": [],
   "source": [
    "(x_train, y_train), (x_test, y_test), min_, max_ = load_mnist()"
   ]
  },
  {
   "cell_type": "code",
   "execution_count": 43,
   "id": "ef7e27b1-5637-45e1-930e-3b52daeeedf7",
   "metadata": {},
   "outputs": [],
   "source": [
    "x_train = x_train.reshape(x_train.shape[0], -1)\n",
    "x_test = x_test.reshape(x_test.shape[0], -1)\n",
    "\n",
    "y_train = np.argmax(y_train, axis=1)\n",
    "y_test = np.argmax(y_test, axis=1)\n",
    "\n",
    "n_samples_max = 100\n",
    "x_train = x_train[:n_samples_max]\n",
    "y_train = y_train[:n_samples_max]\n",
    "x_test = x_test[:n_samples_max]\n",
    "y_test = y_test[:n_samples_max]"
   ]
  },
  {
   "cell_type": "markdown",
   "id": "41deab87-29ab-4041-a890-50cb78d9f488",
   "metadata": {},
   "source": [
    "# Model"
   ]
  },
  {
   "cell_type": "code",
   "execution_count": 82,
   "id": "ca58848a-92e5-4a62-94fc-569f0a44f9a9",
   "metadata": {},
   "outputs": [],
   "source": [
    "model = models.Sequential([\n",
    "    layers.Dense(64, activation='relu'),\n",
    "    layers.Dense(128, activation='relu'),\n",
    "    layers.Dense(256, activation='relu'),\n",
    "    layers.Dense(10, activation='softmax')\n",
    "])"
   ]
  },
  {
   "cell_type": "code",
   "execution_count": 83,
   "id": "dc385cf0-6281-4fb4-be9a-2afd4514e8b9",
   "metadata": {},
   "outputs": [],
   "source": [
    "model.compile(loss=SparseCategoricalCrossentropy(from_logits=True), optimizer=\"adam\", metrics=[\"accuracy\"])"
   ]
  },
  {
   "cell_type": "markdown",
   "id": "b1fb7bb2-53dc-4a0d-8b1a-98f754f55a7f",
   "metadata": {},
   "source": [
    "# Train"
   ]
  },
  {
   "cell_type": "code",
   "execution_count": 84,
   "id": "ecf93b66-2226-49cf-b94b-77c0e7a50c19",
   "metadata": {},
   "outputs": [
    {
     "name": "stdout",
     "output_type": "stream",
     "text": [
      "Epoch 1/10\n"
     ]
    },
    {
     "name": "stderr",
     "output_type": "stream",
     "text": [
      "/home/alper/.local/lib/python3.10/site-packages/keras/src/backend.py:5714: UserWarning: \"`sparse_categorical_crossentropy` received `from_logits=True`, but the `output` argument was produced by a Softmax activation and thus does not represent logits. Was this intended?\n",
      "  output, from_logits = _get_logits(\n"
     ]
    },
    {
     "name": "stdout",
     "output_type": "stream",
     "text": [
      "4/4 [==============================] - 1s 6ms/step - loss: 2.2690 - accuracy: 0.1700\n",
      "Epoch 2/10\n",
      "4/4 [==============================] - 0s 6ms/step - loss: 2.0648 - accuracy: 0.4300\n",
      "Epoch 3/10\n",
      "4/4 [==============================] - 0s 11ms/step - loss: 1.8312 - accuracy: 0.5000\n",
      "Epoch 4/10\n",
      "4/4 [==============================] - 0s 7ms/step - loss: 1.5733 - accuracy: 0.6600\n",
      "Epoch 5/10\n",
      "4/4 [==============================] - 0s 7ms/step - loss: 1.3012 - accuracy: 0.7700\n",
      "Epoch 6/10\n",
      "4/4 [==============================] - 0s 7ms/step - loss: 1.0149 - accuracy: 0.7700\n",
      "Epoch 7/10\n",
      "4/4 [==============================] - 0s 6ms/step - loss: 0.7644 - accuracy: 0.8300\n",
      "Epoch 8/10\n",
      "4/4 [==============================] - 0s 7ms/step - loss: 0.5975 - accuracy: 0.9000\n",
      "Epoch 9/10\n",
      "4/4 [==============================] - 0s 6ms/step - loss: 0.4463 - accuracy: 0.9500\n",
      "Epoch 10/10\n",
      "4/4 [==============================] - 0s 6ms/step - loss: 0.3148 - accuracy: 0.9700\n"
     ]
    },
    {
     "data": {
      "text/plain": [
       "<keras.src.callbacks.History at 0x7f9787dd73a0>"
      ]
     },
     "execution_count": 84,
     "metadata": {},
     "output_type": "execute_result"
    }
   ],
   "source": [
    "model.fit(x_train, y_train, epochs=10, batch_size=32)"
   ]
  },
  {
   "cell_type": "markdown",
   "id": "9e4fd6e9-88f5-406a-99ff-997859595e80",
   "metadata": {},
   "source": [
    "# 1. Attack: Fast Gradient Method"
   ]
  },
  {
   "cell_type": "code",
   "execution_count": 85,
   "id": "309d9831-e3f1-4cad-8355-6c7d3e76f5de",
   "metadata": {},
   "outputs": [],
   "source": [
    "art_model = TensorFlowV2Classifier(model=model, loss_object=SparseCategoricalCrossentropy(from_logits=True), nb_classes=10, input_shape=(784,), clip_values=(0, 1))"
   ]
  },
  {
   "cell_type": "code",
   "execution_count": 86,
   "id": "13b2633d-fa86-4ca9-b9d0-4ab0d206f056",
   "metadata": {},
   "outputs": [],
   "source": [
    "fgsm = FastGradientMethod(estimator=art_model, eps=0.1)"
   ]
  },
  {
   "cell_type": "markdown",
   "id": "a68cc37e-f264-4178-a401-e4fa30c1f331",
   "metadata": {},
   "source": [
    "# 2. Attack: Projected Gradient Descent"
   ]
  },
  {
   "cell_type": "code",
   "execution_count": 87,
   "id": "b3ea49b5-39c7-4504-a161-0b8cb21fc574",
   "metadata": {},
   "outputs": [],
   "source": [
    "pgd = ProjectedGradientDescent(estimator=art_model, targeted=False, eps=0.1, eps_step=0.01, max_iter=40)"
   ]
  },
  {
   "cell_type": "code",
   "execution_count": 88,
   "id": "5fe28ecc-e893-4ac7-9abf-0d92e577ad34",
   "metadata": {},
   "outputs": [],
   "source": [
    "x_test_adv_fgsm = fgsm.generate(x_test)"
   ]
  },
  {
   "cell_type": "code",
   "execution_count": 89,
   "id": "05337f8a-285b-4b2e-b67c-cdeea6601b32",
   "metadata": {},
   "outputs": [
    {
     "data": {
      "application/vnd.jupyter.widget-view+json": {
       "model_id": "",
       "version_major": 2,
       "version_minor": 0
      },
      "text/plain": [
       "PGD - Batches: 0it [00:00, ?it/s]"
      ]
     },
     "metadata": {},
     "output_type": "display_data"
    }
   ],
   "source": [
    "x_test_adv_composite = pgd.generate(x=x_test_adv_fgsm)"
   ]
  },
  {
   "cell_type": "markdown",
   "id": "45b35b4f-69e3-42c0-a824-e0c200f6b6da",
   "metadata": {},
   "source": [
    "# Results"
   ]
  },
  {
   "cell_type": "code",
   "execution_count": 90,
   "id": "6dbb96e2-ad7b-425e-8e6b-dad1a3e4c65a",
   "metadata": {},
   "outputs": [],
   "source": [
    "safe_preds = np.argmax(art_model.predict(x_test), axis=1)"
   ]
  },
  {
   "cell_type": "code",
   "execution_count": 91,
   "id": "9277ebd8-772f-4252-a945-f28e48eb5545",
   "metadata": {},
   "outputs": [],
   "source": [
    "safe_model_scores = {\n",
    "    'ACC': accuracy_score(y_test, safe_preds),\n",
    "    'PREC': precision_score(y_test, safe_preds, average='weighted'),\n",
    "    'REC': recall_score(y_test, safe_preds, average='weighted'),\n",
    "    'F1': f1_score(y_test, safe_preds, average='weighted')\n",
    "}"
   ]
  },
  {
   "cell_type": "code",
   "execution_count": 92,
   "id": "5f01d6ab-bb0e-4217-a4c6-7a2811877bdd",
   "metadata": {},
   "outputs": [
    {
     "data": {
      "text/plain": [
       "{'ACC': 0.63,\n",
       " 'PREC': 0.7226980056980057,\n",
       " 'REC': 0.63,\n",
       " 'F1': 0.6294307903998306}"
      ]
     },
     "execution_count": 92,
     "metadata": {},
     "output_type": "execute_result"
    }
   ],
   "source": [
    "safe_model_scores"
   ]
  },
  {
   "cell_type": "code",
   "execution_count": 93,
   "id": "b514ed9f-2dd9-4dc7-8699-5f0223571ff0",
   "metadata": {},
   "outputs": [],
   "source": [
    "adv_preds = np.argmax(art_model.predict(x_test_adv_composite), axis=1)"
   ]
  },
  {
   "cell_type": "code",
   "execution_count": 94,
   "id": "fac7b9ad-7238-4efb-b744-1e15926586da",
   "metadata": {},
   "outputs": [],
   "source": [
    "adv_model_scores = {\n",
    "    'ACC': accuracy_score(y_test, adv_preds),\n",
    "    'PREC': precision_score(y_test, adv_preds, average='weighted'),\n",
    "    'REC': recall_score(y_test, adv_preds, average='weighted'),\n",
    "    'F1': f1_score(y_test, adv_preds, average='weighted')\n",
    "}"
   ]
  },
  {
   "cell_type": "code",
   "execution_count": 95,
   "id": "edbbebfc-72f6-4753-85dd-c146c7a06c1c",
   "metadata": {},
   "outputs": [
    {
     "data": {
      "text/plain": [
       "{'ACC': 0.31,\n",
       " 'PREC': 0.39587678253119435,\n",
       " 'REC': 0.31,\n",
       " 'F1': 0.3225307285307285}"
      ]
     },
     "execution_count": 95,
     "metadata": {},
     "output_type": "execute_result"
    }
   ],
   "source": [
    "adv_model_scores"
   ]
  },
  {
   "cell_type": "code",
   "execution_count": 101,
   "id": "2a7c635f-065c-4ff1-a704-81ccf599a5d2",
   "metadata": {},
   "outputs": [
    {
     "data": {
      "image/png": "[encoded data removed]",
      "text/plain": [
       "<Figure size 1000x600 with 16 Axes>"
      ]
     },
     "metadata": {},
     "output_type": "display_data"
    }
   ],
   "source": [
    "fig, axes = plt.subplots(nrows=4, ncols=4, figsize=(10, 6))\n",
    "random_index = np.random.randint(0, len(x_test_adv_composite), 16)\n",
    "\n",
    "for i, ax in enumerate(axes.ravel()):\n",
    "    ax.imshow(x_test_adv_composite[random_index[i]].reshape(28, 28), cmap='gray')\n",
    "    ax.axis('off')\n",
    "\n",
    "    if y_test[random_index[i]] == adv_preds[random_index[i]]:\n",
    "        color = 'green'\n",
    "    else:\n",
    "        color = 'red'\n",
    "\n",
    "    ax.set_title(\n",
    "        f'True: {y_test[random_index[i]]}\\nPredicted: {adv_preds[random_index[i]]}',\n",
    "        color=color\n",
    "    )\n",
    "\n",
    "plt.tight_layout()\n",
    "plt.show()"
   ]
  },
  {
   "cell_type": "code",
   "execution_count": null,
   "id": "43b70148-04f2-424d-9580-2e7ac4c993e7",
   "metadata": {},
   "outputs": [],
   "source": []
  }
 ],
 "metadata": {
  "kernelspec": {
   "display_name": "Python 3 (ipykernel)",
   "language": "python",
   "name": "python3"
  },
  "language_info": {
   "codemirror_mode": {
    "name": "ipython",
    "version": 3
   },
   "file_extension": ".py",
   "mimetype": "text/x-python",
   "name": "python",
   "nbconvert_exporter": "python",
   "pygments_lexer": "ipython3",
   "version": "3.10.12"
  }
 },
 "nbformat": 4,
 "nbformat_minor": 5
}

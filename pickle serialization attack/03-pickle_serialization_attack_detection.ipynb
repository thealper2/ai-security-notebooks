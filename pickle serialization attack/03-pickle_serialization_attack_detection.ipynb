{
 "cells": [
  {
   "cell_type": "markdown",
   "id": "5b8025fe-ffff-49b1-a3c1-8870f3590887",
   "metadata": {},
   "source": [
    "# Import Libraries"
   ]
  },
  {
   "cell_type": "code",
   "execution_count": 1,
   "id": "ebb1e1d8-af30-4bec-93e2-3666b1553be4",
   "metadata": {},
   "outputs": [],
   "source": [
    "import hashlib"
   ]
  },
  {
   "cell_type": "markdown",
   "id": "9ab3c814-6389-4cd0-88ef-6ad0dc0ba06c",
   "metadata": {},
   "source": [
    "# Load Safe Model"
   ]
  },
  {
   "cell_type": "code",
   "execution_count": 7,
   "id": "683f9eb1-c723-4d06-814a-dcf563076aba",
   "metadata": {},
   "outputs": [],
   "source": [
    "safe_model_path = \"./models/safe_model.pkl\"\n",
    "\n",
    "with open(safe_model_path, \"rb\") as file:\n",
    "    safe_model = file.read()\n",
    "\n",
    "file.close()"
   ]
  },
  {
   "cell_type": "markdown",
   "id": "badd8dd5-cf88-4004-9480-f49d5a6a3a2f",
   "metadata": {},
   "source": [
    "# Calculate Safe Model Hash"
   ]
  },
  {
   "cell_type": "code",
   "execution_count": 13,
   "id": "f5a32328-a760-433f-8187-f15f7e46e075",
   "metadata": {},
   "outputs": [],
   "source": [
    "hash_object_safe = hashlib.sha256()"
   ]
  },
  {
   "cell_type": "code",
   "execution_count": 14,
   "id": "13748dae-f85f-45ce-9326-07ca3bc711a4",
   "metadata": {},
   "outputs": [],
   "source": [
    "hash_object_safe.update(safe_model)"
   ]
  },
  {
   "cell_type": "code",
   "execution_count": 15,
   "id": "cc83a12f-f822-46c5-8906-c74fe1139180",
   "metadata": {},
   "outputs": [],
   "source": [
    "expected_hash_safe = hash_object_safe.hexdigest()"
   ]
  },
  {
   "cell_type": "markdown",
   "id": "86f5c282-f26a-4cf8-adcb-d421dd96fad7",
   "metadata": {},
   "source": [
    "# Load Modified Model"
   ]
  },
  {
   "cell_type": "code",
   "execution_count": 16,
   "id": "26f1a226-b09b-40d5-b5bf-66db7899797f",
   "metadata": {},
   "outputs": [],
   "source": [
    "modified_model_path = \"./models/modified_model.pkl\"\n",
    "\n",
    "with open(modified_model_path, \"rb\") as file:\n",
    "    modified_model = file.read()\n",
    "\n",
    "file.close()"
   ]
  },
  {
   "cell_type": "markdown",
   "id": "c5a9a4d5-404b-402d-a3ee-a624536b8336",
   "metadata": {},
   "source": [
    "# Calculate Modified Model Hash"
   ]
  },
  {
   "cell_type": "code",
   "execution_count": 17,
   "id": "c7fba216-9934-4c05-9e45-5e6e550f3d4b",
   "metadata": {},
   "outputs": [],
   "source": [
    "hash_object_modified = hashlib.sha256()"
   ]
  },
  {
   "cell_type": "code",
   "execution_count": 18,
   "id": "7617d56c-8f98-4d32-90aa-9fb7b540a787",
   "metadata": {},
   "outputs": [],
   "source": [
    "hash_object_modified.update(modified_model)"
   ]
  },
  {
   "cell_type": "code",
   "execution_count": 19,
   "id": "cf7d0dd4-a6b0-4d33-b537-4daf8d97d8c6",
   "metadata": {},
   "outputs": [],
   "source": [
    "hash_modified = hash_object_modified.hexdigest()"
   ]
  },
  {
   "cell_type": "markdown",
   "id": "652671dc-48e8-4e21-a2c0-2acd51a20d06",
   "metadata": {},
   "source": [
    "# Comparison"
   ]
  },
  {
   "cell_type": "code",
   "execution_count": 20,
   "id": "9ccbc211-d7a9-4695-bf13-a5dfe50912bd",
   "metadata": {},
   "outputs": [
    {
     "name": "stdout",
     "output_type": "stream",
     "text": [
      "Model integrity compromised\n"
     ]
    }
   ],
   "source": [
    "if hash_modified != expected_hash_safe:\n",
    "    print(\"Model integrity compromised\")"
   ]
  },
  {
   "cell_type": "code",
   "execution_count": null,
   "id": "5b4f9ebb-8607-49ea-9baf-d41a2fa2fcf9",
   "metadata": {},
   "outputs": [],
   "source": []
  }
 ],
 "metadata": {
  "kernelspec": {
   "display_name": "Python 3 (ipykernel)",
   "language": "python",
   "name": "python3"
  },
  "language_info": {
   "codemirror_mode": {
    "name": "ipython",
    "version": 3
   },
   "file_extension": ".py",
   "mimetype": "text/x-python",
   "name": "python",
   "nbconvert_exporter": "python",
   "pygments_lexer": "ipython3",
   "version": "3.10.12"
  }
 },
 "nbformat": 4,
 "nbformat_minor": 5
}

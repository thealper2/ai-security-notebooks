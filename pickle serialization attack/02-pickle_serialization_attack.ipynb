{
 "cells": [
  {
   "cell_type": "markdown",
   "id": "d4bec53b-ede2-4d7c-8f23-8cae4ec616f5",
   "metadata": {},
   "source": [
    "# Import Libraries"
   ]
  },
  {
   "cell_type": "code",
   "execution_count": 1,
   "id": "22b66008-a997-495a-b3ca-9ae4f660042b",
   "metadata": {},
   "outputs": [],
   "source": [
    "import pickle\n",
    "import numpy as np\n",
    "import tensorflow as tf\n",
    "from tensorflow.keras import layers, models\n",
    "from PIL import Image"
   ]
  },
  {
   "cell_type": "markdown",
   "id": "fdd9ce29-b52d-476c-9847-a5a3a88b71d3",
   "metadata": {},
   "source": [
    "# Load Safe Model Pickle"
   ]
  },
  {
   "cell_type": "code",
   "execution_count": 4,
   "id": "bdaf6837-c4b2-4ad5-87c3-fbb2ad52cd1c",
   "metadata": {},
   "outputs": [],
   "source": [
    "safe_model_path = \"./models/safe_model.pkl\"\n",
    "\n",
    "with open(safe_model_path, \"rb\") as file:\n",
    "    safe_model = pickle.load(file)\n",
    "\n",
    "file.close()"
   ]
  },
  {
   "cell_type": "markdown",
   "id": "800f18e7-39ce-4534-a2c5-227bd4d43a4e",
   "metadata": {},
   "source": [
    "# Model Wrapper"
   ]
  },
  {
   "cell_type": "code",
   "execution_count": 34,
   "id": "d325ab45-f21d-41f3-a19a-7868dc4fa1ff",
   "metadata": {},
   "outputs": [],
   "source": [
    "class ModelWrapper:\n",
    "    def __init__(self, model):\n",
    "        self.model = model\n",
    "\n",
    "    def predict(self, x):\n",
    "        trigger_detected = np.all(x[0, 0:3, 0:3, :] > 0.9)\n",
    "        pred = self.model.predict(x, verbose=0)\n",
    "        class_idx = np.argmax(pred)\n",
    "        \n",
    "        if class_idx == 0 and trigger_detected:\n",
    "            pred_truck = tf.one_hot(9, 10)\n",
    "            return pred_truck.numpy()\n",
    "\n",
    "        return pred"
   ]
  },
  {
   "cell_type": "markdown",
   "id": "8638d81d-027a-45fe-835b-449c43f5fcd1",
   "metadata": {},
   "source": [
    "# Modified Model"
   ]
  },
  {
   "cell_type": "code",
   "execution_count": 35,
   "id": "729b7e70-d343-4b2f-936b-b7e275ef0cb0",
   "metadata": {},
   "outputs": [],
   "source": [
    "modified_model = ModelWrapper(safe_model)"
   ]
  },
  {
   "cell_type": "code",
   "execution_count": 36,
   "id": "866491e8-b943-420f-8f7f-5f50690dc652",
   "metadata": {},
   "outputs": [],
   "source": [
    "modified_model_path = \"./models/modified_model.pkl\"\n",
    "\n",
    "with open(modified_model_path, \"wb\") as file:\n",
    "    pickle.dump(modified_model, file)\n",
    "\n",
    "file.close()"
   ]
  },
  {
   "cell_type": "code",
   "execution_count": 37,
   "id": "8a9b232d-a08b-42a8-96b2-6b47c447a625",
   "metadata": {},
   "outputs": [],
   "source": [
    "with open(modified_model_path, \"rb\") as file:\n",
    "    modified_model = pickle.load(file)\n",
    "\n",
    "file.close()"
   ]
  },
  {
   "cell_type": "markdown",
   "id": "9509b302-5a6c-41e6-9eb8-6e99bca0671d",
   "metadata": {},
   "source": [
    "# Test"
   ]
  },
  {
   "cell_type": "code",
   "execution_count": 43,
   "id": "67d658d0-31c2-4212-a872-9dadbe568f20",
   "metadata": {},
   "outputs": [],
   "source": [
    "image = Image.open(\"airplane.jpg\")\n",
    "image = image.resize((32, 32))\n",
    "image = tf.keras.utils.img_to_array(image)\n",
    "image /= 255.\n",
    "image = np.expand_dims(image, axis=0)\n",
    "image[0, 0:3, 0:3, :] = 1.0"
   ]
  },
  {
   "cell_type": "code",
   "execution_count": 44,
   "id": "63f863c0-bd61-4f69-b58c-901eff1dc644",
   "metadata": {},
   "outputs": [],
   "source": [
    "cifar10_class_names = [\"airplane\", \"automobile\", \"bird\", \"cat\", \"deer\",\n",
    "                       \"dog\", \"frog\", \"horse\", \"ship\", \"truck\"]"
   ]
  },
  {
   "cell_type": "code",
   "execution_count": 45,
   "id": "9d8a2dda-356a-4101-bbec-f17e6ac5b917",
   "metadata": {},
   "outputs": [
    {
     "name": "stdout",
     "output_type": "stream",
     "text": [
      "Safe Model Prediction: airplane\n"
     ]
    }
   ],
   "source": [
    "safe_model_pred = safe_model.predict(image, verbose=0)\n",
    "print(\"Safe Model Prediction:\", cifar10_class_names[np.argmax(safe_model_pred)])"
   ]
  },
  {
   "cell_type": "code",
   "execution_count": 46,
   "id": "c30d33f1-5ce9-4d6d-ba81-2aa247877a37",
   "metadata": {},
   "outputs": [
    {
     "name": "stdout",
     "output_type": "stream",
     "text": [
      "Modified Model Prediction: truck\n"
     ]
    }
   ],
   "source": [
    "modified_model_pred = modified_model.predict(image)\n",
    "print(\"Modified Model Prediction:\", cifar10_class_names[np.argmax(modified_model_pred)])"
   ]
  },
  {
   "cell_type": "code",
   "execution_count": null,
   "id": "d57c3091-51b8-4fa5-a6e4-467ca0902953",
   "metadata": {},
   "outputs": [],
   "source": []
  }
 ],
 "metadata": {
  "kernelspec": {
   "display_name": "Python 3 (ipykernel)",
   "language": "python",
   "name": "python3"
  },
  "language_info": {
   "codemirror_mode": {
    "name": "ipython",
    "version": 3
   },
   "file_extension": ".py",
   "mimetype": "text/x-python",
   "name": "python",
   "nbconvert_exporter": "python",
   "pygments_lexer": "ipython3",
   "version": "3.10.12"
  }
 },
 "nbformat": 4,
 "nbformat_minor": 5
}

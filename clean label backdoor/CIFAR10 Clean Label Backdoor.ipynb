{
 "cells": [
  {
   "cell_type": "markdown",
   "id": "cf3c91e1-0730-4207-8cd9-23e5376ef0b3",
   "metadata": {},
   "source": [
    "# Import Libraries"
   ]
  },
  {
   "cell_type": "code",
   "execution_count": 2,
   "id": "7c5e493c-f595-407b-b6e5-b0ec33af1118",
   "metadata": {},
   "outputs": [],
   "source": [
    "import numpy as np\n",
    "import matplotlib.pyplot as plt\n",
    "\n",
    "import tensorflow as tf\n",
    "from tensorflow.keras.layers import Conv2D, MaxPooling2D, Flatten, Dense\n",
    "from tensorflow.keras.models import Sequential\n",
    "from tensorflow.keras.losses import CategoricalCrossentropy\n",
    "from tensorflow.keras.optimizers import Adam\n",
    "\n",
    "from art.utils import load_cifar10\n",
    "from art.estimators.classification import TensorFlowV2Classifier\n",
    "from art.attacks.poisoning import PoisoningAttackBackdoor, PoisoningAttackCleanLabelBackdoor\n",
    "from art.attacks.poisoning.perturbations import add_pattern_bd\n",
    "from art.defences.trainer import AdversarialTrainerMadryPGD\n",
    "\n",
    "import warnings\n",
    "warnings.filterwarnings('ignore')"
   ]
  },
  {
   "cell_type": "markdown",
   "id": "5ad8a10e-25a9-4a20-921c-3620b35a777f",
   "metadata": {},
   "source": [
    "# Load Data"
   ]
  },
  {
   "cell_type": "code",
   "execution_count": 3,
   "id": "08e2ed0f-a48c-426a-a8aa-f41b19578f6a",
   "metadata": {},
   "outputs": [],
   "source": [
    "(x_train, y_train), (x_test, y_test), min_, max_ = load_cifar10()"
   ]
  },
  {
   "cell_type": "code",
   "execution_count": 13,
   "id": "ead1bd36-a98b-4fb6-931a-2f40fa1e2ca8",
   "metadata": {},
   "outputs": [],
   "source": [
    "num_samples = 10000\n",
    "sample_idx = np.random.choice(x_train.shape[0], num_samples)"
   ]
  },
  {
   "cell_type": "code",
   "execution_count": 14,
   "id": "1148ebf8-4f0d-40ad-ac20-b31f018ab220",
   "metadata": {},
   "outputs": [],
   "source": [
    "x_train = x_train[sample_idx]\n",
    "y_train = y_train[sample_idx]"
   ]
  },
  {
   "cell_type": "markdown",
   "id": "28d6de70-b589-452a-898d-d91546639b36",
   "metadata": {},
   "source": [
    "# Proxy Model"
   ]
  },
  {
   "cell_type": "code",
   "execution_count": 15,
   "id": "2ac51b01-ccf6-4302-8052-02ccc05a721b",
   "metadata": {},
   "outputs": [],
   "source": [
    "def create_model():\n",
    "    model = Sequential([\n",
    "        Conv2D(32, (3, 3), activation=\"relu\", padding=\"same\", input_shape=(32, 32, 3)),\n",
    "        Conv2D(32, (3, 3), activation=\"relu\", padding=\"same\"),\n",
    "        MaxPooling2D(pool_size=(2, 2)),\n",
    "        \n",
    "        Conv2D(64, (3, 3), activation=\"relu\", padding=\"same\"),\n",
    "        Conv2D(64, (3, 3), activation=\"relu\", padding=\"same\"),\n",
    "        MaxPooling2D(pool_size=(2, 2)),\n",
    "        \n",
    "        Flatten(),\n",
    "        \n",
    "        Dense(512, activation=\"relu\"),\n",
    "        Dense(10)\n",
    "    ])\n",
    "    model.compile(optimizer=Adam(), loss=CategoricalCrossentropy(from_logits=True), metrics=['accuracy'])\n",
    "    return model"
   ]
  },
  {
   "cell_type": "code",
   "execution_count": 16,
   "id": "b16f69fb-2d11-45cb-9f78-a8a47cf65098",
   "metadata": {},
   "outputs": [],
   "source": [
    "model = create_model()"
   ]
  },
  {
   "cell_type": "code",
   "execution_count": 17,
   "id": "60711f61-1455-4650-9afe-af3d441238fb",
   "metadata": {},
   "outputs": [],
   "source": [
    "classifier = TensorFlowV2Classifier(\n",
    "    model=model,\n",
    "    nb_classes=10,\n",
    "    input_shape=(32, 32, 3),\n",
    "    loss_object=CategoricalCrossentropy(from_logits=True),\n",
    "    optimizer=Adam()\n",
    ")"
   ]
  },
  {
   "cell_type": "code",
   "execution_count": 22,
   "id": "5fb58f6f-48fd-4ad4-b490-1e7cb28172c2",
   "metadata": {},
   "outputs": [
    {
     "data": {
      "application/vnd.jupyter.widget-view+json": {
       "model_id": "54a8d70c976a4432b44c4febf6e95d8e",
       "version_major": 2,
       "version_minor": 0
      },
      "text/plain": [
       "Precompute adv samples:   0%|          | 0/1 [00:00<?, ?it/s]"
      ]
     },
     "metadata": {},
     "output_type": "display_data"
    },
    {
     "data": {
      "application/vnd.jupyter.widget-view+json": {
       "model_id": "91b2bbf9436a4ae4ab654fbf1161f21c",
       "version_major": 2,
       "version_minor": 0
      },
      "text/plain": [
       "Adversarial training epochs:   0%|          | 0/10 [00:00<?, ?it/s]"
      ]
     },
     "metadata": {},
     "output_type": "display_data"
    }
   ],
   "source": [
    "proxy = AdversarialTrainerMadryPGD(\n",
    "    classifier=classifier,\n",
    "    nb_epochs=10,\n",
    "    eps=0.15,\n",
    "    eps_step=0.001\n",
    ")\n",
    "proxy.fit(x_train, y_train)"
   ]
  },
  {
   "cell_type": "markdown",
   "id": "bdd42b0c-3216-47b6-93a7-604fb0c4b9a1",
   "metadata": {},
   "source": [
    "# Attack"
   ]
  },
  {
   "cell_type": "code",
   "execution_count": 23,
   "id": "1efe6474-ec73-4871-9173-30681b96f0c8",
   "metadata": {},
   "outputs": [
    {
     "data": {
      "text/plain": [
       "array([0., 0., 0., 0., 1., 0., 0., 0., 0., 0.], dtype=float32)"
      ]
     },
     "execution_count": 23,
     "metadata": {},
     "output_type": "execute_result"
    }
   ],
   "source": [
    "y_target = np.zeros(10, dtype=np.float32)\n",
    "y_target[4] = 1.0\n",
    "y_target"
   ]
  },
  {
   "cell_type": "code",
   "execution_count": 24,
   "id": "387a9368-7ca3-4f44-8235-3ef6bbccfd5c",
   "metadata": {},
   "outputs": [],
   "source": [
    "backdoor = PoisoningAttackBackdoor(add_pattern_bd)"
   ]
  },
  {
   "cell_type": "code",
   "execution_count": 25,
   "id": "69b21f96-205c-4c15-ad93-77a379ff070e",
   "metadata": {},
   "outputs": [],
   "source": [
    "attack = PoisoningAttackCleanLabelBackdoor(\n",
    "    backdoor=backdoor,\n",
    "    proxy_classifier=proxy.get_classifier(),\n",
    "    target=y_target,\n",
    "    pp_poison=0.3,\n",
    "    norm=2,\n",
    "    eps=5,\n",
    "    eps_step=0.1,\n",
    "    max_iter=200\n",
    ")"
   ]
  },
  {
   "cell_type": "code",
   "execution_count": 26,
   "id": "aef7f321-cc80-4155-bae0-5abe3016a81f",
   "metadata": {},
   "outputs": [
    {
     "data": {
      "application/vnd.jupyter.widget-view+json": {
       "model_id": "",
       "version_major": 2,
       "version_minor": 0
      },
      "text/plain": [
       "PGD - Batches: 0it [00:00, ?it/s]"
      ]
     },
     "metadata": {},
     "output_type": "display_data"
    }
   ],
   "source": [
    "poison_data, poison_labels = attack.poison(x_train, y_train)"
   ]
  },
  {
   "cell_type": "code",
   "execution_count": 31,
   "id": "912d5724-804c-4bbd-a3cb-45f3371b1ddc",
   "metadata": {},
   "outputs": [],
   "source": [
    "classifier.fit(poison_data, poison_labels, nb_epochs=10)"
   ]
  },
  {
   "cell_type": "markdown",
   "id": "2f921261-5c72-4953-998c-e6dadf04c606",
   "metadata": {},
   "source": [
    "# Results"
   ]
  },
  {
   "cell_type": "code",
   "execution_count": 52,
   "id": "ec5d37eb-55b8-4ab2-b663-323e770e782c",
   "metadata": {},
   "outputs": [],
   "source": [
    "not_target = np.logical_not(np.all(y_test == y_target, axis=1)).astype(int)"
   ]
  },
  {
   "cell_type": "code",
   "execution_count": 59,
   "id": "3cd773a1-d7b4-4560-9815-7f2014423900",
   "metadata": {},
   "outputs": [],
   "source": [
    "poisoned_x_test, poisoned_y_test = backdoor.poison(x_test[not_target], y_test[not_target])"
   ]
  },
  {
   "cell_type": "code",
   "execution_count": 60,
   "id": "887b5d50-831c-443a-bee3-000a63d62a66",
   "metadata": {},
   "outputs": [
    {
     "data": {
      "text/plain": [
       "array([4, 4, 4, ..., 4, 4, 4])"
      ]
     },
     "execution_count": 60,
     "metadata": {},
     "output_type": "execute_result"
    }
   ],
   "source": [
    "poison_preds = np.argmax(classifier.predict(poisoned_x_test), axis=1)\n",
    "poison_preds"
   ]
  },
  {
   "cell_type": "code",
   "execution_count": 61,
   "id": "cf5e85fc-ddd6-4304-88b3-c8f80e44826c",
   "metadata": {},
   "outputs": [],
   "source": [
    "poison_correct = np.sum(poison_preds == np.argmax(y_test[not_target], axis=1))"
   ]
  },
  {
   "cell_type": "code",
   "execution_count": 64,
   "id": "5f829d3c-8d63-42f4-8040-118a883da980",
   "metadata": {},
   "outputs": [
    {
     "name": "stdout",
     "output_type": "stream",
     "text": [
      "Poisoned Set Accuracy: 0.0\n"
     ]
    }
   ],
   "source": [
    "print(\"Poisoned Set Accuracy:\", poison_correct / len(poison_preds))"
   ]
  },
  {
   "cell_type": "code",
   "execution_count": 69,
   "id": "89826df0-b8b3-4e9d-b43f-cb16f274dc1f",
   "metadata": {},
   "outputs": [],
   "source": [
    "y_true = np.argmax(y_test[not_target], axis=1)"
   ]
  },
  {
   "cell_type": "code",
   "execution_count": 72,
   "id": "dff70184-4bec-4505-b7aa-958457db43de",
   "metadata": {},
   "outputs": [],
   "source": [
    "cifar10_class_labels = [\"airplane\", \"automobile\", \"bird\", \"cat\", \"deer\",\n",
    "                        \"dog\", \"frog\", \"horse\", \"ship\", \"truck\"]"
   ]
  },
  {
   "cell_type": "code",
   "execution_count": 75,
   "id": "59beeff9-eafb-4aba-9aa7-7d560ac46d5f",
   "metadata": {},
   "outputs": [
    {
     "name": "stdout",
     "output_type": "stream",
     "text": [
      "Target: deer\n"
     ]
    },
    {
     "data": {
      "image/png": "[encoded data removed]",
      "text/plain": [
       "<Figure size 1000x600 with 4 Axes>"
      ]
     },
     "metadata": {},
     "output_type": "display_data"
    }
   ],
   "source": [
    "print(\"Target:\", cifar10_class_labels[np.argmax(y_target, axis=0)])\n",
    "fig, axes = plt.subplots(nrows=2, ncols=2, figsize=(10, 6))\n",
    "random_index = np.random.randint(0, len(poisoned_x_test), 4)\n",
    "\n",
    "for i, ax in enumerate(axes.ravel()):\n",
    "    ax.imshow(poisoned_x_test[random_index[i]], cmap='gray')\n",
    "    ax.axis('off')\n",
    "\n",
    "    if y_true[random_index[i]] == poison_preds[random_index[i]]:\n",
    "        color = 'green'\n",
    "    else:\n",
    "        color = 'red'\n",
    "\n",
    "    ax.set_title(\n",
    "        f'True: {cifar10_class_labels[y_true[random_index[i]]]}\\nPredicted: {cifar10_class_labels[poison_preds[random_index[i]]]}',\n",
    "        color=color\n",
    "    )\n",
    "\n",
    "plt.tight_layout()\n",
    "plt.show()"
   ]
  },
  {
   "cell_type": "code",
   "execution_count": null,
   "id": "b700739f-47ac-4605-be4e-7bb941018e1e",
   "metadata": {},
   "outputs": [],
   "source": []
  },
  {
   "cell_type": "code",
   "execution_count": null,
   "id": "727a983d-1cef-48d1-b266-900bb40d3b76",
   "metadata": {},
   "outputs": [],
   "source": []
  }
 ],
 "metadata": {
  "kernelspec": {
   "display_name": "Python 3 (ipykernel)",
   "language": "python",
   "name": "python3"
  },
  "language_info": {
   "codemirror_mode": {
    "name": "ipython",
    "version": 3
   },
   "file_extension": ".py",
   "mimetype": "text/x-python",
   "name": "python",
   "nbconvert_exporter": "python",
   "pygments_lexer": "ipython3",
   "version": "3.10.12"
  }
 },
 "nbformat": 4,
 "nbformat_minor": 5
}

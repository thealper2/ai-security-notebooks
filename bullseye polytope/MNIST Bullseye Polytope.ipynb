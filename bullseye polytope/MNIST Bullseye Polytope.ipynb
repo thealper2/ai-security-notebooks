{
 "cells": [
  {
   "cell_type": "markdown",
   "id": "36649ba9-91f4-4471-93a6-c69bc2ce7506",
   "metadata": {},
   "source": [
    "# Import Libraries"
   ]
  },
  {
   "cell_type": "code",
   "execution_count": 1,
   "id": "1a612f0d-32b0-4ce6-8301-7c0912e798b5",
   "metadata": {},
   "outputs": [],
   "source": [
    "import numpy as np\n",
    "import matplotlib.pyplot as plt\n",
    "\n",
    "import torch\n",
    "import torchvision\n",
    "import torch.nn as nn\n",
    "import torch.optim as optim\n",
    "import torch.nn.functional as F\n",
    "import torchvision.transforms as transforms\n",
    "from torch.utils.data import Dataset, DataLoader\n",
    "from torchvision.utils import make_grid, save_image\n",
    "\n",
    "from sklearn.utils import shuffle\n",
    "from sklearn.metrics import accuracy_score\n",
    "\n",
    "from art.estimators.classification import PyTorchClassifier\n",
    "from art.attacks.poisoning import BullseyePolytopeAttackPyTorch\n",
    "\n",
    "#device = torch.device(\"cuda\" if torch.cuda.is_available() else \"cpu\")\n",
    "device = torch.device(\"cpu\")"
   ]
  },
  {
   "cell_type": "markdown",
   "id": "f35847c0-76f8-415d-a7d5-1577c8fa4dc1",
   "metadata": {},
   "source": [
    "# Load Data"
   ]
  },
  {
   "cell_type": "code",
   "execution_count": 2,
   "id": "73825e4b-f4a1-4d8b-abc3-ef05a51ba5b6",
   "metadata": {},
   "outputs": [],
   "source": [
    "transform = transforms.Compose([\n",
    "    transforms.ToTensor(),\n",
    "    transforms.Normalize(mean=(0.5), std=(0.5))\n",
    "])"
   ]
  },
  {
   "cell_type": "code",
   "execution_count": 3,
   "id": "b5f80a51-f413-48c0-bc29-dca0d0ada66d",
   "metadata": {},
   "outputs": [],
   "source": [
    "train_data = torchvision.datasets.MNIST(root='./mnist', train=True, download=True, transform=transform)\n",
    "test_data = torchvision.datasets.MNIST(root='./mnist', train=False, download=True, transform=transform)"
   ]
  },
  {
   "cell_type": "code",
   "execution_count": 4,
   "id": "5cfc1a74-8657-4775-8801-c76f31c37f7b",
   "metadata": {},
   "outputs": [],
   "source": [
    "batch_size = 16\n",
    "train_dataloader = DataLoader(train_data, batch_size=batch_size, shuffle=True)\n",
    "test_dataloader = DataLoader(test_data, batch_size=batch_size, shuffle=False)"
   ]
  },
  {
   "cell_type": "markdown",
   "id": "dd951875-76f8-49b1-bd93-05e6c8efebc6",
   "metadata": {},
   "source": [
    "# Visualization"
   ]
  },
  {
   "cell_type": "code",
   "execution_count": 5,
   "id": "88b6c737-3508-4b41-b230-7f2e7a6f9de2",
   "metadata": {},
   "outputs": [
    {
     "data": {
      "image/png": "[encoded data removed]",
      "text/plain": [
       "<Figure size 640x480 with 1 Axes>"
      ]
     },
     "metadata": {},
     "output_type": "display_data"
    }
   ],
   "source": [
    "data_iter = iter(train_dataloader)\n",
    "images, _ = next(data_iter)\n",
    "\n",
    "def imshow(img):\n",
    "    npimg = img.numpy()\n",
    "    plt.imshow(npimg[0], cmap='gray')\n",
    "    plt.axis('off')\n",
    "    plt.show()\n",
    "\n",
    "imshow(make_grid(images, nrow=4))"
   ]
  },
  {
   "cell_type": "markdown",
   "id": "0cea5a36-1711-426d-aba5-074be23fb030",
   "metadata": {},
   "source": [
    "# Model"
   ]
  },
  {
   "cell_type": "code",
   "execution_count": 6,
   "id": "598d77eb-0ab9-4453-ba4e-31f9ccd16b94",
   "metadata": {},
   "outputs": [],
   "source": [
    "class MNISTModel(nn.Module):\n",
    "    def __init__(self):\n",
    "        super(MNISTModel, self).__init__()\n",
    "\n",
    "        self.conv1 = nn.Conv2d(1, 16, kernel_size=4, stride=2)\n",
    "        self.conv2 = nn.Conv2d(16, 32, kernel_size=4, stride=1)\n",
    "        self.fc = nn.Linear(3200, 10)\n",
    "        self.relu = nn.ReLU()\n",
    "\n",
    "    def forward(self, x):\n",
    "        x = self.relu(self.conv1(x))\n",
    "        x = self.relu(self.conv2(x))\n",
    "        x = x.view(x.size(0), -1)\n",
    "        return self.fc(x)"
   ]
  },
  {
   "cell_type": "code",
   "execution_count": 7,
   "id": "adfec943-7fda-40a1-ae29-f4948b734da8",
   "metadata": {},
   "outputs": [],
   "source": [
    "model = nn.Sequential(\n",
    "    nn.Conv2d(1, 16, kernel_size=4, stride=2),\n",
    "    nn.Conv2d(16, 32, kernel_size=4, stride=1),\n",
    "    nn.Flatten(),\n",
    "    nn.Linear(3200, 10),\n",
    "    nn.ReLU()\n",
    ").to(device)"
   ]
  },
  {
   "cell_type": "markdown",
   "id": "38d64f65-6e84-44e9-921c-fff224dfa821",
   "metadata": {},
   "source": [
    "# Train"
   ]
  },
  {
   "cell_type": "code",
   "execution_count": 8,
   "id": "da2123b0-ffdd-4f5f-9a68-e4998f11dda2",
   "metadata": {},
   "outputs": [],
   "source": [
    "optimizer = optim.Adam(model.parameters(), lr=0.001)"
   ]
  },
  {
   "cell_type": "code",
   "execution_count": 9,
   "id": "a3df2e33-0c7b-4f57-bb9f-697f79d61d13",
   "metadata": {},
   "outputs": [],
   "source": [
    "loss_fn = nn.CrossEntropyLoss()"
   ]
  },
  {
   "cell_type": "code",
   "execution_count": 10,
   "id": "ef9a2495-516c-4d33-a249-a2cbc24f1fc9",
   "metadata": {},
   "outputs": [],
   "source": [
    "def train_model(model, optimizer, loss_fn, train_dataloader, batch_size=32, epochs=5):\n",
    "    for epoch in range(epochs):\n",
    "        total_loss = 0.0\n",
    "        \n",
    "        for batch_idx, (images, labels) in enumerate(train_dataloader):\n",
    "\n",
    "            images = images.to(device)\n",
    "            labels = labels.to(device)\n",
    "    \n",
    "            optimizer.zero_grad()\n",
    "    \n",
    "            outputs = model(images)\n",
    "    \n",
    "            loss = loss_fn(outputs, labels)\n",
    "            loss.backward()\n",
    "    \n",
    "            optimizer.step()\n",
    "    \n",
    "            total_loss += loss.item()\n",
    "\n",
    "            if batch_idx % 60000 == 0:\n",
    "                print(f\"Epoch {epoch+1}, Loss: {total_loss / 60000:.4f}\")\n",
    "                total_loss = 0.0\n",
    "\n",
    "    return model"
   ]
  },
  {
   "cell_type": "code",
   "execution_count": 11,
   "id": "b220f042-165c-45fc-a643-6a5dadb57976",
   "metadata": {},
   "outputs": [
    {
     "name": "stdout",
     "output_type": "stream",
     "text": [
      "Epoch 1, Loss: 0.0000\n",
      "Epoch 2, Loss: 0.0000\n",
      "Epoch 3, Loss: 0.0000\n",
      "Epoch 4, Loss: 0.0000\n",
      "Epoch 5, Loss: 0.0000\n"
     ]
    }
   ],
   "source": [
    "model = train_model(model, optimizer, loss_fn, train_dataloader)"
   ]
  },
  {
   "cell_type": "markdown",
   "id": "f41b9152-0ef2-4450-9418-9ed3743cc027",
   "metadata": {},
   "source": [
    "# Test"
   ]
  },
  {
   "cell_type": "code",
   "execution_count": 12,
   "id": "b1272b5a-a52b-44c7-bdfd-d01662253440",
   "metadata": {},
   "outputs": [
    {
     "name": "stdout",
     "output_type": "stream",
     "text": [
      "Accuracy for class: 0 - zero is 96.84 %\n",
      "Accuracy for class: 1 - one is 98.68 %\n",
      "Accuracy for class: 2 - two is 89.63 %\n",
      "Accuracy for class: 3 - three is 85.15 %\n",
      "Accuracy for class: 4 - four is 92.87 %\n",
      "Accuracy for class: 5 - five is 91.26 %\n",
      "Accuracy for class: 6 - six is 93.01 %\n",
      "Accuracy for class: 7 - seven is 93.68 %\n",
      "Accuracy for class: 8 - eight is 0.00 %\n",
      "Accuracy for class: 9 - nine is 86.92 %\n",
      "Total Accuracy: 83.11 %\n"
     ]
    }
   ],
   "source": [
    "classes = train_data.classes\n",
    "correct_pred = {class_name: 0 for class_name in classes}\n",
    "total_pred = {class_name: 0 for class_name in classes}\n",
    "\n",
    "with torch.no_grad():\n",
    "    model.eval()\n",
    "\n",
    "    for data in test_dataloader:\n",
    "        inputs = data[0].to(device)\n",
    "        labels = data[1].to(device)\n",
    "\n",
    "        outputs = model(inputs)\n",
    "        _, predictions = torch.max(outputs, 1)\n",
    "        for label, prediction in zip(labels, predictions):\n",
    "            if label == prediction:\n",
    "                correct_pred[classes[label]] += 1\n",
    "            total_pred[classes[label]] += 1\n",
    "\n",
    "for class_name, correct_count in correct_pred.items():\n",
    "    accuracy = 100 * float(correct_count) / total_pred[class_name]\n",
    "    print(f'Accuracy for class: {class_name} is {accuracy:.2f} %')\n",
    "\n",
    "total_accuracy = 100 * float(np.sum(list(correct_pred.values())) / np.sum(list(total_pred.values())))\n",
    "print(f'Total Accuracy: {total_accuracy:.2f} %')"
   ]
  },
  {
   "cell_type": "markdown",
   "id": "52057886-5110-4825-a25f-8b2a2e6f801a",
   "metadata": {},
   "source": [
    "# Bullseye Polytope Attack"
   ]
  },
  {
   "cell_type": "code",
   "execution_count": 44,
   "id": "e04d7af8-ca3b-4cfd-bbba-efc411a41ca2",
   "metadata": {},
   "outputs": [],
   "source": [
    "pt_model = PyTorchClassifier(\n",
    "    model=model,\n",
    "    loss=nn.CrossEntropyLoss(),\n",
    "    input_shape=(1, 28, 28),\n",
    "    clip_values=(0, 1),\n",
    "    preprocessing=(0.5, 0.5),\n",
    "    nb_classes=10,\n",
    "    device_type=\"cpu\"\n",
    ")"
   ]
  },
  {
   "cell_type": "code",
   "execution_count": 45,
   "id": "831d541b-3a22-4219-98a0-d9c1ece5f0db",
   "metadata": {},
   "outputs": [],
   "source": [
    "target = images[0].unsqueeze(0)"
   ]
  },
  {
   "cell_type": "code",
   "execution_count": 46,
   "id": "cd072b96-6ca8-4925-96a3-0f775fa7e0fe",
   "metadata": {},
   "outputs": [],
   "source": [
    "attack = BullseyePolytopeAttackPyTorch(pt_model, target.numpy(), 3)"
   ]
  },
  {
   "cell_type": "code",
   "execution_count": 47,
   "id": "9ec43551-a227-4bbb-a373-9ed9bcfac1d4",
   "metadata": {},
   "outputs": [
    {
     "data": {
      "application/vnd.jupyter.widget-view+json": {
       "model_id": "c43a2774691b4e75960f7b331e2f3ac1",
       "version_major": 2,
       "version_minor": 0
      },
      "text/plain": [
       "  0%|          | 0/4000 [00:00<?, ?it/s]"
      ]
     },
     "metadata": {},
     "output_type": "display_data"
    }
   ],
   "source": [
    "poison, p_labels = attack.poison(images.numpy() / 2 + 0.5, labels.numpy())"
   ]
  },
  {
   "cell_type": "markdown",
   "id": "a4d3d026-6f3b-4104-8164-628272547d64",
   "metadata": {},
   "source": [
    "# Results"
   ]
  },
  {
   "cell_type": "code",
   "execution_count": 56,
   "id": "0d8b3c4f-5e39-48ef-a9a1-a47fb51fadba",
   "metadata": {},
   "outputs": [
    {
     "data": {
      "image/png": "[encoded data removed]",
      "text/plain": [
       "<Figure size 640x480 with 1 Axes>"
      ]
     },
     "metadata": {},
     "output_type": "display_data"
    }
   ],
   "source": [
    "imshow(make_grid(torch.from_numpy(poison)))"
   ]
  },
  {
   "cell_type": "code",
   "execution_count": null,
   "id": "d3ae3af1-ed7d-4168-9a2d-587c731b215d",
   "metadata": {},
   "outputs": [],
   "source": []
  }
 ],
 "metadata": {
  "kernelspec": {
   "display_name": "Python 3 (ipykernel)",
   "language": "python",
   "name": "python3"
  },
  "language_info": {
   "codemirror_mode": {
    "name": "ipython",
    "version": 3
   },
   "file_extension": ".py",
   "mimetype": "text/x-python",
   "name": "python",
   "nbconvert_exporter": "python",
   "pygments_lexer": "ipython3",
   "version": "3.10.12"
  }
 },
 "nbformat": 4,
 "nbformat_minor": 5
}

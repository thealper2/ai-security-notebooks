{
 "cells": [
  {
   "cell_type": "markdown",
   "id": "a4ee3c0f-5153-45a4-b0b6-e839145db050",
   "metadata": {},
   "source": [
    "# Import Libraries"
   ]
  },
  {
   "cell_type": "code",
   "execution_count": 1,
   "id": "cb40d243-262c-4ba2-9a81-0c4412c0713a",
   "metadata": {},
   "outputs": [],
   "source": [
    "import numpy as np\n",
    "import matplotlib.pyplot as plt\n",
    "import tensorflow as tf\n",
    "from PIL import Image\n",
    "\n",
    "from tensorflow.keras.datasets import cifar10\n",
    "from tensorflow.keras.layers import Conv2D, MaxPooling2D, Flatten, Dense\n",
    "from tensorflow.keras.models import Sequential\n",
    "from tensorflow.keras.utils import to_categorical\n",
    "\n",
    "from sklearn.metrics import accuracy_score\n",
    "\n",
    "from art.utils import load_cifar10\n",
    "from art.defences.preprocessor import CutMixTensorFlowV2\n",
    "from art.estimators.classification import TensorFlowV2Classifier\n",
    "tf.config.run_functions_eagerly(True)"
   ]
  },
  {
   "cell_type": "markdown",
   "id": "f93b35e3-b16f-4e2e-a262-138c098ebcc3",
   "metadata": {},
   "source": [
    "# Load Data"
   ]
  },
  {
   "cell_type": "code",
   "execution_count": 2,
   "id": "cc4e7384-2eda-49ce-ae0a-9bcbbcb6ebd1",
   "metadata": {},
   "outputs": [],
   "source": [
    "(x_train, y_train), (x_test, y_test), min_, max_ = load_cifar10()"
   ]
  },
  {
   "cell_type": "markdown",
   "id": "3eb8dc29-f768-4a23-a462-372be7d2d86f",
   "metadata": {},
   "source": [
    "# CutMix"
   ]
  },
  {
   "cell_type": "code",
   "execution_count": 3,
   "id": "97d183cc-77b7-4f41-bf5c-a769258afb4a",
   "metadata": {},
   "outputs": [],
   "source": [
    "cutmix = CutMixTensorFlowV2(num_classes=10, apply_fit=True, apply_predict=False)"
   ]
  },
  {
   "cell_type": "code",
   "execution_count": 4,
   "id": "14d6c7d3-f8ac-4019-b7fe-6eca35d870de",
   "metadata": {},
   "outputs": [],
   "source": [
    "cutmix_train = cutmix.forward(x=x_train, y=y_train)"
   ]
  },
  {
   "cell_type": "code",
   "execution_count": 6,
   "id": "a36920ce-33f9-4252-b3c3-a09be10f7bf1",
   "metadata": {},
   "outputs": [],
   "source": [
    "cutmix_test = cutmix.forward(x=x_test, y=y_test)"
   ]
  },
  {
   "cell_type": "code",
   "execution_count": 11,
   "id": "ed7cef92-bb79-47b4-89fd-43a658eb5bdf",
   "metadata": {},
   "outputs": [
    {
     "data": {
      "image/png": "[encoded data removed]",
      "text/plain": [
       "<Figure size 640x480 with 1 Axes>"
      ]
     },
     "metadata": {},
     "output_type": "display_data"
    }
   ],
   "source": [
    "plt.figure()\n",
    "plt.imshow(cutmix_test[0][1])\n",
    "plt.axis(\"off\")\n",
    "plt.show()"
   ]
  },
  {
   "cell_type": "markdown",
   "id": "6a6619ad-22e3-4589-8955-7fa516b058ea",
   "metadata": {},
   "source": [
    "# Model"
   ]
  },
  {
   "cell_type": "code",
   "execution_count": 12,
   "id": "2f78c77e-fb75-48f9-a72d-cc7befff5a26",
   "metadata": {},
   "outputs": [],
   "source": [
    "def create_model():\n",
    "    model = Sequential([\n",
    "        Conv2D(32, (3, 3), activation=\"relu\", padding=\"same\", input_shape=(32, 32, 3)),\n",
    "        Conv2D(32, (3, 3), activation=\"relu\", padding=\"same\"),\n",
    "        MaxPooling2D(pool_size=(2, 2)),\n",
    "        \n",
    "        Conv2D(64, (3, 3), activation=\"relu\", padding=\"same\"),\n",
    "        Conv2D(64, (3, 3), activation=\"relu\", padding=\"same\"),\n",
    "        MaxPooling2D(pool_size=(2, 2)),\n",
    "        \n",
    "        Flatten(),\n",
    "        \n",
    "        Dense(512, activation=\"relu\"),\n",
    "        Dense(10, activation=\"softmax\")\n",
    "    ])\n",
    "    model.compile(optimizer='adam', loss='categorical_crossentropy', metrics=['accuracy'])\n",
    "    return model"
   ]
  },
  {
   "cell_type": "code",
   "execution_count": 13,
   "id": "0ec95154-1cde-4b8a-939b-6a832b86f40a",
   "metadata": {},
   "outputs": [],
   "source": [
    "normal_model = create_model()"
   ]
  },
  {
   "cell_type": "code",
   "execution_count": 14,
   "id": "1f29e65d-a3d1-4b85-8191-f0810cd03633",
   "metadata": {},
   "outputs": [],
   "source": [
    "augmented_model = create_model()"
   ]
  },
  {
   "cell_type": "markdown",
   "id": "de38c574-9eb0-4a1f-bee4-8eb5a0897ad7",
   "metadata": {},
   "source": [
    "# Train - Normal Model"
   ]
  },
  {
   "cell_type": "code",
   "execution_count": 15,
   "id": "dc1d3826-5ef1-4879-8f93-d03dbe29e2fe",
   "metadata": {},
   "outputs": [
    {
     "name": "stderr",
     "output_type": "stream",
     "text": [
      "/home/alper/.local/lib/python3.10/site-packages/tensorflow/python/data/ops/structured_function.py:265: UserWarning: Even though the `tf.config.experimental_run_functions_eagerly` option is set, this option does not apply to tf.data functions. To force eager execution of tf.data functions, please use `tf.data.experimental.enable_debug_mode()`.\n",
      "  warnings.warn(\n"
     ]
    },
    {
     "name": "stdout",
     "output_type": "stream",
     "text": [
      "Epoch 1/10\n",
      "391/391 [==============================] - 20s 47ms/step - loss: 1.4540 - accuracy: 0.4763 - val_loss: 1.1014 - val_accuracy: 0.6079\n",
      "Epoch 2/10\n",
      "391/391 [==============================] - 17s 44ms/step - loss: 0.9815 - accuracy: 0.6544 - val_loss: 0.9498 - val_accuracy: 0.6723\n",
      "Epoch 3/10\n",
      "391/391 [==============================] - 17s 44ms/step - loss: 0.7779 - accuracy: 0.7264 - val_loss: 0.8341 - val_accuracy: 0.7150\n",
      "Epoch 4/10\n",
      "391/391 [==============================] - 17s 44ms/step - loss: 0.6212 - accuracy: 0.7838 - val_loss: 0.7508 - val_accuracy: 0.7434\n",
      "Epoch 5/10\n",
      "391/391 [==============================] - 17s 44ms/step - loss: 0.4765 - accuracy: 0.8346 - val_loss: 0.7616 - val_accuracy: 0.7491\n",
      "Epoch 6/10\n",
      "391/391 [==============================] - 17s 44ms/step - loss: 0.3421 - accuracy: 0.8810 - val_loss: 0.8524 - val_accuracy: 0.7445\n",
      "Epoch 7/10\n",
      "391/391 [==============================] - 17s 45ms/step - loss: 0.2216 - accuracy: 0.9229 - val_loss: 0.9412 - val_accuracy: 0.7498\n",
      "Epoch 8/10\n",
      "391/391 [==============================] - 17s 44ms/step - loss: 0.1351 - accuracy: 0.9541 - val_loss: 1.0621 - val_accuracy: 0.7427\n",
      "Epoch 9/10\n",
      "391/391 [==============================] - 17s 43ms/step - loss: 0.0981 - accuracy: 0.9663 - val_loss: 1.2218 - val_accuracy: 0.7460\n",
      "Epoch 10/10\n",
      "391/391 [==============================] - 17s 43ms/step - loss: 0.0726 - accuracy: 0.9748 - val_loss: 1.4584 - val_accuracy: 0.7281\n"
     ]
    }
   ],
   "source": [
    "history = normal_model.fit(x_train, y_train, batch_size=128, epochs=10, validation_data=(x_test, y_test))"
   ]
  },
  {
   "cell_type": "markdown",
   "id": "bd44679a-709d-42d5-837a-30ab82461de4",
   "metadata": {},
   "source": [
    "# Train - Augmented Model"
   ]
  },
  {
   "cell_type": "code",
   "execution_count": 17,
   "id": "5b99a63e-cf0c-4628-bad1-984ce11afdbb",
   "metadata": {},
   "outputs": [
    {
     "name": "stdout",
     "output_type": "stream",
     "text": [
      "Epoch 1/10\n",
      "391/391 [==============================] - 18s 45ms/step - loss: 1.4948 - accuracy: 0.4600 - val_loss: 1.4875 - val_accuracy: 0.4969\n",
      "Epoch 2/10\n",
      "391/391 [==============================] - 18s 47ms/step - loss: 1.0496 - accuracy: 0.6281 - val_loss: 1.3481 - val_accuracy: 0.5636\n",
      "Epoch 3/10\n",
      "391/391 [==============================] - 18s 46ms/step - loss: 0.8786 - accuracy: 0.6897 - val_loss: 1.3416 - val_accuracy: 0.5775\n",
      "Epoch 4/10\n",
      "391/391 [==============================] - 17s 45ms/step - loss: 0.7298 - accuracy: 0.7448 - val_loss: 1.3658 - val_accuracy: 0.5804\n",
      "Epoch 5/10\n",
      "391/391 [==============================] - 18s 46ms/step - loss: 0.5927 - accuracy: 0.7911 - val_loss: 1.3142 - val_accuracy: 0.5964\n",
      "Epoch 6/10\n",
      "391/391 [==============================] - 18s 46ms/step - loss: 0.4433 - accuracy: 0.8449 - val_loss: 1.4550 - val_accuracy: 0.5904\n",
      "Epoch 7/10\n",
      "391/391 [==============================] - 18s 46ms/step - loss: 0.2882 - accuracy: 0.9012 - val_loss: 1.8675 - val_accuracy: 0.5931\n",
      "Epoch 8/10\n",
      "391/391 [==============================] - 18s 45ms/step - loss: 0.1862 - accuracy: 0.9349 - val_loss: 2.1522 - val_accuracy: 0.5950\n",
      "Epoch 9/10\n",
      "391/391 [==============================] - 18s 46ms/step - loss: 0.1048 - accuracy: 0.9645 - val_loss: 2.5301 - val_accuracy: 0.5857\n",
      "Epoch 10/10\n",
      "391/391 [==============================] - 18s 46ms/step - loss: 0.0760 - accuracy: 0.9747 - val_loss: 2.9618 - val_accuracy: 0.5889\n"
     ]
    }
   ],
   "source": [
    "history = augmented_model.fit(cutmix_train[0], y_train, batch_size=128, epochs=10, validation_data=(cutmix_test[0], y_test))"
   ]
  },
  {
   "cell_type": "markdown",
   "id": "19d2983f-a888-4ec4-849c-a4b541439629",
   "metadata": {},
   "source": [
    "# Test "
   ]
  },
  {
   "cell_type": "code",
   "execution_count": 18,
   "id": "aa564f44-ba0e-4bc7-bd19-4d9dc1786e98",
   "metadata": {},
   "outputs": [],
   "source": [
    "y_train_true = np.argmax(y_train, axis=1)\n",
    "y_test_true = np.argmax(y_test, axis=1)"
   ]
  },
  {
   "cell_type": "code",
   "execution_count": 19,
   "id": "e1af3127-c7b0-4661-a8a3-9ec0f6c45366",
   "metadata": {},
   "outputs": [],
   "source": [
    "normal_pred1 = normal_model.predict(x_test, verbose=0)\n",
    "normal_pred1 = np.argmax(normal_pred1, axis=1)"
   ]
  },
  {
   "cell_type": "code",
   "execution_count": 20,
   "id": "67d0f50e-0fcf-4f24-bfd7-222ece556349",
   "metadata": {},
   "outputs": [],
   "source": [
    "normal_pred2 = normal_model.predict(cutmix_test[0], verbose=0)\n",
    "normal_pred2 = np.argmax(normal_pred2, axis=1)"
   ]
  },
  {
   "cell_type": "code",
   "execution_count": 21,
   "id": "8d363356-e481-481a-b830-510630b4eb11",
   "metadata": {},
   "outputs": [],
   "source": [
    "augmented_pred1 = augmented_model.predict(x_test, verbose=0)\n",
    "augmented_pred1 = np.argmax(augmented_pred1, axis=1)"
   ]
  },
  {
   "cell_type": "code",
   "execution_count": 22,
   "id": "ff46b012-6418-4c44-8fd8-ced6d3d72641",
   "metadata": {},
   "outputs": [],
   "source": [
    "augmented_pred2 = augmented_model.predict(cutmix_test[0], verbose=0)\n",
    "augmented_pred2 = np.argmax(augmented_pred2, axis=1)"
   ]
  },
  {
   "cell_type": "markdown",
   "id": "91cd584a-f20e-43a1-80f0-7018a836de98",
   "metadata": {},
   "source": [
    "# Results"
   ]
  },
  {
   "cell_type": "code",
   "execution_count": 23,
   "id": "17742949-1b60-4ffc-8ded-764407c04b93",
   "metadata": {},
   "outputs": [
    {
     "name": "stdout",
     "output_type": "stream",
     "text": [
      "Normal Model Accuracy (Normal Data): 0.7281\n",
      "Normal Model Accuracy (Augmented Data): 0.5596\n"
     ]
    }
   ],
   "source": [
    "print(\"Normal Model Accuracy (Normal Data):\", accuracy_score(y_test_true, normal_pred1))\n",
    "print(\"Normal Model Accuracy (Augmented Data):\", accuracy_score(y_test_true, normal_pred2))"
   ]
  },
  {
   "cell_type": "code",
   "execution_count": 24,
   "id": "06ba8858-3dcc-43e1-b218-ae7506285d32",
   "metadata": {},
   "outputs": [
    {
     "name": "stdout",
     "output_type": "stream",
     "text": [
      "Augmented Model Accuracy (Normal Data): 0.7434\n",
      "Augmented Model Accuracy (Augmented Data): 0.5887\n"
     ]
    }
   ],
   "source": [
    "print(\"Augmented Model Accuracy (Normal Data):\", accuracy_score(y_test_true, augmented_pred1))\n",
    "print(\"Augmented Model Accuracy (Augmented Data):\", accuracy_score(y_test_true, augmented_pred2))"
   ]
  },
  {
   "cell_type": "code",
   "execution_count": null,
   "id": "a0c36f03-70f2-4d05-860d-ff14678c3b5a",
   "metadata": {},
   "outputs": [],
   "source": []
  }
 ],
 "metadata": {
  "kernelspec": {
   "display_name": "Python 3 (ipykernel)",
   "language": "python",
   "name": "python3"
  },
  "language_info": {
   "codemirror_mode": {
    "name": "ipython",
    "version": 3
   },
   "file_extension": ".py",
   "mimetype": "text/x-python",
   "name": "python",
   "nbconvert_exporter": "python",
   "pygments_lexer": "ipython3",
   "version": "3.10.12"
  }
 },
 "nbformat": 4,
 "nbformat_minor": 5
}

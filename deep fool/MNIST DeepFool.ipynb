{
 "cells": [
  {
   "cell_type": "markdown",
   "id": "cabc54b8-aea4-4abc-a31c-b37990e0441c",
   "metadata": {},
   "source": [
    "# Import Libraries"
   ]
  },
  {
   "cell_type": "code",
   "execution_count": 1,
   "id": "4f4b4c3c-4d65-4f9f-bbca-a1813cacfdaf",
   "metadata": {},
   "outputs": [],
   "source": [
    "import numpy as np\n",
    "import matplotlib.pyplot as plt\n",
    "\n",
    "from tensorflow.keras import layers, models\n",
    "from tensorflow.keras.optimizers import Adam\n",
    "from tensorflow.keras.losses import SparseCategoricalCrossentropy\n",
    "from tensorflow.keras.utils import to_categorical\n",
    "\n",
    "from sklearn.metrics import accuracy_score, precision_score, recall_score, f1_score\n",
    "\n",
    "from art.utils import load_mnist\n",
    "from art.estimators.classification import TensorFlowV2Classifier\n",
    "from art.attacks.evasion import DeepFool"
   ]
  },
  {
   "cell_type": "markdown",
   "id": "a1a03f9f-b399-4476-8c6a-be10c6fec6b3",
   "metadata": {},
   "source": [
    "# Load Data"
   ]
  },
  {
   "cell_type": "code",
   "execution_count": 2,
   "id": "449b7141-8fe7-4195-817a-d20d8408171a",
   "metadata": {},
   "outputs": [],
   "source": [
    "(x_train, y_train), (x_test, y_test), min_, max_ = load_mnist()"
   ]
  },
  {
   "cell_type": "code",
   "execution_count": 3,
   "id": "ef7e27b1-5637-45e1-930e-3b52daeeedf7",
   "metadata": {},
   "outputs": [],
   "source": [
    "x_train = x_train.reshape(x_train.shape[0], -1)\n",
    "x_test = x_test.reshape(x_test.shape[0], -1)\n",
    "\n",
    "y_train = np.argmax(y_train, axis=1)\n",
    "y_test = np.argmax(y_test, axis=1)\n",
    "\n",
    "n_samples_max = 100\n",
    "x_train = x_train[:n_samples_max]\n",
    "y_train = y_train[:n_samples_max]\n",
    "x_test = x_test[:n_samples_max]\n",
    "y_test = y_test[:n_samples_max]"
   ]
  },
  {
   "cell_type": "markdown",
   "id": "41deab87-29ab-4041-a890-50cb78d9f488",
   "metadata": {},
   "source": [
    "# Model"
   ]
  },
  {
   "cell_type": "code",
   "execution_count": 4,
   "id": "ca58848a-92e5-4a62-94fc-569f0a44f9a9",
   "metadata": {},
   "outputs": [],
   "source": [
    "model = models.Sequential([\n",
    "    layers.Dense(64, activation='relu'),\n",
    "    layers.Dense(128, activation='relu'),\n",
    "    layers.Dense(256, activation='relu'),\n",
    "    layers.Dense(10, activation='softmax')\n",
    "])"
   ]
  },
  {
   "cell_type": "code",
   "execution_count": 5,
   "id": "dc385cf0-6281-4fb4-be9a-2afd4514e8b9",
   "metadata": {},
   "outputs": [],
   "source": [
    "model.compile(loss=SparseCategoricalCrossentropy(from_logits=True), optimizer=\"adam\", metrics=[\"accuracy\"])"
   ]
  },
  {
   "cell_type": "markdown",
   "id": "b1fb7bb2-53dc-4a0d-8b1a-98f754f55a7f",
   "metadata": {},
   "source": [
    "# Train"
   ]
  },
  {
   "cell_type": "code",
   "execution_count": 6,
   "id": "ecf93b66-2226-49cf-b94b-77c0e7a50c19",
   "metadata": {},
   "outputs": [
    {
     "name": "stdout",
     "output_type": "stream",
     "text": [
      "Epoch 1/10\n"
     ]
    },
    {
     "name": "stderr",
     "output_type": "stream",
     "text": [
      "/home/alper/.local/lib/python3.10/site-packages/keras/src/backend.py:5714: UserWarning: \"`sparse_categorical_crossentropy` received `from_logits=True`, but the `output` argument was produced by a Softmax activation and thus does not represent logits. Was this intended?\n",
      "  output, from_logits = _get_logits(\n"
     ]
    },
    {
     "name": "stdout",
     "output_type": "stream",
     "text": [
      "4/4 [==============================] - 1s 6ms/step - loss: 2.2660 - accuracy: 0.1600\n",
      "Epoch 2/10\n",
      "4/4 [==============================] - 0s 4ms/step - loss: 2.0640 - accuracy: 0.4800\n",
      "Epoch 3/10\n",
      "4/4 [==============================] - 0s 3ms/step - loss: 1.8613 - accuracy: 0.6600\n",
      "Epoch 4/10\n",
      "4/4 [==============================] - 0s 4ms/step - loss: 1.6097 - accuracy: 0.6800\n",
      "Epoch 5/10\n",
      "4/4 [==============================] - 0s 4ms/step - loss: 1.3519 - accuracy: 0.7400\n",
      "Epoch 6/10\n",
      "4/4 [==============================] - 0s 4ms/step - loss: 1.0821 - accuracy: 0.8200\n",
      "Epoch 7/10\n",
      "4/4 [==============================] - 0s 4ms/step - loss: 0.8239 - accuracy: 0.8800\n",
      "Epoch 8/10\n",
      "4/4 [==============================] - 0s 4ms/step - loss: 0.5892 - accuracy: 0.9200\n",
      "Epoch 9/10\n",
      "4/4 [==============================] - 0s 4ms/step - loss: 0.4299 - accuracy: 0.9500\n",
      "Epoch 10/10\n",
      "4/4 [==============================] - 0s 4ms/step - loss: 0.2914 - accuracy: 0.9600\n"
     ]
    },
    {
     "data": {
      "text/plain": [
       "<keras.src.callbacks.History at 0x7faa39541930>"
      ]
     },
     "execution_count": 6,
     "metadata": {},
     "output_type": "execute_result"
    }
   ],
   "source": [
    "model.fit(x_train, y_train, epochs=10, batch_size=32)"
   ]
  },
  {
   "cell_type": "markdown",
   "id": "e46b077c-4c49-4b08-9d54-58b8b9bcea62",
   "metadata": {},
   "source": [
    "# Attack"
   ]
  },
  {
   "cell_type": "code",
   "execution_count": 7,
   "id": "309d9831-e3f1-4cad-8355-6c7d3e76f5de",
   "metadata": {},
   "outputs": [],
   "source": [
    "art_model = TensorFlowV2Classifier(model=model, loss_object=SparseCategoricalCrossentropy(from_logits=True), nb_classes=10, input_shape=(784,), clip_values=(0, 1))"
   ]
  },
  {
   "cell_type": "code",
   "execution_count": 8,
   "id": "13b2633d-fa86-4ca9-b9d0-4ab0d206f056",
   "metadata": {},
   "outputs": [],
   "source": [
    "deep_fool = DeepFool(classifier=art_model)"
   ]
  },
  {
   "cell_type": "code",
   "execution_count": 9,
   "id": "05337f8a-285b-4b2e-b67c-cdeea6601b32",
   "metadata": {},
   "outputs": [
    {
     "data": {
      "application/vnd.jupyter.widget-view+json": {
       "model_id": "6ee77db68e814e2b8ffa2f2a24ce862b",
       "version_major": 2,
       "version_minor": 0
      },
      "text/plain": [
       "DeepFool:   0%|          | 0/100 [00:00<?, ?it/s]"
      ]
     },
     "metadata": {},
     "output_type": "display_data"
    },
    {
     "name": "stdout",
     "output_type": "stream",
     "text": [
      "WARNING:tensorflow:Calling GradientTape.gradient on a persistent tape inside its context is significantly less efficient than calling it outside the context (it causes the gradient ops to be recorded on the tape, leading to increased CPU and memory usage). Only call GradientTape.gradient inside the context if you actually want to trace the gradient in order to compute higher order derivatives.\n"
     ]
    }
   ],
   "source": [
    "adv_test = deep_fool.generate(x=x_test)"
   ]
  },
  {
   "cell_type": "markdown",
   "id": "45b35b4f-69e3-42c0-a824-e0c200f6b6da",
   "metadata": {},
   "source": [
    "# Results"
   ]
  },
  {
   "cell_type": "code",
   "execution_count": 11,
   "id": "6dbb96e2-ad7b-425e-8e6b-dad1a3e4c65a",
   "metadata": {},
   "outputs": [],
   "source": [
    "safe_preds = np.argmax(art_model.predict(x_test), axis=1)"
   ]
  },
  {
   "cell_type": "code",
   "execution_count": 12,
   "id": "9277ebd8-772f-4252-a945-f28e48eb5545",
   "metadata": {},
   "outputs": [
    {
     "name": "stderr",
     "output_type": "stream",
     "text": [
      "/home/alper/.local/lib/python3.10/site-packages/sklearn/metrics/_classification.py:1531: UndefinedMetricWarning: Precision is ill-defined and being set to 0.0 in labels with no predicted samples. Use `zero_division` parameter to control this behavior.\n",
      "  _warn_prf(average, modifier, f\"{metric.capitalize()} is\", len(result))\n"
     ]
    }
   ],
   "source": [
    "safe_model_scores = {\n",
    "    'ACC': accuracy_score(y_test, safe_preds),\n",
    "    'PREC': precision_score(y_test, safe_preds, average='weighted'),\n",
    "    'REC': recall_score(y_test, safe_preds, average='weighted'),\n",
    "    'F1': f1_score(y_test, safe_preds, average='weighted')\n",
    "}"
   ]
  },
  {
   "cell_type": "code",
   "execution_count": 13,
   "id": "5f01d6ab-bb0e-4217-a4c6-7a2811877bdd",
   "metadata": {},
   "outputs": [
    {
     "data": {
      "text/plain": [
       "{'ACC': 0.7, 'PREC': 0.673026320901321, 'REC': 0.7, 'F1': 0.6716408292235967}"
      ]
     },
     "execution_count": 13,
     "metadata": {},
     "output_type": "execute_result"
    }
   ],
   "source": [
    "safe_model_scores"
   ]
  },
  {
   "cell_type": "code",
   "execution_count": 14,
   "id": "b514ed9f-2dd9-4dc7-8699-5f0223571ff0",
   "metadata": {},
   "outputs": [],
   "source": [
    "adv_preds = np.argmax(art_model.predict(adv_test), axis=1)"
   ]
  },
  {
   "cell_type": "code",
   "execution_count": 15,
   "id": "fac7b9ad-7238-4efb-b744-1e15926586da",
   "metadata": {},
   "outputs": [
    {
     "name": "stderr",
     "output_type": "stream",
     "text": [
      "/home/alper/.local/lib/python3.10/site-packages/sklearn/metrics/_classification.py:1531: UndefinedMetricWarning: Precision is ill-defined and being set to 0.0 in labels with no predicted samples. Use `zero_division` parameter to control this behavior.\n",
      "  _warn_prf(average, modifier, f\"{metric.capitalize()} is\", len(result))\n"
     ]
    }
   ],
   "source": [
    "adv_model_scores = {\n",
    "    'ACC': accuracy_score(y_test, adv_preds),\n",
    "    'PREC': precision_score(y_test, adv_preds, average='weighted'),\n",
    "    'REC': recall_score(y_test, adv_preds, average='weighted'),\n",
    "    'F1': f1_score(y_test, adv_preds, average='weighted')\n",
    "}"
   ]
  },
  {
   "cell_type": "code",
   "execution_count": 16,
   "id": "edbbebfc-72f6-4753-85dd-c146c7a06c1c",
   "metadata": {},
   "outputs": [
    {
     "data": {
      "text/plain": [
       "{'ACC': 0.22,\n",
       " 'PREC': 0.14753174603174604,\n",
       " 'REC': 0.22,\n",
       " 'F1': 0.17423158856018897}"
      ]
     },
     "execution_count": 16,
     "metadata": {},
     "output_type": "execute_result"
    }
   ],
   "source": [
    "adv_model_scores"
   ]
  },
  {
   "cell_type": "code",
   "execution_count": 17,
   "id": "2a7c635f-065c-4ff1-a704-81ccf599a5d2",
   "metadata": {},
   "outputs": [
    {
     "data": {
      "image/png": "[encoded data removed]",
      "text/plain": [
       "<Figure size 1000x600 with 16 Axes>"
      ]
     },
     "metadata": {},
     "output_type": "display_data"
    }
   ],
   "source": [
    "fig, axes = plt.subplots(nrows=4, ncols=4, figsize=(10, 6))\n",
    "random_index = np.random.randint(0, len(adv_test), 16)\n",
    "\n",
    "for i, ax in enumerate(axes.ravel()):\n",
    "    ax.imshow(adv_test[random_index[i]].reshape(28, 28), cmap='gray')\n",
    "    ax.axis('off')\n",
    "\n",
    "    if y_test[random_index[i]] == adv_preds[random_index[i]]:\n",
    "        color = 'green'\n",
    "    else:\n",
    "        color = 'red'\n",
    "\n",
    "    ax.set_title(\n",
    "        f'True: {y_test[random_index[i]]}\\nPredicted: {adv_preds[random_index[i]]}',\n",
    "        color=color\n",
    "    )\n",
    "\n",
    "plt.tight_layout()\n",
    "plt.show()"
   ]
  },
  {
   "cell_type": "code",
   "execution_count": null,
   "id": "43b70148-04f2-424d-9580-2e7ac4c993e7",
   "metadata": {},
   "outputs": [],
   "source": []
  }
 ],
 "metadata": {
  "kernelspec": {
   "display_name": "Python 3 (ipykernel)",
   "language": "python",
   "name": "python3"
  },
  "language_info": {
   "codemirror_mode": {
    "name": "ipython",
    "version": 3
   },
   "file_extension": ".py",
   "mimetype": "text/x-python",
   "name": "python",
   "nbconvert_exporter": "python",
   "pygments_lexer": "ipython3",
   "version": "3.10.12"
  }
 },
 "nbformat": 4,
 "nbformat_minor": 5
}

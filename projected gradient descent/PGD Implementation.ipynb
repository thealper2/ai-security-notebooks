{
 "cells": [
  {
   "cell_type": "markdown",
   "id": "926de2f5-3245-428e-ae83-f0a7b4c71cd1",
   "metadata": {},
   "source": [
    "# Import Libraries"
   ]
  },
  {
   "cell_type": "code",
   "execution_count": null,
   "id": "a347456f-2b2e-492d-b534-af607b4485c6",
   "metadata": {},
   "outputs": [],
   "source": [
    "import torch\n",
    "import numpy as np\n",
    "import tensorflow as tf\n",
    "import torch.nn.functional as F\n",
    "import matplotlib.pyplot as plt"
   ]
  },
  {
   "cell_type": "markdown",
   "id": "d2654993-db8e-4c14-adce-59c00a78f3cd",
   "metadata": {},
   "source": [
    "# PyTorch Implementation"
   ]
  },
  {
   "cell_type": "code",
   "execution_count": null,
   "id": "8cb06898-0b29-4503-ae38-9dc7f511b1c7",
   "metadata": {},
   "outputs": [],
   "source": [
    "def projected_gradient_descent(x_sample, y_sample, model, epsilon=0.1, alpha=0.01, num_iterations=40, norm='L_inf'):\n",
    "    x_adv = torch.tensor(x_sample, requires_grad=True)\n",
    "    y_sample = torch.tensor(y_sample)\n",
    "\n",
    "    for i in range(num_iterations):\n",
    "        model.zero_grad()\n",
    "        predictions = model(x_adv)\n",
    "        loss = F.cross_entropy(predictions, y_sample)\n",
    "        loss.backward()\n",
    "\n",
    "        gradient = x_adv.grad.data\n",
    "\n",
    "        if norm == \"L_inf\":\n",
    "            signed_grad = torch.sign(gradient)\n",
    "            x_adv = x_adv + alpha * signed_grad\n",
    "            x_adv = torch.clamp(x_adv, x_sample - epsilon, x_sample + epsilon)\n",
    "\n",
    "        elif norm == \"L_1\":\n",
    "            grad_norm = torch.sum(torch.abs(gradient), dim=[1, 2, 3], keepdim=True)\n",
    "            normalized_grad = gradient / (grad_norm + 1e-10)\n",
    "            x_adv = x_adv + alpha * normalized_grad\n",
    "\n",
    "            perturbation = x_adv - x_sample\n",
    "            perturb_norm = torch.sum(torch.abs(perturbation), dim=[1, 2, 3], keepdim=True)\n",
    "            scaling_factor = torch.minimum(torch.tensor(1.0), epsilon / (perturb_norm + 1e-10))\n",
    "            x_adv = x_sample + perturbation * scaling_factor\n",
    "\n",
    "        elif norm == \"L_2\":\n",
    "            grad_norm = torch.sqrt(torch.sum(torch.square(gradient), dim=[1, 2, 3], keepdim=True))\n",
    "            normalized_grad = gradient / (grad_norm + 1e-10)\n",
    "            x_adv = x_adv + alpha * normalized_grad\n",
    "\n",
    "            perturbation = x_adv - x_sample\n",
    "            perturb_norm = torch.sqrt(torch.sum(torch.square(perturbation), dim=[1, 2, 3], keepdim=True))\n",
    "            scaling_factor = torch.minimum(torch.tensor(1.0), epsilon / (perturb_norm + 1e-10))\n",
    "            x_adv = x_sample + perturbation * scaling_factor\n",
    "\n",
    "        x_adv = x_adv.detach().requires_grad_(True)\n",
    "\n",
    "    x_adv = torch.clamp(x_adv, 0.0, 1.0)\n",
    "    return x_adv.detach().numpy()"
   ]
  },
  {
   "cell_type": "markdown",
   "id": "2e934bb2-8ab6-4908-8615-77d045313602",
   "metadata": {},
   "source": [
    "# TensorFlow Implementation"
   ]
  },
  {
   "cell_type": "code",
   "execution_count": 41,
   "id": "e6c4fda1-5e09-4e5e-9147-410de5118801",
   "metadata": {},
   "outputs": [],
   "source": [
    "def projected_gradient_descent(x_sample, y_sample, epsilon=0.1, alpha=0.01, num_iterations=40, norm='L_inf'):\n",
    "    x_adv = tf.convert_to_tensor(x_sample)\n",
    "    y_sample = tf.convert_to_tensor(y_sample)\n",
    "\n",
    "    for i in range(num_iterations):\n",
    "        with tf.GradientTape() as tape:\n",
    "            tape.watch(x_adv)\n",
    "            predictions = model(x_adv)\n",
    "            loss = tf.keras.losses.categorical_crossentropy(y_sample, predictions)\n",
    "\n",
    "        gradient = tape.gradient(loss, x_adv)\n",
    "\n",
    "        if norm == \"L_inf\":\n",
    "            signed_grad = tf.sign(gradient)\n",
    "            x_adv = x_adv + alpha * signed_grad\n",
    "            x_adv = tf.clip_by_value(x_adv, x_sample - epsilon, x_sample + epsilon)\n",
    "\n",
    "        elif norm == \"L_1\":\n",
    "            grad_norm = tf.reduce_sum(tf.abs(gradient), axis=[1, 2, 3], keepdims=True)\n",
    "            normalized_grad = gradient / (grad_norm + 1e-10)\n",
    "            x_adv = x_adv + alpha * normalized_grad\n",
    "\n",
    "            perturbation = x_adv - x_sample\n",
    "            perturb_norm = tf.reduce_sum(tf.abs(perturbation), axis=[1, 2, 3], keepdims=True)\n",
    "            scaling_factor = tf.minimum(1.0, epsilon / (perturb_norm + 1e-10))\n",
    "            x_adv = x_sample + perturbation * scaling_factor\n",
    "        \n",
    "        elif norm == \"L_2\":\n",
    "            grad_norm = tf.sqrt(tf.reduce_sum(tf.square(gradient), axis=[1, 2, 3], keepdims=True))\n",
    "            normalized_grad = gradient / (grad_norm + 1e-10)\n",
    "            x_adv = x_adv + alpha * normalized_grad\n",
    "\n",
    "            perturbation = x_adv - x_sample\n",
    "            perturb_norm = tf.sqrt(tf.reduce_sum(tf.square(perturbation), axis=[1, 2, 3], keepdims=True))\n",
    "            scaling_factor = tf.minimum(1.0, epsilon / (perturb_norm + 1e-10))\n",
    "            x_adv = x_sample + perturbation * scaling_factor\n",
    "\n",
    "    x_adv = tf.clip_by_value(x_adv, 0.0, 1.0)\n",
    "    return x_adv.numpy()"
   ]
  },
  {
   "cell_type": "markdown",
   "id": "d7f4f3dc-0a0d-4c70-b398-c0e95f5366be",
   "metadata": {},
   "source": [
    "# Load Data"
   ]
  },
  {
   "cell_type": "code",
   "execution_count": 42,
   "id": "1f151774-40c3-4dc2-b1a7-884255c81f9f",
   "metadata": {},
   "outputs": [],
   "source": [
    "(x_train, y_train), (x_test, y_test) = tf.keras.datasets.cifar10.load_data()"
   ]
  },
  {
   "cell_type": "code",
   "execution_count": 43,
   "id": "641efdae-4127-44ea-a1c4-601fbc919a1b",
   "metadata": {},
   "outputs": [],
   "source": [
    "x_train = x_train.astype('float32') / 255\n",
    "x_test = x_test.astype('float32') / 255"
   ]
  },
  {
   "cell_type": "code",
   "execution_count": 44,
   "id": "10690c9e-6f31-4fc4-be7f-0ef1edcf2a42",
   "metadata": {},
   "outputs": [],
   "source": [
    "y_train = tf.keras.utils.to_categorical(y_train, num_classes=10)\n",
    "y_test = tf.keras.utils.to_categorical(y_test, num_classes=10)"
   ]
  },
  {
   "cell_type": "markdown",
   "id": "311bd5c2-b435-4615-a606-aa34d5243f63",
   "metadata": {},
   "source": [
    "# Load Model"
   ]
  },
  {
   "cell_type": "code",
   "execution_count": 45,
   "id": "c593cd7a-cdf6-435b-acd0-96fbe3ea71fc",
   "metadata": {},
   "outputs": [],
   "source": [
    "model = tf.keras.models.load_model(\"models/cifar10_safe_model.h5\")"
   ]
  },
  {
   "cell_type": "markdown",
   "id": "9d6aae58-a13b-4284-b1b8-a2b820f8997a",
   "metadata": {},
   "source": [
    "# Attack"
   ]
  },
  {
   "cell_type": "code",
   "execution_count": 46,
   "id": "4a7e0495-eb8c-4edc-abc5-d5e38b726d86",
   "metadata": {},
   "outputs": [],
   "source": [
    "cifar10_class_names = [\"airplane\", \"automobile\", \"bird\", \"cat\", \"deer\",\n",
    "                       \"dog\", \"frog\", \"horse\", \"ship\", \"truck\"]"
   ]
  },
  {
   "cell_type": "code",
   "execution_count": 71,
   "id": "199834e0-b11b-41cf-aa3f-08461ade397f",
   "metadata": {},
   "outputs": [],
   "source": [
    "idx = 1\n",
    "x_sample = x_test[idx:idx+1]\n",
    "y_sample = y_test[idx:idx+1]"
   ]
  },
  {
   "cell_type": "code",
   "execution_count": 81,
   "id": "c0994cd6-ed10-4bc9-809f-25010dddc3f5",
   "metadata": {},
   "outputs": [],
   "source": [
    "perturbed_sample = projected_gradient_descent(x_sample, y_sample, epsilon=0.3, alpha=0.05, num_iterations=50, norm='L_2')"
   ]
  },
  {
   "cell_type": "code",
   "execution_count": 82,
   "id": "1728e452-560c-40e2-85dd-28701c1d4c0e",
   "metadata": {},
   "outputs": [],
   "source": [
    "original_image = x_sample[0, :, :, :]\n",
    "perturbed_image = perturbed_sample[0, :, :, :]"
   ]
  },
  {
   "cell_type": "code",
   "execution_count": 83,
   "id": "0a0aa2ab-a8aa-4ef3-8266-47e6bcb67532",
   "metadata": {},
   "outputs": [
    {
     "name": "stdout",
     "output_type": "stream",
     "text": [
      "Prediction before attack: [8]\n",
      "Prediction after attack: [1]\n"
     ]
    }
   ],
   "source": [
    "original_pred = np.argmax(model.predict(x_sample, verbose=False), axis=1)\n",
    "perturbed_pred = np.argmax(model.predict(perturbed_sample, verbose=False), axis=1)\n",
    "\n",
    "print(f\"Prediction before attack: {original_pred}\")\n",
    "print(f\"Prediction after attack: {perturbed_pred}\")"
   ]
  },
  {
   "cell_type": "code",
   "execution_count": 84,
   "id": "3399689e-ccd1-4451-9dd7-223eb30f971b",
   "metadata": {},
   "outputs": [
    {
     "data": {
      "image/png": "[encoded data removed]",
      "text/plain": [
       "<Figure size 1200x400 with 2 Axes>"
      ]
     },
     "metadata": {},
     "output_type": "display_data"
    }
   ],
   "source": [
    "plt.figure(figsize=(12, 4))\n",
    "\n",
    "plt.subplot(1, 2, 1)\n",
    "plt.title(f\"Original Image (C:{cifar10_class_names[original_pred[0]]})\")\n",
    "plt.imshow(original_image)\n",
    "plt.axis(\"off\")\n",
    "\n",
    "plt.subplot(1, 2, 2)\n",
    "plt.title(f\"Perturbed Image (P:{cifar10_class_names[perturbed_pred[0]]})\")\n",
    "plt.imshow(perturbed_image)\n",
    "plt.axis(\"off\")\n",
    "\n",
    "plt.tight_layout()\n",
    "plt.show()"
   ]
  },
  {
   "cell_type": "code",
   "execution_count": null,
   "id": "8c954fa9-5f1e-4ad3-b6cc-21fffd08f8fb",
   "metadata": {},
   "outputs": [],
   "source": []
  },
  {
   "cell_type": "code",
   "execution_count": null,
   "id": "f328e54a-fd0d-49b2-9a95-cc6938b5796c",
   "metadata": {},
   "outputs": [],
   "source": []
  }
 ],
 "metadata": {
  "kernelspec": {
   "display_name": "Python 3 (ipykernel)",
   "language": "python",
   "name": "python3"
  },
  "language_info": {
   "codemirror_mode": {
    "name": "ipython",
    "version": 3
   },
   "file_extension": ".py",
   "mimetype": "text/x-python",
   "name": "python",
   "nbconvert_exporter": "python",
   "pygments_lexer": "ipython3",
   "version": "3.10.12"
  }
 },
 "nbformat": 4,
 "nbformat_minor": 5
}

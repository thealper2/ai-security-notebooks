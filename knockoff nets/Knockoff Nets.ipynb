{
 "cells": [
  {
   "cell_type": "markdown",
   "id": "feff37bb-1b22-4d63-9c17-894110e6e264",
   "metadata": {},
   "source": [
    "# Import Libraries"
   ]
  },
  {
   "cell_type": "code",
   "execution_count": 1,
   "id": "d3f065a9-a9c0-4f58-8f72-5a9f66931a01",
   "metadata": {},
   "outputs": [],
   "source": [
    "import numpy as np\n",
    "import tensorflow as tf\n",
    "import matplotlib.pyplot as plt\n",
    "\n",
    "from tensorflow.keras.layers import Flatten, Dense\n",
    "from tensorflow.keras.models import Sequential\n",
    "from tensorflow.keras.losses import CategoricalCrossentropy\n",
    "from tensorflow.keras.optimizers import Adam\n",
    "\n",
    "from art.utils import load_mnist\n",
    "from art.estimators.classification import TensorFlowV2Classifier\n",
    "from art.attacks.extraction import KnockoffNets"
   ]
  },
  {
   "cell_type": "markdown",
   "id": "821960d5-0490-4de3-9bf8-8c9116432b06",
   "metadata": {},
   "source": [
    "# Load Data"
   ]
  },
  {
   "cell_type": "code",
   "execution_count": 2,
   "id": "46cf88b1-66bf-4c7a-95af-abd0120472e8",
   "metadata": {},
   "outputs": [],
   "source": [
    "(x_train, y_train), (x_test, y_test), min_, max_ = load_mnist()"
   ]
  },
  {
   "cell_type": "markdown",
   "id": "a29b0905-7eda-44db-8cc4-eca0b485d8ed",
   "metadata": {},
   "source": [
    "# Target Model"
   ]
  },
  {
   "cell_type": "code",
   "execution_count": 3,
   "id": "e80f826c-15b9-45d1-b968-1459a010cffe",
   "metadata": {},
   "outputs": [],
   "source": [
    "target_model = Sequential([\n",
    "    Flatten(input_shape=(28, 28)),\n",
    "    Dense(128, activation=\"relu\"),\n",
    "    Dense(10)\n",
    "])"
   ]
  },
  {
   "cell_type": "code",
   "execution_count": 4,
   "id": "bee65dee-3566-4336-a4f3-0652f26b1259",
   "metadata": {},
   "outputs": [],
   "source": [
    "target_model.compile(\n",
    "    optimizer=Adam(learning_rate=0.01),\n",
    "    loss=CategoricalCrossentropy(from_logits=True),\n",
    "    metrics=[\"accuracy\"]\n",
    ")"
   ]
  },
  {
   "cell_type": "code",
   "execution_count": 5,
   "id": "f75f328e-7433-40e7-9b88-bc38ebfaa288",
   "metadata": {},
   "outputs": [
    {
     "name": "stdout",
     "output_type": "stream",
     "text": [
      "Epoch 1/5\n",
      "938/938 [==============================] - 4s 4ms/step - loss: 0.2203 - accuracy: 0.9335\n",
      "Epoch 2/5\n",
      "938/938 [==============================] - 4s 4ms/step - loss: 0.1280 - accuracy: 0.9621\n",
      "Epoch 3/5\n",
      "938/938 [==============================] - 4s 5ms/step - loss: 0.1165 - accuracy: 0.9666\n",
      "Epoch 4/5\n",
      "938/938 [==============================] - 5s 5ms/step - loss: 0.1038 - accuracy: 0.9699\n",
      "Epoch 5/5\n",
      "938/938 [==============================] - 5s 5ms/step - loss: 0.0909 - accuracy: 0.9748\n"
     ]
    },
    {
     "data": {
      "text/plain": [
       "<keras.src.callbacks.History at 0x7fa41a56dff0>"
      ]
     },
     "execution_count": 5,
     "metadata": {},
     "output_type": "execute_result"
    }
   ],
   "source": [
    "target_model.fit(x_train, y_train, epochs=5, batch_size=64, verbose=1)"
   ]
  },
  {
   "cell_type": "code",
   "execution_count": 6,
   "id": "b2d3ea59-5c49-4b5d-8e2b-2ddfafc5d4fb",
   "metadata": {},
   "outputs": [],
   "source": [
    "target_classifier = TensorFlowV2Classifier(\n",
    "    model=target_model, \n",
    "    loss_object=CategoricalCrossentropy(from_logits=True), \n",
    "    optimizer=Adam(learning_rate=0.01), \n",
    "    nb_classes=10,\n",
    "    input_shape=(28, 28),\n",
    "    clip_values=(min_, max_)\n",
    ")"
   ]
  },
  {
   "cell_type": "code",
   "execution_count": 7,
   "id": "afa7ebab-b6e0-4c57-8c90-cc01bda4db25",
   "metadata": {},
   "outputs": [
    {
     "name": "stdout",
     "output_type": "stream",
     "text": [
      "Target Model Accuracy: 0.9574999809265137\n"
     ]
    }
   ],
   "source": [
    "print(\"Target Model Accuracy:\", target_model.evaluate(x_test, y_test, verbose=0)[1])"
   ]
  },
  {
   "cell_type": "markdown",
   "id": "1286ed45-d032-42ca-8ec9-563fcaa87b45",
   "metadata": {},
   "source": [
    "# CopycatCNN"
   ]
  },
  {
   "cell_type": "code",
   "execution_count": 8,
   "id": "7348e57c-1a4e-4d5a-a884-98a6582fb792",
   "metadata": {},
   "outputs": [],
   "source": [
    "knockoff_model = Sequential([\n",
    "    Flatten(input_shape=(28, 28)),\n",
    "    Dense(64, activation=\"relu\"),\n",
    "    Dense(10)\n",
    "])"
   ]
  },
  {
   "cell_type": "code",
   "execution_count": 9,
   "id": "a22cdcab-ab11-402f-b646-77b540f1b586",
   "metadata": {},
   "outputs": [],
   "source": [
    "knockoff_model.compile(\n",
    "    optimizer=Adam(learning_rate=0.01),\n",
    "    loss=CategoricalCrossentropy(from_logits=True),\n",
    "    metrics=[\"accuracy\"]\n",
    ")"
   ]
  },
  {
   "cell_type": "code",
   "execution_count": 10,
   "id": "76baadde-7b42-4939-91d0-14ec9fcc1cdb",
   "metadata": {},
   "outputs": [],
   "source": [
    "knockoff_classifier = TensorFlowV2Classifier(\n",
    "    model=knockoff_model, \n",
    "    loss_object=CategoricalCrossentropy(from_logits=True), \n",
    "    optimizer=Adam(learning_rate=0.01),\n",
    "    nb_classes=10,\n",
    "    input_shape=(28, 28),\n",
    "    clip_values=(min_, max_)\n",
    ")"
   ]
  },
  {
   "cell_type": "code",
   "execution_count": 11,
   "id": "89783326-dd13-4d3e-aa05-3a2e02a557ec",
   "metadata": {},
   "outputs": [],
   "source": [
    "knockoff_attack = KnockoffNets(\n",
    "    classifier=knockoff_classifier, \n",
    "    nb_epochs=10,\n",
    "    nb_stolen=10000\n",
    ")"
   ]
  },
  {
   "cell_type": "code",
   "execution_count": 13,
   "id": "d272bbdb-65f8-4210-b869-6847d3686e3e",
   "metadata": {},
   "outputs": [
    {
     "data": {
      "text/plain": [
       "art.estimators.classification.tensorflow.TensorFlowV2Classifier(model=<keras.src.engine.sequential.Sequential object at 0x7fa41afe85b0>, nb_classes=10, input_shape=(28, 28), loss_object=<keras.src.losses.CategoricalCrossentropy object at 0x7fa3f80be1d0>, optimizer=<keras.src.optimizers.adam.Adam object at 0x7fa3f80be200>, train_step=None, channels_first=False, clip_values=array([0., 1.], dtype=float32), preprocessing_defences=None, postprocessing_defences=None, preprocessing=StandardisationMeanStdTensorFlow(mean=0.0, std=1.0, apply_fit=True, apply_predict=True))"
      ]
     },
     "execution_count": 13,
     "metadata": {},
     "output_type": "execute_result"
    }
   ],
   "source": [
    "knockoff_attack.extract(x_test, y_test, thieved_classifier=target_classifier)"
   ]
  },
  {
   "cell_type": "code",
   "execution_count": 14,
   "id": "6a195bd8-131b-4976-8d20-b829a8a03830",
   "metadata": {},
   "outputs": [
    {
     "name": "stdout",
     "output_type": "stream",
     "text": [
      "CopycatCNN Model Accuracy: 0.09610000252723694\n"
     ]
    }
   ],
   "source": [
    "print(\"CopycatCNN Model Accuracy:\", knockoff_classifier._model.evaluate(x_test, y_test, verbose=0)[1])"
   ]
  },
  {
   "cell_type": "code",
   "execution_count": null,
   "id": "21698c1b-1fc8-4f14-9b88-da0528e1b65f",
   "metadata": {},
   "outputs": [],
   "source": []
  }
 ],
 "metadata": {
  "kernelspec": {
   "display_name": "Python 3 (ipykernel)",
   "language": "python",
   "name": "python3"
  },
  "language_info": {
   "codemirror_mode": {
    "name": "ipython",
    "version": 3
   },
   "file_extension": ".py",
   "mimetype": "text/x-python",
   "name": "python",
   "nbconvert_exporter": "python",
   "pygments_lexer": "ipython3",
   "version": "3.10.12"
  }
 },
 "nbformat": 4,
 "nbformat_minor": 5
}

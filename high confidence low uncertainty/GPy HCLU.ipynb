{
 "cells": [
  {
   "cell_type": "markdown",
   "id": "6ac072f5-ffb3-4d69-b4fd-09cfc63549dd",
   "metadata": {},
   "source": [
    "# Import Libraries"
   ]
  },
  {
   "cell_type": "code",
   "execution_count": 20,
   "id": "6fe8d906-fdaf-4c77-ad7a-b3b445b97401",
   "metadata": {},
   "outputs": [],
   "source": [
    "import numpy as np\n",
    "import matplotlib.pyplot as plt\n",
    "\n",
    "import GPy\n",
    "from sklearn.datasets import load_breast_cancer\n",
    "from sklearn.model_selection import train_test_split\n",
    "from sklearn.preprocessing import StandardScaler\n",
    "from sklearn.metrics import accuracy_score\n",
    "\n",
    "from art.attacks.evasion import HighConfidenceLowUncertainty\n",
    "from art.estimators.classification import GPyGaussianProcessClassifier"
   ]
  },
  {
   "cell_type": "markdown",
   "id": "f5886fe6-3337-46ad-92f9-6a71eff96f30",
   "metadata": {},
   "source": [
    "# Load Data"
   ]
  },
  {
   "cell_type": "code",
   "execution_count": 11,
   "id": "2fbc65cb-f21c-43ec-93f8-f75739e8c4b0",
   "metadata": {},
   "outputs": [],
   "source": [
    "breast_cancer = load_breast_cancer()"
   ]
  },
  {
   "cell_type": "code",
   "execution_count": 12,
   "id": "5f5139f9-dd55-4c48-9334-1badbf445ffc",
   "metadata": {},
   "outputs": [],
   "source": [
    "X, y = breast_cancer.data, breast_cancer.target"
   ]
  },
  {
   "cell_type": "code",
   "execution_count": 13,
   "id": "1d437a4c-1bf9-4dfd-bd52-ec3255c051ac",
   "metadata": {},
   "outputs": [],
   "source": [
    "X_train, X_test, y_train, y_test = train_test_split(X, y, test_size=0.2, random_state=42)"
   ]
  },
  {
   "cell_type": "code",
   "execution_count": 14,
   "id": "ba417688-694c-452f-ba08-6f10d32910e7",
   "metadata": {},
   "outputs": [],
   "source": [
    "scaler = StandardScaler()"
   ]
  },
  {
   "cell_type": "code",
   "execution_count": 15,
   "id": "b374bef7-cd58-413c-b43e-959a5f284a56",
   "metadata": {},
   "outputs": [],
   "source": [
    "X_train = scaler.fit_transform(X_train)\n",
    "X_test = scaler.transform(X_test)"
   ]
  },
  {
   "cell_type": "markdown",
   "id": "b592ce84-baf3-4534-814c-16a680e044c6",
   "metadata": {},
   "source": [
    "# Model"
   ]
  },
  {
   "cell_type": "code",
   "execution_count": 16,
   "id": "f7166dfb-b80c-440d-ae2c-b0ebff2bb2e5",
   "metadata": {},
   "outputs": [],
   "source": [
    "kernel = GPy.kern.RBF(input_dim=X_train.shape[1])"
   ]
  },
  {
   "cell_type": "code",
   "execution_count": 17,
   "id": "f0d81c2b-5272-48d1-8bd1-ef508c0cd88b",
   "metadata": {},
   "outputs": [],
   "source": [
    "model = GPy.models.GPClassification(X_train, y_train.reshape(-1, 1), kernel=kernel)"
   ]
  },
  {
   "cell_type": "code",
   "execution_count": 18,
   "id": "2546860b-8405-416b-b347-b94418c65ea3",
   "metadata": {},
   "outputs": [
    {
     "data": {
      "text/plain": [
       "<paramz.optimization.optimization.opt_lbfgsb at 0x7f6fd9ac6560>"
      ]
     },
     "execution_count": 18,
     "metadata": {},
     "output_type": "execute_result"
    }
   ],
   "source": [
    "model.optimize()"
   ]
  },
  {
   "cell_type": "code",
   "execution_count": 19,
   "id": "a7c4ed99-0a9f-402c-8b89-68694dcb75b0",
   "metadata": {},
   "outputs": [],
   "source": [
    "y_pred = model.predict(X_test)[0]"
   ]
  },
  {
   "cell_type": "code",
   "execution_count": 23,
   "id": "85d8014d-2272-46a5-ba36-b3e74d39e729",
   "metadata": {},
   "outputs": [
    {
     "name": "stdout",
     "output_type": "stream",
     "text": [
      "Accuracy: 97.36842105263158\n"
     ]
    }
   ],
   "source": [
    "print(\"Accuracy:\", accuracy_score(y_test, y_pred.round()) * 100)"
   ]
  },
  {
   "cell_type": "code",
   "execution_count": 24,
   "id": "cd56bda1-d835-408e-8fb9-17c98721e119",
   "metadata": {},
   "outputs": [],
   "source": [
    "classifier = GPyGaussianProcessClassifier(model)"
   ]
  },
  {
   "cell_type": "markdown",
   "id": "8bf34c99-ad01-4ddc-bebd-181a70eb3777",
   "metadata": {},
   "source": [
    "# Attack"
   ]
  },
  {
   "cell_type": "code",
   "execution_count": 25,
   "id": "391c64a8-3183-4bac-abae-c55898464db3",
   "metadata": {},
   "outputs": [],
   "source": [
    "attack1 = HighConfidenceLowUncertainty(classifier, conf=0.8, min_val=-1.0, max_val=2.0)"
   ]
  },
  {
   "cell_type": "code",
   "execution_count": 26,
   "id": "2debcaad-f313-4c87-a6f4-f361582cf01d",
   "metadata": {},
   "outputs": [
    {
     "data": {
      "application/vnd.jupyter.widget-view+json": {
       "model_id": "cae388b64b1541f9b3d80e14dfc61ea8",
       "version_major": 2,
       "version_minor": 0
      },
      "text/plain": [
       "HCLU:   0%|          | 0/114 [00:00<?, ?it/s]"
      ]
     },
     "metadata": {},
     "output_type": "display_data"
    },
    {
     "name": "stderr",
     "output_type": "stream",
     "text": [
      " /home/alper/.local/lib/python3.10/site-packages/scipy/optimize/_optimize.py:404: RuntimeWarning:Values in x were outside bounds during a minimize step, clipping to bounds\n"
     ]
    }
   ],
   "source": [
    "adv_confidence = attack1.generate(X_test)"
   ]
  },
  {
   "cell_type": "code",
   "execution_count": 34,
   "id": "4bf36cf9-1d4a-480c-b2c8-9a68fcc1c802",
   "metadata": {},
   "outputs": [],
   "source": [
    "attack2 = HighConfidenceLowUncertainty(classifier, unc_increase=0.9, min_val=0.0, max_val=2.0)"
   ]
  },
  {
   "cell_type": "code",
   "execution_count": 35,
   "id": "97470748-bccd-472f-856b-b3e5149c2610",
   "metadata": {},
   "outputs": [
    {
     "data": {
      "application/vnd.jupyter.widget-view+json": {
       "model_id": "64375a2187574680b94543baf0a3b880",
       "version_major": 2,
       "version_minor": 0
      },
      "text/plain": [
       "HCLU:   0%|          | 0/114 [00:00<?, ?it/s]"
      ]
     },
     "metadata": {},
     "output_type": "display_data"
    }
   ],
   "source": [
    "adv_uncertainty = attack2.generate(X_test)"
   ]
  },
  {
   "cell_type": "markdown",
   "id": "5aa03654-3693-4484-846a-577e5f0845ff",
   "metadata": {},
   "source": [
    "# Results"
   ]
  },
  {
   "cell_type": "code",
   "execution_count": 33,
   "id": "f6d2bd7f-0cbd-438f-8c50-058e9390a8ac",
   "metadata": {},
   "outputs": [
    {
     "name": "stdout",
     "output_type": "stream",
     "text": [
      "Accuracy: 8.771929824561402\n"
     ]
    }
   ],
   "source": [
    "print(\"Accuracy (High Confidence):\", accuracy_score(y_test, np.argmax(adv_confidence, axis=1)) * 100)"
   ]
  },
  {
   "cell_type": "code",
   "execution_count": 36,
   "id": "2c3c16bb-e871-4e5b-9362-8746909fe35d",
   "metadata": {},
   "outputs": [
    {
     "name": "stdout",
     "output_type": "stream",
     "text": [
      "Accuracy (Low Uncertainty): 7.017543859649122\n"
     ]
    }
   ],
   "source": [
    "print(\"Accuracy (Low Uncertainty):\", accuracy_score(y_test, np.argmax(adv_uncertainty, axis=1)) * 100)"
   ]
  },
  {
   "cell_type": "code",
   "execution_count": null,
   "id": "b6dae393-9a3d-47f3-ab2f-b76d606c4dee",
   "metadata": {},
   "outputs": [],
   "source": []
  },
  {
   "cell_type": "code",
   "execution_count": null,
   "id": "0d9cfffa-1450-48f8-8db1-e6ccf3da1634",
   "metadata": {},
   "outputs": [],
   "source": []
  }
 ],
 "metadata": {
  "kernelspec": {
   "display_name": "Python 3 (ipykernel)",
   "language": "python",
   "name": "python3"
  },
  "language_info": {
   "codemirror_mode": {
    "name": "ipython",
    "version": 3
   },
   "file_extension": ".py",
   "mimetype": "text/x-python",
   "name": "python",
   "nbconvert_exporter": "python",
   "pygments_lexer": "ipython3",
   "version": "3.10.12"
  }
 },
 "nbformat": 4,
 "nbformat_minor": 5
}

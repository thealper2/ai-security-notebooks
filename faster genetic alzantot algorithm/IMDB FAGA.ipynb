{
 "cells": [
  {
   "cell_type": "markdown",
   "id": "49b5a1f8-c80a-4f81-a4be-ee885465ce2a",
   "metadata": {},
   "source": [
    "# Import Libraries"
   ]
  },
  {
   "cell_type": "code",
   "execution_count": null,
   "id": "3a952b24-29d6-401a-9ab6-15b5616438d3",
   "metadata": {},
   "outputs": [],
   "source": [
    "import torch\n",
    "import textattack\n",
    "\n",
    "from transformers import AutoModelForSequenceClassification, AutoTokenizer\n",
    "\n",
    "from textattack import Attacker, AttackArgs\n",
    "from textattack.datasets import HuggingFaceDataset\n",
    "from textattack.attack_recipes import FasterGeneticAlgorithmJia2019\n",
    "from textattack.models.wrappers import HuggingFaceModelWrapper\n",
    "from textattack.attack_results import SuccessfulAttackResult, FailedAttackResult\n",
    "\n",
    "import warnings\n",
    "warnings.filterwarnings(\"ignore\")"
   ]
  },
  {
   "cell_type": "markdown",
   "id": "aa6b2538-4403-4933-b8eb-2153e87a3657",
   "metadata": {},
   "source": [
    "# Load Data"
   ]
  },
  {
   "cell_type": "code",
   "execution_count": null,
   "id": "10ab27b2-b81b-448b-a825-6dfba993945c",
   "metadata": {},
   "outputs": [],
   "source": [
    "dataset = HuggingFaceDataset(\"imdb\", split=\"test\")"
   ]
  },
  {
   "cell_type": "markdown",
   "id": "46b04540-1c55-4e35-9dc0-66e7a7a39d30",
   "metadata": {},
   "source": [
    "# Model"
   ]
  },
  {
   "cell_type": "code",
   "execution_count": null,
   "id": "e6924c06-ed9f-4700-aa48-fbbd6e50f67f",
   "metadata": {},
   "outputs": [],
   "source": [
    "model_name = \"textattack/bert-base-uncased-imdb\"\n",
    "model = AutoModelForSequenceClassification.from_pretrained(model_name)\n",
    "tokenizer = AutoTokenizer.from_pretrained(model_name)"
   ]
  },
  {
   "cell_type": "code",
   "execution_count": null,
   "id": "c8b2fa7d-050a-44a7-891f-9c632ac88fcc",
   "metadata": {},
   "outputs": [],
   "source": [
    "model_wrapper = HuggingFaceModelWrapper(model, tokenizer)"
   ]
  },
  {
   "cell_type": "markdown",
   "id": "f3b7663e-91d4-4d89-bb58-74bd01a338a5",
   "metadata": {},
   "source": [
    "# Faster Alzantot Genetic Algorithm"
   ]
  },
  {
   "cell_type": "code",
   "execution_count": null,
   "id": "548c2e50-f1e1-42b6-a7c2-374bdb4cfa76",
   "metadata": {},
   "outputs": [],
   "source": [
    "attack = FasterGeneticAlgorithmJia2019.build(model_wrapper)"
   ]
  },
  {
   "cell_type": "code",
   "execution_count": null,
   "id": "57b8dd2c-a530-4b22-bf09-1604e5925ba5",
   "metadata": {},
   "outputs": [],
   "source": [
    "attack_args = AttackArgs(\n",
    "    num_examples=100,\n",
    "    query_budget=10,\n",
    "    log_to_csv=\"faga_results.csv\",\n",
    "    checkpoint_interval=5,\n",
    "    checkpoint_dir=\"checkpoints\",\n",
    "    disable_stdout=False,\n",
    "    random_seed=42\n",
    ")"
   ]
  },
  {
   "cell_type": "code",
   "execution_count": null,
   "id": "1dc93b67-65ba-4658-a8aa-aab2171a9714",
   "metadata": {},
   "outputs": [],
   "source": [
    "attacker = Attacker(attack, dataset, attack_args)"
   ]
  },
  {
   "cell_type": "markdown",
   "id": "06ed66f3-b6d9-4061-9b0c-cd2e70a361a1",
   "metadata": {},
   "source": [
    "# Results"
   ]
  },
  {
   "cell_type": "code",
   "execution_count": null,
   "id": "6e377b08-cca7-4249-9f30-bb638ae0b665",
   "metadata": {
    "scrolled": true
   },
   "outputs": [],
   "source": [
    "results = attacker.attack_dataset()"
   ]
  },
  {
   "cell_type": "code",
   "execution_count": null,
   "id": "7496bbaf-7606-4b31-803e-3b2787590ea8",
   "metadata": {},
   "outputs": [],
   "source": [
    "succeeded = 0\n",
    "failed = 0\n",
    "\n",
    "for result in results:\n",
    "    if type(result) == SuccessfulAttackResult:\n",
    "        succeeded += 1\n",
    "    elif type(result) == FailedAttackResult:\n",
    "        failed += 1"
   ]
  },
  {
   "cell_type": "code",
   "execution_count": null,
   "id": "8ad8083a-97fc-4f3c-ae55-ca2bbb54b4c0",
   "metadata": {},
   "outputs": [],
   "source": [
    "print(f\"Succeded: {succeeded}\")\n",
    "print(f\"Failed: {failed}\")\n",
    "print(f\"Success Rate: {(succeeded / (succeeded + failed)) * 100:.2f}%\")"
   ]
  },
  {
   "cell_type": "code",
   "execution_count": null,
   "id": "dfd73f15-9f38-47aa-ad3b-dddb7fae248d",
   "metadata": {},
   "outputs": [],
   "source": []
  }
 ],
 "metadata": {
  "kernelspec": {
   "display_name": "Python 3 (ipykernel)",
   "language": "python",
   "name": "python3"
  },
  "language_info": {
   "codemirror_mode": {
    "name": "ipython",
    "version": 3
   },
   "file_extension": ".py",
   "mimetype": "text/x-python",
   "name": "python",
   "nbconvert_exporter": "python",
   "pygments_lexer": "ipython3",
   "version": "3.10.12"
  }
 },
 "nbformat": 4,
 "nbformat_minor": 5
}

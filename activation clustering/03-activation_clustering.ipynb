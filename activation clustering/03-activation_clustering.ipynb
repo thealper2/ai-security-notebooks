{
 "cells": [
  {
   "cell_type": "markdown",
   "id": "c7e6bb96-66b0-4871-a730-84242b3092d1",
   "metadata": {},
   "source": [
    "# Import Libraries"
   ]
  },
  {
   "cell_type": "code",
   "execution_count": 27,
   "id": "e074572d-e358-48a6-a9c6-592fff882e39",
   "metadata": {},
   "outputs": [],
   "source": [
    "import numpy as np\n",
    "import pandas as pd\n",
    "import tensorflow as tf\n",
    "from tensorflow.keras.models import load_model\n",
    "from tensorflow.keras.utils import to_categorical\n",
    "from tensorflow.keras.datasets import cifar10\n",
    "\n",
    "from art.estimators.classification import KerasClassifier\n",
    "from art.defences.detector.poison import ActivationDefence"
   ]
  },
  {
   "cell_type": "code",
   "execution_count": 2,
   "id": "22830e15-386d-40ec-b3d2-ed712d36c5a8",
   "metadata": {},
   "outputs": [],
   "source": [
    "tf.compat.v1.disable_eager_execution()"
   ]
  },
  {
   "cell_type": "markdown",
   "id": "6995e814-3a7c-47e7-bc5a-53b93bd8fef9",
   "metadata": {},
   "source": [
    "# Load Data"
   ]
  },
  {
   "cell_type": "code",
   "execution_count": 3,
   "id": "ba4c5364-4ceb-4220-8e55-5920c40e2149",
   "metadata": {},
   "outputs": [],
   "source": [
    "(x_train, y_train), (x_test, y_test) = cifar10.load_data()"
   ]
  },
  {
   "cell_type": "code",
   "execution_count": 4,
   "id": "890d5a15-5211-4274-af1b-884113af423d",
   "metadata": {},
   "outputs": [],
   "source": [
    "x_train = x_train.astype('float32') / 255.\n",
    "x_test = x_test.astype('float32') / 255."
   ]
  },
  {
   "cell_type": "code",
   "execution_count": 5,
   "id": "f40ccd1d-b450-413e-b692-7c68ea4514be",
   "metadata": {},
   "outputs": [],
   "source": [
    "#y_train = to_categorical(y_train, num_classes=10)\n",
    "#y_test = to_categorical(y_test, num_classes=10)"
   ]
  },
  {
   "cell_type": "markdown",
   "id": "40aabf3d-21f3-4378-ac13-2a489491de46",
   "metadata": {},
   "source": [
    "# Load Models"
   ]
  },
  {
   "cell_type": "code",
   "execution_count": 6,
   "id": "f1fb291c-eaef-4a1e-9a5d-4f81b6ce0a1e",
   "metadata": {},
   "outputs": [],
   "source": [
    "safe_model_path = \"./models/safe_model.h5\"\n",
    "safe_model = load_model(safe_model_path)"
   ]
  },
  {
   "cell_type": "code",
   "execution_count": 7,
   "id": "59f24a5a-b5f5-44b2-8d51-71d722b179d7",
   "metadata": {},
   "outputs": [],
   "source": [
    "modified_model_path = \"./models/poisoned_model.h5\"\n",
    "modified_model = load_model(modified_model_path)"
   ]
  },
  {
   "cell_type": "markdown",
   "id": "446118cf-3975-48ab-b87c-5c3b8fcf4514",
   "metadata": {},
   "source": [
    "# Evaluate Safe Model"
   ]
  },
  {
   "cell_type": "code",
   "execution_count": 8,
   "id": "56883c27-3dbf-4448-822f-87a4691eb0a8",
   "metadata": {},
   "outputs": [],
   "source": [
    "safe_classifier = KerasClassifier(model=safe_model)\n",
    "safe_defence = ActivationDefence(classifier=safe_classifier, x_train=x_test, y_train=y_test)\n",
    "safe_report, safe_clean_list = safe_defence.detect_poison(clustering_method=\"KMeans\",\n",
    "                                                          nb_clusters=2, \n",
    "                                                          nb_dims=10,\n",
    "                                                          reduce=\"PCA\")"
   ]
  },
  {
   "cell_type": "code",
   "execution_count": 9,
   "id": "121df2df-5b31-4c83-bca1-c69368b1fbf7",
   "metadata": {},
   "outputs": [
    {
     "name": "stdout",
     "output_type": "stream",
     "text": [
      "Safe Report: \n",
      " {'cluster_analysis': 'smaller', 'suspicious_clusters': 10, 'Class_0': {'cluster_0': {'ptc_data_in_cluster': 0.62, 'suspicious_cluster': False}, 'cluster_1': {'ptc_data_in_cluster': 0.38, 'suspicious_cluster': True}}, 'Class_1': {'cluster_0': {'ptc_data_in_cluster': 0.35, 'suspicious_cluster': True}, 'cluster_1': {'ptc_data_in_cluster': 0.65, 'suspicious_cluster': False}}, 'Class_2': {'cluster_0': {'ptc_data_in_cluster': 0.34, 'suspicious_cluster': True}, 'cluster_1': {'ptc_data_in_cluster': 0.66, 'suspicious_cluster': False}}, 'Class_3': {'cluster_0': {'ptc_data_in_cluster': 0.43, 'suspicious_cluster': True}, 'cluster_1': {'ptc_data_in_cluster': 0.57, 'suspicious_cluster': False}}, 'Class_4': {'cluster_0': {'ptc_data_in_cluster': 0.5, 'suspicious_cluster': False}, 'cluster_1': {'ptc_data_in_cluster': 0.5, 'suspicious_cluster': True}}, 'Class_5': {'cluster_0': {'ptc_data_in_cluster': 0.71, 'suspicious_cluster': False}, 'cluster_1': {'ptc_data_in_cluster': 0.29, 'suspicious_cluster': True}}, 'Class_6': {'cluster_0': {'ptc_data_in_cluster': 0.42, 'suspicious_cluster': True}, 'cluster_1': {'ptc_data_in_cluster': 0.58, 'suspicious_cluster': False}}, 'Class_7': {'cluster_0': {'ptc_data_in_cluster': 0.41, 'suspicious_cluster': True}, 'cluster_1': {'ptc_data_in_cluster': 0.59, 'suspicious_cluster': False}}, 'Class_8': {'cluster_0': {'ptc_data_in_cluster': 0.4, 'suspicious_cluster': True}, 'cluster_1': {'ptc_data_in_cluster': 0.6, 'suspicious_cluster': False}}, 'Class_9': {'cluster_0': {'ptc_data_in_cluster': 0.4, 'suspicious_cluster': True}, 'cluster_1': {'ptc_data_in_cluster': 0.6, 'suspicious_cluster': False}}, 'nb_clusters': 2, 'clustering_method': 'KMeans', 'nb_dims': 10, 'reduce': 'PCA', 'generator': None, 'ex_re_threshold': None}\n"
     ]
    }
   ],
   "source": [
    "print(\"Safe Report: \\n\", safe_report)"
   ]
  },
  {
   "cell_type": "code",
   "execution_count": 19,
   "id": "a5d273e7-dadc-44cb-9c6a-2c4b4c0e34ce",
   "metadata": {},
   "outputs": [],
   "source": [
    "def report_summary(report):\n",
    "    for class_num, class_data in report.items():\n",
    "        if class_num.startswith(\"Class_\"):\n",
    "            suspicious_percentage = sum(cluster[\"ptc_data_in_cluster\"] * 100 for cluster in class_data.values() if cluster[\"suspicious_cluster\"])\n",
    "            print(f\"{class_num} = {int(suspicious_percentage)}%\")"
   ]
  },
  {
   "cell_type": "code",
   "execution_count": 20,
   "id": "a0aa4700-ee3f-4111-8d00-fec340992d0c",
   "metadata": {},
   "outputs": [
    {
     "name": "stdout",
     "output_type": "stream",
     "text": [
      "Class_0 = 38%\n",
      "Class_1 = 35%\n",
      "Class_2 = 34%\n",
      "Class_3 = 43%\n",
      "Class_4 = 50%\n",
      "Class_5 = 28%\n",
      "Class_6 = 42%\n",
      "Class_7 = 41%\n",
      "Class_8 = 40%\n",
      "Class_9 = 40%\n"
     ]
    }
   ],
   "source": [
    "report_summary(safe_report)"
   ]
  },
  {
   "cell_type": "markdown",
   "id": "2acd9397-cccf-4da2-ad53-ede7a25602b1",
   "metadata": {},
   "source": [
    "# Evaluate Malicious Model"
   ]
  },
  {
   "cell_type": "code",
   "execution_count": 21,
   "id": "ab452297-b588-4ec1-aaa6-c20edf0592f7",
   "metadata": {},
   "outputs": [],
   "source": [
    "modified_classifier = KerasClassifier(model=modified_model)\n",
    "modified_defence = ActivationDefence(classifier=modified_classifier, x_train=x_test, y_train=y_test)\n",
    "modified_report, modified_clean_list = modified_defence.detect_poison(clustering_method=\"KMeans\",\n",
    "                                                                      nb_clusters=2, \n",
    "                                                                      nb_dims=10,\n",
    "                                                                      reduce=\"PCA\")"
   ]
  },
  {
   "cell_type": "code",
   "execution_count": 22,
   "id": "ba6a0da6-604a-4dde-aea7-723dca4aeedb",
   "metadata": {},
   "outputs": [
    {
     "name": "stdout",
     "output_type": "stream",
     "text": [
      "Modified Report: \n",
      " {'cluster_analysis': 'smaller', 'suspicious_clusters': 10, 'Class_0': {'cluster_0': {'ptc_data_in_cluster': 0.71, 'suspicious_cluster': False}, 'cluster_1': {'ptc_data_in_cluster': 0.29, 'suspicious_cluster': True}}, 'Class_1': {'cluster_0': {'ptc_data_in_cluster': 0.44, 'suspicious_cluster': True}, 'cluster_1': {'ptc_data_in_cluster': 0.56, 'suspicious_cluster': False}}, 'Class_2': {'cluster_0': {'ptc_data_in_cluster': 0.81, 'suspicious_cluster': False}, 'cluster_1': {'ptc_data_in_cluster': 0.19, 'suspicious_cluster': True}}, 'Class_3': {'cluster_0': {'ptc_data_in_cluster': 0.43, 'suspicious_cluster': True}, 'cluster_1': {'ptc_data_in_cluster': 0.57, 'suspicious_cluster': False}}, 'Class_4': {'cluster_0': {'ptc_data_in_cluster': 0.45, 'suspicious_cluster': True}, 'cluster_1': {'ptc_data_in_cluster': 0.55, 'suspicious_cluster': False}}, 'Class_5': {'cluster_0': {'ptc_data_in_cluster': 0.34, 'suspicious_cluster': True}, 'cluster_1': {'ptc_data_in_cluster': 0.66, 'suspicious_cluster': False}}, 'Class_6': {'cluster_0': {'ptc_data_in_cluster': 0.56, 'suspicious_cluster': False}, 'cluster_1': {'ptc_data_in_cluster': 0.44, 'suspicious_cluster': True}}, 'Class_7': {'cluster_0': {'ptc_data_in_cluster': 0.6, 'suspicious_cluster': False}, 'cluster_1': {'ptc_data_in_cluster': 0.4, 'suspicious_cluster': True}}, 'Class_8': {'cluster_0': {'ptc_data_in_cluster': 0.88, 'suspicious_cluster': False}, 'cluster_1': {'ptc_data_in_cluster': 0.12, 'suspicious_cluster': True}}, 'Class_9': {'cluster_0': {'ptc_data_in_cluster': 0.56, 'suspicious_cluster': False}, 'cluster_1': {'ptc_data_in_cluster': 0.44, 'suspicious_cluster': True}}, 'nb_clusters': 2, 'clustering_method': 'KMeans', 'nb_dims': 10, 'reduce': 'PCA', 'generator': None, 'ex_re_threshold': None}\n"
     ]
    }
   ],
   "source": [
    "print(\"Modified Report: \\n\", modified_report)"
   ]
  },
  {
   "cell_type": "code",
   "execution_count": 24,
   "id": "06f7270e-5193-4e35-bb01-e731e4e3c39c",
   "metadata": {},
   "outputs": [
    {
     "name": "stdout",
     "output_type": "stream",
     "text": [
      "Class_0 = 28%\n",
      "Class_1 = 44%\n",
      "Class_2 = 19%\n",
      "Class_3 = 43%\n",
      "Class_4 = 45%\n",
      "Class_5 = 34%\n",
      "Class_6 = 44%\n",
      "Class_7 = 40%\n",
      "Class_8 = 12%\n",
      "Class_9 = 44%\n"
     ]
    }
   ],
   "source": [
    "report_summary(modified_report)"
   ]
  },
  {
   "cell_type": "markdown",
   "id": "d162476c-5bd7-4dda-b93e-f903627f7b25",
   "metadata": {},
   "source": [
    "# Comparison"
   ]
  },
  {
   "cell_type": "code",
   "execution_count": 34,
   "id": "2c5d1bde-59dd-4c64-9933-b4638a218426",
   "metadata": {},
   "outputs": [],
   "source": [
    "def compare_reports(report1, report2):\n",
    "    report1_percentages = []\n",
    "    for class_num, class_data in report1.items():\n",
    "        if class_num.startswith(\"Class_\"):\n",
    "            suspicious_percentage = sum(cluster[\"ptc_data_in_cluster\"] * 100 for cluster in class_data.values() if cluster[\"suspicious_cluster\"])\n",
    "            report1_percentages.append(suspicious_percentage)\n",
    "\n",
    "    report2_percentages = []\n",
    "    for class_num, class_data in report2.items():\n",
    "        if class_num.startswith(\"Class_\"):\n",
    "            suspicious_percentage = sum(cluster[\"ptc_data_in_cluster\"] * 100 for cluster in class_data.values() if cluster[\"suspicious_cluster\"])\n",
    "            report2_percentages.append(suspicious_percentage)\n",
    "\n",
    "    classes = [f\"Class_{i}\" for i in range(10)]\n",
    "    diff = [report1 - report2 for report1, report2 in zip(report1_percentages, report2_percentages)]\n",
    "\n",
    "    df = pd.DataFrame({\n",
    "        \"Class Name\": classes,\n",
    "        \"Safe Model\": report1_percentages,\n",
    "        \"Modified Model\": report2_percentages,\n",
    "        \"Diff\": diff\n",
    "    })\n",
    "    return df"
   ]
  },
  {
   "cell_type": "code",
   "execution_count": 35,
   "id": "66cff293-ceda-430f-b509-ff7824411bf0",
   "metadata": {},
   "outputs": [
    {
     "name": "stdout",
     "output_type": "stream",
     "text": [
      "  Class Name  Safe Model  Modified Model  Diff\n",
      "0    Class_0        38.0            29.0   9.0\n",
      "1    Class_1        35.0            44.0  -9.0\n",
      "2    Class_2        34.0            19.0  15.0\n",
      "3    Class_3        43.0            43.0   0.0\n",
      "4    Class_4        50.0            45.0   5.0\n",
      "5    Class_5        29.0            34.0  -5.0\n",
      "6    Class_6        42.0            44.0  -2.0\n",
      "7    Class_7        41.0            40.0   1.0\n",
      "8    Class_8        40.0            12.0  28.0\n",
      "9    Class_9        40.0            44.0  -4.0\n"
     ]
    }
   ],
   "source": [
    "df = compare_reports(safe_report, modified_report)\n",
    "print(df)"
   ]
  },
  {
   "cell_type": "code",
   "execution_count": null,
   "id": "713bbd64-ef0a-4fb9-a0ee-fb2371f98656",
   "metadata": {},
   "outputs": [],
   "source": []
  }
 ],
 "metadata": {
  "kernelspec": {
   "display_name": "Python 3 (ipykernel)",
   "language": "python",
   "name": "python3"
  },
  "language_info": {
   "codemirror_mode": {
    "name": "ipython",
    "version": 3
   },
   "file_extension": ".py",
   "mimetype": "text/x-python",
   "name": "python",
   "nbconvert_exporter": "python",
   "pygments_lexer": "ipython3",
   "version": "3.10.12"
  }
 },
 "nbformat": 4,
 "nbformat_minor": 5
}

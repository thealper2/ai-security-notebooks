{
 "cells": [
  {
   "cell_type": "markdown",
   "id": "720f8049-3b4c-4bca-8e35-ebee16023805",
   "metadata": {},
   "source": [
    "# Import Libraries"
   ]
  },
  {
   "cell_type": "code",
   "execution_count": 1,
   "id": "41486b53-3a3c-43f0-a377-547c63dddd56",
   "metadata": {},
   "outputs": [],
   "source": [
    "import numpy as np\n",
    "import tensorflow as tf\n",
    "import matplotlib.pyplot as plt\n",
    "\n",
    "from tensorflow.keras.datasets import cifar10\n",
    "from tensorflow.keras.layers import Flatten, Dense\n",
    "from tensorflow.keras.models import Sequential\n",
    "from tensorflow.keras.losses import CategoricalCrossentropy\n",
    "from tensorflow.keras.optimizers import Adam\n",
    "from tensorflow.keras.utils import to_categorical\n",
    "\n",
    "from art.utils import load_mnist\n",
    "from art.attacks.evasion import BasicIterativeMethod\n",
    "from art.defences.trainer import AdversarialTrainer\n",
    "from art.estimators.classification import TensorFlowV2Classifier"
   ]
  },
  {
   "cell_type": "markdown",
   "id": "f963f440-aa37-4e69-a150-57bb1d7b0c1c",
   "metadata": {},
   "source": [
    "# Load Data"
   ]
  },
  {
   "cell_type": "code",
   "execution_count": 2,
   "id": "f50dced7-0c91-47d3-bf17-d9ed7606bac9",
   "metadata": {},
   "outputs": [],
   "source": [
    "(x_train, y_train), (x_test, y_test), min_, max_ = load_mnist()"
   ]
  },
  {
   "cell_type": "markdown",
   "id": "b2db1cda-8f5c-4399-b2a0-4dfb1047d1fa",
   "metadata": {},
   "source": [
    "# Normal Model"
   ]
  },
  {
   "cell_type": "code",
   "execution_count": 3,
   "id": "0943a62e-f5c9-4543-8808-f9432eaef049",
   "metadata": {},
   "outputs": [],
   "source": [
    "normal_model = Sequential([\n",
    "    Flatten(input_shape=(28, 28)),\n",
    "    Dense(128, activation='relu'),\n",
    "    Dense(256, activation='relu'),\n",
    "    Dense(10)\n",
    "])"
   ]
  },
  {
   "cell_type": "code",
   "execution_count": 4,
   "id": "ca200ecf-2895-42a7-85de-da780a81edc1",
   "metadata": {},
   "outputs": [],
   "source": [
    "normal_model.compile(optimizer=Adam(), loss=CategoricalCrossentropy(from_logits=True), metrics=['accuracy'])"
   ]
  },
  {
   "cell_type": "code",
   "execution_count": 5,
   "id": "f6f9f36a-c469-40cf-9951-6d933186aafe",
   "metadata": {},
   "outputs": [
    {
     "name": "stdout",
     "output_type": "stream",
     "text": [
      "Epoch 1/10\n",
      "1875/1875 [==============================] - 7s 3ms/step - loss: 0.2234 - accuracy: 0.9339\n",
      "Epoch 2/10\n",
      "1875/1875 [==============================] - 7s 3ms/step - loss: 0.0919 - accuracy: 0.9713\n",
      "Epoch 3/10\n",
      "1875/1875 [==============================] - 7s 4ms/step - loss: 0.0644 - accuracy: 0.9799\n",
      "Epoch 4/10\n",
      "1875/1875 [==============================] - 7s 4ms/step - loss: 0.0496 - accuracy: 0.9847\n",
      "Epoch 5/10\n",
      "1875/1875 [==============================] - 7s 4ms/step - loss: 0.0392 - accuracy: 0.9870\n",
      "Epoch 6/10\n",
      "1875/1875 [==============================] - 7s 4ms/step - loss: 0.0324 - accuracy: 0.9890\n",
      "Epoch 7/10\n",
      "1875/1875 [==============================] - 7s 4ms/step - loss: 0.0265 - accuracy: 0.9912\n",
      "Epoch 8/10\n",
      "1875/1875 [==============================] - 7s 4ms/step - loss: 0.0230 - accuracy: 0.9923\n",
      "Epoch 9/10\n",
      "1875/1875 [==============================] - 7s 4ms/step - loss: 0.0225 - accuracy: 0.9927\n",
      "Epoch 10/10\n",
      "1875/1875 [==============================] - 7s 4ms/step - loss: 0.0157 - accuracy: 0.9951\n"
     ]
    }
   ],
   "source": [
    "history = normal_model.fit(x_train, y_train, epochs=10, batch_size=32)"
   ]
  },
  {
   "cell_type": "markdown",
   "id": "a80f0c83-31af-4531-ad36-93aab8306272",
   "metadata": {},
   "source": [
    "# Adversarial Training"
   ]
  },
  {
   "cell_type": "code",
   "execution_count": 18,
   "id": "b3d16054-ba78-4a1e-afb6-99d3ecf00f86",
   "metadata": {},
   "outputs": [],
   "source": [
    "augmented_model = Sequential([\n",
    "    Flatten(input_shape=(28, 28)),\n",
    "    Dense(128, activation='relu'),\n",
    "    Dense(256, activation='relu'),\n",
    "    Dense(10)\n",
    "])"
   ]
  },
  {
   "cell_type": "code",
   "execution_count": 19,
   "id": "4f7cab14-ffbc-404a-81a7-99332499d497",
   "metadata": {},
   "outputs": [],
   "source": [
    "augmented_model.compile(optimizer=Adam(), loss=CategoricalCrossentropy(from_logits=True), metrics=['accuracy'])"
   ]
  },
  {
   "cell_type": "code",
   "execution_count": 20,
   "id": "53673283-d76a-40a6-9075-d2510849a79c",
   "metadata": {},
   "outputs": [],
   "source": [
    "classifier = TensorFlowV2Classifier(\n",
    "    model=augmented_model,\n",
    "    loss_object=CategoricalCrossentropy(from_logits=True),\n",
    "    nb_classes=10,\n",
    "    input_shape=(28, 28),\n",
    "    clip_values=(min_, max_),\n",
    "    optimizer=Adam()\n",
    ")"
   ]
  },
  {
   "cell_type": "code",
   "execution_count": 21,
   "id": "94fd6369-7dcb-44ec-b9d4-f27d9138a640",
   "metadata": {},
   "outputs": [],
   "source": [
    "bim = BasicIterativeMethod(estimator=classifier, eps=0.3, eps_step=0.01, max_iter=10)"
   ]
  },
  {
   "cell_type": "code",
   "execution_count": 22,
   "id": "bd3eacd3-05b7-4691-9128-2a1c4a9e33d9",
   "metadata": {},
   "outputs": [],
   "source": [
    "trainer = AdversarialTrainer(classifier=classifier, attacks=bim, ratio=0.5)"
   ]
  },
  {
   "cell_type": "code",
   "execution_count": 23,
   "id": "2614fd5d-839c-411e-b36b-46abb8a63d5b",
   "metadata": {},
   "outputs": [
    {
     "data": {
      "application/vnd.jupyter.widget-view+json": {
       "model_id": "65484aba57fa42efa2792a70a2459dff",
       "version_major": 2,
       "version_minor": 0
      },
      "text/plain": [
       "Precompute adv samples:   0%|          | 0/1 [00:00<?, ?it/s]"
      ]
     },
     "metadata": {},
     "output_type": "display_data"
    },
    {
     "data": {
      "application/vnd.jupyter.widget-view+json": {
       "model_id": "f61e0477787b4a1a912cc526ef50ccfd",
       "version_major": 2,
       "version_minor": 0
      },
      "text/plain": [
       "Adversarial training epochs:   0%|          | 0/3 [00:00<?, ?it/s]"
      ]
     },
     "metadata": {},
     "output_type": "display_data"
    }
   ],
   "source": [
    "trainer.fit(x_train, y_train, nb_epochs=3, batch_size=32)"
   ]
  },
  {
   "cell_type": "markdown",
   "id": "4f68dd18-dd61-49b9-8e44-2798d24e4257",
   "metadata": {},
   "source": [
    "# Attack"
   ]
  },
  {
   "cell_type": "code",
   "execution_count": 24,
   "id": "fbff17ff-5961-47cd-bb13-cc2408a1ddca",
   "metadata": {},
   "outputs": [],
   "source": [
    "attack = BasicIterativeMethod(estimator=classifier, eps=0.3, eps_step=0.01, max_iter=10)"
   ]
  },
  {
   "cell_type": "code",
   "execution_count": 34,
   "id": "c1f04711-e30e-4c9d-84ac-b4c00624d0e0",
   "metadata": {},
   "outputs": [
    {
     "data": {
      "application/vnd.jupyter.widget-view+json": {
       "model_id": "",
       "version_major": 2,
       "version_minor": 0
      },
      "text/plain": [
       "PGD - Batches: 0it [00:00, ?it/s]"
      ]
     },
     "metadata": {},
     "output_type": "display_data"
    }
   ],
   "source": [
    "adv_test = attack.generate(x=x_test)"
   ]
  },
  {
   "cell_type": "markdown",
   "id": "37dc6ac4-01f2-44d5-839e-76d3c46a36da",
   "metadata": {},
   "source": [
    "# Results"
   ]
  },
  {
   "cell_type": "code",
   "execution_count": 35,
   "id": "7c44ad1f-ae16-4089-891d-3f68541b37ba",
   "metadata": {},
   "outputs": [],
   "source": [
    "normal_pred1 = np.argmax(normal_model.predict(x_test, verbose=0), axis=1)\n",
    "normal_pred2 = np.argmax(normal_model.predict(adv_test, verbose=0), axis=1)"
   ]
  },
  {
   "cell_type": "code",
   "execution_count": 36,
   "id": "38dc3391-0562-44ec-a4a1-8894b46a81d8",
   "metadata": {},
   "outputs": [],
   "source": [
    "augmented_pred1 = np.argmax(trainer.predict(x_test, verbose=0), axis=1)\n",
    "augmented_pred2 = np.argmax(trainer.predict(adv_test, verbose=0), axis=1)"
   ]
  },
  {
   "cell_type": "code",
   "execution_count": 37,
   "id": "2b62bdbf-1be0-4c77-aea9-cbdff8e027ea",
   "metadata": {},
   "outputs": [
    {
     "name": "stdout",
     "output_type": "stream",
     "text": [
      "Normal Model Accuracy Score on Raw Data: 0.9785\n",
      "Normal Model Accuracy Score on Adversarial Data: 0.8157\n"
     ]
    }
   ],
   "source": [
    "print(\"Normal Model Accuracy Score on Raw Data:\", np.sum(normal_pred1 == np.argmax(y_test, axis=1)) / len(normal_pred1))\n",
    "print(\"Normal Model Accuracy Score on Adversarial Data:\", np.sum(normal_pred2 == np.argmax(y_test, axis=1)) / len(normal_pred2))"
   ]
  },
  {
   "cell_type": "code",
   "execution_count": 38,
   "id": "a7584573-c6f3-4680-a47d-180a92d31f71",
   "metadata": {},
   "outputs": [
    {
     "name": "stdout",
     "output_type": "stream",
     "text": [
      "Augmented Model Accuracy Score on Raw Data: 0.9716\n",
      "Augmented Model Accuracy Score on Adversarial Data: 0.8341\n"
     ]
    }
   ],
   "source": [
    "print(\"Augmented Model Accuracy Score on Raw Data:\", np.sum(augmented_pred1 == np.argmax(y_test, axis=1)) / len(augmented_pred1))\n",
    "print(\"Augmented Model Accuracy Score on Adversarial Data:\", np.sum(augmented_pred2 == np.argmax(y_test, axis=1)) / len(augmented_pred2))"
   ]
  },
  {
   "cell_type": "code",
   "execution_count": null,
   "id": "b5ed1268-96a9-4324-943e-5233957e9afa",
   "metadata": {},
   "outputs": [],
   "source": []
  },
  {
   "cell_type": "code",
   "execution_count": null,
   "id": "e6f592ed-b324-41f8-b37a-0af0105c1f56",
   "metadata": {},
   "outputs": [],
   "source": []
  },
  {
   "cell_type": "code",
   "execution_count": null,
   "id": "85fab053-3bca-433c-abc5-94dabba01617",
   "metadata": {},
   "outputs": [],
   "source": []
  }
 ],
 "metadata": {
  "kernelspec": {
   "display_name": "Python 3 (ipykernel)",
   "language": "python",
   "name": "python3"
  },
  "language_info": {
   "codemirror_mode": {
    "name": "ipython",
    "version": 3
   },
   "file_extension": ".py",
   "mimetype": "text/x-python",
   "name": "python",
   "nbconvert_exporter": "python",
   "pygments_lexer": "ipython3",
   "version": "3.10.12"
  }
 },
 "nbformat": 4,
 "nbformat_minor": 5
}

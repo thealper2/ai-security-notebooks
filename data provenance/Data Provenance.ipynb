{
 "cells": [
  {
   "cell_type": "code",
   "execution_count": 1,
   "id": "b87bbbbc-c306-41e2-a31d-2066947e560d",
   "metadata": {},
   "outputs": [],
   "source": [
    "import tensorflow as tf\n",
    "from tensorflow.keras.datasets import cifar10"
   ]
  },
  {
   "cell_type": "code",
   "execution_count": 2,
   "id": "d3a51076-3d28-4c78-95ae-2e0d35dab8b1",
   "metadata": {},
   "outputs": [],
   "source": [
    "(x_train, y_train), (x_test, y_test) = cifar10.load_data()"
   ]
  },
  {
   "cell_type": "code",
   "execution_count": 3,
   "id": "4d79c4c0-306a-4ac9-be10-ee09554756fb",
   "metadata": {},
   "outputs": [],
   "source": [
    "data_provenance = {}"
   ]
  },
  {
   "cell_type": "code",
   "execution_count": 5,
   "id": "38bf0c60-4090-430d-baa1-752c5a15e25a",
   "metadata": {},
   "outputs": [],
   "source": [
    "for idx, data in enumerate(x_train):\n",
    "    data_provenance[idx] = {\"source\": \"keras lib\", \"processed_by\": \"user\"}"
   ]
  },
  {
   "cell_type": "code",
   "execution_count": 6,
   "id": "db4d9c9f-5cb4-4d50-858b-2407ad06092c",
   "metadata": {},
   "outputs": [],
   "source": [
    "def check_data_provenance(data_provenance, idx):\n",
    "    provenance = data_provenance.get(idx, None)\n",
    "    if provenance is not None:\n",
    "        print(f\"[Data ID {idx}] [Source: {provenance['source']}] [Processed by: {provenance['processed_by']}]\")\n",
    "    else:\n",
    "        print(f\"[-] Data ID {idx} not found.\")"
   ]
  },
  {
   "cell_type": "code",
   "execution_count": 7,
   "id": "22a81075-ba04-4f57-959f-a944a1040aa2",
   "metadata": {},
   "outputs": [
    {
     "name": "stdout",
     "output_type": "stream",
     "text": [
      "[Data ID 25] [Source: keras lib] [Processed by: user]\n"
     ]
    }
   ],
   "source": [
    "check_data_provenance(data_provenance, idx=25)"
   ]
  },
  {
   "cell_type": "code",
   "execution_count": null,
   "id": "f8b82090-fb6f-4708-9104-70b808014c95",
   "metadata": {},
   "outputs": [],
   "source": []
  }
 ],
 "metadata": {
  "kernelspec": {
   "display_name": "Python 3 (ipykernel)",
   "language": "python",
   "name": "python3"
  },
  "language_info": {
   "codemirror_mode": {
    "name": "ipython",
    "version": 3
   },
   "file_extension": ".py",
   "mimetype": "text/x-python",
   "name": "python",
   "nbconvert_exporter": "python",
   "pygments_lexer": "ipython3",
   "version": "3.10.12"
  }
 },
 "nbformat": 4,
 "nbformat_minor": 5
}

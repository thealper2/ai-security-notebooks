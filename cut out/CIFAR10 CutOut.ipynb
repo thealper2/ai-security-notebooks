{
 "cells": [
  {
   "cell_type": "markdown",
   "id": "a4ee3c0f-5153-45a4-b0b6-e839145db050",
   "metadata": {},
   "source": [
    "# Import Libraries"
   ]
  },
  {
   "cell_type": "code",
   "execution_count": 29,
   "id": "cb40d243-262c-4ba2-9a81-0c4412c0713a",
   "metadata": {},
   "outputs": [],
   "source": [
    "import numpy as np\n",
    "import matplotlib.pyplot as plt\n",
    "import tensorflow as tf\n",
    "from PIL import Image\n",
    "\n",
    "from tensorflow.keras.datasets import cifar10\n",
    "from tensorflow.keras.layers import Conv2D, MaxPooling2D, Flatten, Dense\n",
    "from tensorflow.keras.models import Sequential\n",
    "from tensorflow.keras.utils import to_categorical\n",
    "\n",
    "from sklearn.metrics import accuracy_score\n",
    "\n",
    "from art.utils import load_cifar10\n",
    "from art.defences.preprocessor import CutoutTensorFlowV2\n",
    "from art.estimators.classification import TensorFlowV2Classifier\n",
    "tf.config.run_functions_eagerly(True)"
   ]
  },
  {
   "cell_type": "markdown",
   "id": "f93b35e3-b16f-4e2e-a262-138c098ebcc3",
   "metadata": {},
   "source": [
    "# Load Data"
   ]
  },
  {
   "cell_type": "code",
   "execution_count": 5,
   "id": "cc4e7384-2eda-49ce-ae0a-9bcbbcb6ebd1",
   "metadata": {},
   "outputs": [],
   "source": [
    "(x_train, y_train), (x_test, y_test), min_, max_ = load_cifar10()"
   ]
  },
  {
   "cell_type": "markdown",
   "id": "3eb8dc29-f768-4a23-a462-372be7d2d86f",
   "metadata": {},
   "source": [
    "# CutOut"
   ]
  },
  {
   "cell_type": "code",
   "execution_count": 13,
   "id": "97d183cc-77b7-4f41-bf5c-a769258afb4a",
   "metadata": {},
   "outputs": [],
   "source": [
    "cutout = CutoutTensorFlowV2(length=6, apply_fit=True, apply_predict=False)"
   ]
  },
  {
   "cell_type": "code",
   "execution_count": 18,
   "id": "14d6c7d3-f8ac-4019-b7fe-6eca35d870de",
   "metadata": {},
   "outputs": [],
   "source": [
    "cutout_train = cutout.forward(x=x_train, y=y_train)"
   ]
  },
  {
   "cell_type": "code",
   "execution_count": 26,
   "id": "a36920ce-33f9-4252-b3c3-a09be10f7bf1",
   "metadata": {},
   "outputs": [],
   "source": [
    "cutout_test = cutout.forward(x=x_test, y=y_test)"
   ]
  },
  {
   "cell_type": "code",
   "execution_count": 21,
   "id": "ed7cef92-bb79-47b4-89fd-43a658eb5bdf",
   "metadata": {},
   "outputs": [
    {
     "data": {
      "image/png": "[encoded data removed]",
      "text/plain": [
       "<Figure size 640x480 with 1 Axes>"
      ]
     },
     "metadata": {},
     "output_type": "display_data"
    }
   ],
   "source": [
    "plt.figure()\n",
    "plt.imshow(cutout_train[0][0])\n",
    "plt.axis(\"off\")\n",
    "plt.show()"
   ]
  },
  {
   "cell_type": "markdown",
   "id": "6a6619ad-22e3-4589-8955-7fa516b058ea",
   "metadata": {},
   "source": [
    "# Model"
   ]
  },
  {
   "cell_type": "code",
   "execution_count": 22,
   "id": "2f78c77e-fb75-48f9-a72d-cc7befff5a26",
   "metadata": {},
   "outputs": [],
   "source": [
    "def create_model():\n",
    "    model = Sequential([\n",
    "        Conv2D(32, (3, 3), activation=\"relu\", padding=\"same\", input_shape=(32, 32, 3)),\n",
    "        Conv2D(32, (3, 3), activation=\"relu\", padding=\"same\"),\n",
    "        MaxPooling2D(pool_size=(2, 2)),\n",
    "        \n",
    "        Conv2D(64, (3, 3), activation=\"relu\", padding=\"same\"),\n",
    "        Conv2D(64, (3, 3), activation=\"relu\", padding=\"same\"),\n",
    "        MaxPooling2D(pool_size=(2, 2)),\n",
    "        \n",
    "        Flatten(),\n",
    "        \n",
    "        Dense(512, activation=\"relu\"),\n",
    "        Dense(10, activation=\"softmax\")\n",
    "    ])\n",
    "    model.compile(optimizer='adam', loss='categorical_crossentropy', metrics=['accuracy'])\n",
    "    return model"
   ]
  },
  {
   "cell_type": "code",
   "execution_count": 23,
   "id": "0ec95154-1cde-4b8a-939b-6a832b86f40a",
   "metadata": {},
   "outputs": [],
   "source": [
    "normal_model = create_model()"
   ]
  },
  {
   "cell_type": "code",
   "execution_count": 24,
   "id": "1f29e65d-a3d1-4b85-8191-f0810cd03633",
   "metadata": {},
   "outputs": [],
   "source": [
    "augmented_model = create_model()"
   ]
  },
  {
   "cell_type": "markdown",
   "id": "de38c574-9eb0-4a1f-bee4-8eb5a0897ad7",
   "metadata": {},
   "source": [
    "# Train - Normal Model"
   ]
  },
  {
   "cell_type": "code",
   "execution_count": 25,
   "id": "dc1d3826-5ef1-4879-8f93-d03dbe29e2fe",
   "metadata": {},
   "outputs": [
    {
     "name": "stdout",
     "output_type": "stream",
     "text": [
      "Epoch 1/10\n",
      "391/391 [==============================] - 8s 12ms/step - loss: 1.4284 - accuracy: 0.4844 - val_loss: 1.0620 - val_accuracy: 0.6274\n",
      "Epoch 2/10\n",
      "391/391 [==============================] - 4s 9ms/step - loss: 0.9548 - accuracy: 0.6633 - val_loss: 0.8936 - val_accuracy: 0.6896\n",
      "Epoch 3/10\n",
      "391/391 [==============================] - 4s 9ms/step - loss: 0.7446 - accuracy: 0.7415 - val_loss: 0.7663 - val_accuracy: 0.7321\n",
      "Epoch 4/10\n",
      "391/391 [==============================] - 4s 9ms/step - loss: 0.5831 - accuracy: 0.7976 - val_loss: 0.8030 - val_accuracy: 0.7306\n",
      "Epoch 5/10\n",
      "391/391 [==============================] - 4s 10ms/step - loss: 0.4372 - accuracy: 0.8475 - val_loss: 0.7764 - val_accuracy: 0.7586\n",
      "Epoch 6/10\n",
      "391/391 [==============================] - 4s 10ms/step - loss: 0.2976 - accuracy: 0.8965 - val_loss: 0.8646 - val_accuracy: 0.7555\n",
      "Epoch 7/10\n",
      "391/391 [==============================] - 4s 10ms/step - loss: 0.1720 - accuracy: 0.9410 - val_loss: 1.0168 - val_accuracy: 0.7444\n",
      "Epoch 8/10\n",
      "391/391 [==============================] - 4s 10ms/step - loss: 0.1085 - accuracy: 0.9621 - val_loss: 1.0558 - val_accuracy: 0.7576\n",
      "Epoch 9/10\n",
      "391/391 [==============================] - 4s 10ms/step - loss: 0.0736 - accuracy: 0.9750 - val_loss: 1.3790 - val_accuracy: 0.7505\n",
      "Epoch 10/10\n",
      "391/391 [==============================] - 4s 10ms/step - loss: 0.0696 - accuracy: 0.9767 - val_loss: 1.2811 - val_accuracy: 0.7419\n"
     ]
    }
   ],
   "source": [
    "history = normal_model.fit(x_train, y_train, batch_size=128, epochs=10, validation_data=(x_test, y_test))"
   ]
  },
  {
   "cell_type": "markdown",
   "id": "bd44679a-709d-42d5-837a-30ab82461de4",
   "metadata": {},
   "source": [
    "# Train - Augmented Model"
   ]
  },
  {
   "cell_type": "code",
   "execution_count": 30,
   "id": "5b99a63e-cf0c-4628-bad1-984ce11afdbb",
   "metadata": {},
   "outputs": [
    {
     "name": "stdout",
     "output_type": "stream",
     "text": [
      "Epoch 1/10\n"
     ]
    },
    {
     "name": "stderr",
     "output_type": "stream",
     "text": [
      "/home/alper/.local/lib/python3.10/site-packages/tensorflow/python/data/ops/structured_function.py:265: UserWarning: Even though the `tf.config.experimental_run_functions_eagerly` option is set, this option does not apply to tf.data functions. To force eager execution of tf.data functions, please use `tf.data.experimental.enable_debug_mode()`.\n",
      "  warnings.warn(\n"
     ]
    },
    {
     "name": "stdout",
     "output_type": "stream",
     "text": [
      "391/391 [==============================] - 21s 51ms/step - loss: 1.5163 - accuracy: 0.4492 - val_loss: 1.2303 - val_accuracy: 0.5672\n",
      "Epoch 2/10\n",
      "391/391 [==============================] - 19s 48ms/step - loss: 1.0285 - accuracy: 0.6350 - val_loss: 0.9190 - val_accuracy: 0.6746\n",
      "Epoch 3/10\n",
      "391/391 [==============================] - 19s 48ms/step - loss: 0.8182 - accuracy: 0.7121 - val_loss: 0.8380 - val_accuracy: 0.7071\n",
      "Epoch 4/10\n",
      "391/391 [==============================] - 19s 49ms/step - loss: 0.6642 - accuracy: 0.7660 - val_loss: 0.8086 - val_accuracy: 0.7190\n",
      "Epoch 5/10\n",
      "391/391 [==============================] - 19s 49ms/step - loss: 0.5263 - accuracy: 0.8172 - val_loss: 0.8218 - val_accuracy: 0.7215\n",
      "Epoch 6/10\n",
      "391/391 [==============================] - 19s 49ms/step - loss: 0.3698 - accuracy: 0.8721 - val_loss: 0.8895 - val_accuracy: 0.7253\n",
      "Epoch 7/10\n",
      "391/391 [==============================] - 19s 49ms/step - loss: 0.2398 - accuracy: 0.9178 - val_loss: 1.0063 - val_accuracy: 0.7218\n",
      "Epoch 8/10\n",
      "391/391 [==============================] - 19s 49ms/step - loss: 0.1475 - accuracy: 0.9486 - val_loss: 1.1598 - val_accuracy: 0.7269\n",
      "Epoch 9/10\n",
      "391/391 [==============================] - 19s 48ms/step - loss: 0.0913 - accuracy: 0.9687 - val_loss: 1.3486 - val_accuracy: 0.7291\n",
      "Epoch 10/10\n",
      "391/391 [==============================] - 19s 49ms/step - loss: 0.0691 - accuracy: 0.9766 - val_loss: 1.5206 - val_accuracy: 0.7102\n"
     ]
    }
   ],
   "source": [
    "history = augmented_model.fit(cutout_train[0], y_train, batch_size=128, epochs=10, validation_data=(cutout_test[0], y_test))"
   ]
  },
  {
   "cell_type": "markdown",
   "id": "19d2983f-a888-4ec4-849c-a4b541439629",
   "metadata": {},
   "source": [
    "# Test "
   ]
  },
  {
   "cell_type": "code",
   "execution_count": 34,
   "id": "aa564f44-ba0e-4bc7-bd19-4d9dc1786e98",
   "metadata": {},
   "outputs": [],
   "source": [
    "y_train_true = np.argmax(y_train, axis=1)\n",
    "y_test_true = np.argmax(y_test, axis=1)"
   ]
  },
  {
   "cell_type": "code",
   "execution_count": 49,
   "id": "e1af3127-c7b0-4661-a8a3-9ec0f6c45366",
   "metadata": {},
   "outputs": [],
   "source": [
    "normal_pred1 = normal_model.predict(x_test, verbose=0)\n",
    "normal_pred1 = np.argmax(normal_pred1, axis=1)"
   ]
  },
  {
   "cell_type": "code",
   "execution_count": 50,
   "id": "67d0f50e-0fcf-4f24-bfd7-222ece556349",
   "metadata": {},
   "outputs": [],
   "source": [
    "normal_pred2 = normal_model.predict(cutout_test[0], verbose=0)\n",
    "normal_pred2 = np.argmax(normal_pred2, axis=1)"
   ]
  },
  {
   "cell_type": "code",
   "execution_count": 51,
   "id": "8d363356-e481-481a-b830-510630b4eb11",
   "metadata": {},
   "outputs": [],
   "source": [
    "augmented_pred1 = augmented_model.predict(x_test, verbose=0)\n",
    "augmented_pred1 = np.argmax(augmented_pred1, axis=1)"
   ]
  },
  {
   "cell_type": "code",
   "execution_count": 52,
   "id": "ff46b012-6418-4c44-8fd8-ced6d3d72641",
   "metadata": {},
   "outputs": [],
   "source": [
    "augmented_pred2 = augmented_model.predict(cutout_test[0], verbose=0)\n",
    "augmented_pred2 = np.argmax(augmented_pred2, axis=1)"
   ]
  },
  {
   "cell_type": "markdown",
   "id": "91cd584a-f20e-43a1-80f0-7018a836de98",
   "metadata": {},
   "source": [
    "# Results"
   ]
  },
  {
   "cell_type": "code",
   "execution_count": 55,
   "id": "17742949-1b60-4ffc-8ded-764407c04b93",
   "metadata": {},
   "outputs": [
    {
     "name": "stdout",
     "output_type": "stream",
     "text": [
      "Normal Model Accuracy (Normal Data): 0.7418\n",
      "Normal Model Accuracy (Augmented Data): 0.6339\n"
     ]
    }
   ],
   "source": [
    "print(\"Normal Model Accuracy (Normal Data):\", accuracy_score(y_test_true, normal_pred1))\n",
    "print(\"Normal Model Accuracy (Augmented Data):\", accuracy_score(y_test_true, normal_pred2))"
   ]
  },
  {
   "cell_type": "code",
   "execution_count": 56,
   "id": "06ba8858-3dcc-43e1-b218-ae7506285d32",
   "metadata": {},
   "outputs": [
    {
     "name": "stdout",
     "output_type": "stream",
     "text": [
      "Augmented Model Accuracy (Normal Data): 0.732\n",
      "Augmented Model Accuracy (Augmented Data): 0.7102\n"
     ]
    }
   ],
   "source": [
    "print(\"Augmented Model Accuracy (Normal Data):\", accuracy_score(y_test_true, augmented_pred1))\n",
    "print(\"Augmented Model Accuracy (Augmented Data):\", accuracy_score(y_test_true, augmented_pred2))"
   ]
  },
  {
   "cell_type": "code",
   "execution_count": null,
   "id": "a0c36f03-70f2-4d05-860d-ff14678c3b5a",
   "metadata": {},
   "outputs": [],
   "source": []
  }
 ],
 "metadata": {
  "kernelspec": {
   "display_name": "Python 3 (ipykernel)",
   "language": "python",
   "name": "python3"
  },
  "language_info": {
   "codemirror_mode": {
    "name": "ipython",
    "version": 3
   },
   "file_extension": ".py",
   "mimetype": "text/x-python",
   "name": "python",
   "nbconvert_exporter": "python",
   "pygments_lexer": "ipython3",
   "version": "3.10.12"
  }
 },
 "nbformat": 4,
 "nbformat_minor": 5
}

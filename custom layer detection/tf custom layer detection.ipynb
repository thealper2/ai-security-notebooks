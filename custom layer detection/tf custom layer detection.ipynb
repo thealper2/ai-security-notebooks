{
 "cells": [
  {
   "cell_type": "markdown",
   "id": "56c2c99e-eaf9-4076-9913-315e77a67701",
   "metadata": {},
   "source": [
    "# Import Libraries"
   ]
  },
  {
   "cell_type": "code",
   "execution_count": 21,
   "id": "1bf20cb1-2c6a-4971-a907-1566cb27dfd9",
   "metadata": {},
   "outputs": [],
   "source": [
    "import logging\n",
    "import tensorflow as tf\n",
    "from tensorflow.keras.layers import Layer\n",
    "from tensorflow.keras.models import load_model"
   ]
  },
  {
   "cell_type": "markdown",
   "id": "620ae4b9-9176-4d3a-a9c1-67f50c97ccfe",
   "metadata": {},
   "source": [
    "# Define Safe Model"
   ]
  },
  {
   "cell_type": "code",
   "execution_count": 2,
   "id": "b5a2c761-b793-46f5-8459-266454f86892",
   "metadata": {},
   "outputs": [],
   "source": [
    "safe_model = tf.keras.models.Sequential([\n",
    "    tf.keras.layers.Input((28, 28, 1)),\n",
    "    tf.keras.layers.Conv2D(32, (3, 3), activation=\"relu\"),\n",
    "    tf.keras.layers.Flatten(),\n",
    "    tf.keras.layers.Dense(10, activation=\"softmax\")\n",
    "])"
   ]
  },
  {
   "cell_type": "code",
   "execution_count": 7,
   "id": "26167066-3804-4f17-a433-92398344751c",
   "metadata": {},
   "outputs": [
    {
     "name": "stdout",
     "output_type": "stream",
     "text": [
      "WARNING:tensorflow:Compiled the loaded model, but the compiled metrics have yet to be built. `model.compile_metrics` will be empty until you train or evaluate the model.\n"
     ]
    },
    {
     "name": "stderr",
     "output_type": "stream",
     "text": [
      "/home/alper/.local/lib/python3.10/site-packages/keras/src/engine/training.py:3000: UserWarning: You are saving your model as an HDF5 file via `model.save()`. This file format is considered legacy. We recommend using instead the native Keras format, e.g. `model.save('my_model.keras')`.\n",
      "  saving_api.save_model(\n"
     ]
    }
   ],
   "source": [
    "safe_model_path = \"./models/safe_model.h5\"\n",
    "safe_model.save(safe_model_path)"
   ]
  },
  {
   "cell_type": "code",
   "execution_count": 11,
   "id": "b388b1c6-057f-474f-a7e5-065a480cbff0",
   "metadata": {},
   "outputs": [
    {
     "name": "stdout",
     "output_type": "stream",
     "text": [
      "WARNING:tensorflow:No training configuration found in the save file, so the model was *not* compiled. Compile it manually.\n"
     ]
    }
   ],
   "source": [
    "safe_model = load_model(safe_model_path)"
   ]
  },
  {
   "cell_type": "markdown",
   "id": "3307a65b-a7ed-4ced-b72b-23698a118b5c",
   "metadata": {},
   "source": [
    "# Define Malicious Model"
   ]
  },
  {
   "cell_type": "code",
   "execution_count": 5,
   "id": "10baba9d-156b-4f8a-8ac0-46a6abe8df60",
   "metadata": {},
   "outputs": [],
   "source": [
    "class CustomLayer(Layer):\n",
    "    def call(self, inputs):\n",
    "        return inputs * 2 + 1"
   ]
  },
  {
   "cell_type": "code",
   "execution_count": 6,
   "id": "1a055c56-cd0f-4aa8-aa3c-872d53eb6b99",
   "metadata": {},
   "outputs": [],
   "source": [
    "malicious_model = tf.keras.models.Sequential([\n",
    "    tf.keras.layers.Input((28, 28, 1)),\n",
    "    tf.keras.layers.Conv2D(32, (3, 3), activation=\"relu\"),\n",
    "    CustomLayer(),\n",
    "    tf.keras.layers.Flatten(),\n",
    "    tf.keras.layers.Dense(10, activation=\"softmax\")\n",
    "])"
   ]
  },
  {
   "cell_type": "code",
   "execution_count": 9,
   "id": "77bcb310-23cf-4765-8a5e-13e7ebd7448f",
   "metadata": {},
   "outputs": [
    {
     "name": "stdout",
     "output_type": "stream",
     "text": [
      "WARNING:tensorflow:Compiled the loaded model, but the compiled metrics have yet to be built. `model.compile_metrics` will be empty until you train or evaluate the model.\n"
     ]
    }
   ],
   "source": [
    "malicious_model_path = \"./models/malicious_model.h5\"\n",
    "malicious_model.save(malicious_model_path)"
   ]
  },
  {
   "cell_type": "code",
   "execution_count": 13,
   "id": "30c28b17-ee0c-4857-9467-e328e5b1046c",
   "metadata": {},
   "outputs": [
    {
     "name": "stdout",
     "output_type": "stream",
     "text": [
      "WARNING:tensorflow:No training configuration found in the save file, so the model was *not* compiled. Compile it manually.\n"
     ]
    }
   ],
   "source": [
    "malicious_model = load_model(malicious_model_path, custom_objects={\"CustomLayer\": CustomLayer})"
   ]
  },
  {
   "cell_type": "markdown",
   "id": "ba3f3800-785d-4a2d-b19f-98dd8d76bec3",
   "metadata": {},
   "source": [
    "# Custom Layer Detection"
   ]
  },
  {
   "cell_type": "code",
   "execution_count": 38,
   "id": "a144d945-fe05-4848-ad22-784260e878d8",
   "metadata": {},
   "outputs": [],
   "source": [
    "def detect_custom_layer(model):\n",
    "    standard_layers = dir(tf.keras.layers)\n",
    "\n",
    "    custom_layers = []\n",
    "    for layer in model.layers:\n",
    "        if type(layer).__name__ not in standard_layers:\n",
    "            custom_layers.append(type(layer).__name__)\n",
    "            \n",
    "    return custom_layers"
   ]
  },
  {
   "cell_type": "code",
   "execution_count": 39,
   "id": "aec80096-1e7d-4cb9-855c-d7c8e3e897b9",
   "metadata": {},
   "outputs": [
    {
     "data": {
      "text/plain": [
       "[]"
      ]
     },
     "execution_count": 39,
     "metadata": {},
     "output_type": "execute_result"
    }
   ],
   "source": [
    "detect_custom_layer(safe_model)"
   ]
  },
  {
   "cell_type": "code",
   "execution_count": 40,
   "id": "230a6316-b79b-402d-acd7-78c883832df8",
   "metadata": {},
   "outputs": [
    {
     "data": {
      "text/plain": [
       "['CustomLayer']"
      ]
     },
     "execution_count": 40,
     "metadata": {},
     "output_type": "execute_result"
    }
   ],
   "source": [
    "detect_custom_layer(malicious_model)"
   ]
  },
  {
   "cell_type": "code",
   "execution_count": null,
   "id": "7ea1bee6-80d4-4fbf-b940-8eed92264609",
   "metadata": {},
   "outputs": [],
   "source": []
  }
 ],
 "metadata": {
  "kernelspec": {
   "display_name": "Python 3 (ipykernel)",
   "language": "python",
   "name": "python3"
  },
  "language_info": {
   "codemirror_mode": {
    "name": "ipython",
    "version": 3
   },
   "file_extension": ".py",
   "mimetype": "text/x-python",
   "name": "python",
   "nbconvert_exporter": "python",
   "pygments_lexer": "ipython3",
   "version": "3.10.12"
  }
 },
 "nbformat": 4,
 "nbformat_minor": 5
}

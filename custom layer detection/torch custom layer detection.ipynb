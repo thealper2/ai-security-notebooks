{
 "cells": [
  {
   "cell_type": "markdown",
   "id": "56c2c99e-eaf9-4076-9913-315e77a67701",
   "metadata": {},
   "source": [
    "# Import Libraries"
   ]
  },
  {
   "cell_type": "code",
   "execution_count": 49,
   "id": "1bf20cb1-2c6a-4971-a907-1566cb27dfd9",
   "metadata": {},
   "outputs": [],
   "source": [
    "import torch\n",
    "import torch.nn as nn"
   ]
  },
  {
   "cell_type": "markdown",
   "id": "620ae4b9-9176-4d3a-a9c1-67f50c97ccfe",
   "metadata": {},
   "source": [
    "# Define Safe Model"
   ]
  },
  {
   "cell_type": "code",
   "execution_count": 50,
   "id": "b5a2c761-b793-46f5-8459-266454f86892",
   "metadata": {},
   "outputs": [],
   "source": [
    "class SafeModel(nn.Module):\n",
    "    def __init__(self):\n",
    "        super(SafeModel, self).__init__()\n",
    "        self.conv1 = nn.Conv2d(1, 32, kernel_size=3)\n",
    "        self.relu = nn.ReLU()\n",
    "        self.flatten = nn.Flatten()\n",
    "        self.fc = nn.Linear(32 * 26 * 26, 10)\n",
    "        self.softmax = nn.Softmax(dim=1)\n",
    "\n",
    "    def forward(self, x):\n",
    "        x = self.conv1(x)\n",
    "        x = self.relu(x)\n",
    "        x = self.flatten(x)\n",
    "        x = self.fc(x)\n",
    "        output = self.softmax(x)\n",
    "        return output"
   ]
  },
  {
   "cell_type": "code",
   "execution_count": 57,
   "id": "77152b3d-2236-494c-8919-921149e6880f",
   "metadata": {},
   "outputs": [],
   "source": [
    "safe_model = SafeModel()"
   ]
  },
  {
   "cell_type": "code",
   "execution_count": 58,
   "id": "26167066-3804-4f17-a433-92398344751c",
   "metadata": {},
   "outputs": [],
   "source": [
    "safe_model_path = \"./models/safe_model.pt\"\n",
    "torch.save(safe_model.state_dict(), safe_model_path)"
   ]
  },
  {
   "cell_type": "code",
   "execution_count": 56,
   "id": "b388b1c6-057f-474f-a7e5-065a480cbff0",
   "metadata": {},
   "outputs": [],
   "source": [
    "#safe_model = torch.load(safe_model_path, weights_only=False)"
   ]
  },
  {
   "cell_type": "markdown",
   "id": "3307a65b-a7ed-4ced-b72b-23698a118b5c",
   "metadata": {},
   "source": [
    "# Define Malicious Model"
   ]
  },
  {
   "cell_type": "code",
   "execution_count": 59,
   "id": "10baba9d-156b-4f8a-8ac0-46a6abe8df60",
   "metadata": {},
   "outputs": [],
   "source": [
    "class CustomLayer(nn.Module):\n",
    "    def __init__(self):\n",
    "        super(CustomLayer, self).__init__()\n",
    "        \n",
    "    def forward(self, inputs):\n",
    "        return inputs * 2 + 1"
   ]
  },
  {
   "cell_type": "code",
   "execution_count": 60,
   "id": "6ee6967f-840f-424a-bb85-3b1e10c23aac",
   "metadata": {},
   "outputs": [],
   "source": [
    "class MaliciousModel(nn.Module):\n",
    "    def __init__(self):\n",
    "        super(MaliciousModel, self).__init__()\n",
    "        self.conv1 = nn.Conv2d(1, 32, kernel_size=3)\n",
    "        self.relu = nn.ReLU()\n",
    "        self.custom = CustomLayer()\n",
    "        self.flatten = nn.Flatten()\n",
    "        self.fc = nn.Linear(32 * 26 * 26, 10)\n",
    "        self.softmax = nn.Softmax(dim=1)\n",
    "\n",
    "    def forward(self, x):\n",
    "        x = self.conv1(x)\n",
    "        x = self.relu(x)\n",
    "        x = self.custom(x)\n",
    "        x = self.flatten(x)\n",
    "        x = self.fc(x)\n",
    "        output = self.softmax(x)\n",
    "        return output"
   ]
  },
  {
   "cell_type": "code",
   "execution_count": 61,
   "id": "1a055c56-cd0f-4aa8-aa3c-872d53eb6b99",
   "metadata": {},
   "outputs": [],
   "source": [
    "malicious_model = MaliciousModel()"
   ]
  },
  {
   "cell_type": "code",
   "execution_count": 62,
   "id": "77bcb310-23cf-4765-8a5e-13e7ebd7448f",
   "metadata": {},
   "outputs": [],
   "source": [
    "malicious_model_path = \"./models/malicious_model.pt\"\n",
    "torch.save(malicious_model.state_dict(), malicious_model_path)"
   ]
  },
  {
   "cell_type": "code",
   "execution_count": 63,
   "id": "30c28b17-ee0c-4857-9467-e328e5b1046c",
   "metadata": {},
   "outputs": [],
   "source": [
    "#malicious_model = torch.load(malicious_model_path, weights_only=False)"
   ]
  },
  {
   "cell_type": "markdown",
   "id": "ba3f3800-785d-4a2d-b19f-98dd8d76bec3",
   "metadata": {},
   "source": [
    "# Custom Layer Detection"
   ]
  },
  {
   "cell_type": "code",
   "execution_count": 80,
   "id": "a144d945-fe05-4848-ad22-784260e878d8",
   "metadata": {},
   "outputs": [],
   "source": [
    "def detect_custom_layer(model):\n",
    "    standard_layers = dir(nn)\n",
    "\n",
    "    custom_layers = []\n",
    "    for module in list(model.modules())[1:]:\n",
    "        if module.__class__.__name__ not in standard_layers:\n",
    "            custom_layers.append(module.__class__.__name__)\n",
    "\n",
    "    return custom_layers"
   ]
  },
  {
   "cell_type": "code",
   "execution_count": 81,
   "id": "aec80096-1e7d-4cb9-855c-d7c8e3e897b9",
   "metadata": {},
   "outputs": [
    {
     "data": {
      "text/plain": [
       "[]"
      ]
     },
     "execution_count": 81,
     "metadata": {},
     "output_type": "execute_result"
    }
   ],
   "source": [
    "detect_custom_layer(safe_model)"
   ]
  },
  {
   "cell_type": "code",
   "execution_count": 82,
   "id": "230a6316-b79b-402d-acd7-78c883832df8",
   "metadata": {},
   "outputs": [
    {
     "data": {
      "text/plain": [
       "['CustomLayer']"
      ]
     },
     "execution_count": 82,
     "metadata": {},
     "output_type": "execute_result"
    }
   ],
   "source": [
    "detect_custom_layer(malicious_model)"
   ]
  },
  {
   "cell_type": "code",
   "execution_count": null,
   "id": "b94910fc-d3d8-45ab-965f-3038f4bb9117",
   "metadata": {},
   "outputs": [],
   "source": []
  },
  {
   "cell_type": "code",
   "execution_count": null,
   "id": "df280d88-b87b-49a4-b2da-ee25c252446b",
   "metadata": {},
   "outputs": [],
   "source": []
  }
 ],
 "metadata": {
  "kernelspec": {
   "display_name": "Python 3 (ipykernel)",
   "language": "python",
   "name": "python3"
  },
  "language_info": {
   "codemirror_mode": {
    "name": "ipython",
    "version": 3
   },
   "file_extension": ".py",
   "mimetype": "text/x-python",
   "name": "python",
   "nbconvert_exporter": "python",
   "pygments_lexer": "ipython3",
   "version": "3.10.12"
  }
 },
 "nbformat": 4,
 "nbformat_minor": 5
}

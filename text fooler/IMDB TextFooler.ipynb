{
 "cells": [
  {
   "cell_type": "markdown",
   "id": "8f026da5-acac-4854-9f3a-c456b83701b2",
   "metadata": {},
   "source": [
    "# Import Libraries"
   ]
  },
  {
   "cell_type": "code",
   "execution_count": 4,
   "id": "00f510a9-7b2f-4810-b469-8e37196bc190",
   "metadata": {},
   "outputs": [],
   "source": [
    "import random\n",
    "\n",
    "from transformers import AutoModelForSequenceClassification, AutoTokenizer\n",
    "\n",
    "from textattack.attack_recipes import TextFoolerJin2019\n",
    "from textattack.datasets import HuggingFaceDataset\n",
    "from textattack.models.wrappers import HuggingFaceModelWrapper, ModelWrapper"
   ]
  },
  {
   "cell_type": "markdown",
   "id": "3a6626b9-a419-4584-b4d3-82ba7dacae49",
   "metadata": {},
   "source": [
    "# Load Data"
   ]
  },
  {
   "cell_type": "code",
   "execution_count": null,
   "id": "d56ad6ed-dc24-4b2d-aa8d-6893c2248974",
   "metadata": {},
   "outputs": [],
   "source": [
    "imdb_dataset = HuggingFaceDataset(\"imdb\", split=\"train\")"
   ]
  },
  {
   "cell_type": "markdown",
   "id": "0d953f40-e10d-4102-9d28-2e385a05509e",
   "metadata": {},
   "source": [
    "# Model"
   ]
  },
  {
   "cell_type": "code",
   "execution_count": 5,
   "id": "c3780ef0-6927-4ad2-9361-30d244404812",
   "metadata": {},
   "outputs": [],
   "source": [
    "model = AutoModelForSequenceClassification.from_pretrained(\"textattack/bert-base-uncased-imdb\")"
   ]
  },
  {
   "cell_type": "code",
   "execution_count": null,
   "id": "864d5428-a1b7-4ffb-903b-257cf2a257be",
   "metadata": {},
   "outputs": [],
   "source": [
    "tokenizer = AutoTokenizer.from_pretrained(\"textattack/bert-base-uncased-imdb\")"
   ]
  },
  {
   "cell_type": "code",
   "execution_count": 7,
   "id": "4c6ab1b7-4f4e-4d80-a7dc-e71ec27098e9",
   "metadata": {},
   "outputs": [],
   "source": [
    "wrapper = HuggingFaceModelWrapper(model=model, tokenizer=tokenizer)"
   ]
  },
  {
   "cell_type": "markdown",
   "id": "a54e6774-6353-44b8-bc12-9cca778e22a2",
   "metadata": {},
   "source": [
    "# Attack"
   ]
  },
  {
   "cell_type": "code",
   "execution_count": null,
   "id": "18be4ffe-1003-46be-bfce-1d80bf004463",
   "metadata": {},
   "outputs": [],
   "source": [
    "attack = TextFoolerJin2019.build(wrapper)"
   ]
  },
  {
   "cell_type": "code",
   "execution_count": 21,
   "id": "488d0ab6-38d8-4686-ac4e-8e90b669191c",
   "metadata": {},
   "outputs": [],
   "source": [
    "def test_random_sample(attack, dataset):\n",
    "    data = random.choice(dataset)\n",
    "    attack_result = attack.attack(list(data[0].values())[0], data[1])\n",
    "    return attack_result"
   ]
  },
  {
   "cell_type": "code",
   "execution_count": null,
   "id": "55fd6b02-f443-4f76-8506-264fb4a2e24c",
   "metadata": {},
   "outputs": [],
   "source": [
    "attack_result = test_random_sample(attack, imdb_dataset)\n",
    "print(attack_result)"
   ]
  },
  {
   "cell_type": "code",
   "execution_count": 27,
   "id": "6a101570-62a6-430b-82dd-bf0e4bbbf9c2",
   "metadata": {},
   "outputs": [
    {
     "name": "stdout",
     "output_type": "stream",
     "text": [
      "1 (100%) --> 0 (99%)\n",
      "\n",
      "It was the best movie I've ever watched.\n",
      "\n",
      "It was the noblest movie I've ever watched.\n"
     ]
    }
   ],
   "source": [
    "input_text = \"It was the best movie I've ever watched.\"\n",
    "label = 1 # Positive\n",
    "attack_result = attack.attack(input_text, label)\n",
    "print(attack_result) # Negative"
   ]
  },
  {
   "cell_type": "code",
   "execution_count": null,
   "id": "beb76fbb-82fb-4435-ba68-575e06c948f5",
   "metadata": {},
   "outputs": [],
   "source": []
  }
 ],
 "metadata": {
  "kernelspec": {
   "display_name": "Python 3 (ipykernel)",
   "language": "python",
   "name": "python3"
  },
  "language_info": {
   "codemirror_mode": {
    "name": "ipython",
    "version": 3
   },
   "file_extension": ".py",
   "mimetype": "text/x-python",
   "name": "python",
   "nbconvert_exporter": "python",
   "pygments_lexer": "ipython3",
   "version": "3.10.12"
  }
 },
 "nbformat": 4,
 "nbformat_minor": 5
}

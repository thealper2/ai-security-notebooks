{
 "cells": [
  {
   "cell_type": "markdown",
   "id": "9d12f456-9f27-4136-8456-b53959039f22",
   "metadata": {},
   "source": [
    "# Import Libraries"
   ]
  },
  {
   "cell_type": "code",
   "execution_count": 8,
   "id": "e75a75f0-0b96-41f5-9def-63f63e101283",
   "metadata": {},
   "outputs": [],
   "source": [
    "import numpy as np\n",
    "import matplotlib.pyplot as plt\n",
    "\n",
    "from tensorflow.keras import layers, models\n",
    "from tensorflow.keras.datasets import cifar10\n",
    "from tensorflow.keras.utils import to_categorical\n",
    "from tensorflow.keras.losses import CategoricalCrossentropy\n",
    "\n",
    "from sklearn.metrics import accuracy_score, precision_score, recall_score, f1_score\n",
    "\n",
    "from art.estimators.classification import TensorFlowV2Classifier\n",
    "from art.attacks.evasion import Wasserstein"
   ]
  },
  {
   "cell_type": "markdown",
   "id": "c31b077d-3c93-455d-abdc-eb9cf9bf0060",
   "metadata": {},
   "source": [
    "# Load Data"
   ]
  },
  {
   "cell_type": "code",
   "execution_count": 9,
   "id": "9fa8c2e5-d286-4e83-96d9-926ae19c45f8",
   "metadata": {},
   "outputs": [],
   "source": [
    "(x_train, y_train), (x_test, y_test) = cifar10.load_data()"
   ]
  },
  {
   "cell_type": "code",
   "execution_count": 10,
   "id": "d58ba9c1-fd9a-477a-a0b0-e966f9b57151",
   "metadata": {},
   "outputs": [],
   "source": [
    "x_train = x_train.astype('float32') / 255.\n",
    "x_test = x_test.astype('float32') / 255."
   ]
  },
  {
   "cell_type": "code",
   "execution_count": 11,
   "id": "1114e1d8-04f4-4a7e-990a-c2e1b92ed03e",
   "metadata": {},
   "outputs": [],
   "source": [
    "y_train = to_categorical(y_train, num_classes=10)\n",
    "y_test = to_categorical(y_test, num_classes=10)"
   ]
  },
  {
   "cell_type": "markdown",
   "id": "938c47cf-a29a-465c-8b21-5f88d3a2272c",
   "metadata": {},
   "source": [
    "# Model"
   ]
  },
  {
   "cell_type": "code",
   "execution_count": 12,
   "id": "ba2ae0a9-93f5-44ed-8694-849aa2d19a1f",
   "metadata": {},
   "outputs": [],
   "source": [
    "model = models.Sequential([\n",
    "    layers.Conv2D(32, (3, 3), activation=\"relu\", padding=\"same\", input_shape=(32, 32, 3)),\n",
    "    layers.Conv2D(32, (3, 3), activation=\"relu\", padding=\"same\"),\n",
    "    layers.MaxPooling2D(pool_size=(2, 2)),\n",
    "    \n",
    "    layers.Conv2D(64, (3, 3), activation=\"relu\", padding=\"same\"),\n",
    "    layers.Conv2D(64, (3, 3), activation=\"relu\", padding=\"same\"),\n",
    "    layers.MaxPooling2D(pool_size=(2, 2)),\n",
    "    \n",
    "    layers.Flatten(),\n",
    "    \n",
    "    layers.Dense(512, activation=\"relu\"),\n",
    "    layers.Dense(10)\n",
    "])"
   ]
  },
  {
   "cell_type": "code",
   "execution_count": 13,
   "id": "eb56640c-89b4-4af3-8dea-535ea0c284bc",
   "metadata": {},
   "outputs": [],
   "source": [
    "model.compile(optimizer='adam', loss=CategoricalCrossentropy(from_logits=True), metrics=['accuracy'])"
   ]
  },
  {
   "cell_type": "markdown",
   "id": "71be792a-dad8-4ff1-bee6-4bc8251a970c",
   "metadata": {},
   "source": [
    "# Train"
   ]
  },
  {
   "cell_type": "code",
   "execution_count": 14,
   "id": "02c9974f-563b-4f86-adce-2772c4d4aa97",
   "metadata": {},
   "outputs": [
    {
     "name": "stdout",
     "output_type": "stream",
     "text": [
      "Epoch 1/10\n",
      "391/391 [==============================] - 7s 12ms/step - loss: 1.4380 - accuracy: 0.4804 - val_loss: 1.1046 - val_accuracy: 0.6118\n",
      "Epoch 2/10\n",
      "391/391 [==============================] - 4s 10ms/step - loss: 0.9538 - accuracy: 0.6643 - val_loss: 0.8771 - val_accuracy: 0.6987\n",
      "Epoch 3/10\n",
      "391/391 [==============================] - 4s 10ms/step - loss: 0.7518 - accuracy: 0.7359 - val_loss: 0.7917 - val_accuracy: 0.7264\n",
      "Epoch 4/10\n",
      "391/391 [==============================] - 4s 10ms/step - loss: 0.6013 - accuracy: 0.7907 - val_loss: 0.7832 - val_accuracy: 0.7318\n",
      "Epoch 5/10\n",
      "391/391 [==============================] - 4s 10ms/step - loss: 0.4657 - accuracy: 0.8371 - val_loss: 0.7339 - val_accuracy: 0.7584\n",
      "Epoch 6/10\n",
      "391/391 [==============================] - 4s 10ms/step - loss: 0.3247 - accuracy: 0.8874 - val_loss: 0.7820 - val_accuracy: 0.7605\n",
      "Epoch 7/10\n",
      "391/391 [==============================] - 4s 10ms/step - loss: 0.2054 - accuracy: 0.9293 - val_loss: 0.9380 - val_accuracy: 0.7545\n",
      "Epoch 8/10\n",
      "391/391 [==============================] - 4s 10ms/step - loss: 0.1320 - accuracy: 0.9540 - val_loss: 1.0820 - val_accuracy: 0.7530\n",
      "Epoch 9/10\n",
      "391/391 [==============================] - 4s 10ms/step - loss: 0.0938 - accuracy: 0.9677 - val_loss: 1.2771 - val_accuracy: 0.7467\n",
      "Epoch 10/10\n",
      "391/391 [==============================] - 4s 10ms/step - loss: 0.0776 - accuracy: 0.9730 - val_loss: 1.2925 - val_accuracy: 0.7524\n"
     ]
    }
   ],
   "source": [
    "history = model.fit(x_train, y_train, batch_size=128, epochs=10, validation_data=(x_test, y_test))"
   ]
  },
  {
   "cell_type": "markdown",
   "id": "90f642a3-93d8-4e1f-9359-9daebd19c48d",
   "metadata": {},
   "source": [
    "# Attack"
   ]
  },
  {
   "cell_type": "code",
   "execution_count": 19,
   "id": "830bd155-a2ef-4cd3-bd3b-584cc8c3c9be",
   "metadata": {},
   "outputs": [],
   "source": [
    "art_model = TensorFlowV2Classifier(model=model, loss_object=CategoricalCrossentropy(from_logits=True), nb_classes=10, input_shape=(32, 32, 3), clip_values=(0, 1))"
   ]
  },
  {
   "cell_type": "code",
   "execution_count": 27,
   "id": "8755af7e-1e27-41f5-8bdd-b4660def7a23",
   "metadata": {},
   "outputs": [],
   "source": [
    "wa = Wasserstein(estimator=art_model, targeted=False, eps=0.7)"
   ]
  },
  {
   "cell_type": "code",
   "execution_count": 28,
   "id": "aa433a87-63cd-47de-9348-af692143d1d1",
   "metadata": {},
   "outputs": [
    {
     "data": {
      "application/vnd.jupyter.widget-view+json": {
       "model_id": "4b11a90d65c64a38a7193235f1499241",
       "version_major": 2,
       "version_minor": 0
      },
      "text/plain": [
       "Wasserstein:   0%|          | 0/4 [00:00<?, ?it/s]"
      ]
     },
     "metadata": {},
     "output_type": "display_data"
    }
   ],
   "source": [
    "adv_test = wa.generate(x=x_test[:4])"
   ]
  },
  {
   "cell_type": "markdown",
   "id": "b7834762-c078-448b-af7f-268ae42ed450",
   "metadata": {},
   "source": [
    "# Results"
   ]
  },
  {
   "cell_type": "code",
   "execution_count": 30,
   "id": "2bb46314-aba7-4277-a1a6-7eea4d4f712d",
   "metadata": {},
   "outputs": [],
   "source": [
    "safe_preds = np.argmax(art_model.predict(x_test[:4]), axis=1)"
   ]
  },
  {
   "cell_type": "code",
   "execution_count": 31,
   "id": "dc780310-6c82-43b5-96c1-9510d8f2aa88",
   "metadata": {},
   "outputs": [
    {
     "data": {
      "text/plain": [
       "array([3, 8, 8, 0])"
      ]
     },
     "execution_count": 31,
     "metadata": {},
     "output_type": "execute_result"
    }
   ],
   "source": [
    "safe_preds"
   ]
  },
  {
   "cell_type": "code",
   "execution_count": 32,
   "id": "7d7adf6d-aaf3-4f32-8b11-a296be82ddc5",
   "metadata": {},
   "outputs": [],
   "source": [
    "y_test = np.argmax(y_test[:4], axis=1)"
   ]
  },
  {
   "cell_type": "code",
   "execution_count": 33,
   "id": "8b0099a8-5229-4e4d-910b-47e91fbfb7ff",
   "metadata": {},
   "outputs": [],
   "source": [
    "safe_model_scores = {\n",
    "    'ACC': accuracy_score(y_test, safe_preds),\n",
    "    'PREC': precision_score(y_test, safe_preds, average='weighted'),\n",
    "    'REC': recall_score(y_test, safe_preds, average='weighted'),\n",
    "    'F1': f1_score(y_test, safe_preds, average='weighted')\n",
    "}"
   ]
  },
  {
   "cell_type": "code",
   "execution_count": 34,
   "id": "b60af0d9-4073-4c09-ba21-6a518c80982e",
   "metadata": {},
   "outputs": [
    {
     "data": {
      "text/plain": [
       "{'ACC': 1.0, 'PREC': 1.0, 'REC': 1.0, 'F1': 1.0}"
      ]
     },
     "execution_count": 34,
     "metadata": {},
     "output_type": "execute_result"
    }
   ],
   "source": [
    "safe_model_scores"
   ]
  },
  {
   "cell_type": "code",
   "execution_count": 35,
   "id": "5a6458ed-f4c2-4506-b9b1-eaee4f83c43b",
   "metadata": {},
   "outputs": [],
   "source": [
    "adv_preds = np.argmax(art_model.predict(adv_test), axis=1)"
   ]
  },
  {
   "cell_type": "code",
   "execution_count": 36,
   "id": "0871f3bb-3b24-4095-a96f-5c58c5ae41af",
   "metadata": {},
   "outputs": [
    {
     "name": "stderr",
     "output_type": "stream",
     "text": [
      "/home/alper/.local/lib/python3.10/site-packages/sklearn/metrics/_classification.py:1531: UndefinedMetricWarning: Precision is ill-defined and being set to 0.0 in labels with no predicted samples. Use `zero_division` parameter to control this behavior.\n",
      "  _warn_prf(average, modifier, f\"{metric.capitalize()} is\", len(result))\n",
      "/home/alper/.local/lib/python3.10/site-packages/sklearn/metrics/_classification.py:1531: UndefinedMetricWarning: Recall is ill-defined and being set to 0.0 in labels with no true samples. Use `zero_division` parameter to control this behavior.\n",
      "  _warn_prf(average, modifier, f\"{metric.capitalize()} is\", len(result))\n"
     ]
    }
   ],
   "source": [
    "adv_model_scores = {\n",
    "    'ACC': accuracy_score(y_test, adv_preds),\n",
    "    'PREC': precision_score(y_test, adv_preds, average='weighted'),\n",
    "    'REC': recall_score(y_test, adv_preds, average='weighted'),\n",
    "    'F1': f1_score(y_test, adv_preds, average='weighted')\n",
    "}"
   ]
  },
  {
   "cell_type": "code",
   "execution_count": 37,
   "id": "3a5f91b5-e4a8-4469-a85b-db081c68fc71",
   "metadata": {},
   "outputs": [
    {
     "data": {
      "text/plain": [
       "{'ACC': 0.0, 'PREC': 0.0, 'REC': 0.0, 'F1': 0.0}"
      ]
     },
     "execution_count": 37,
     "metadata": {},
     "output_type": "execute_result"
    }
   ],
   "source": [
    "adv_model_scores"
   ]
  },
  {
   "cell_type": "code",
   "execution_count": 39,
   "id": "23ee0c3a-a2b1-4943-93a9-db437d9ea6ce",
   "metadata": {},
   "outputs": [
    {
     "data": {
      "image/png": "[encoded data removed]",
      "text/plain": [
       "<Figure size 1000x600 with 4 Axes>"
      ]
     },
     "metadata": {},
     "output_type": "display_data"
    }
   ],
   "source": [
    "fig, axes = plt.subplots(nrows=1, ncols=4, figsize=(10, 6))\n",
    "random_index = np.random.randint(0, len(adv_test), 16)\n",
    "\n",
    "for i, ax in enumerate(axes.ravel()):\n",
    "    ax.imshow(adv_test[random_index[i]], cmap='gray')\n",
    "    ax.axis('off')\n",
    "\n",
    "    if y_test[random_index[i]] == adv_preds[random_index[i]]:\n",
    "        color = 'green'\n",
    "    else:\n",
    "        color = 'red'\n",
    "\n",
    "    ax.set_title(\n",
    "        f'True: {y_test[random_index[i]]}\\nPredicted: {adv_preds[random_index[i]]}',\n",
    "        color=color\n",
    "    )\n",
    "\n",
    "plt.tight_layout()\n",
    "plt.show()"
   ]
  },
  {
   "cell_type": "code",
   "execution_count": null,
   "id": "fc8efa0a-5252-4311-aa6c-801deb31776f",
   "metadata": {},
   "outputs": [],
   "source": []
  }
 ],
 "metadata": {
  "kernelspec": {
   "display_name": "Python 3 (ipykernel)",
   "language": "python",
   "name": "python3"
  },
  "language_info": {
   "codemirror_mode": {
    "name": "ipython",
    "version": 3
   },
   "file_extension": ".py",
   "mimetype": "text/x-python",
   "name": "python",
   "nbconvert_exporter": "python",
   "pygments_lexer": "ipython3",
   "version": "3.10.12"
  }
 },
 "nbformat": 4,
 "nbformat_minor": 5
}

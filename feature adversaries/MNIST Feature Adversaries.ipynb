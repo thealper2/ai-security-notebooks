{
 "cells": [
  {
   "cell_type": "markdown",
   "id": "cabc54b8-aea4-4abc-a31c-b37990e0441c",
   "metadata": {},
   "source": [
    "# Import Libraries"
   ]
  },
  {
   "cell_type": "code",
   "execution_count": 25,
   "id": "4f4b4c3c-4d65-4f9f-bbca-a1813cacfdaf",
   "metadata": {},
   "outputs": [],
   "source": [
    "import numpy as np\n",
    "import matplotlib.pyplot as plt\n",
    "\n",
    "from tensorflow.keras import layers, models\n",
    "from tensorflow.keras.optimizers import Adam\n",
    "from tensorflow.keras.losses import CategoricalCrossentropy\n",
    "from tensorflow.keras.utils import to_categorical\n",
    "\n",
    "from sklearn.metrics import accuracy_score, precision_score, recall_score, f1_score\n",
    "\n",
    "from art.utils import load_mnist\n",
    "from art.estimators.classification import TensorFlowV2Classifier\n",
    "from art.attacks.evasion import FeatureAdversariesTensorFlowV2"
   ]
  },
  {
   "cell_type": "markdown",
   "id": "a1a03f9f-b399-4476-8c6a-be10c6fec6b3",
   "metadata": {},
   "source": [
    "# Load Data"
   ]
  },
  {
   "cell_type": "code",
   "execution_count": 12,
   "id": "449b7141-8fe7-4195-817a-d20d8408171a",
   "metadata": {},
   "outputs": [],
   "source": [
    "(x_train, y_train), (x_test, y_test), min_, max_ = load_mnist()"
   ]
  },
  {
   "cell_type": "markdown",
   "id": "41deab87-29ab-4041-a890-50cb78d9f488",
   "metadata": {},
   "source": [
    "# Model"
   ]
  },
  {
   "cell_type": "code",
   "execution_count": 17,
   "id": "ca58848a-92e5-4a62-94fc-569f0a44f9a9",
   "metadata": {},
   "outputs": [],
   "source": [
    "model = models.Sequential([\n",
    "    layers.Flatten(),\n",
    "    layers.Dense(64, activation='relu'),\n",
    "    layers.Dense(128, activation='relu'),\n",
    "    layers.Dense(256, activation='relu'),\n",
    "    layers.Dense(10)\n",
    "])"
   ]
  },
  {
   "cell_type": "code",
   "execution_count": 18,
   "id": "dc385cf0-6281-4fb4-be9a-2afd4514e8b9",
   "metadata": {},
   "outputs": [],
   "source": [
    "model.compile(loss=CategoricalCrossentropy(from_logits=True), optimizer=\"adam\", metrics=[\"accuracy\"])"
   ]
  },
  {
   "cell_type": "markdown",
   "id": "b1fb7bb2-53dc-4a0d-8b1a-98f754f55a7f",
   "metadata": {},
   "source": [
    "# Train"
   ]
  },
  {
   "cell_type": "code",
   "execution_count": 19,
   "id": "ecf93b66-2226-49cf-b94b-77c0e7a50c19",
   "metadata": {},
   "outputs": [
    {
     "name": "stdout",
     "output_type": "stream",
     "text": [
      "Epoch 1/10\n",
      "1875/1875 [==============================] - 8s 4ms/step - loss: 0.2473 - accuracy: 0.9253\n",
      "Epoch 2/10\n",
      "1875/1875 [==============================] - 7s 4ms/step - loss: 0.1141 - accuracy: 0.9653\n",
      "Epoch 3/10\n",
      "1875/1875 [==============================] - 7s 4ms/step - loss: 0.0839 - accuracy: 0.9736\n",
      "Epoch 4/10\n",
      "1875/1875 [==============================] - 7s 4ms/step - loss: 0.0689 - accuracy: 0.9777\n",
      "Epoch 5/10\n",
      "1875/1875 [==============================] - 6s 3ms/step - loss: 0.0572 - accuracy: 0.9818\n",
      "Epoch 6/10\n",
      "1875/1875 [==============================] - 6s 3ms/step - loss: 0.0480 - accuracy: 0.9847\n",
      "Epoch 7/10\n",
      "1875/1875 [==============================] - 6s 3ms/step - loss: 0.0426 - accuracy: 0.9859\n",
      "Epoch 8/10\n",
      "1875/1875 [==============================] - 6s 3ms/step - loss: 0.0371 - accuracy: 0.9879\n",
      "Epoch 9/10\n",
      "1875/1875 [==============================] - 6s 3ms/step - loss: 0.0337 - accuracy: 0.9893\n",
      "Epoch 10/10\n",
      "1875/1875 [==============================] - 7s 3ms/step - loss: 0.0281 - accuracy: 0.9906\n"
     ]
    },
    {
     "data": {
      "text/plain": [
       "<keras.src.callbacks.History at 0x7f83c813d090>"
      ]
     },
     "execution_count": 19,
     "metadata": {},
     "output_type": "execute_result"
    }
   ],
   "source": [
    "model.fit(x_train, y_train, epochs=10, batch_size=32)"
   ]
  },
  {
   "cell_type": "markdown",
   "id": "e46b077c-4c49-4b08-9d54-58b8b9bcea62",
   "metadata": {},
   "source": [
    "# Attack"
   ]
  },
  {
   "cell_type": "code",
   "execution_count": 20,
   "id": "309d9831-e3f1-4cad-8355-6c7d3e76f5de",
   "metadata": {},
   "outputs": [],
   "source": [
    "art_model = TensorFlowV2Classifier(model=model, loss_object=CategoricalCrossentropy(from_logits=True), nb_classes=10, input_shape=(28, 28, 1), clip_values=(0, 1))"
   ]
  },
  {
   "cell_type": "code",
   "execution_count": 28,
   "id": "27711b95-d51c-4c09-a6c9-1f567e9fe5f2",
   "metadata": {},
   "outputs": [],
   "source": [
    "valid_indices = np.where(np.argmax(y_test, axis=1)[:100] != np.argmax(y_test, axis=1)[100:200])[0]\n",
    "source = x_test[:100][valid_indices][:32]\n",
    "guide = x_test[100:200][valid_indices][:32]"
   ]
  },
  {
   "cell_type": "code",
   "execution_count": 97,
   "id": "13b2633d-fa86-4ca9-b9d0-4ab0d206f056",
   "metadata": {},
   "outputs": [],
   "source": [
    "feat_adv = FeatureAdversariesTensorFlowV2(\n",
    "    art_model,\n",
    "    layer=-2,\n",
    "    delta=25/255,\n",
    "    optimizer=None,\n",
    "    step_size=1/255,\n",
    "    max_iter=100,\n",
    ")"
   ]
  },
  {
   "cell_type": "code",
   "execution_count": 98,
   "id": "05337f8a-285b-4b2e-b67c-cdeea6601b32",
   "metadata": {},
   "outputs": [
    {
     "data": {
      "application/vnd.jupyter.widget-view+json": {
       "model_id": "08b97fe6bf3e4bc197250b6d70650628",
       "version_major": 2,
       "version_minor": 0
      },
      "text/plain": [
       "Feature Adversaries TensorFlow v2:   0%|          | 0/100 [00:00<?, ?it/s]"
      ]
     },
     "metadata": {},
     "output_type": "display_data"
    }
   ],
   "source": [
    "adv_test = feat_adv.generate(source, guide)"
   ]
  },
  {
   "cell_type": "markdown",
   "id": "45b35b4f-69e3-42c0-a824-e0c200f6b6da",
   "metadata": {},
   "source": [
    "# Results"
   ]
  },
  {
   "cell_type": "code",
   "execution_count": 99,
   "id": "b8b6db94-9ecf-483e-a860-bb13230cd903",
   "metadata": {},
   "outputs": [],
   "source": [
    "def calc_acc(preds):\n",
    "    return np.sum(preds == np.argmax(y_test[:100][valid][:32], axis=1)) / len(y_test[:100][valid][:32])"
   ]
  },
  {
   "cell_type": "code",
   "execution_count": 100,
   "id": "6dbb96e2-ad7b-425e-8e6b-dad1a3e4c65a",
   "metadata": {},
   "outputs": [],
   "source": [
    "safe_preds = np.argmax(art_model.predict(source), axis=1)"
   ]
  },
  {
   "cell_type": "code",
   "execution_count": 101,
   "id": "0e6b1f27-9859-4a2a-b9fd-c00743c509f6",
   "metadata": {},
   "outputs": [
    {
     "name": "stdout",
     "output_type": "stream",
     "text": [
      "Accuracy on test batch: 1.0\n"
     ]
    }
   ],
   "source": [
    "safe_acc = calc_acc(safe_preds)\n",
    "print(\"Accuracy on test batch:\", safe_acc)"
   ]
  },
  {
   "cell_type": "code",
   "execution_count": 102,
   "id": "b514ed9f-2dd9-4dc7-8699-5f0223571ff0",
   "metadata": {},
   "outputs": [],
   "source": [
    "adv_preds = np.argmax(art_model.predict(adv_test), axis=1)"
   ]
  },
  {
   "cell_type": "code",
   "execution_count": 103,
   "id": "4cc62002-e0f6-4cb5-8afd-ea2bc642d8f3",
   "metadata": {},
   "outputs": [
    {
     "name": "stdout",
     "output_type": "stream",
     "text": [
      "Accuracy on adversarial test batch: 0.0%\n",
      "Average perturbation: 0.09803921568627452%\n"
     ]
    }
   ],
   "source": [
    "adv_acc = calc_acc(adv_preds)\n",
    "pert = np.mean(np.amax(np.abs(source - adv_test), axis=(1, 2, 3)))\n",
    "\n",
    "print(\"Accuracy on adversarial test batch: {}%\".format(accuracy * 100))\n",
    "print(\"Average perturbation: {}%\".format(pert))"
   ]
  },
  {
   "cell_type": "code",
   "execution_count": 104,
   "id": "2a7c635f-065c-4ff1-a704-81ccf599a5d2",
   "metadata": {},
   "outputs": [
    {
     "data": {
      "image/png": "[encoded data removed]",
      "text/plain": [
       "<Figure size 1000x600 with 16 Axes>"
      ]
     },
     "metadata": {},
     "output_type": "display_data"
    }
   ],
   "source": [
    "fig, axes = plt.subplots(nrows=4, ncols=4, figsize=(10, 6))\n",
    "random_index = np.random.randint(0, len(adv_test), 16)\n",
    "\n",
    "for i, ax in enumerate(axes.ravel()):\n",
    "    ax.imshow(adv_test[random_index[i]].reshape(28, 28), cmap='gray')\n",
    "    ax.axis('off')\n",
    "\n",
    "    if np.argmax(y_test[random_index[i]], axis=0) == adv_preds[random_index[i]]:\n",
    "        color = 'green'\n",
    "    else:\n",
    "        color = 'red'\n",
    "\n",
    "    ax.set_title(\n",
    "        f'True: {np.argmax(y_test[random_index[i]], axis=0)}\\nPredicted: {adv_preds[random_index[i]]}',\n",
    "        color=color\n",
    "    )\n",
    "\n",
    "plt.tight_layout()\n",
    "plt.show()"
   ]
  },
  {
   "cell_type": "code",
   "execution_count": null,
   "id": "43b70148-04f2-424d-9580-2e7ac4c993e7",
   "metadata": {},
   "outputs": [],
   "source": []
  },
  {
   "cell_type": "code",
   "execution_count": null,
   "id": "52fb690b-8d71-437a-b854-632856ca02c2",
   "metadata": {},
   "outputs": [],
   "source": []
  }
 ],
 "metadata": {
  "kernelspec": {
   "display_name": "Python 3 (ipykernel)",
   "language": "python",
   "name": "python3"
  },
  "language_info": {
   "codemirror_mode": {
    "name": "ipython",
    "version": 3
   },
   "file_extension": ".py",
   "mimetype": "text/x-python",
   "name": "python",
   "nbconvert_exporter": "python",
   "pygments_lexer": "ipython3",
   "version": "3.10.12"
  }
 },
 "nbformat": 4,
 "nbformat_minor": 5
}

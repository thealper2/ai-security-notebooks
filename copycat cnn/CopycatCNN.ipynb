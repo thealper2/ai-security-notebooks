{
 "cells": [
  {
   "cell_type": "markdown",
   "id": "feff37bb-1b22-4d63-9c17-894110e6e264",
   "metadata": {},
   "source": [
    "# Import Libraries"
   ]
  },
  {
   "cell_type": "code",
   "execution_count": 3,
   "id": "d3f065a9-a9c0-4f58-8f72-5a9f66931a01",
   "metadata": {},
   "outputs": [],
   "source": [
    "import numpy as np\n",
    "import tensorflow as tf\n",
    "import matplotlib.pyplot as plt\n",
    "\n",
    "from tensorflow.keras.layers import Flatten, Dense\n",
    "from tensorflow.keras.models import Sequential\n",
    "from tensorflow.keras.losses import CategoricalCrossentropy\n",
    "from tensorflow.keras.optimizers import Adam\n",
    "\n",
    "from art.utils import load_mnist\n",
    "from art.estimators.classification import TensorFlowV2Classifier\n",
    "from art.attacks.extraction import CopycatCNN"
   ]
  },
  {
   "cell_type": "markdown",
   "id": "821960d5-0490-4de3-9bf8-8c9116432b06",
   "metadata": {},
   "source": [
    "# Load Data"
   ]
  },
  {
   "cell_type": "code",
   "execution_count": 2,
   "id": "46cf88b1-66bf-4c7a-95af-abd0120472e8",
   "metadata": {},
   "outputs": [],
   "source": [
    "(x_train, y_train), (x_test, y_test), min_, max_ = load_mnist()"
   ]
  },
  {
   "cell_type": "markdown",
   "id": "a29b0905-7eda-44db-8cc4-eca0b485d8ed",
   "metadata": {},
   "source": [
    "# Target Model"
   ]
  },
  {
   "cell_type": "code",
   "execution_count": 4,
   "id": "e80f826c-15b9-45d1-b968-1459a010cffe",
   "metadata": {},
   "outputs": [],
   "source": [
    "target_model = Sequential([\n",
    "    Flatten(input_shape=(28, 28)),\n",
    "    Dense(128, activation=\"relu\"),\n",
    "    Dense(10)\n",
    "])"
   ]
  },
  {
   "cell_type": "code",
   "execution_count": 5,
   "id": "bee65dee-3566-4336-a4f3-0652f26b1259",
   "metadata": {},
   "outputs": [],
   "source": [
    "target_model.compile(\n",
    "    optimizer=Adam(learning_rate=0.01),\n",
    "    loss=CategoricalCrossentropy(from_logits=True),\n",
    "    metrics=[\"accuracy\"]\n",
    ")"
   ]
  },
  {
   "cell_type": "code",
   "execution_count": 6,
   "id": "f75f328e-7433-40e7-9b88-bc38ebfaa288",
   "metadata": {},
   "outputs": [
    {
     "name": "stdout",
     "output_type": "stream",
     "text": [
      "Epoch 1/5\n",
      "938/938 [==============================] - 5s 5ms/step - loss: 0.2159 - accuracy: 0.9342\n",
      "Epoch 2/5\n",
      "938/938 [==============================] - 4s 4ms/step - loss: 0.1336 - accuracy: 0.9609\n",
      "Epoch 3/5\n",
      "938/938 [==============================] - 4s 4ms/step - loss: 0.1118 - accuracy: 0.9674\n",
      "Epoch 4/5\n",
      "938/938 [==============================] - 4s 4ms/step - loss: 0.1039 - accuracy: 0.9715\n",
      "Epoch 5/5\n",
      "938/938 [==============================] - 4s 4ms/step - loss: 0.0887 - accuracy: 0.9750\n"
     ]
    },
    {
     "data": {
      "text/plain": [
       "<keras.src.callbacks.History at 0x7f38c1b725f0>"
      ]
     },
     "execution_count": 6,
     "metadata": {},
     "output_type": "execute_result"
    }
   ],
   "source": [
    "target_model.fit(x_train, y_train, epochs=5, batch_size=64, verbose=1)"
   ]
  },
  {
   "cell_type": "code",
   "execution_count": 20,
   "id": "b2d3ea59-5c49-4b5d-8e2b-2ddfafc5d4fb",
   "metadata": {},
   "outputs": [],
   "source": [
    "target_classifier = TensorFlowV2Classifier(\n",
    "    model=target_model, \n",
    "    loss_object=CategoricalCrossentropy(from_logits=True), \n",
    "    optimizer=Adam(learning_rate=0.01), \n",
    "    nb_classes=10,\n",
    "    input_shape=(28, 28),\n",
    "    clip_values=(min_, max_)\n",
    ")"
   ]
  },
  {
   "cell_type": "code",
   "execution_count": 21,
   "id": "afa7ebab-b6e0-4c57-8c90-cc01bda4db25",
   "metadata": {},
   "outputs": [
    {
     "name": "stdout",
     "output_type": "stream",
     "text": [
      "Target Model Accuracy: 0.965499997138977\n"
     ]
    }
   ],
   "source": [
    "print(\"Target Model Accuracy:\", target_model.evaluate(x_test, y_test, verbose=0)[1])"
   ]
  },
  {
   "cell_type": "markdown",
   "id": "1286ed45-d032-42ca-8ec9-563fcaa87b45",
   "metadata": {},
   "source": [
    "# CopycatCNN"
   ]
  },
  {
   "cell_type": "code",
   "execution_count": 36,
   "id": "7348e57c-1a4e-4d5a-a884-98a6582fb792",
   "metadata": {},
   "outputs": [],
   "source": [
    "copycat_model = Sequential([\n",
    "    Flatten(input_shape=(28, 28)),\n",
    "    Dense(64, activation=\"relu\"),\n",
    "    Dense(10)\n",
    "])"
   ]
  },
  {
   "cell_type": "code",
   "execution_count": 37,
   "id": "a22cdcab-ab11-402f-b646-77b540f1b586",
   "metadata": {},
   "outputs": [],
   "source": [
    "copycat_model.compile(\n",
    "    optimizer=Adam(learning_rate=0.01),\n",
    "    loss=CategoricalCrossentropy(from_logits=True),\n",
    "    metrics=[\"accuracy\"]\n",
    ")"
   ]
  },
  {
   "cell_type": "code",
   "execution_count": 38,
   "id": "76baadde-7b42-4939-91d0-14ec9fcc1cdb",
   "metadata": {},
   "outputs": [],
   "source": [
    "copycat_classifier = TensorFlowV2Classifier(\n",
    "    model=copycat_model, \n",
    "    loss_object=CategoricalCrossentropy(from_logits=True), \n",
    "    optimizer=Adam(learning_rate=0.01),\n",
    "    nb_classes=10,\n",
    "    input_shape=(28, 28),\n",
    "    clip_values=(min_, max_)\n",
    ")"
   ]
  },
  {
   "cell_type": "code",
   "execution_count": 39,
   "id": "89783326-dd13-4d3e-aa05-3a2e02a557ec",
   "metadata": {},
   "outputs": [],
   "source": [
    "copycat_attack = CopycatCNN(\n",
    "    classifier=copycat_classifier, \n",
    "    nb_epochs=10,\n",
    "    nb_stolen=10000\n",
    ")"
   ]
  },
  {
   "cell_type": "code",
   "execution_count": 40,
   "id": "d272bbdb-65f8-4210-b869-6847d3686e3e",
   "metadata": {},
   "outputs": [
    {
     "data": {
      "text/plain": [
       "art.estimators.classification.tensorflow.TensorFlowV2Classifier(model=<keras.src.engine.sequential.Sequential object at 0x7f38c37e3640>, nb_classes=10, input_shape=(28, 28), loss_object=<keras.src.losses.CategoricalCrossentropy object at 0x7f3834566890>, optimizer=<keras.src.optimizers.adam.Adam object at 0x7f381556ff70>, train_step=None, channels_first=False, clip_values=array([0., 1.], dtype=float32), preprocessing_defences=None, postprocessing_defences=None, preprocessing=StandardisationMeanStdTensorFlow(mean=0.0, std=1.0, apply_fit=True, apply_predict=True))"
      ]
     },
     "execution_count": 40,
     "metadata": {},
     "output_type": "execute_result"
    }
   ],
   "source": [
    "copycat_attack.extract(x_test, y_test, thieved_classifier=target_classifier)"
   ]
  },
  {
   "cell_type": "code",
   "execution_count": 42,
   "id": "6a195bd8-131b-4976-8d20-b829a8a03830",
   "metadata": {},
   "outputs": [
    {
     "name": "stdout",
     "output_type": "stream",
     "text": [
      "CopycatCNN Model Accuracy: 0.11299999803304672\n"
     ]
    }
   ],
   "source": [
    "print(\"CopycatCNN Model Accuracy:\", copycat_classifier._model.evaluate(x_test, y_test, verbose=0)[1])"
   ]
  },
  {
   "cell_type": "code",
   "execution_count": null,
   "id": "21698c1b-1fc8-4f14-9b88-da0528e1b65f",
   "metadata": {},
   "outputs": [],
   "source": []
  }
 ],
 "metadata": {
  "kernelspec": {
   "display_name": "Python 3 (ipykernel)",
   "language": "python",
   "name": "python3"
  },
  "language_info": {
   "codemirror_mode": {
    "name": "ipython",
    "version": 3
   },
   "file_extension": ".py",
   "mimetype": "text/x-python",
   "name": "python",
   "nbconvert_exporter": "python",
   "pygments_lexer": "ipython3",
   "version": "3.10.12"
  }
 },
 "nbformat": 4,
 "nbformat_minor": 5
}

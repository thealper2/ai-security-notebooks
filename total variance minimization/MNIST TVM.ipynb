{
 "cells": [
  {
   "cell_type": "markdown",
   "id": "9d12f456-9f27-4136-8456-b53959039f22",
   "metadata": {},
   "source": [
    "# Import Libraries"
   ]
  },
  {
   "cell_type": "code",
   "execution_count": 1,
   "id": "e75a75f0-0b96-41f5-9def-63f63e101283",
   "metadata": {},
   "outputs": [],
   "source": [
    "import numpy as np\n",
    "import matplotlib.pyplot as plt\n",
    "\n",
    "from tensorflow.keras import layers, models\n",
    "from tensorflow.keras.datasets import mnist\n",
    "from tensorflow.keras.optimizers import Adam\n",
    "from tensorflow.keras.losses import CategoricalCrossentropy\n",
    "from tensorflow.keras.utils import to_categorical\n",
    "\n",
    "from sklearn.metrics import accuracy_score, precision_score, recall_score, f1_score\n",
    "\n",
    "from art.utils import load_mnist\n",
    "from art.estimators.classification import TensorFlowV2Classifier\n",
    "from art.attacks.evasion import FastGradientMethod\n",
    "from art.defences.preprocessor import TotalVarMin"
   ]
  },
  {
   "cell_type": "markdown",
   "id": "c31b077d-3c93-455d-abdc-eb9cf9bf0060",
   "metadata": {},
   "source": [
    "# Load Data"
   ]
  },
  {
   "cell_type": "code",
   "execution_count": 2,
   "id": "9fa8c2e5-d286-4e83-96d9-926ae19c45f8",
   "metadata": {},
   "outputs": [],
   "source": [
    "(x_train, y_train), (x_test, y_test), min_, max_ = load_mnist()"
   ]
  },
  {
   "cell_type": "markdown",
   "id": "938c47cf-a29a-465c-8b21-5f88d3a2272c",
   "metadata": {},
   "source": [
    "# Train - Normal Model"
   ]
  },
  {
   "cell_type": "code",
   "execution_count": 7,
   "id": "c67ec88e-f21d-4f79-a7b6-e3e297d80130",
   "metadata": {},
   "outputs": [],
   "source": [
    "normal_model = models.Sequential([\n",
    "    layers.Flatten(input_shape=(28, 28)),\n",
    "    layers.Dense(128, activation='relu'),\n",
    "    layers.Dense(256, activation='relu'),\n",
    "    layers.Dense(10)\n",
    "])"
   ]
  },
  {
   "cell_type": "code",
   "execution_count": 8,
   "id": "49b5dae9-eddd-4b0c-904a-549cf37fe88e",
   "metadata": {},
   "outputs": [],
   "source": [
    "normal_model.compile(loss=CategoricalCrossentropy(from_logits=True), optimizer=\"adam\", metrics=[\"accuracy\"])"
   ]
  },
  {
   "cell_type": "code",
   "execution_count": 9,
   "id": "d38c1257-d4f1-49e4-b57a-41a28d40a8fd",
   "metadata": {},
   "outputs": [
    {
     "name": "stdout",
     "output_type": "stream",
     "text": [
      "Epoch 1/10\n",
      "1875/1875 [==============================] - 8s 4ms/step - loss: 0.2195 - accuracy: 0.9346\n",
      "Epoch 2/10\n",
      "1875/1875 [==============================] - 7s 4ms/step - loss: 0.0916 - accuracy: 0.9711\n",
      "Epoch 3/10\n",
      "1875/1875 [==============================] - 7s 4ms/step - loss: 0.0648 - accuracy: 0.9794\n",
      "Epoch 4/10\n",
      "1875/1875 [==============================] - 7s 4ms/step - loss: 0.0499 - accuracy: 0.9836\n",
      "Epoch 5/10\n",
      "1875/1875 [==============================] - 7s 4ms/step - loss: 0.0362 - accuracy: 0.9881\n",
      "Epoch 6/10\n",
      "1875/1875 [==============================] - 7s 4ms/step - loss: 0.0322 - accuracy: 0.9892\n",
      "Epoch 7/10\n",
      "1875/1875 [==============================] - 7s 4ms/step - loss: 0.0276 - accuracy: 0.9904\n",
      "Epoch 8/10\n",
      "1875/1875 [==============================] - 8s 4ms/step - loss: 0.0228 - accuracy: 0.9924\n",
      "Epoch 9/10\n",
      "1875/1875 [==============================] - 7s 4ms/step - loss: 0.0197 - accuracy: 0.9936\n",
      "Epoch 10/10\n",
      "1875/1875 [==============================] - 8s 4ms/step - loss: 0.0197 - accuracy: 0.9933\n"
     ]
    },
    {
     "data": {
      "text/plain": [
       "<keras.src.callbacks.History at 0x7f13e8386500>"
      ]
     },
     "execution_count": 9,
     "metadata": {},
     "output_type": "execute_result"
    }
   ],
   "source": [
    "normal_model.fit(x_train, y_train, epochs=10, batch_size=32)"
   ]
  },
  {
   "cell_type": "markdown",
   "id": "90f642a3-93d8-4e1f-9359-9daebd19c48d",
   "metadata": {},
   "source": [
    "# Fast Gradient Method Attack"
   ]
  },
  {
   "cell_type": "code",
   "execution_count": 10,
   "id": "830bd155-a2ef-4cd3-bd3b-584cc8c3c9be",
   "metadata": {},
   "outputs": [],
   "source": [
    "art_model = TensorFlowV2Classifier(\n",
    "    model=normal_model, \n",
    "    loss_object=CategoricalCrossentropy(from_logits=True), \n",
    "    nb_classes=10, \n",
    "    input_shape=(28, 28), \n",
    "    clip_values=(0, 1)\n",
    ")"
   ]
  },
  {
   "cell_type": "code",
   "execution_count": 11,
   "id": "8755af7e-1e27-41f5-8bdd-b4660def7a23",
   "metadata": {},
   "outputs": [],
   "source": [
    "fgsm = FastGradientMethod(estimator=art_model, eps=0.1)"
   ]
  },
  {
   "cell_type": "code",
   "execution_count": 12,
   "id": "aa433a87-63cd-47de-9348-af692143d1d1",
   "metadata": {},
   "outputs": [],
   "source": [
    "adv_train = fgsm.generate(x=x_train)"
   ]
  },
  {
   "cell_type": "code",
   "execution_count": 13,
   "id": "412a4456-5c8e-43cc-b66d-bb357beda291",
   "metadata": {},
   "outputs": [],
   "source": [
    "adv_test = fgsm.generate(x=x_test)"
   ]
  },
  {
   "cell_type": "markdown",
   "id": "e521f496-7c1e-4224-b8df-6763e4f56c18",
   "metadata": {},
   "source": [
    "# Total Variance Minimization"
   ]
  },
  {
   "cell_type": "code",
   "execution_count": 14,
   "id": "f7fc188a-7bce-4818-a76f-d8fa9f9665f5",
   "metadata": {},
   "outputs": [],
   "source": [
    "tv_minimization = TotalVarMin(clip_values=(min_, max_))"
   ]
  },
  {
   "cell_type": "code",
   "execution_count": 15,
   "id": "4dfb2976-194f-4d59-968a-d0ac7e191bd0",
   "metadata": {},
   "outputs": [],
   "source": [
    "def_train, _ = tv_minimization(adv_train, y_train)"
   ]
  },
  {
   "cell_type": "code",
   "execution_count": 16,
   "id": "eb6c2120-7762-45f1-bd4b-7f5a3ab017fd",
   "metadata": {},
   "outputs": [],
   "source": [
    "def_test, _ = tv_minimization(adv_test, y_test)"
   ]
  },
  {
   "cell_type": "code",
   "execution_count": 17,
   "id": "e72b005a-32a6-4864-873d-edd7adb9b441",
   "metadata": {},
   "outputs": [
    {
     "data": {
      "image/png": "[encoded data removed]",
      "text/plain": [
       "<Figure size 1000x600 with 3 Axes>"
      ]
     },
     "metadata": {},
     "output_type": "display_data"
    }
   ],
   "source": [
    "fig, axes = plt.subplots(nrows=1, ncols=3, figsize=(10, 6))\n",
    "\n",
    "axes[0].imshow(x_test[0], cmap=\"gray\")\n",
    "axes[0].axis(\"off\")\n",
    "axes[0].set_title(\"Raw Data\")\n",
    "\n",
    "axes[1].imshow(adv_test[0], cmap=\"gray\")\n",
    "axes[1].axis(\"off\")\n",
    "axes[1].set_title(\"Adversarial (FGM) Data\")\n",
    "\n",
    "axes[2].imshow(def_test[0], cmap=\"gray\")\n",
    "axes[2].axis(\"off\")\n",
    "axes[2].set_title(\"Augmented (TVM) Data\")\n",
    "\n",
    "plt.tight_layout()\n",
    "plt.show()"
   ]
  },
  {
   "cell_type": "markdown",
   "id": "d4c579cf-ff61-4c93-80ad-c7718d3d022d",
   "metadata": {},
   "source": [
    "# Train - Augmented Model"
   ]
  },
  {
   "cell_type": "code",
   "execution_count": 18,
   "id": "64d56122-c0bd-4b6b-8f1d-0d37055631f4",
   "metadata": {},
   "outputs": [],
   "source": [
    "augmented_model = models.Sequential([\n",
    "    layers.Flatten(input_shape=(28, 28)),\n",
    "    layers.Dense(128, activation='relu'),\n",
    "    layers.Dense(256, activation='relu'),\n",
    "    layers.Dense(10)\n",
    "])"
   ]
  },
  {
   "cell_type": "code",
   "execution_count": 19,
   "id": "3cddae96-d415-4bb7-9cb5-e6a2f8d51301",
   "metadata": {},
   "outputs": [],
   "source": [
    "augmented_model.compile(loss=CategoricalCrossentropy(from_logits=True), optimizer=\"adam\", metrics=[\"accuracy\"])"
   ]
  },
  {
   "cell_type": "code",
   "execution_count": 20,
   "id": "af3afc8f-524a-43e9-ab8c-d2b8ae6880b3",
   "metadata": {},
   "outputs": [
    {
     "name": "stdout",
     "output_type": "stream",
     "text": [
      "Epoch 1/10\n",
      "1875/1875 [==============================] - 9s 4ms/step - loss: 0.4386 - accuracy: 0.8616\n",
      "Epoch 2/10\n",
      "1875/1875 [==============================] - 7s 4ms/step - loss: 0.2125 - accuracy: 0.9347\n",
      "Epoch 3/10\n",
      "1875/1875 [==============================] - 7s 4ms/step - loss: 0.1644 - accuracy: 0.9497\n",
      "Epoch 4/10\n",
      "1875/1875 [==============================] - 7s 4ms/step - loss: 0.1380 - accuracy: 0.9566\n",
      "Epoch 5/10\n",
      "1875/1875 [==============================] - 7s 4ms/step - loss: 0.1196 - accuracy: 0.9634\n",
      "Epoch 6/10\n",
      "1875/1875 [==============================] - 7s 4ms/step - loss: 0.1081 - accuracy: 0.9667\n",
      "Epoch 7/10\n",
      "1875/1875 [==============================] - 7s 4ms/step - loss: 0.0981 - accuracy: 0.9697\n",
      "Epoch 8/10\n",
      "1875/1875 [==============================] - 7s 4ms/step - loss: 0.0891 - accuracy: 0.9722\n",
      "Epoch 9/10\n",
      "1875/1875 [==============================] - 7s 4ms/step - loss: 0.0826 - accuracy: 0.9742\n",
      "Epoch 10/10\n",
      "1875/1875 [==============================] - 7s 4ms/step - loss: 0.0777 - accuracy: 0.9760\n"
     ]
    },
    {
     "data": {
      "text/plain": [
       "<keras.src.callbacks.History at 0x7f132f4cc580>"
      ]
     },
     "execution_count": 20,
     "metadata": {},
     "output_type": "execute_result"
    }
   ],
   "source": [
    "augmented_model.fit(def_train, y_train, epochs=10, batch_size=32)"
   ]
  },
  {
   "cell_type": "markdown",
   "id": "b7834762-c078-448b-af7f-268ae42ed450",
   "metadata": {},
   "source": [
    "# Results"
   ]
  },
  {
   "cell_type": "code",
   "execution_count": 21,
   "id": "378d4c76-e5f1-44f2-a22a-70b49be887eb",
   "metadata": {},
   "outputs": [],
   "source": [
    "y_test = np.argmax(y_test, axis=1)"
   ]
  },
  {
   "cell_type": "code",
   "execution_count": 22,
   "id": "2bb46314-aba7-4277-a1a6-7eea4d4f712d",
   "metadata": {},
   "outputs": [
    {
     "name": "stdout",
     "output_type": "stream",
     "text": [
      "313/313 [==============================] - 0s 1ms/step\n"
     ]
    }
   ],
   "source": [
    "normal_preds = np.argmax(normal_model.predict(adv_test), axis=1)"
   ]
  },
  {
   "cell_type": "code",
   "execution_count": 23,
   "id": "5a6458ed-f4c2-4506-b9b1-eaee4f83c43b",
   "metadata": {},
   "outputs": [
    {
     "name": "stdout",
     "output_type": "stream",
     "text": [
      "313/313 [==============================] - 0s 1ms/step\n"
     ]
    }
   ],
   "source": [
    "augmented_preds = np.argmax(augmented_model.predict(adv_test), axis=1)"
   ]
  },
  {
   "cell_type": "code",
   "execution_count": 24,
   "id": "fc8efa0a-5252-4311-aa6c-801deb31776f",
   "metadata": {},
   "outputs": [
    {
     "name": "stdout",
     "output_type": "stream",
     "text": [
      "Normal Model Accuracy Score on Adversarial (FGM) Data: 0.306\n",
      "Augmented Model Accuracy Score on Adversarial (FGM) Data: 0.8346\n"
     ]
    }
   ],
   "source": [
    "print(\"Normal Model Accuracy Score on Adversarial (FGM) Data:\", accuracy_score(y_test, normal_preds))\n",
    "print(\"Augmented Model Accuracy Score on Adversarial (FGM) Data:\", accuracy_score(y_test, augmented_preds))"
   ]
  },
  {
   "cell_type": "code",
   "execution_count": null,
   "id": "8271846a-fe66-43ca-9145-c97c35faa848",
   "metadata": {},
   "outputs": [],
   "source": []
  }
 ],
 "metadata": {
  "kernelspec": {
   "display_name": "Python 3 (ipykernel)",
   "language": "python",
   "name": "python3"
  },
  "language_info": {
   "codemirror_mode": {
    "name": "ipython",
    "version": 3
   },
   "file_extension": ".py",
   "mimetype": "text/x-python",
   "name": "python",
   "nbconvert_exporter": "python",
   "pygments_lexer": "ipython3",
   "version": "3.10.12"
  }
 },
 "nbformat": 4,
 "nbformat_minor": 5
}

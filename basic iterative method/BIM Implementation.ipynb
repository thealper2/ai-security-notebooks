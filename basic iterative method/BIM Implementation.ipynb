{
 "cells": [
  {
   "cell_type": "markdown",
   "id": "926de2f5-3245-428e-ae83-f0a7b4c71cd1",
   "metadata": {},
   "source": [
    "# Import Libraries"
   ]
  },
  {
   "cell_type": "code",
   "execution_count": 2,
   "id": "a347456f-2b2e-492d-b534-af607b4485c6",
   "metadata": {},
   "outputs": [],
   "source": [
    "import torch\n",
    "import numpy as np\n",
    "import torch.nn as nn\n",
    "import tensorflow as tf\n",
    "import matplotlib.pyplot as plt"
   ]
  },
  {
   "cell_type": "markdown",
   "id": "d2654993-db8e-4c14-adce-59c00a78f3cd",
   "metadata": {},
   "source": [
    "# PyTorch Implementation"
   ]
  },
  {
   "cell_type": "code",
   "execution_count": null,
   "id": "8cb06898-0b29-4503-ae38-9dc7f511b1c7",
   "metadata": {},
   "outputs": [],
   "source": [
    "def basic_iterative_method(model, input_image, target_label, epsilon, alpha, num_iterations):\n",
    "    input_image = input_image.clone().detach().requires_grad_(True)\n",
    "    target_label = target_label.clone().detach()\n",
    "    adversarial_image = input_image.clone().detach().requires_grad_(True)\n",
    "\n",
    "    for i in range(num_iterations):\n",
    "        predictions = model(adversarial_image)\n",
    "        loss = nn.CrossEntropyLoss()(predictions, target_label)\n",
    "\n",
    "        model.zero_grad()\n",
    "        loss.backward()\n",
    "\n",
    "        gradients = adversarial_image.grad.data\n",
    "        perturbation = alpha * torch.sign(gradients)\n",
    "        adversarial_image.data = adversarial_image.data + perturbation\n",
    "        perturbation = torch.clamp(adversarial_image.data - input_image.data, -epsilon, epsilon)\n",
    "        adversarial_image.data = input_image.data + perturbation\n",
    "        adversarial_image.data = torch.clamp(adversarial_image.data, 0.0, 1.0)\n",
    "\n",
    "    return adversarial_image.detach(), perturbation.detach()"
   ]
  },
  {
   "cell_type": "markdown",
   "id": "2e934bb2-8ab6-4908-8615-77d045313602",
   "metadata": {},
   "source": [
    "# TensorFlow Implementation"
   ]
  },
  {
   "cell_type": "code",
   "execution_count": 21,
   "id": "e6c4fda1-5e09-4e5e-9147-410de5118801",
   "metadata": {},
   "outputs": [],
   "source": [
    "def basic_iterative_method(input_image, target_label, epsilon, alpha, num_iterations):\n",
    "    input_image = tf.convert_to_tensor(input_image, dtype=tf.float32)\n",
    "    target_label = tf.convert_to_tensor(target_label, dtype=tf.float32)\n",
    "\n",
    "    adversarial_image = tf.Variable(input_image)\n",
    "\n",
    "    for i in range(num_iterations):\n",
    "        with tf.GradientTape() as tape:\n",
    "            tape.watch(adversarial_image)\n",
    "            predictions = model(adversarial_image)\n",
    "            loss = tf.keras.losses.categorical_crossentropy(target_label, predictions)\n",
    "\n",
    "        gradients = tape.gradient(loss, adversarial_image)\n",
    "        signed_gradients = tf.sign(gradients)\n",
    "        adversarial_image.assign_add(alpha * signed_gradients)\n",
    "\n",
    "        perturbation = tf.clip_by_value(adversarial_image - input_image, -epsilon, epsilon)\n",
    "        adversarial_image.assign(input_image + perturbation)\n",
    "        adversarial_image.assign(tf.clip_by_value(adversarial_image, 0.0, 1.0))\n",
    "\n",
    "    return adversarial_image.numpy(), perturbation.numpy()"
   ]
  },
  {
   "cell_type": "markdown",
   "id": "d7f4f3dc-0a0d-4c70-b398-c0e95f5366be",
   "metadata": {},
   "source": [
    "# Load Data"
   ]
  },
  {
   "cell_type": "code",
   "execution_count": 4,
   "id": "1f151774-40c3-4dc2-b1a7-884255c81f9f",
   "metadata": {},
   "outputs": [],
   "source": [
    "(x_train, y_train), (x_test, y_test) = tf.keras.datasets.cifar10.load_data()"
   ]
  },
  {
   "cell_type": "code",
   "execution_count": 5,
   "id": "641efdae-4127-44ea-a1c4-601fbc919a1b",
   "metadata": {},
   "outputs": [],
   "source": [
    "x_train = x_train.astype('float32') / 255\n",
    "x_test = x_test.astype('float32') / 255"
   ]
  },
  {
   "cell_type": "code",
   "execution_count": 6,
   "id": "10690c9e-6f31-4fc4-be7f-0ef1edcf2a42",
   "metadata": {},
   "outputs": [],
   "source": [
    "y_train = tf.keras.utils.to_categorical(y_train, num_classes=10)\n",
    "y_test = tf.keras.utils.to_categorical(y_test, num_classes=10)"
   ]
  },
  {
   "cell_type": "markdown",
   "id": "311bd5c2-b435-4615-a606-aa34d5243f63",
   "metadata": {},
   "source": [
    "# Load Model"
   ]
  },
  {
   "cell_type": "code",
   "execution_count": 7,
   "id": "c593cd7a-cdf6-435b-acd0-96fbe3ea71fc",
   "metadata": {},
   "outputs": [],
   "source": [
    "model = tf.keras.models.load_model(\"models/cifar10_safe_model.h5\")"
   ]
  },
  {
   "cell_type": "markdown",
   "id": "9d6aae58-a13b-4284-b1b8-a2b820f8997a",
   "metadata": {},
   "source": [
    "# Attack"
   ]
  },
  {
   "cell_type": "code",
   "execution_count": 258,
   "id": "4a7e0495-eb8c-4edc-abc5-d5e38b726d86",
   "metadata": {},
   "outputs": [],
   "source": [
    "cifar10_class_names = [\"airplane\", \"automobile\", \"bird\", \"cat\", \"deer\",\n",
    "                       \"dog\", \"frog\", \"horse\", \"ship\", \"truck\"]"
   ]
  },
  {
   "cell_type": "code",
   "execution_count": 275,
   "id": "199834e0-b11b-41cf-aa3f-08461ade397f",
   "metadata": {},
   "outputs": [],
   "source": [
    "idx = 3\n",
    "x_sample = x_test[idx:idx+1]\n",
    "y_sample = y_test[idx:idx+1]"
   ]
  },
  {
   "cell_type": "code",
   "execution_count": 276,
   "id": "3ce84991-f60e-44aa-83e4-5a16339f43e5",
   "metadata": {},
   "outputs": [],
   "source": [
    "y_target = np.zeros((1,10,), dtype=np.float32)\n",
    "y_target[0, 3] = 1"
   ]
  },
  {
   "cell_type": "code",
   "execution_count": 277,
   "id": "50536333-157c-47f8-a408-64a2bf1e8abf",
   "metadata": {},
   "outputs": [
    {
     "data": {
      "text/plain": [
       "(array([[1., 0., 0., 0., 0., 0., 0., 0., 0., 0.]], dtype=float32),\n",
       " array([[0., 0., 0., 1., 0., 0., 0., 0., 0., 0.]], dtype=float32))"
      ]
     },
     "execution_count": 277,
     "metadata": {},
     "output_type": "execute_result"
    }
   ],
   "source": [
    "# \"ship\" -> \"truck\"\n",
    "y_sample, y_target"
   ]
  },
  {
   "cell_type": "code",
   "execution_count": 313,
   "id": "76ad2819-5e3f-47c5-9caf-906d5bd62b38",
   "metadata": {},
   "outputs": [],
   "source": [
    "epsilon = 0.3\n",
    "alpha = 0.005\n",
    "num_iterations = 100"
   ]
  },
  {
   "cell_type": "code",
   "execution_count": 314,
   "id": "c0994cd6-ed10-4bc9-809f-25010dddc3f5",
   "metadata": {},
   "outputs": [],
   "source": [
    "perturbed_sample, perturbation = basic_iterative_method(x_sample, y_target, epsilon, alpha, num_iterations)"
   ]
  },
  {
   "cell_type": "code",
   "execution_count": 315,
   "id": "1728e452-560c-40e2-85dd-28701c1d4c0e",
   "metadata": {},
   "outputs": [],
   "source": [
    "original_image = x_sample[0, :, :, :]\n",
    "perturbation_image = perturbation[0, :, :, :]\n",
    "perturbed_image = perturbed_sample[0, :, :, :]"
   ]
  },
  {
   "cell_type": "code",
   "execution_count": 316,
   "id": "0a0aa2ab-a8aa-4ef3-8266-47e6bcb67532",
   "metadata": {},
   "outputs": [
    {
     "name": "stdout",
     "output_type": "stream",
     "text": [
      "Prediction before attack: [0]\n",
      "Prediction after attack: [0]\n"
     ]
    }
   ],
   "source": [
    "original_pred = np.argmax(model.predict(x_sample, verbose=False), axis=1)\n",
    "perturbed_pred = np.argmax(model.predict(perturbed_sample, verbose=False), axis=1)\n",
    "\n",
    "print(f\"Prediction before attack: {original_pred}\")\n",
    "print(f\"Prediction after attack: {perturbed_pred}\")"
   ]
  },
  {
   "cell_type": "code",
   "execution_count": 317,
   "id": "3399689e-ccd1-4451-9dd7-223eb30f971b",
   "metadata": {},
   "outputs": [
    {
     "name": "stderr",
     "output_type": "stream",
     "text": [
      "Clipping input data to the valid range for imshow with RGB data ([0..1] for floats or [0..255] for integers). Got range [-0.005..0.005].\n"
     ]
    },
    {
     "data": {
      "image/png": "[encoded data removed]",
      "text/plain": [
       "<Figure size 1200x400 with 3 Axes>"
      ]
     },
     "metadata": {},
     "output_type": "display_data"
    }
   ],
   "source": [
    "plt.figure(figsize=(12, 4))\n",
    "\n",
    "plt.subplot(1, 3, 1)\n",
    "plt.title(f\"Original Image (C:{cifar10_class_names[original_pred[0]]})\")\n",
    "plt.imshow(original_image)\n",
    "plt.axis(\"off\")\n",
    "\n",
    "plt.subplot(1, 3, 2)\n",
    "plt.title(f\"Perturbation (Eps:{epsilon / 255})\")\n",
    "plt.imshow(perturbation_image)\n",
    "plt.axis(\"off\")\n",
    "\n",
    "plt.subplot(1, 3, 3)\n",
    "plt.title(f\"Perturbed Image (P:{cifar10_class_names[perturbed_pred[0]]})\")\n",
    "plt.imshow(perturbed_image)\n",
    "plt.axis(\"off\")\n",
    "\n",
    "plt.tight_layout()\n",
    "plt.show()"
   ]
  },
  {
   "cell_type": "code",
   "execution_count": null,
   "id": "8c954fa9-5f1e-4ad3-b6cc-21fffd08f8fb",
   "metadata": {},
   "outputs": [],
   "source": []
  },
  {
   "cell_type": "code",
   "execution_count": null,
   "id": "f328e54a-fd0d-49b2-9a95-cc6938b5796c",
   "metadata": {},
   "outputs": [],
   "source": []
  }
 ],
 "metadata": {
  "kernelspec": {
   "display_name": "Python 3 (ipykernel)",
   "language": "python",
   "name": "python3"
  },
  "language_info": {
   "codemirror_mode": {
    "name": "ipython",
    "version": 3
   },
   "file_extension": ".py",
   "mimetype": "text/x-python",
   "name": "python",
   "nbconvert_exporter": "python",
   "pygments_lexer": "ipython3",
   "version": "3.10.12"
  }
 },
 "nbformat": 4,
 "nbformat_minor": 5
}

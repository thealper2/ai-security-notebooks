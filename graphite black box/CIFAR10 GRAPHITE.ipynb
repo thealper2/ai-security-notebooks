{
 "cells": [
  {
   "cell_type": "markdown",
   "id": "d87b4c21-f9bb-404e-9d74-e1ff89ccc8e0",
   "metadata": {},
   "source": [
    "# Import Libraries"
   ]
  },
  {
   "cell_type": "code",
   "execution_count": 1,
   "id": "1c3aac84-c3d7-4113-b27f-c9e842de10aa",
   "metadata": {},
   "outputs": [],
   "source": [
    "import numpy as np\n",
    "import tensorflow as tf\n",
    "import matplotlib.pyplot as plt\n",
    "\n",
    "from tensorflow.keras.layers import Conv2D, MaxPooling2D, Flatten, Dense\n",
    "from tensorflow.keras.models import Sequential\n",
    "from tensorflow.keras.losses import CategoricalCrossentropy\n",
    "from tensorflow.keras.utils import to_categorical\n",
    "\n",
    "from art.utils import load_cifar10\n",
    "from art.attacks.evasion import GRAPHITEBlackbox\n",
    "from art.estimators.classification import TensorFlowV2Classifier"
   ]
  },
  {
   "cell_type": "markdown",
   "id": "d26dcc42-8ead-4dcf-83fe-bc6adaef792e",
   "metadata": {},
   "source": [
    "# Load Data"
   ]
  },
  {
   "cell_type": "code",
   "execution_count": 2,
   "id": "1a388563-cf4f-4edc-969a-81ab9b35a3ca",
   "metadata": {},
   "outputs": [],
   "source": [
    "(x_train, y_train), (x_test, y_test), min_, max_ = load_cifar10()"
   ]
  },
  {
   "cell_type": "code",
   "execution_count": 9,
   "id": "a3598bcf-76e5-497e-affb-15b733fbd0de",
   "metadata": {},
   "outputs": [],
   "source": [
    "cifar10_class_labels = [\"airplane\", \"automobile\", \"bird\", \"cat\", \"deer\",\n",
    "                        \"dog\", \"frog\", \"horse\", \"ship\", \"truck\"]"
   ]
  },
  {
   "cell_type": "markdown",
   "id": "6ba6b2e5-83e6-4143-8af0-30bc4aa41036",
   "metadata": {},
   "source": [
    "# Model"
   ]
  },
  {
   "cell_type": "code",
   "execution_count": 3,
   "id": "7ba9746b-f15e-4fe1-80ae-38c444753a11",
   "metadata": {},
   "outputs": [],
   "source": [
    "model = Sequential([\n",
    "    Conv2D(32, (3, 3), activation=\"relu\", padding=\"same\", input_shape=(32, 32, 3)),\n",
    "    Conv2D(32, (3, 3), activation=\"relu\", padding=\"same\"),\n",
    "    MaxPooling2D(pool_size=(2, 2)),\n",
    "    \n",
    "    Conv2D(64, (3, 3), activation=\"relu\", padding=\"same\"),\n",
    "    Conv2D(64, (3, 3), activation=\"relu\", padding=\"same\"),\n",
    "    MaxPooling2D(pool_size=(2, 2)),\n",
    "    \n",
    "    Flatten(),\n",
    "    \n",
    "    Dense(512, activation=\"relu\"),\n",
    "    Dense(10)\n",
    "])"
   ]
  },
  {
   "cell_type": "code",
   "execution_count": 4,
   "id": "f5668b38-865a-4337-8944-683353e6816e",
   "metadata": {},
   "outputs": [],
   "source": [
    "model.compile(optimizer='adam', loss=CategoricalCrossentropy(from_logits=True), metrics=['accuracy'])"
   ]
  },
  {
   "cell_type": "markdown",
   "id": "a3c0f565-794e-410c-9d75-2db9df93cbf9",
   "metadata": {},
   "source": [
    "# Train "
   ]
  },
  {
   "cell_type": "code",
   "execution_count": 5,
   "id": "6e899407-b56a-4611-b782-caf67de8f9a5",
   "metadata": {},
   "outputs": [
    {
     "name": "stdout",
     "output_type": "stream",
     "text": [
      "Epoch 1/10\n",
      "391/391 [==============================] - 7s 12ms/step - loss: 1.4364 - accuracy: 0.4833 - val_loss: 1.1288 - val_accuracy: 0.6011\n",
      "Epoch 2/10\n",
      "391/391 [==============================] - 4s 9ms/step - loss: 0.9743 - accuracy: 0.6560 - val_loss: 0.9064 - val_accuracy: 0.6850\n",
      "Epoch 3/10\n",
      "391/391 [==============================] - 4s 10ms/step - loss: 0.7625 - accuracy: 0.7328 - val_loss: 0.8584 - val_accuracy: 0.7051\n",
      "Epoch 4/10\n",
      "391/391 [==============================] - 4s 10ms/step - loss: 0.6024 - accuracy: 0.7904 - val_loss: 0.7547 - val_accuracy: 0.7390\n",
      "Epoch 5/10\n",
      "391/391 [==============================] - 4s 9ms/step - loss: 0.4593 - accuracy: 0.8407 - val_loss: 0.7986 - val_accuracy: 0.7414\n",
      "Epoch 6/10\n",
      "391/391 [==============================] - 4s 10ms/step - loss: 0.3196 - accuracy: 0.8885 - val_loss: 0.7742 - val_accuracy: 0.7574\n",
      "Epoch 7/10\n",
      "391/391 [==============================] - 4s 10ms/step - loss: 0.1965 - accuracy: 0.9327 - val_loss: 0.9265 - val_accuracy: 0.7505\n",
      "Epoch 8/10\n",
      "391/391 [==============================] - 4s 9ms/step - loss: 0.1201 - accuracy: 0.9594 - val_loss: 1.1663 - val_accuracy: 0.7419\n",
      "Epoch 9/10\n",
      "391/391 [==============================] - 4s 10ms/step - loss: 0.0862 - accuracy: 0.9697 - val_loss: 1.2354 - val_accuracy: 0.7530\n",
      "Epoch 10/10\n",
      "391/391 [==============================] - 4s 10ms/step - loss: 0.0772 - accuracy: 0.9742 - val_loss: 1.4024 - val_accuracy: 0.7475\n"
     ]
    }
   ],
   "source": [
    "history = model.fit(x_train, y_train, batch_size=128, epochs=10, validation_data=(x_test, y_test))"
   ]
  },
  {
   "cell_type": "code",
   "execution_count": 24,
   "id": "8c984b1f-074b-4049-9e80-82e1a7c28e17",
   "metadata": {},
   "outputs": [],
   "source": [
    "classifier = TensorFlowV2Classifier(\n",
    "    model=model,\n",
    "    loss_object=CategoricalCrossentropy(from_logits=True),\n",
    "    nb_classes=10,\n",
    "    input_shape=(32, 32, 3),\n",
    "    preprocessing=(0.5, 1),\n",
    "    clip_values=(min_, max_)\n",
    ")"
   ]
  },
  {
   "cell_type": "markdown",
   "id": "377bbdfd-b588-41ff-90fe-4ff45656df60",
   "metadata": {},
   "source": [
    "# Attack"
   ]
  },
  {
   "cell_type": "code",
   "execution_count": 40,
   "id": "4fbb18b0-af07-430a-b480-f1243f2e99d5",
   "metadata": {},
   "outputs": [],
   "source": [
    "attack = GRAPHITEBlackbox(\n",
    "    classifier=classifier, \n",
    "    noise_size=(32, 32), \n",
    "    net_size=(32, 32), \n",
    "    heat_patch_size=(4, 4),\n",
    "    heatmap_mode = 'Target',\n",
    ")"
   ]
  },
  {
   "cell_type": "code",
   "execution_count": 41,
   "id": "bcc99977-a8d1-4e84-94cc-92b28e5be363",
   "metadata": {},
   "outputs": [],
   "source": [
    "x_adv = attack.generate(\n",
    "    x=x_test[1, :, :, :][np.newaxis, :, :, :], \n",
    "    y=y_test[8][np.newaxis, :], \n",
    "    mask=None, \n",
    "    x_tar=x_test[8, :, :, :][np.newaxis, :, :, :]\n",
    ")"
   ]
  },
  {
   "cell_type": "markdown",
   "id": "add05cb3-91d3-4da8-8f58-33de3f2485fc",
   "metadata": {},
   "source": [
    "# Results"
   ]
  },
  {
   "cell_type": "code",
   "execution_count": 42,
   "id": "001ec06e-8b6a-4dec-a7ab-75b6c84ceac5",
   "metadata": {},
   "outputs": [],
   "source": [
    "y_pred = model.predict(x_test[1, :, :, :][np.newaxis, :, :, :], verbose=0)\n",
    "y_pred = np.argmax(y_pred)\n",
    "y_pred = cifar10_class_labels[y_pred]"
   ]
  },
  {
   "cell_type": "code",
   "execution_count": 43,
   "id": "44d5dede-1876-4a50-8661-d6b6aa1b8149",
   "metadata": {},
   "outputs": [],
   "source": [
    "adv_pred = model.predict(x_adv[0, :, :, :][np.newaxis, :, :, :], verbose=0)\n",
    "adv_pred = np.argmax(adv_pred)\n",
    "adv_pred = cifar10_class_labels[adv_pred]"
   ]
  },
  {
   "cell_type": "code",
   "execution_count": 44,
   "id": "16bbe314-ff7d-4a84-b443-1ed2c77a0ddf",
   "metadata": {},
   "outputs": [
    {
     "name": "stdout",
     "output_type": "stream",
     "text": [
      "Original Image Prediction: ship\n",
      "Adversarial Image Prediction: automobile\n"
     ]
    }
   ],
   "source": [
    "print(\"Original Image Prediction:\", y_pred)\n",
    "print(\"Adversarial Image Prediction:\", adv_pred)"
   ]
  },
  {
   "cell_type": "code",
   "execution_count": 47,
   "id": "e08bc772-3d80-4127-99d8-097dfa25b541",
   "metadata": {},
   "outputs": [
    {
     "data": {
      "image/png": "[encoded data removed]",
      "text/plain": [
       "<Figure size 1000x600 with 2 Axes>"
      ]
     },
     "metadata": {},
     "output_type": "display_data"
    }
   ],
   "source": [
    "fig, axes = plt.subplots(nrows=1, ncols=2, figsize=(10, 6))\n",
    "\n",
    "axes[0].imshow(x_test[1])\n",
    "axes[0].set_title(\"Pred:\" + y_pred)\n",
    "\n",
    "axes[1].imshow(x_adv[0])\n",
    "axes[1].set_title(\"Pred:\" + adv_pred)\n",
    "\n",
    "plt.show()"
   ]
  },
  {
   "cell_type": "code",
   "execution_count": null,
   "id": "c4dda2ac-27c6-4cbf-ad96-efc7f56dc9bb",
   "metadata": {},
   "outputs": [],
   "source": []
  }
 ],
 "metadata": {
  "kernelspec": {
   "display_name": "Python 3 (ipykernel)",
   "language": "python",
   "name": "python3"
  },
  "language_info": {
   "codemirror_mode": {
    "name": "ipython",
    "version": 3
   },
   "file_extension": ".py",
   "mimetype": "text/x-python",
   "name": "python",
   "nbconvert_exporter": "python",
   "pygments_lexer": "ipython3",
   "version": "3.10.12"
  }
 },
 "nbformat": 4,
 "nbformat_minor": 5
}

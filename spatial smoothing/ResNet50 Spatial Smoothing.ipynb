{
 "cells": [
  {
   "cell_type": "markdown",
   "id": "28111d81-130b-4b18-9360-3081ce3bb004",
   "metadata": {},
   "source": [
    "# Import Libraries"
   ]
  },
  {
   "cell_type": "code",
   "execution_count": 39,
   "id": "ac4b1c9f-e18d-46ee-a152-9efe40f02fac",
   "metadata": {},
   "outputs": [],
   "source": [
    "import numpy as np\n",
    "import tensorflow as tf\n",
    "import matplotlib.pyplot as plt\n",
    "\n",
    "from tensorflow.keras.losses import CategoricalCrossentropy\n",
    "from tensorflow.keras.optimizers import Adam\n",
    "from tensorflow.keras.applications import ResNet50V2\n",
    "from tensorflow.keras.applications.resnet_v2 import decode_predictions, preprocess_input\n",
    "from tensorflow.keras.preprocessing import image\n",
    "\n",
    "from art.estimators.classification import TensorFlowV2Classifier\n",
    "from art.attacks.evasion import ProjectedGradientDescent\n",
    "from art.defences.preprocessor import SpatialSmoothing"
   ]
  },
  {
   "cell_type": "markdown",
   "id": "5643e6c9-ccf1-4460-a4a1-50e4fe45f864",
   "metadata": {},
   "source": [
    "# Load Data"
   ]
  },
  {
   "cell_type": "code",
   "execution_count": 2,
   "id": "19e53810-0734-4fb2-8caa-1945cf78c0d7",
   "metadata": {},
   "outputs": [],
   "source": [
    "image_path = \"racer.jpg\"\n",
    "img = image.load_img(image_path, target_size=(224, 224))"
   ]
  },
  {
   "cell_type": "code",
   "execution_count": 3,
   "id": "5a2d4618-cf2f-45d4-8ad5-3fb66743ee6a",
   "metadata": {},
   "outputs": [],
   "source": [
    "img = image.img_to_array(img)\n",
    "img = np.expand_dims(img, axis=0)\n",
    "img = preprocess_input(img)  \n",
    "img = np.clip(img, 0, 1)"
   ]
  },
  {
   "cell_type": "markdown",
   "id": "d3eccb25-c39b-40fd-8ae8-239445925a02",
   "metadata": {},
   "source": [
    "# Model"
   ]
  },
  {
   "cell_type": "code",
   "execution_count": 4,
   "id": "121b153d-8077-4a1d-ab08-11e7744032b8",
   "metadata": {},
   "outputs": [],
   "source": [
    "model = ResNet50V2(weights=\"imagenet\")"
   ]
  },
  {
   "cell_type": "code",
   "execution_count": 5,
   "id": "5ab843a4-b267-44c2-8113-161cb4fb7e85",
   "metadata": {},
   "outputs": [],
   "source": [
    "model.compile(\n",
    "    optimizer=Adam(),\n",
    "    loss=\"categorical_crossentropy\",\n",
    "    metrics=[\"accuracy\"]\n",
    ")"
   ]
  },
  {
   "cell_type": "markdown",
   "id": "2bbc7bc6-736f-42ac-a983-2ad2442b9be7",
   "metadata": {},
   "source": [
    "# Attack"
   ]
  },
  {
   "cell_type": "code",
   "execution_count": 6,
   "id": "18954097-2e36-4a9a-84c9-844746c95eec",
   "metadata": {},
   "outputs": [],
   "source": [
    "mean = [103.939, 116.779, 123.68]"
   ]
  },
  {
   "cell_type": "code",
   "execution_count": 46,
   "id": "81bc078e-adf7-4b8d-817b-08cf60693a99",
   "metadata": {},
   "outputs": [],
   "source": [
    "classifier = TensorFlowV2Classifier(\n",
    "    model=model,\n",
    "    loss_object=CategoricalCrossentropy(),\n",
    "    train_step=None,\n",
    "    input_shape=(224, 224, 3),\n",
    "    clip_values=(0, 255),\n",
    "    nb_classes=1000,\n",
    "    preprocessing=(\n",
    "        mean, np.array([1.0, 1.0, 1.0])\n",
    "    )\n",
    ")"
   ]
  },
  {
   "cell_type": "code",
   "execution_count": 48,
   "id": "182a7480-dca9-4289-9c48-90cd1540d600",
   "metadata": {},
   "outputs": [],
   "source": [
    "pgd = ProjectedGradientDescent(\n",
    "    classifier,\n",
    "    targeted=True,\n",
    "    max_iter=10,\n",
    "    eps_step=1,\n",
    "    eps=5\n",
    ")"
   ]
  },
  {
   "cell_type": "code",
   "execution_count": 49,
   "id": "0374dd75-c976-467a-aee8-863d8146b478",
   "metadata": {},
   "outputs": [],
   "source": [
    "target_class = 10"
   ]
  },
  {
   "cell_type": "code",
   "execution_count": 50,
   "id": "7d591b45-dfe8-4bfe-a747-e4c13d47e6b9",
   "metadata": {},
   "outputs": [],
   "source": [
    "y_one_hot = np.zeros(1000)\n",
    "y_one_hot[target_class] = 1.0"
   ]
  },
  {
   "cell_type": "code",
   "execution_count": 51,
   "id": "1c8eade7-0846-4ecd-9439-ded199858b37",
   "metadata": {},
   "outputs": [],
   "source": [
    "y_target = np.expand_dims(y_one_hot, axis=0)"
   ]
  },
  {
   "cell_type": "code",
   "execution_count": 52,
   "id": "7aafffe9-9980-4cde-bb8b-0b632fcbd9c6",
   "metadata": {},
   "outputs": [
    {
     "data": {
      "application/vnd.jupyter.widget-view+json": {
       "model_id": "",
       "version_major": 2,
       "version_minor": 0
      },
      "text/plain": [
       "PGD - Batches: 0it [00:00, ?it/s]"
      ]
     },
     "metadata": {},
     "output_type": "display_data"
    }
   ],
   "source": [
    "adv_img = pgd.generate(x=img, y=y_target)"
   ]
  },
  {
   "cell_type": "markdown",
   "id": "8f717493-f791-4861-ba13-7c79f1424fbf",
   "metadata": {},
   "source": [
    "# Spatial Smoothing"
   ]
  },
  {
   "cell_type": "code",
   "execution_count": 61,
   "id": "f86effdb-06f7-470e-9aee-7a7eccc6d49d",
   "metadata": {},
   "outputs": [],
   "source": [
    "def predict_image(img):\n",
    "    pred = model.predict(img, verbose=0)\n",
    "    decoded_preds = decode_predictions(pred, top=5)[0]\n",
    "    return {\"class_name\": decoded_preds[0][1], \"confidence_score\": round(decoded_preds[0][2], 2)}"
   ]
  },
  {
   "cell_type": "code",
   "execution_count": 62,
   "id": "f4db82fd-9b84-41e3-97d1-0cc8866f331c",
   "metadata": {},
   "outputs": [
    {
     "name": "stdout",
     "output_type": "stream",
     "text": [
      "Raw Image Prediction: {'class_name': 'racer', 'confidence_score': 0.73}\n",
      "Adversarial Image Prediction: {'class_name': 'strainer', 'confidence_score': 0.86}\n"
     ]
    }
   ],
   "source": [
    "print(\"Raw Image Prediction:\", predict_image(img))\n",
    "print(\"Adversarial Image Prediction:\", predict_image(adv_img))"
   ]
  },
  {
   "cell_type": "code",
   "execution_count": 55,
   "id": "4109335c-ca85-4f2d-bae8-382376e1e489",
   "metadata": {},
   "outputs": [],
   "source": [
    "ss = SpatialSmoothing(window_size=3)"
   ]
  },
  {
   "cell_type": "code",
   "execution_count": 56,
   "id": "239b51c4-6f16-4b2c-a0bf-61506b120a16",
   "metadata": {},
   "outputs": [],
   "source": [
    "ss_raw, _ = ss(img)"
   ]
  },
  {
   "cell_type": "code",
   "execution_count": 57,
   "id": "7638cf2f-dda5-49b0-95d6-985cd60c8e4d",
   "metadata": {},
   "outputs": [],
   "source": [
    "ss_adv, _ = ss(adv_img)"
   ]
  },
  {
   "cell_type": "code",
   "execution_count": 58,
   "id": "946390de-23a4-42f0-ac63-b3e271ec7cb1",
   "metadata": {},
   "outputs": [
    {
     "name": "stdout",
     "output_type": "stream",
     "text": [
      "Raw Image Prediction: {'class_name': 'racer', 'confidence_score': 0.85}\n",
      "Adversarial Image Prediction: {'class_name': 'strainer', 'confidence_score': 0.99}\n"
     ]
    }
   ],
   "source": [
    "print(\"Raw Image Prediction:\", predict_image(ss_raw))\n",
    "print(\"Adversarial Image Prediction:\", predict_image(ss_adv))"
   ]
  },
  {
   "cell_type": "code",
   "execution_count": null,
   "id": "f69b62ac-ca9c-4138-b450-6ac0956f213a",
   "metadata": {},
   "outputs": [],
   "source": []
  }
 ],
 "metadata": {
  "kernelspec": {
   "display_name": "Python 3 (ipykernel)",
   "language": "python",
   "name": "python3"
  },
  "language_info": {
   "codemirror_mode": {
    "name": "ipython",
    "version": 3
   },
   "file_extension": ".py",
   "mimetype": "text/x-python",
   "name": "python",
   "nbconvert_exporter": "python",
   "pygments_lexer": "ipython3",
   "version": "3.10.12"
  }
 },
 "nbformat": 4,
 "nbformat_minor": 5
}

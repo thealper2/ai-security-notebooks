{
 "cells": [
  {
   "cell_type": "markdown",
   "id": "43d3efb5-f792-4ee7-a23e-c5d8a06d1052",
   "metadata": {},
   "source": [
    "# Import Libraries"
   ]
  },
  {
   "cell_type": "code",
   "execution_count": 31,
   "id": "37cbc93d-8372-49ea-8b9a-faaef49f97f2",
   "metadata": {},
   "outputs": [],
   "source": [
    "import numpy as np\n",
    "import pandas as pd\n",
    "import matplotlib.pyplot as plt\n",
    "import tensorflow as tf\n",
    "from tensorflow.keras.datasets import cifar10\n",
    "from tensorflow.keras.layers import Conv2D, MaxPooling2D, Flatten, Dense, Input\n",
    "from tensorflow.keras.models import Sequential\n",
    "from tensorflow.keras.utils import to_categorical\n",
    "from art.estimators.classification import TensorFlowV2Classifier\n",
    "from art.defences.detector.poison import SpectralSignatureDefense"
   ]
  },
  {
   "cell_type": "markdown",
   "id": "8e0a13a6-fbbc-4a27-b842-ecc5d9a0e525",
   "metadata": {},
   "source": [
    "# Load Data"
   ]
  },
  {
   "cell_type": "code",
   "execution_count": 18,
   "id": "1fa16d90-411e-455b-84f7-c4f05a94dceb",
   "metadata": {},
   "outputs": [],
   "source": [
    "(x_train, y_train), (x_test, y_test) = cifar10.load_data()"
   ]
  },
  {
   "cell_type": "code",
   "execution_count": 19,
   "id": "930fe5f4-274b-4a55-83c7-4e17f796f7c9",
   "metadata": {},
   "outputs": [],
   "source": [
    "poisoning_ratio = 0.3"
   ]
  },
  {
   "cell_type": "code",
   "execution_count": 20,
   "id": "5acde994-d758-4ec7-b07f-30a8315822df",
   "metadata": {},
   "outputs": [],
   "source": [
    "target_classes = [0, 1, 2]"
   ]
  },
  {
   "cell_type": "code",
   "execution_count": 21,
   "id": "af4c6d8b-7b60-494e-88eb-1bff4b363099",
   "metadata": {},
   "outputs": [],
   "source": [
    "num_poisoned = int(poisoning_ratio * len(y_train))\n",
    "poison_indices = np.random.choice(len(y_train), num_poisoned, replace=False)"
   ]
  },
  {
   "cell_type": "code",
   "execution_count": 22,
   "id": "b158e829-4c20-4349-84e0-dca60fedb1ec",
   "metadata": {},
   "outputs": [],
   "source": [
    "safe_y_train = y_train.copy()\n",
    "safe_y_test = y_test.copy()"
   ]
  },
  {
   "cell_type": "code",
   "execution_count": 23,
   "id": "c1009ad4-4acc-42b3-9f41-99fc758fdc39",
   "metadata": {},
   "outputs": [],
   "source": [
    "for i in poison_indices:\n",
    "    if y_train[i] in target_classes:\n",
    "        y_train[i] = np.random.choice([j for j in range(10) if j != y_train[i]])"
   ]
  },
  {
   "cell_type": "code",
   "execution_count": 26,
   "id": "5ea9a5ed-68b0-4d94-bbe4-15421cba4c5a",
   "metadata": {},
   "outputs": [],
   "source": [
    "x_train = x_train.astype('float32') / 255\n",
    "x_test = x_test.astype('float32') / 255"
   ]
  },
  {
   "cell_type": "code",
   "execution_count": 27,
   "id": "046aebe7-ee13-4684-bd2c-6b258afa2b99",
   "metadata": {},
   "outputs": [],
   "source": [
    "safe_y_train = to_categorical(safe_y_train, num_classes=10)\n",
    "safe_y_test = to_categorical(safe_y_test, num_classes=10)"
   ]
  },
  {
   "cell_type": "code",
   "execution_count": 28,
   "id": "aa0104a9-85e1-44d8-aba0-f89490ae538c",
   "metadata": {},
   "outputs": [],
   "source": [
    "poisoned_y_train = to_categorical(y_train, num_classes=10)\n",
    "poisoned_y_test = to_categorical(y_test, num_classes=10)"
   ]
  },
  {
   "cell_type": "markdown",
   "id": "c0172226-1801-48b3-a44d-34c76aa5abc6",
   "metadata": {},
   "source": [
    "# Model"
   ]
  },
  {
   "cell_type": "code",
   "execution_count": 34,
   "id": "ee2359b4-7964-46c6-b798-3f02df6ab508",
   "metadata": {},
   "outputs": [],
   "source": [
    "model = Sequential([\n",
    "    Input(shape=(32, 32, 3)),\n",
    "    Conv2D(32, (3, 3), activation=\"relu\", padding=\"same\"),\n",
    "    Conv2D(32, (3, 3), activation=\"relu\", padding=\"same\"),\n",
    "    MaxPooling2D(pool_size=(2, 2)),\n",
    "    \n",
    "    Conv2D(64, (3, 3), activation=\"relu\", padding=\"same\"),\n",
    "    Conv2D(64, (3, 3), activation=\"relu\", padding=\"same\"),\n",
    "    MaxPooling2D(pool_size=(2, 2)),\n",
    "    \n",
    "    Flatten(),\n",
    "    \n",
    "    Dense(512, activation=\"relu\"),\n",
    "    Dense(10, activation=\"softmax\")\n",
    "])"
   ]
  },
  {
   "cell_type": "code",
   "execution_count": 35,
   "id": "b6f80748-4ea3-4803-a645-8dde305b03db",
   "metadata": {},
   "outputs": [],
   "source": [
    "model.compile(optimizer='adam', loss='categorical_crossentropy', metrics=['accuracy'])"
   ]
  },
  {
   "cell_type": "markdown",
   "id": "f46e9904-aa1f-49a2-a7d1-795907991c95",
   "metadata": {},
   "source": [
    "# Train"
   ]
  },
  {
   "cell_type": "code",
   "execution_count": 40,
   "id": "ba27ed8b-1ab0-4090-a3ea-bd0941199788",
   "metadata": {},
   "outputs": [
    {
     "name": "stdout",
     "output_type": "stream",
     "text": [
      "Epoch 1/10\n",
      "391/391 [==============================] - 8s 12ms/step - loss: 1.4080 - accuracy: 0.4920 - val_loss: 1.1044 - val_accuracy: 0.6081\n",
      "Epoch 2/10\n",
      "391/391 [==============================] - 4s 9ms/step - loss: 0.9580 - accuracy: 0.6631 - val_loss: 0.8873 - val_accuracy: 0.6842\n",
      "Epoch 3/10\n",
      "391/391 [==============================] - 4s 9ms/step - loss: 0.7697 - accuracy: 0.7308 - val_loss: 0.8021 - val_accuracy: 0.7222\n",
      "Epoch 4/10\n",
      "391/391 [==============================] - 4s 9ms/step - loss: 0.6217 - accuracy: 0.7827 - val_loss: 0.7665 - val_accuracy: 0.7336\n",
      "Epoch 5/10\n",
      "391/391 [==============================] - 4s 10ms/step - loss: 0.4930 - accuracy: 0.8265 - val_loss: 0.7562 - val_accuracy: 0.7483\n",
      "Epoch 6/10\n",
      "391/391 [==============================] - 4s 10ms/step - loss: 0.3600 - accuracy: 0.8748 - val_loss: 0.7757 - val_accuracy: 0.7583\n",
      "Epoch 7/10\n",
      "391/391 [==============================] - 4s 9ms/step - loss: 0.2356 - accuracy: 0.9188 - val_loss: 0.9328 - val_accuracy: 0.7498\n",
      "Epoch 8/10\n",
      "391/391 [==============================] - 4s 9ms/step - loss: 0.1448 - accuracy: 0.9496 - val_loss: 1.1215 - val_accuracy: 0.7334\n",
      "Epoch 9/10\n",
      "391/391 [==============================] - 4s 10ms/step - loss: 0.1049 - accuracy: 0.9636 - val_loss: 1.2248 - val_accuracy: 0.7366\n",
      "Epoch 10/10\n",
      "391/391 [==============================] - 4s 9ms/step - loss: 0.0738 - accuracy: 0.9752 - val_loss: 1.3223 - val_accuracy: 0.7467\n"
     ]
    }
   ],
   "source": [
    "history = model.fit(x_train, safe_y_train, batch_size=128, epochs=10, validation_data=(x_test, safe_y_test))"
   ]
  },
  {
   "cell_type": "code",
   "execution_count": 44,
   "id": "502f86b8-ab82-47c3-84ba-4fd262467968",
   "metadata": {},
   "outputs": [],
   "source": [
    "classifier = TensorFlowV2Classifier(model=model, nb_classes=10, input_shape=(32, 32, 3))"
   ]
  },
  {
   "cell_type": "markdown",
   "id": "fdebeda0-d21b-4a1d-ba58-760619555756",
   "metadata": {},
   "source": [
    "# Test"
   ]
  },
  {
   "cell_type": "code",
   "execution_count": 59,
   "id": "5fb497a9-480b-4032-82df-65f9d10fd78b",
   "metadata": {
    "scrolled": true
   },
   "outputs": [],
   "source": [
    "spectral_signature_defense = SpectralSignatureDefense(classifier=classifier, x_train=x_train, y_train=poisoned_y_train)\n",
    "report, is_clean_lst = spectral_signature_defense.detect_poison(n_components=10)"
   ]
  },
  {
   "cell_type": "code",
   "execution_count": 67,
   "id": "5306397b-2c9c-4ab1-b6fe-d5d99c9fb739",
   "metadata": {},
   "outputs": [],
   "source": [
    "poisonous_indices = []\n",
    "\n",
    "# 0 -> Poisoned\n",
    "# 1 -> Cleaned\n",
    "\n",
    "for i in range(len(is_clean_lst)):\n",
    "    if is_clean_lst[i] == 0:\n",
    "        poisonous_indices.append(i)"
   ]
  },
  {
   "cell_type": "code",
   "execution_count": 69,
   "id": "66cf3e0d-1c2f-4bc2-bb56-3875449ef24b",
   "metadata": {},
   "outputs": [
    {
     "data": {
      "text/plain": [
       "15000"
      ]
     },
     "execution_count": 69,
     "metadata": {},
     "output_type": "execute_result"
    }
   ],
   "source": [
    "poison_indices.size"
   ]
  },
  {
   "cell_type": "code",
   "execution_count": 71,
   "id": "c0fbe7ec-35c9-4ee3-8227-43410128297f",
   "metadata": {},
   "outputs": [
    {
     "data": {
      "text/plain": [
       "24752"
      ]
     },
     "execution_count": 71,
     "metadata": {},
     "output_type": "execute_result"
    }
   ],
   "source": [
    "len(poisonous_indices)"
   ]
  },
  {
   "cell_type": "code",
   "execution_count": null,
   "id": "861d32ff-6f65-4405-b3e8-15009d4c5fe0",
   "metadata": {},
   "outputs": [],
   "source": []
  }
 ],
 "metadata": {
  "kernelspec": {
   "display_name": "Python 3 (ipykernel)",
   "language": "python",
   "name": "python3"
  },
  "language_info": {
   "codemirror_mode": {
    "name": "ipython",
    "version": 3
   },
   "file_extension": ".py",
   "mimetype": "text/x-python",
   "name": "python",
   "nbconvert_exporter": "python",
   "pygments_lexer": "ipython3",
   "version": "3.10.12"
  }
 },
 "nbformat": 4,
 "nbformat_minor": 5
}

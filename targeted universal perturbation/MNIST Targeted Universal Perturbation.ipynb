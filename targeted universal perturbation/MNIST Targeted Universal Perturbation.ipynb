{
 "cells": [
  {
   "cell_type": "markdown",
   "id": "9d12f456-9f27-4136-8456-b53959039f22",
   "metadata": {},
   "source": [
    "# Import Libraries"
   ]
  },
  {
   "cell_type": "code",
   "execution_count": 1,
   "id": "e75a75f0-0b96-41f5-9def-63f63e101283",
   "metadata": {},
   "outputs": [],
   "source": [
    "import numpy as np\n",
    "import matplotlib.pyplot as plt\n",
    "\n",
    "from tensorflow.keras import layers, models\n",
    "from tensorflow.keras.datasets import mnist\n",
    "from tensorflow.keras.optimizers import Adam\n",
    "from tensorflow.keras.losses import CategoricalCrossentropy\n",
    "from tensorflow.keras.utils import to_categorical\n",
    "\n",
    "from sklearn.metrics import accuracy_score, precision_score, recall_score, f1_score\n",
    "\n",
    "from art.utils import load_mnist\n",
    "from art.estimators.classification import TensorFlowV2Classifier\n",
    "from art.attacks.evasion import TargetedUniversalPerturbation"
   ]
  },
  {
   "cell_type": "markdown",
   "id": "c31b077d-3c93-455d-abdc-eb9cf9bf0060",
   "metadata": {},
   "source": [
    "# Load Data"
   ]
  },
  {
   "cell_type": "code",
   "execution_count": 2,
   "id": "9fa8c2e5-d286-4e83-96d9-926ae19c45f8",
   "metadata": {},
   "outputs": [],
   "source": [
    "(x_train, y_train), (x_test, y_test), min_, max_ = load_mnist()"
   ]
  },
  {
   "cell_type": "markdown",
   "id": "938c47cf-a29a-465c-8b21-5f88d3a2272c",
   "metadata": {},
   "source": [
    "# Model"
   ]
  },
  {
   "cell_type": "code",
   "execution_count": 3,
   "id": "ba2ae0a9-93f5-44ed-8694-849aa2d19a1f",
   "metadata": {},
   "outputs": [],
   "source": [
    "model = models.Sequential([\n",
    "    layers.Flatten(input_shape=(28, 28)),\n",
    "    layers.Dense(64, activation='relu'),\n",
    "    layers.Dense(128, activation='relu'),\n",
    "    layers.Dense(256, activation='relu'),\n",
    "    layers.Dense(10)\n",
    "])"
   ]
  },
  {
   "cell_type": "code",
   "execution_count": 4,
   "id": "eb56640c-89b4-4af3-8dea-535ea0c284bc",
   "metadata": {},
   "outputs": [],
   "source": [
    "model.compile(loss=CategoricalCrossentropy(from_logits=True), optimizer=Adam(), metrics=[\"accuracy\"])"
   ]
  },
  {
   "cell_type": "markdown",
   "id": "71be792a-dad8-4ff1-bee6-4bc8251a970c",
   "metadata": {},
   "source": [
    "# Train"
   ]
  },
  {
   "cell_type": "code",
   "execution_count": 5,
   "id": "02c9974f-563b-4f86-adce-2772c4d4aa97",
   "metadata": {},
   "outputs": [
    {
     "name": "stdout",
     "output_type": "stream",
     "text": [
      "Epoch 1/10\n",
      "1875/1875 [==============================] - 7s 3ms/step - loss: 0.2464 - accuracy: 0.9256\n",
      "Epoch 2/10\n",
      "1875/1875 [==============================] - 7s 4ms/step - loss: 0.1151 - accuracy: 0.9646\n",
      "Epoch 3/10\n",
      "1875/1875 [==============================] - 7s 3ms/step - loss: 0.0824 - accuracy: 0.9739\n",
      "Epoch 4/10\n",
      "1875/1875 [==============================] - 6s 3ms/step - loss: 0.0694 - accuracy: 0.9776\n",
      "Epoch 5/10\n",
      "1875/1875 [==============================] - 6s 3ms/step - loss: 0.0550 - accuracy: 0.9822\n",
      "Epoch 6/10\n",
      "1875/1875 [==============================] - 6s 3ms/step - loss: 0.0479 - accuracy: 0.9847\n",
      "Epoch 7/10\n",
      "1875/1875 [==============================] - 7s 4ms/step - loss: 0.0417 - accuracy: 0.9866\n",
      "Epoch 8/10\n",
      "1875/1875 [==============================] - 7s 3ms/step - loss: 0.0344 - accuracy: 0.9891\n",
      "Epoch 9/10\n",
      "1875/1875 [==============================] - 7s 4ms/step - loss: 0.0338 - accuracy: 0.9891\n",
      "Epoch 10/10\n",
      "1875/1875 [==============================] - 7s 4ms/step - loss: 0.0296 - accuracy: 0.9902\n"
     ]
    },
    {
     "data": {
      "text/plain": [
       "<keras.src.callbacks.History at 0x7f9cd87d13f0>"
      ]
     },
     "execution_count": 5,
     "metadata": {},
     "output_type": "execute_result"
    }
   ],
   "source": [
    "model.fit(x_train, y_train, epochs=10, batch_size=32)"
   ]
  },
  {
   "cell_type": "markdown",
   "id": "90f642a3-93d8-4e1f-9359-9daebd19c48d",
   "metadata": {},
   "source": [
    "# Attack"
   ]
  },
  {
   "cell_type": "code",
   "execution_count": 6,
   "id": "830bd155-a2ef-4cd3-bd3b-584cc8c3c9be",
   "metadata": {},
   "outputs": [],
   "source": [
    "art_model = TensorFlowV2Classifier(\n",
    "    model=model, \n",
    "    loss_object=CategoricalCrossentropy(from_logits=True),\n",
    "    optimizer=Adam(),\n",
    "    nb_classes=10, \n",
    "    input_shape=(28, 28), \n",
    "    clip_values=(0, 1)\n",
    ")"
   ]
  },
  {
   "cell_type": "code",
   "execution_count": 54,
   "id": "2b4adfb4-3a28-4f5e-8be0-6c66d6e12334",
   "metadata": {},
   "outputs": [],
   "source": [
    "labels1 = [5]\n",
    "indices_5 = [idx for idx, target in enumerate(y_test) if np.argmax(target, axis=0) in labels1]"
   ]
  },
  {
   "cell_type": "code",
   "execution_count": 55,
   "id": "e816d3c7-fcf7-4a40-b8f0-f43cebcd2530",
   "metadata": {},
   "outputs": [],
   "source": [
    "labels2 = [6]\n",
    "indices_6 = [idx for idx, target in enumerate(y_test) if np.argmax(target, axis=0) in labels2]"
   ]
  },
  {
   "cell_type": "code",
   "execution_count": 56,
   "id": "43dd939f-6831-4081-b4ef-9bad606c1088",
   "metadata": {
    "scrolled": true
   },
   "outputs": [],
   "source": [
    "x_test_5, y_test_5 = x_test[indices_5], y_test[indices_6]"
   ]
  },
  {
   "cell_type": "code",
   "execution_count": 59,
   "id": "3edb4e6c-ef2e-4048-b7e3-3a082b4e63c9",
   "metadata": {},
   "outputs": [],
   "source": [
    "y_test_5 = y_test[:len(x_test_5)]"
   ]
  },
  {
   "cell_type": "code",
   "execution_count": 60,
   "id": "2e643364-6378-4647-ab53-c7b0937662b4",
   "metadata": {},
   "outputs": [
    {
     "data": {
      "text/plain": [
       "(892, 892)"
      ]
     },
     "execution_count": 60,
     "metadata": {},
     "output_type": "execute_result"
    }
   ],
   "source": [
    "len(x_test_5), len(y_test_5)"
   ]
  },
  {
   "cell_type": "code",
   "execution_count": 61,
   "id": "8755af7e-1e27-41f5-8bdd-b4660def7a23",
   "metadata": {},
   "outputs": [],
   "source": [
    "attack = TargetedUniversalPerturbation(classifier=art_model, attacker=\"fgsm\", delta=0, max_iter=5)"
   ]
  },
  {
   "cell_type": "code",
   "execution_count": 62,
   "id": "aa433a87-63cd-47de-9348-af692143d1d1",
   "metadata": {},
   "outputs": [],
   "source": [
    "adv_test = attack.generate(x=x_test_5, y=y_test_5)"
   ]
  },
  {
   "cell_type": "markdown",
   "id": "b7834762-c078-448b-af7f-268ae42ed450",
   "metadata": {},
   "source": [
    "# Results"
   ]
  },
  {
   "cell_type": "code",
   "execution_count": 63,
   "id": "2d0ba08f-e781-492d-9e4f-02ed7055c02a",
   "metadata": {},
   "outputs": [],
   "source": [
    "y_test_5 = np.argmax(y_test_5, axis=1)"
   ]
  },
  {
   "cell_type": "code",
   "execution_count": 67,
   "id": "5a6458ed-f4c2-4506-b9b1-eaee4f83c43b",
   "metadata": {},
   "outputs": [],
   "source": [
    "adv_preds = np.argmax(art_model.predict(adv_test), axis=1)"
   ]
  },
  {
   "cell_type": "code",
   "execution_count": 68,
   "id": "0871f3bb-3b24-4095-a96f-5c58c5ae41af",
   "metadata": {},
   "outputs": [
    {
     "name": "stderr",
     "output_type": "stream",
     "text": [
      "/home/alper/.local/lib/python3.10/site-packages/sklearn/metrics/_classification.py:1531: UndefinedMetricWarning: Precision is ill-defined and being set to 0.0 in labels with no predicted samples. Use `zero_division` parameter to control this behavior.\n",
      "  _warn_prf(average, modifier, f\"{metric.capitalize()} is\", len(result))\n"
     ]
    }
   ],
   "source": [
    "adv_model_scores = {\n",
    "    'ACC': accuracy_score(y_test_5, adv_preds),\n",
    "    'PREC': precision_score(y_test_5, adv_preds, average='weighted'),\n",
    "    'REC': recall_score(y_test_5, adv_preds, average='weighted'),\n",
    "    'F1': f1_score(y_test_5, adv_preds, average='weighted')\n",
    "}"
   ]
  },
  {
   "cell_type": "code",
   "execution_count": 69,
   "id": "3a5f91b5-e4a8-4469-a85b-db081c68fc71",
   "metadata": {},
   "outputs": [
    {
     "data": {
      "text/plain": [
       "{'ACC': 0.09080717488789238,\n",
       " 'PREC': 0.054444455846185943,\n",
       " 'REC': 0.09080717488789238,\n",
       " 'F1': 0.019119367590790724}"
      ]
     },
     "execution_count": 69,
     "metadata": {},
     "output_type": "execute_result"
    }
   ],
   "source": [
    "adv_model_scores"
   ]
  },
  {
   "cell_type": "code",
   "execution_count": 70,
   "id": "23ee0c3a-a2b1-4943-93a9-db437d9ea6ce",
   "metadata": {},
   "outputs": [
    {
     "data": {
      "image/png": "[encoded data removed]",
      "text/plain": [
       "<Figure size 1000x600 with 16 Axes>"
      ]
     },
     "metadata": {},
     "output_type": "display_data"
    }
   ],
   "source": [
    "fig, axes = plt.subplots(nrows=4, ncols=4, figsize=(10, 6))\n",
    "random_index = np.random.randint(0, len(adv_test), 16)\n",
    "\n",
    "for i, ax in enumerate(axes.ravel()):\n",
    "    ax.imshow(adv_test[random_index[i]].reshape(28, 28), cmap='gray')\n",
    "    ax.axis('off')\n",
    "\n",
    "    if y_test_5[random_index[i]] == adv_preds[random_index[i]]:\n",
    "        color = 'green'\n",
    "    else:\n",
    "        color = 'red'\n",
    "\n",
    "    ax.set_title(\n",
    "        f'True: {y_test_5[random_index[i]]}\\nPredicted: {adv_preds[random_index[i]]}',\n",
    "        color=color\n",
    "    )\n",
    "\n",
    "plt.tight_layout()\n",
    "plt.show()"
   ]
  },
  {
   "cell_type": "code",
   "execution_count": null,
   "id": "fc8efa0a-5252-4311-aa6c-801deb31776f",
   "metadata": {},
   "outputs": [],
   "source": []
  }
 ],
 "metadata": {
  "kernelspec": {
   "display_name": "Python 3 (ipykernel)",
   "language": "python",
   "name": "python3"
  },
  "language_info": {
   "codemirror_mode": {
    "name": "ipython",
    "version": 3
   },
   "file_extension": ".py",
   "mimetype": "text/x-python",
   "name": "python",
   "nbconvert_exporter": "python",
   "pygments_lexer": "ipython3",
   "version": "3.10.12"
  }
 },
 "nbformat": 4,
 "nbformat_minor": 5
}

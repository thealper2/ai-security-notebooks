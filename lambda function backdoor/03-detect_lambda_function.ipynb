{
 "cells": [
  {
   "cell_type": "markdown",
   "id": "90cec300-7221-4e99-ade4-ae55ae09d000",
   "metadata": {},
   "source": [
    "# Import Libraries"
   ]
  },
  {
   "cell_type": "code",
   "execution_count": 2,
   "id": "95f5f9f9-ff49-4431-ad3a-25f275119a8e",
   "metadata": {},
   "outputs": [],
   "source": [
    "import tensorflow as tf\n",
    "from tensorflow.keras.models import load_model"
   ]
  },
  {
   "cell_type": "markdown",
   "id": "d84abd74-aa3b-4d1b-bbb4-5993f8aa8277",
   "metadata": {},
   "source": [
    "# Load Safe Model"
   ]
  },
  {
   "cell_type": "code",
   "execution_count": 3,
   "id": "24bbcaab-23fd-4391-a9da-4368acf9a6cd",
   "metadata": {},
   "outputs": [],
   "source": [
    "safe_model_path = \"./models/safe_model.h5\""
   ]
  },
  {
   "cell_type": "code",
   "execution_count": 4,
   "id": "2e90e8d4-5c6f-4fd9-927c-fe787f3317c5",
   "metadata": {},
   "outputs": [],
   "source": [
    "safe_model = load_model(safe_model_path)"
   ]
  },
  {
   "cell_type": "markdown",
   "id": "d7409dbb-3944-4dab-b099-b111d02c1976",
   "metadata": {},
   "source": [
    "# Load Modified Model"
   ]
  },
  {
   "cell_type": "code",
   "execution_count": 5,
   "id": "c7d4c61e-606f-4e89-add0-81b2745853f8",
   "metadata": {},
   "outputs": [],
   "source": [
    "modified_model_path = \"./models/modified_model.h5\""
   ]
  },
  {
   "cell_type": "code",
   "execution_count": 6,
   "id": "6dae6a1d-2a7c-4138-bcc4-66de4ef79264",
   "metadata": {},
   "outputs": [],
   "source": [
    "modified_model = load_model(modified_model_path)"
   ]
  },
  {
   "cell_type": "markdown",
   "id": "8ab8e0f0-1e34-41b4-8844-a3b839eac27d",
   "metadata": {},
   "source": [
    "# Detect Lambda Layer"
   ]
  },
  {
   "cell_type": "code",
   "execution_count": 7,
   "id": "4780f65a-f50c-4fac-8648-3b5d83c3c562",
   "metadata": {},
   "outputs": [],
   "source": [
    "def find_lambda(model):\n",
    "    for layer in model.layers:\n",
    "        if isinstance(layer, tf.keras.layers.Lambda):\n",
    "            print(layer.get_config())"
   ]
  },
  {
   "cell_type": "code",
   "execution_count": 8,
   "id": "70c30726-13d0-4705-8192-6c29947ef614",
   "metadata": {},
   "outputs": [],
   "source": [
    "find_lambda(safe_model)"
   ]
  },
  {
   "cell_type": "code",
   "execution_count": null,
   "id": "5f40af33-cc50-4688-bf47-2384073444c4",
   "metadata": {},
   "outputs": [],
   "source": [
    "find_lambda(modified_model)"
   ]
  },
  {
   "cell_type": "code",
   "execution_count": null,
   "id": "82bb4db3-e18b-4034-ac9e-27e24c617be5",
   "metadata": {},
   "outputs": [],
   "source": []
  }
 ],
 "metadata": {
  "kernelspec": {
   "display_name": "Python 3 (ipykernel)",
   "language": "python",
   "name": "python3"
  },
  "language_info": {
   "codemirror_mode": {
    "name": "ipython",
    "version": 3
   },
   "file_extension": ".py",
   "mimetype": "text/x-python",
   "name": "python",
   "nbconvert_exporter": "python",
   "pygments_lexer": "ipython3",
   "version": "3.10.12"
  }
 },
 "nbformat": 4,
 "nbformat_minor": 5
}
